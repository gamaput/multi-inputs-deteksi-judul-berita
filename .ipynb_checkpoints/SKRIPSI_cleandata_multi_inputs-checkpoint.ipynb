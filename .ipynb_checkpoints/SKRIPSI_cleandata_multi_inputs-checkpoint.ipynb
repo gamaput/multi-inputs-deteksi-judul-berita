{
 "cells": [
  {
   "cell_type": "code",
   "execution_count": 1,
   "metadata": {},
   "outputs": [
    {
     "name": "stdout",
     "output_type": "stream",
     "text": [
      "Requirement already satisfied: Sastrawi in c:\\users\\aprilia\\anaconda3\\lib\\site-packages (1.0.1)\n"
     ]
    }
   ],
   "source": [
    "! pip install Sastrawi"
   ]
  },
  {
   "cell_type": "markdown",
   "metadata": {
    "id": "Zuu7oJ4u9M5w"
   },
   "source": [
    "## Import Libraries"
   ]
  },
  {
   "cell_type": "code",
   "execution_count": 3,
   "metadata": {
    "executionInfo": {
     "elapsed": 6465,
     "status": "ok",
     "timestamp": 1675496219935,
     "user": {
      "displayName": "Gama Putra Adi Susilo",
      "userId": "11761602289089114790"
     },
     "user_tz": -420
    },
    "id": "ZBS1bYoBqJZj"
   },
   "outputs": [],
   "source": [
    "# Import Libraries\n",
    "\n",
    "import numpy as np\n",
    "import pandas as pd\n",
    "import tensorflow as tf\n",
    "from tensorflow import keras\n",
    "from keras import models, layers\n",
    "import matplotlib.pyplot as plt"
   ]
  },
  {
   "cell_type": "markdown",
   "metadata": {
    "id": "I3co-M4p9jpH"
   },
   "source": [
    "## Load Dataset"
   ]
  },
  {
   "cell_type": "code",
   "execution_count": 4,
   "metadata": {
    "colab": {
     "base_uri": "https://localhost:8080/",
     "height": 337
    },
    "executionInfo": {
     "elapsed": 45,
     "status": "ok",
     "timestamp": 1675496223078,
     "user": {
      "displayName": "Gama Putra Adi Susilo",
      "userId": "11761602289089114790"
     },
     "user_tz": -420
    },
    "id": "hRXk87E0m8va",
    "outputId": "ba036cfe-6bd7-4d61-b3b7-7f74ea3ae124"
   },
   "outputs": [
    {
     "data": {
      "text/html": [
       "<div>\n",
       "<style scoped>\n",
       "    .dataframe tbody tr th:only-of-type {\n",
       "        vertical-align: middle;\n",
       "    }\n",
       "\n",
       "    .dataframe tbody tr th {\n",
       "        vertical-align: top;\n",
       "    }\n",
       "\n",
       "    .dataframe thead th {\n",
       "        text-align: right;\n",
       "    }\n",
       "</style>\n",
       "<table border=\"1\" class=\"dataframe\">\n",
       "  <thead>\n",
       "    <tr style=\"text-align: right;\">\n",
       "      <th></th>\n",
       "      <th>content</th>\n",
       "      <th>date</th>\n",
       "      <th>title</th>\n",
       "      <th>label</th>\n",
       "    </tr>\n",
       "  </thead>\n",
       "  <tbody>\n",
       "    <tr>\n",
       "      <th>0</th>\n",
       "      <td>Berita SurabayaSURYA.co.id | SURABAYA - Pengem...</td>\n",
       "      <td>Jumat, 10 Juni 2022 01:08</td>\n",
       "      <td>PT Intiland Development Kembangkan Kawasan Ind...</td>\n",
       "      <td>noclickbait</td>\n",
       "    </tr>\n",
       "    <tr>\n",
       "      <th>1</th>\n",
       "      <td>Berita SurabayaSURYA.co.id | SURABAYA - Brand ...</td>\n",
       "      <td>Jumat, 10 Juni 2022 01:16</td>\n",
       "      <td>ANKER Menangkan Penghargaan Nobel Prize di Aja...</td>\n",
       "      <td>noclickbait</td>\n",
       "    </tr>\n",
       "    <tr>\n",
       "      <th>2</th>\n",
       "      <td>Berita SurabayaSURYA.co.id | SURABAYA - PT Har...</td>\n",
       "      <td>Jumat, 10 Juni 2022 01:27</td>\n",
       "      <td>Perluas Bisnis, Hartadinata Abadi Store Buka G...</td>\n",
       "      <td>noclickbait</td>\n",
       "    </tr>\n",
       "    <tr>\n",
       "      <th>3</th>\n",
       "      <td>Berita SurabayaSURYA.co.id | SURABAYA – Peneri...</td>\n",
       "      <td>Jumat, 10 Juni 2022 01:34</td>\n",
       "      <td>PPDB SMP Dibuka Hari Ini, Dindik Surabaya Mint...</td>\n",
       "      <td>clickbait</td>\n",
       "    </tr>\n",
       "    <tr>\n",
       "      <th>4</th>\n",
       "      <td>SURYA.co.id I Masih ingat Ronaldo Nazario, san...</td>\n",
       "      <td>Jumat, 10 Juni 2022 01:51</td>\n",
       "      <td>Liga Spanyol, Ronaldo Legenda Real Madrid, Jad...</td>\n",
       "      <td>clickbait</td>\n",
       "    </tr>\n",
       "  </tbody>\n",
       "</table>\n",
       "</div>"
      ],
      "text/plain": [
       "                                             content  \\\n",
       "0  Berita SurabayaSURYA.co.id | SURABAYA - Pengem...   \n",
       "1  Berita SurabayaSURYA.co.id | SURABAYA - Brand ...   \n",
       "2  Berita SurabayaSURYA.co.id | SURABAYA - PT Har...   \n",
       "3  Berita SurabayaSURYA.co.id | SURABAYA – Peneri...   \n",
       "4  SURYA.co.id I Masih ingat Ronaldo Nazario, san...   \n",
       "\n",
       "                        date  \\\n",
       "0  Jumat, 10 Juni 2022 01:08   \n",
       "1  Jumat, 10 Juni 2022 01:16   \n",
       "2  Jumat, 10 Juni 2022 01:27   \n",
       "3  Jumat, 10 Juni 2022 01:34   \n",
       "4  Jumat, 10 Juni 2022 01:51   \n",
       "\n",
       "                                               title        label  \n",
       "0  PT Intiland Development Kembangkan Kawasan Ind...  noclickbait  \n",
       "1  ANKER Menangkan Penghargaan Nobel Prize di Aja...  noclickbait  \n",
       "2  Perluas Bisnis, Hartadinata Abadi Store Buka G...  noclickbait  \n",
       "3  PPDB SMP Dibuka Hari Ini, Dindik Surabaya Mint...    clickbait  \n",
       "4  Liga Spanyol, Ronaldo Legenda Real Madrid, Jad...    clickbait  "
      ]
     },
     "execution_count": 4,
     "metadata": {},
     "output_type": "execute_result"
    }
   ],
   "source": [
    "# Read Dataset\n",
    "data = pd.read_csv('dataset.csv')\n",
    "\n",
    "data.head()"
   ]
  },
  {
   "cell_type": "code",
   "execution_count": 5,
   "metadata": {
    "colab": {
     "base_uri": "https://localhost:8080/",
     "height": 236
    },
    "executionInfo": {
     "elapsed": 47,
     "status": "ok",
     "timestamp": 1675496223081,
     "user": {
      "displayName": "Gama Putra Adi Susilo",
      "userId": "11761602289089114790"
     },
     "user_tz": -420
    },
    "id": "LPk68TA3s38k",
    "outputId": "a5ab6398-f1f2-4468-9eac-49454bd84a85",
    "scrolled": true
   },
   "outputs": [
    {
     "data": {
      "text/html": [
       "<div>\n",
       "<style scoped>\n",
       "    .dataframe tbody tr th:only-of-type {\n",
       "        vertical-align: middle;\n",
       "    }\n",
       "\n",
       "    .dataframe tbody tr th {\n",
       "        vertical-align: top;\n",
       "    }\n",
       "\n",
       "    .dataframe thead th {\n",
       "        text-align: right;\n",
       "    }\n",
       "</style>\n",
       "<table border=\"1\" class=\"dataframe\">\n",
       "  <thead>\n",
       "    <tr style=\"text-align: right;\">\n",
       "      <th></th>\n",
       "      <th>content</th>\n",
       "      <th>date</th>\n",
       "      <th>title</th>\n",
       "      <th>label</th>\n",
       "    </tr>\n",
       "  </thead>\n",
       "  <tbody>\n",
       "    <tr>\n",
       "      <th>count</th>\n",
       "      <td>3226</td>\n",
       "      <td>3226</td>\n",
       "      <td>3226</td>\n",
       "      <td>3226</td>\n",
       "    </tr>\n",
       "    <tr>\n",
       "      <th>unique</th>\n",
       "      <td>3220</td>\n",
       "      <td>3074</td>\n",
       "      <td>3220</td>\n",
       "      <td>2</td>\n",
       "    </tr>\n",
       "    <tr>\n",
       "      <th>top</th>\n",
       "      <td>Menunjuk Pengumuman Lelang Pertama Eksekusi Ha...</td>\n",
       "      <td>Kamis, 20 Oktober 2022 09:15</td>\n",
       "      <td>Hari Pangan Sedunia, Bupati Gresik Gus Yani Ra...</td>\n",
       "      <td>noclickbait</td>\n",
       "    </tr>\n",
       "    <tr>\n",
       "      <th>freq</th>\n",
       "      <td>3</td>\n",
       "      <td>3</td>\n",
       "      <td>2</td>\n",
       "      <td>2422</td>\n",
       "    </tr>\n",
       "  </tbody>\n",
       "</table>\n",
       "</div>"
      ],
      "text/plain": [
       "                                                  content  \\\n",
       "count                                                3226   \n",
       "unique                                               3220   \n",
       "top     Menunjuk Pengumuman Lelang Pertama Eksekusi Ha...   \n",
       "freq                                                    3   \n",
       "\n",
       "                                date  \\\n",
       "count                           3226   \n",
       "unique                          3074   \n",
       "top     Kamis, 20 Oktober 2022 09:15   \n",
       "freq                               3   \n",
       "\n",
       "                                                    title        label  \n",
       "count                                                3226         3226  \n",
       "unique                                               3220            2  \n",
       "top     Hari Pangan Sedunia, Bupati Gresik Gus Yani Ra...  noclickbait  \n",
       "freq                                                    2         2422  "
      ]
     },
     "execution_count": 5,
     "metadata": {},
     "output_type": "execute_result"
    }
   ],
   "source": [
    "data.describe(include='all')"
   ]
  },
  {
   "cell_type": "code",
   "execution_count": null,
   "metadata": {},
   "outputs": [],
   "source": []
  },
  {
   "cell_type": "code",
   "execution_count": 28,
   "metadata": {
    "colab": {
     "base_uri": "https://localhost:8080/",
     "height": 337
    },
    "executionInfo": {
     "elapsed": 48,
     "status": "ok",
     "timestamp": 1675496223084,
     "user": {
      "displayName": "Gama Putra Adi Susilo",
      "userId": "11761602289089114790"
     },
     "user_tz": -420
    },
    "id": "Y5GSGqZwA6P_",
    "outputId": "b860b073-5a95-4cdc-8f4a-ab0aec08f38b"
   },
   "outputs": [
    {
     "data": {
      "text/html": [
       "<div>\n",
       "<style scoped>\n",
       "    .dataframe tbody tr th:only-of-type {\n",
       "        vertical-align: middle;\n",
       "    }\n",
       "\n",
       "    .dataframe tbody tr th {\n",
       "        vertical-align: top;\n",
       "    }\n",
       "\n",
       "    .dataframe thead th {\n",
       "        text-align: right;\n",
       "    }\n",
       "</style>\n",
       "<table border=\"1\" class=\"dataframe\">\n",
       "  <thead>\n",
       "    <tr style=\"text-align: right;\">\n",
       "      <th></th>\n",
       "      <th>content</th>\n",
       "      <th>date</th>\n",
       "      <th>title</th>\n",
       "      <th>label</th>\n",
       "      <th>binary_label</th>\n",
       "    </tr>\n",
       "  </thead>\n",
       "  <tbody>\n",
       "    <tr>\n",
       "      <th>0</th>\n",
       "      <td>Berita SurabayaSURYA.co.id | SURABAYA - Pengem...</td>\n",
       "      <td>Jumat, 10 Juni 2022 01:08</td>\n",
       "      <td>PT Intiland Development Kembangkan Kawasan Ind...</td>\n",
       "      <td>noclickbait</td>\n",
       "      <td>0</td>\n",
       "    </tr>\n",
       "    <tr>\n",
       "      <th>1</th>\n",
       "      <td>Berita SurabayaSURYA.co.id | SURABAYA - Brand ...</td>\n",
       "      <td>Jumat, 10 Juni 2022 01:16</td>\n",
       "      <td>ANKER Menangkan Penghargaan Nobel Prize di Aja...</td>\n",
       "      <td>noclickbait</td>\n",
       "      <td>0</td>\n",
       "    </tr>\n",
       "    <tr>\n",
       "      <th>2</th>\n",
       "      <td>Berita SurabayaSURYA.co.id | SURABAYA - PT Har...</td>\n",
       "      <td>Jumat, 10 Juni 2022 01:27</td>\n",
       "      <td>Perluas Bisnis, Hartadinata Abadi Store Buka G...</td>\n",
       "      <td>noclickbait</td>\n",
       "      <td>0</td>\n",
       "    </tr>\n",
       "    <tr>\n",
       "      <th>3</th>\n",
       "      <td>Berita SurabayaSURYA.co.id | SURABAYA – Peneri...</td>\n",
       "      <td>Jumat, 10 Juni 2022 01:34</td>\n",
       "      <td>PPDB SMP Dibuka Hari Ini, Dindik Surabaya Mint...</td>\n",
       "      <td>clickbait</td>\n",
       "      <td>1</td>\n",
       "    </tr>\n",
       "    <tr>\n",
       "      <th>4</th>\n",
       "      <td>SURYA.co.id I Masih ingat Ronaldo Nazario, san...</td>\n",
       "      <td>Jumat, 10 Juni 2022 01:51</td>\n",
       "      <td>Liga Spanyol, Ronaldo Legenda Real Madrid, Jad...</td>\n",
       "      <td>clickbait</td>\n",
       "      <td>1</td>\n",
       "    </tr>\n",
       "  </tbody>\n",
       "</table>\n",
       "</div>"
      ],
      "text/plain": [
       "                                             content  \\\n",
       "0  Berita SurabayaSURYA.co.id | SURABAYA - Pengem...   \n",
       "1  Berita SurabayaSURYA.co.id | SURABAYA - Brand ...   \n",
       "2  Berita SurabayaSURYA.co.id | SURABAYA - PT Har...   \n",
       "3  Berita SurabayaSURYA.co.id | SURABAYA – Peneri...   \n",
       "4  SURYA.co.id I Masih ingat Ronaldo Nazario, san...   \n",
       "\n",
       "                        date  \\\n",
       "0  Jumat, 10 Juni 2022 01:08   \n",
       "1  Jumat, 10 Juni 2022 01:16   \n",
       "2  Jumat, 10 Juni 2022 01:27   \n",
       "3  Jumat, 10 Juni 2022 01:34   \n",
       "4  Jumat, 10 Juni 2022 01:51   \n",
       "\n",
       "                                               title        label  \\\n",
       "0  PT Intiland Development Kembangkan Kawasan Ind...  noclickbait   \n",
       "1  ANKER Menangkan Penghargaan Nobel Prize di Aja...  noclickbait   \n",
       "2  Perluas Bisnis, Hartadinata Abadi Store Buka G...  noclickbait   \n",
       "3  PPDB SMP Dibuka Hari Ini, Dindik Surabaya Mint...    clickbait   \n",
       "4  Liga Spanyol, Ronaldo Legenda Real Madrid, Jad...    clickbait   \n",
       "\n",
       "   binary_label  \n",
       "0             0  \n",
       "1             0  \n",
       "2             0  \n",
       "3             1  \n",
       "4             1  "
      ]
     },
     "execution_count": 28,
     "metadata": {},
     "output_type": "execute_result"
    }
   ],
   "source": [
    "# Target column is made of string values True/Fake, let's change it to numbers 0/1 (clickbait=1) \n",
    "data['binary_label'] = pd.get_dummies(data.label)['clickbait']\n",
    "data.head()"
   ]
  },
  {
   "cell_type": "code",
   "execution_count": 29,
   "metadata": {
    "colab": {
     "base_uri": "https://localhost:8080/"
    },
    "executionInfo": {
     "elapsed": 48,
     "status": "ok",
     "timestamp": 1675496223085,
     "user": {
      "displayName": "Gama Putra Adi Susilo",
      "userId": "11761602289089114790"
     },
     "user_tz": -420
    },
    "id": "W_h2dF4oBiel",
    "outputId": "2706f48f-67cb-456b-9a60-7b3f3b2b2c37"
   },
   "outputs": [
    {
     "data": {
      "text/plain": [
       "0    2422\n",
       "1     804\n",
       "Name: binary_label, dtype: int64"
      ]
     },
     "execution_count": 29,
     "metadata": {},
     "output_type": "execute_result"
    }
   ],
   "source": [
    "data['binary_label'].value_counts()"
   ]
  },
  {
   "cell_type": "code",
   "execution_count": 30,
   "metadata": {
    "colab": {
     "base_uri": "https://localhost:8080/",
     "height": 352
    },
    "executionInfo": {
     "elapsed": 47,
     "status": "ok",
     "timestamp": 1675496223088,
     "user": {
      "displayName": "Gama Putra Adi Susilo",
      "userId": "11761602289089114790"
     },
     "user_tz": -420
    },
    "id": "WYoVJANoXXZg",
    "outputId": "35b5b391-8eb5-43a9-8d13-635b6f92ec3a"
   },
   "outputs": [
    {
     "data": {
      "text/plain": [
       "([<matplotlib.patches.Wedge at 0x25e4d6c3b20>,\n",
       "  <matplotlib.patches.Wedge at 0x25e4d6d1520>],\n",
       " [Text(-0.8464598180661049, 0.8505914274194731, 'clickbait'),\n",
       "  Text(0.846459897704218, -0.8505913481681817, 'noclickbait')],\n",
       " [Text(-0.49376822720522784, 0.49617833266135924, '24.9%'),\n",
       "  Text(0.4937682736607938, -0.4961782864314393, '75.1%')])"
      ]
     },
     "execution_count": 30,
     "metadata": {},
     "output_type": "execute_result"
    },
    {
     "data": {
      "image/png": "[encoded data removed]",
      "text/plain": [
       "<Figure size 640x480 with 1 Axes>"
      ]
     },
     "metadata": {},
     "output_type": "display_data"
    }
   ],
   "source": [
    "# Checking if our data\n",
    "label_size = [data['binary_label'].sum(),len(data['binary_label'])-data['binary_label'].sum()]\n",
    "plt.pie(label_size,explode=[0.1,0.1],colors=['firebrick','navy'],startangle=90,shadow=True,labels=['clickbait','noclickbait'],autopct='%1.1f%%')"
   ]
  },
  {
   "cell_type": "markdown",
   "metadata": {
    "id": "dIJ_pshzCdT0"
   },
   "source": [
    "## Train-test-split"
   ]
  },
  {
   "cell_type": "code",
   "execution_count": 31,
   "metadata": {
    "executionInfo": {
     "elapsed": 44,
     "status": "ok",
     "timestamp": 1675496223089,
     "user": {
      "displayName": "Gama Putra Adi Susilo",
      "userId": "11761602289089114790"
     },
     "user_tz": -420
    },
    "id": "dQvxoThCQhdu"
   },
   "outputs": [],
   "source": [
    "# Text Columns\n",
    "\n",
    "text_judul = data['title'].values.tolist()\n",
    "text_isi = data['content'].values.tolist()\n",
    "\n",
    "# merge title and content\n",
    "text_combined = text_judul + text_isi"
   ]
  },
  {
   "cell_type": "code",
   "execution_count": 32,
   "metadata": {
    "colab": {
     "base_uri": "https://localhost:8080/"
    },
    "executionInfo": {
     "elapsed": 44,
     "status": "ok",
     "timestamp": 1675496223090,
     "user": {
      "displayName": "Gama Putra Adi Susilo",
      "userId": "11761602289089114790"
     },
     "user_tz": -420
    },
    "id": "Sea77N3UZKsX",
    "outputId": "d1c6f27a-468f-4953-9be5-67226c029a88"
   },
   "outputs": [
    {
     "name": "stdout",
     "output_type": "stream",
     "text": [
      "<class 'pandas.core.frame.DataFrame'>\n",
      "RangeIndex: 3226 entries, 0 to 3225\n",
      "Data columns (total 5 columns):\n",
      " #   Column        Non-Null Count  Dtype \n",
      "---  ------        --------------  ----- \n",
      " 0   content       3226 non-null   object\n",
      " 1   date          3226 non-null   object\n",
      " 2   title         3226 non-null   object\n",
      " 3   label         3226 non-null   object\n",
      " 4   binary_label  3226 non-null   uint8 \n",
      "dtypes: object(4), uint8(1)\n",
      "memory usage: 104.1+ KB\n"
     ]
    }
   ],
   "source": [
    "# Data info\n",
    "\n",
    "data.info()"
   ]
  },
  {
   "cell_type": "code",
   "execution_count": 33,
   "metadata": {
    "colab": {
     "base_uri": "https://localhost:8080/"
    },
    "executionInfo": {
     "elapsed": 747,
     "status": "ok",
     "timestamp": 1675496223798,
     "user": {
      "displayName": "Gama Putra Adi Susilo",
      "userId": "11761602289089114790"
     },
     "user_tz": -420
    },
    "id": "zKX6ovcCVQHH",
    "outputId": "04ccef85-1b14-4313-b05d-77299c411751"
   },
   "outputs": [
    {
     "name": "stdout",
     "output_type": "stream",
     "text": [
      "[['Lokasi Main Persebaya Surabaya vs Bali United Main Masih Misterius, Ini Penjelasan Lengkap Polisi'\n",
      "  'SURYA.co.id, Bandung -\\xa0Lokasi pertandingan Persebaya vs Bali\\xa0United di laga malam ini, Senin 20 Juni 2022 masih belum diketahui sampai sekarang. Apakah akan bertanding di Stadion\\xa0Gelora\\xa0Bandung\\xa0Lautan\\xa0Api (GBLA) atau dipindah ke Stadion\\xa0Si\\xa0Jalak\\xa0Harupat\\xa0Bandung?\"Sampai sekarang belum ada rapat. Rapat ini dilaksanakan dan koordinasi lintas sektoral baik panpel dan PSSI,\" ujar Kabid Humas Polda Jabar, Kombes Pol Ibrahim Tompo saat dihubungi melalui sambungan telepon, Senin (20/6/2022) seperti dikutip dari Tribun JabarIbrahim Tompo menjelaskan polisi masih menunggu pihak penyelenggara atau panitia pertandingan (Panpel) terkait rencana pertandingan tersebut.\\xa0\"Belum, jadi memang kita masih menunggu rencana rapatnya, semoga ada dukungan rapat bersama, sehingga kita bisa memberikan masukan kepada stakholder,\" katanya.\\xa0Ia memastikan, pihaknya sudah melakukan evaluasi sebagai bahan rekomendasi untuk pengambil keputusan.\\xa0 Baca juga: PREDIKSI SKOR Bali United vs Persebaya: Aji Santoso Beri Reaksi Venue Dipindah, Ada Rotasi Pemain?\"Tapi hasil investigasi dan evaluasi kami berikan masukan ke stakholder untuk bahan pertimbangan kegiatan berikutnya,\" ucapnya.Laga Persib Dipindah atau Tanpa PenontonSebelumnya, Polda Jawa Barat memberikan dua rekomendasi untuk panitia pelaksana pertandingan (Panpel) Persib Bandung, setelah meninggalnya dua bobotoh Persib.\\xa0Kabid Humas Polda Jabar, Kombes Pol Ibrahim Tompo mengatakan, rekomendasi pertama pertandingan tetap digelar di Stadion\\xa0Gelora\\xa0Bandung\\xa0Lautan\\xa0Api (GBLA) tanpa penonton.\\xa0 \"Atau memindahkan ke tempat lain pertandingannya,\" ujar\\xa0Ibrahim\\xa0Tompo, saat dihubungi melalui sambungan telepon, Senin (20/6/2022).\\xa0Alasan rekomendasi itu, kata dia, merupakan hasil evaluasi. Ini menjadi bahan rekomendasi kepada penyelenggara dan pemanggil keputusan.\\xa0Hingga saat ini, pihak penyelenggara belum memutuskan apakah akan tetap menggelar pertandingan di Stadion Gelora Bandung Lautan Api (GBLA) tanpa penonton atau pindah ke stadion lain.\\xa0 Baca juga: Persebaya vs Bali United, Pelatih Aji Santoso: 4 Pemain Asing Main di Pertandingan Bola Malam ini\"Belum (ada keputusan), karena ini keputusan tidak sepihak kepada pihak keamanan saja, tapi kami memberikan rekomendasi kepada mereka,\" ucapnya.\\xa0Sebelumnya, dua suporter tim Persib Bandung meninggal dunia, saat pertandingan babak penyisihan Piala Presiden antara Persib Bandung melawan Persebaya Surabaya di Stadion\\xa0Gelora\\xa0Bandung\\xa0Lautan\\xa0Api (GBLA), Jumat (17/6/2022) malam.\\xa0Keduanya meninggal setelah diduga kehabisan napas saat desak-desak masuk ke\\xa0Stadion\\xa0GBLA.']\n",
      " ['Prediksi Line-up Persela vs Persebaya Surabaya: Taisei Marukawa dan Bruno Moreira Absen Lagi?'\n",
      "  'SURYA.co.id, - Berikut Prediksi Line-up Persela\\xa0vs\\xa0Persebaya Surabaya, Bajol Ijo tanpa tiga pemain timnas, Taisei\\xa0Marukawa siap main lagi?Persebaya Surabaya bakal kembali berlaga melawan Persela Lamongan di Stadion I Ngurah Rai, Bali.Pertandingan Derby Jatim antara Persela\\xa0vs\\xa0Persebaya Surabaya bakal dimulai pada pukul 20.45 WIB malam ini.Di pertandingan kali ini, Persebaya bakal kehilangan tiga pemain.Tiga pemain tersebut adalah Rizky Ridho, Rachmat Irianto dan Marselino Ferdinan yang membela timnas Indonesia di Piala AFF U-23. Baca juga: SINDIRAN HALUS Persebaya Surabaya dan Persela Jelang Kick Off, Tes Swab COVID-19 Jadi Sorotan Lagi Baca juga: DOA IBUNDA Ruy Arianto Terkabul, Wonderkid Persebaya Surabaya Jalani Debut di Tim SeniorSementara dari segi pemain karantina, hasil tes yang tak konsisten bisa saja terjadi seperti di pertandingan sebelumnya.Dengan asumsi semua pemain mendapatkan hasil negatif tes Covid-19 jelang laga, berikut prediksi line up Persebaya\\xa0Surabaya.Di posisi penjaga gawang, Ernando Ari bakal kembali dipercaya.Kiper berusia 19 tahun itu sudah menjadi starter dalam dua pertandingan terakhir.Ia juga tampil apik dengan sejumlah penyelamatan gemilang di laga melawan Persipura Jayapura.\\xa0Ernando bakal dikawal oleh duo AS yaitu Arif Satria dan Alie Sesay di posisi bek tengah.Sementara Ady Setiawan dan Reva Adi Utama bakal berada di sisi bek sayap.\\xa0Duet M Hidayat dan Alwi Slamat bakal kembali menghuni sektor gelandang bertahan milik Persebaya.Sedangkan Ricky Kambuaya bakal dipercaya untuk menjadi kreator serangan.']\n",
      " ['Berkat Dua Karyanya, Mahasiswa Undika Miky Havis Raih Penghargaan Film di Inggris dan Italia'\n",
      "  'SURYA.CO.ID, SURABAYA - Berkarya hingga mendapat apresiasi, bahkan diakui di kancah internasional tentu membuat setiap orang yang meraihnya akan berbangga.Hal itulah yang tengah dirasakan oleh Miky\\xa0Havis, salah satu mahasiswa DIV Prodi Produksi Film dan Televisi (Profiti) Universitas Dinamika (Undika) Surabaya.Miky baru saja mendapatkan Laurels dari Lift Off Global Network UK dan Festival del Cinema di Cefalu pada bulan Mei 2022.\\xa0Dalam festival film bergengsi tersebut, Miky menampilkan dua karya filmnya yang ia produksi bersama teman-teman angkatan di DIV Profiti Undika dan juga tim dari Production Harfmedia Indonesia tempatnya bernaung.\\xa0“Jadi ada dua film yang saya submit di kedua festival tersebut, satu film berjudul Convert yang saya produksi bersama teman-teman Profiti, satunya lagi berjudul Dari Rumah untuk Indonesia atau DRUI bersama PH saya, yaitu Harfmedia Indonesia,” ujarnya, Jumat (10/6/2022).\\xa0Miky yang juga merupakan founder dari Production Harfmedia Indonesia ini mengatakan, pada September 2021 lalu ia dan tim juga berhasil lolos seleksi asosiasi kategori film dokumenter pendek terbaik di Festival\\xa0Film Indonesia (FFI) berkat film DRUI.Miky menerangkan, film DRUI ini mengangkat cerita tentang perjalanan awal P4 Pusaka Indonesia yang mengajak seluruh masyarakat Indonesia untuk berkolaborasi dalam sumbang suara dan alat musik hingga terbentuk sebuah orchestra virtual bernama Pusaka Virtual Performance.\\xa0“Pembuatan film dokumenter ini, bertujuan untuk memberikan apresiasi bagi seluruh pihak yang terlibat dalam pelaksanaan Pusaka Virtual Perfomance serta para pejuang garda terdepan Covid-19,” ungkap mahasiswa angkatan 2018 ini.Sedangkan film Convert yang bergenre film eksperimental menceritakan tentang seorang gadis yang masuk ke dalam dunia imajinatif dan terperangkap dalam konflik keluarga.\\xa0“Gadis ini mengalami skizofernia dan tersiksa akibat traumatik yang dialaminya hingga ingin keluar dari rasa keterpurukannya itu,” lanjut Miky.\\xa0\\xa0Kecintaan Miky pada dunia perfilman ia akui sudah ada sejak duduk di bangku SMP.“Awalnya memang concern dibidang musik, tapi saat SMP saya coba membuat film-film pendek dan saya upload ke akun YouTube pribadi saya untuk bisa ditonton teman-teman sekolah saya,” terangnya.\\xa0Dan seiring berjalannya waktu, sejak tahun 2018, Miky mulai mengerjakan beberapa project besar di antaranya sebagai Official Broadcast di Konser Dongeng Naura 2, produksi film pendek bagi Pemerintah Kota Kediri hingga pembuatan company profile department PT HM Sampoerna.\\xa0Miky yang juga sedang disibukkan sebagai Asisten Produser dalam pembuatan film layar lebar di Ibukota ini mengungkapkan, ingin terus berkecimpung di industri kreatif seperti saat ini.\\xa0“Achivement-achivement yang sudah saya raih tersebut menjadi pendorong saya untuk terus berkarya dan konsisten dalam bereksplorasi,” tuturnya.\\xa0Saat ini Miky pun berharap bisa segera berhasil mendapatkan investor yang mau membiayai produksi film yang ia buat sebagai karya Tugas Akhir.\\xa0“Saya mau mengangkat tema keberagaman dan inklusi sosial dalam produksi film Tugas Akhir saya. Semoga bisa mulai proses produksi di tahun ini atau maksimal tahun depan,” tukasnya.']\n",
      " ...\n",
      " ['Pembobol Toko Vapor di Tulungagung Ini Tertangkap Usai Jual Barang Curiannya Kepada Polisi'\n",
      "  'SURYA.CO.ID, TULUNGAGUNG - Seorang terduga pembobol toko vapor atau rokok elektronik di Desa Tunggangri, Kecamatan Kalidawir dengan mudah ditangkap oleh polisi.Terduga pelaku dengan inisial DBI (19) alias Zaky ini tanpa sadar menjual barang curiannya kepada polisi yang mencarinya.Penangkapan warga Desa Jabon, Kecamatan Kalidawir ini bermula dari laporan pencurian di toko vapor milik Ana (32) pada Selasa (2/8/2022).\"Saat itu karyawan toko yang baru masuk melihat pintu belakang toko dalam keadaan berlubang,\" terang Kasi Humas Polres Tulungagung, Iptu M Anshori.Saat diperiksa, ada sejumlah barang dalam toko yang hilang, seperti rokok elektronik serta 43 cairan (liquid) rokok elektronik.Pemilik toko lalu melaporkan kejadian ini ke Polsek Kalidawir.Polisi lalu melakukan olah TKP untuk mengumpulkan petunjuk, dan memeriksa para saksi.\"Selang beberapa hari, kami mendapatkan informasi ada penjualan barang-barang rokok elektronik di media sosial. Barang yang dijual identik dengan barang yang hilang dari toko,\" sambung Anshori.Polisi lalu melakukan kontak dengan penjual itu, dan melakukan transaksi.Tanpa curiga penjual online itu melayani dengan baik hingga sepakat soal harga.Polisi yang menyamar sebagai pembeli lalu mengajak cash on delivery (COD) di sebuah warung bakso di Desa Jabon, Kecamatan Kalidawir.\"Saat diajak COD, ternyata dia juga tidak curiga. Dia datang ke titik perjanjian,\" tutur Anshori.Saat itu Timsus Macan Agung Satreskrim Polres Tulungagung yang membantu Unit Reskrim Polsek Kalidawir, langsung mendeteksi Zaky.Saat ia turun dari sepeda motor untuk transaksi, Zaky langsung ditangkap tanpa perlawanan.']\n",
      " ['Tipe Cyrus dan Bruce di CitraLand Driyorejo CBD Paling Diminati'\n",
      "  'Berita SurabayaSURYA.co.id | SURABAYA - CitraLand\\xa0Driyorejo\\xa0CBD yang dikembangkan Ciputra\\xa0Group terus memacu penjualannya menjelang tutup tahun 2022.Ada dua tipe terbaru yang paling diminati konsumen saat ini yakni tipe Cyrus dan Bruce.Andreas Yosianto, Marketing Manager CitraLand\\xa0Driyorejo\\xa0CBD menjelaskan, demand hunian masih cukup tinggi terutama dari kalangan pasangan muda dan millennial.\"Mereka umumnya mencari hunian yang harganya terjangkau dibawah Rp 1 miliar,\" kata Andreas, Selasa (20/12/2022).Tipe Cyrus yang didesain dua lantai dengan tiga kamar dan dilepas dengan harga Rp 900 jutaan, langsung mendapat respon konsumen yang cukup bagus.\"Terbukti, saat ini dari beberapa unit yang dirilis, tipe Cyrus hanya tersisa 2 unit saja,\" jelas Andreas.Selain itu, tipe Bruce juga banyak dicari konsumen terutama dari kalangan keluarga yang sudah mapan.Tipe Bruce didesain lebih gede dua lantai dengan lima kamar tidur dan dilepas dengan harga Rp 2 miliaran.Saat ini tipe Bruce juga hanya tersisa tiga unit saja.“Kami optimis sisa unit tipe Cyrus dan Bruce akan segera habis bulan ini,” ungkap Andreas.Untuk itu, pihaknya memberikan banyak penawaran menarik selama bulan Desember 2022, di antaranya adalah memberikan total potongan harga hingga Rp 140 juta.Selain itu, juga memberikan free biaya KPR, BPHTB, BBN hingga SHM.Bahkan khusus untuk rumah tipe Cyrus, pihaknya memberikan tambahan gratis AC untuk setiap kamar tidur.']\n",
      " ['Seorang Siswa di Sidoarjo Meninggal Dunia Dikeroyok Tiga Temannya, Korban Alami Pendarahan Otak'\n",
      "  'SURYA.CO.ID, SIDOARJO – Tiga orang siswa Sekolah\\xa0Insan\\xa0Cendikia\\xa0Mandiri di Sarirogo, Sidoarjo, digelandang petugas Polresta Sidoarjo.Penyebabnya, mereka telah menganiaya seorang siswa atau teman mereka hingga meninggal dunia.Korban adalah MTF, remaja 17 tahun asal Sulawesi Selatan. Siswa Insan Cendikia Mandiri itu meninggal dunia setelah dianiaya oleh SJ (17) asal Gresik, MM (18) asal Yogyakarta dan MKM (17) asal Tulungagung.“Dari hasil visum, korban meninggal dunia karena pendarahan pada otak. Luka tersebut disebabkan kekerasan tumpul atau kerusakan organ vital bagian otak,” kata Kapolresta Sidoarjo, Kombes\\xa0Pol\\xa0Kusumo\\xa0Wahyu\\xa0Bintoro, Selasa (20/9/2022).Terungkapnya peristiwa itu berawal pada Senin (12/9/2022) malam lalu. Saat itu korban yang dalam keadaan tidak sadarkan diri oleh petugas kesehatan sekolah dibawa ke RSUD Sidoarjo untuk mendapatkan tindakan medis.Di rumah sakit, korban menjalani operasi pada kepala bagian belakang. Tapi nyawanya tidak tertolong, pada Selasa (13/9/2022), sekitar pukul 16.00 WIB, korban dinyatakan meninggal dunia. Dari sana, Peristiwa ini kemudian dilaporkan oleh kakak korban ke Polresta Sidoarjo.Dari laporan itu, petugas kemudian melakukan penyelidikan. Hasilnya, diketahui bahwa korban meninggal dunia akibat penganiayaan oleh teman-temannya sendiri sesama siswa di sekolah tersebut. Para pelaku pun diamankan oleh petugas.Kepada polisi, tiga pelaku pun mengakui perbuatannya. Mereka melakukan pengeroyokan karena kesal.Alasannya, korban diduga mengambil uang yang hilang di asrama sekolah dan ketika diinterogasi oleh mereka, korban tidak mengaku.“Dari keterangan salah satu pelaku, sempat mengetahui perbuatan yang dilakukan korban dan sudah melaporkannya ke pihak pengurus sekolah namun terlalu lambat merespons. Sehingga membuat ketiga pelaku kesal lalu mengajak ngobrol korban, hingga terjadilah perselisihan berupa kekerasan fisik yang menyebabkan korban meninggal dunia,” urai kapolres.Akibat perbuatannya, tiga siswa itupun harus berurusan dengan polisi. Mereka sudah jadi tersangka dan terancam hukuman penjara selama 15 tahun karena melakukan penganiayaan terhadap anak hingga mengakibatkan kematian.Tiga siswa pelaku pengeroyokan itu dijerat pasal 80 ayat (3) Jo 76C UU RI No 35 Tahun 2014 tentang Perubahan atas UU RI No 23 Tahun 2022 tentang Perlindungan Anak, dan atau Pasal 170 ayat (2) ke tiga KUHP.']] \n",
      "\n",
      "[0 0 1 ... 1 1 1]\n"
     ]
    }
   ],
   "source": [
    "# Process Dataset\n",
    "from sklearn.preprocessing import LabelBinarizer\n",
    "\n",
    "X = data[['title', 'content']].values\n",
    "y = data['label'].values\n",
    "\n",
    "# Fit transform train validation\n",
    "lb = LabelBinarizer()\n",
    "y = lb.fit_transform(y).ravel()\n",
    "lb.classes_\n",
    "\n",
    "# Train-validation-Test set split 80:20 ratio\n",
    "from sklearn.model_selection import train_test_split\n",
    "\n",
    "X_train, X_test, y_train, y_test = train_test_split(\n",
    "    X, y, test_size=0.2, random_state=0\n",
    ")\n",
    "print(X_train, '\\n')\n",
    "print(y_train)"
   ]
  },
  {
   "cell_type": "code",
   "execution_count": 34,
   "metadata": {
    "colab": {
     "base_uri": "https://localhost:8080/"
    },
    "executionInfo": {
     "elapsed": 14,
     "status": "ok",
     "timestamp": 1675496223798,
     "user": {
      "displayName": "Gama Putra Adi Susilo",
      "userId": "11761602289089114790"
     },
     "user_tz": -420
    },
    "id": "Q69vpM8vq2o0",
    "outputId": "64533753-ba06-4b73-83aa-efb659d5bd0f"
   },
   "outputs": [
    {
     "name": "stdout",
     "output_type": "stream",
     "text": [
      "(3226, 2)\n",
      "(3226,)\n"
     ]
    }
   ],
   "source": [
    "print(X.shape)\n",
    "print(y.shape)"
   ]
  },
  {
   "cell_type": "code",
   "execution_count": 35,
   "metadata": {
    "colab": {
     "base_uri": "https://localhost:8080/"
    },
    "executionInfo": {
     "elapsed": 558,
     "status": "ok",
     "timestamp": 1675496224349,
     "user": {
      "displayName": "Gama Putra Adi Susilo",
      "userId": "11761602289089114790"
     },
     "user_tz": -420
    },
    "id": "eQTcikOGsLnT",
    "outputId": "3dd777db-6614-48c0-f51d-9ad0624c3867"
   },
   "outputs": [
    {
     "data": {
      "text/plain": [
       "array(['Lokasi Main Persebaya Surabaya vs Bali United Main Masih Misterius, Ini Penjelasan Lengkap Polisi',\n",
       "       'SURYA.co.id, Bandung -\\xa0Lokasi pertandingan Persebaya vs Bali\\xa0United di laga malam ini, Senin 20 Juni 2022 masih belum diketahui sampai sekarang. Apakah akan bertanding di Stadion\\xa0Gelora\\xa0Bandung\\xa0Lautan\\xa0Api (GBLA) atau dipindah ke Stadion\\xa0Si\\xa0Jalak\\xa0Harupat\\xa0Bandung?\"Sampai sekarang belum ada rapat. Rapat ini dilaksanakan dan koordinasi lintas sektoral baik panpel dan PSSI,\" ujar Kabid Humas Polda Jabar, Kombes Pol Ibrahim Tompo saat dihubungi melalui sambungan telepon, Senin (20/6/2022) seperti dikutip dari Tribun JabarIbrahim Tompo menjelaskan polisi masih menunggu pihak penyelenggara atau panitia pertandingan (Panpel) terkait rencana pertandingan tersebut.\\xa0\"Belum, jadi memang kita masih menunggu rencana rapatnya, semoga ada dukungan rapat bersama, sehingga kita bisa memberikan masukan kepada stakholder,\" katanya.\\xa0Ia memastikan, pihaknya sudah melakukan evaluasi sebagai bahan rekomendasi untuk pengambil keputusan.\\xa0 Baca juga: PREDIKSI SKOR Bali United vs Persebaya: Aji Santoso Beri Reaksi Venue Dipindah, Ada Rotasi Pemain?\"Tapi hasil investigasi dan evaluasi kami berikan masukan ke stakholder untuk bahan pertimbangan kegiatan berikutnya,\" ucapnya.Laga Persib Dipindah atau Tanpa PenontonSebelumnya, Polda Jawa Barat memberikan dua rekomendasi untuk panitia pelaksana pertandingan (Panpel) Persib Bandung, setelah meninggalnya dua bobotoh Persib.\\xa0Kabid Humas Polda Jabar, Kombes Pol Ibrahim Tompo mengatakan, rekomendasi pertama pertandingan tetap digelar di Stadion\\xa0Gelora\\xa0Bandung\\xa0Lautan\\xa0Api (GBLA) tanpa penonton.\\xa0 \"Atau memindahkan ke tempat lain pertandingannya,\" ujar\\xa0Ibrahim\\xa0Tompo, saat dihubungi melalui sambungan telepon, Senin (20/6/2022).\\xa0Alasan rekomendasi itu, kata dia, merupakan hasil evaluasi. Ini menjadi bahan rekomendasi kepada penyelenggara dan pemanggil keputusan.\\xa0Hingga saat ini, pihak penyelenggara belum memutuskan apakah akan tetap menggelar pertandingan di Stadion Gelora Bandung Lautan Api (GBLA) tanpa penonton atau pindah ke stadion lain.\\xa0 Baca juga: Persebaya vs Bali United, Pelatih Aji Santoso: 4 Pemain Asing Main di Pertandingan Bola Malam ini\"Belum (ada keputusan), karena ini keputusan tidak sepihak kepada pihak keamanan saja, tapi kami memberikan rekomendasi kepada mereka,\" ucapnya.\\xa0Sebelumnya, dua suporter tim Persib Bandung meninggal dunia, saat pertandingan babak penyisihan Piala Presiden antara Persib Bandung melawan Persebaya Surabaya di Stadion\\xa0Gelora\\xa0Bandung\\xa0Lautan\\xa0Api (GBLA), Jumat (17/6/2022) malam.\\xa0Keduanya meninggal setelah diduga kehabisan napas saat desak-desak masuk ke\\xa0Stadion\\xa0GBLA.'],\n",
       "      dtype=object)"
      ]
     },
     "execution_count": 35,
     "metadata": {},
     "output_type": "execute_result"
    }
   ],
   "source": [
    "X_train[0]"
   ]
  },
  {
   "cell_type": "markdown",
   "metadata": {
    "id": "dO7m4dWTEdzh"
   },
   "source": [
    "## Model Training"
   ]
  },
  {
   "cell_type": "code",
   "execution_count": 36,
   "metadata": {
    "executionInfo": {
     "elapsed": 1586,
     "status": "ok",
     "timestamp": 1675496226416,
     "user": {
      "displayName": "Gama Putra Adi Susilo",
      "userId": "11761602289089114790"
     },
     "user_tz": -420
    },
    "id": "2DnmpL0tUn5F"
   },
   "outputs": [],
   "source": [
    "# Text Vectorization\n",
    "\n",
    "max_features = 1000\n",
    "max_len = 50\n",
    "\n",
    "vectorize_layer = layers.TextVectorization(\n",
    "                        max_tokens=max_features,\n",
    "                        output_mode='int',\n",
    "                        output_sequence_length=max_len,\n",
    "                        name='Text_Vectorization'\n",
    "                    )\n",
    "\n",
    "vectorize_layer.adapt(text_combined)"
   ]
  },
  {
   "cell_type": "code",
   "execution_count": null,
   "metadata": {
    "executionInfo": {
     "elapsed": 36,
     "status": "ok",
     "timestamp": 1675496226418,
     "user": {
      "displayName": "Gama Putra Adi Susilo",
      "userId": "11761602289089114790"
     },
     "user_tz": -420
    },
    "id": "2wQXSRirw2Y6"
   },
   "outputs": [],
   "source": []
  },
  {
   "cell_type": "code",
   "execution_count": 37,
   "metadata": {
    "executionInfo": {
     "elapsed": 37,
     "status": "ok",
     "timestamp": 1675496226420,
     "user": {
      "displayName": "Gama Putra Adi Susilo",
      "userId": "11761602289089114790"
     },
     "user_tz": -420
    },
    "id": "P1fBGkwIogou"
   },
   "outputs": [],
   "source": [
    "# Model\n",
    "\n",
    "model = models.Sequential([\n",
    "    layers.Input(shape=(2,), dtype=tf.dtypes.string, name='Input'),\n",
    "    layers.Reshape((2,1), name='Reshape'),\n",
    "    vectorize_layer,\n",
    "    layers.Embedding(input_dim=max_features, output_dim=16, name='Embedding'),\n",
    "    layers.Flatten(name='Flatten'),\n",
    "    layers.Dense(16, activation='relu', name='Dense'),\n",
    "    layers.Dense(1, activation='sigmoid', name='Output')\n",
    "])"
   ]
  },
  {
   "cell_type": "code",
   "execution_count": 38,
   "metadata": {
    "colab": {
     "base_uri": "https://localhost:8080/"
    },
    "executionInfo": {
     "elapsed": 37,
     "status": "ok",
     "timestamp": 1675496226421,
     "user": {
      "displayName": "Gama Putra Adi Susilo",
      "userId": "11761602289089114790"
     },
     "user_tz": -420
    },
    "id": "YHd_9l8UowVl",
    "outputId": "895d1ab3-8dbf-44ce-b164-383d75718042"
   },
   "outputs": [
    {
     "name": "stdout",
     "output_type": "stream",
     "text": [
      "Model: \"sequential_1\"\n",
      "_________________________________________________________________\n",
      " Layer (type)                Output Shape              Param #   \n",
      "=================================================================\n",
      " Reshape (Reshape)           (None, 2, 1)              0         \n",
      "                                                                 \n",
      " Text_Vectorization (TextVec  (None, 2, 50)            0         \n",
      " torization)                                                     \n",
      "                                                                 \n",
      " Embedding (Embedding)       (None, 2, 50, 16)         16000     \n",
      "                                                                 \n",
      " Flatten (Flatten)           (None, 1600)              0         \n",
      "                                                                 \n",
      " Dense (Dense)               (None, 16)                25616     \n",
      "                                                                 \n",
      " Output (Dense)              (None, 1)                 17        \n",
      "                                                                 \n",
      "=================================================================\n",
      "Total params: 41,633\n",
      "Trainable params: 41,633\n",
      "Non-trainable params: 0\n",
      "_________________________________________________________________\n"
     ]
    }
   ],
   "source": [
    "model.summary()"
   ]
  },
  {
   "cell_type": "code",
   "execution_count": 39,
   "metadata": {
    "colab": {
     "base_uri": "https://localhost:8080/",
     "height": 754
    },
    "executionInfo": {
     "elapsed": 18,
     "status": "ok",
     "timestamp": 1675496226421,
     "user": {
      "displayName": "Gama Putra Adi Susilo",
      "userId": "11761602289089114790"
     },
     "user_tz": -420
    },
    "id": "yH3DFnyVpH6x",
    "outputId": "87787f5a-8942-401b-f353-4de143dbd2b2"
   },
   "outputs": [
    {
     "name": "stdout",
     "output_type": "stream",
     "text": [
      "You must install pydot (`pip install pydot`) and install graphviz (see instructions at https://graphviz.gitlab.io/download/) for plot_model to work.\n"
     ]
    }
   ],
   "source": [
    "# Layers Models\n",
    "\n",
    "image_model = keras.utils.plot_model(model, show_shapes=True)\n",
    "image_model"
   ]
  },
  {
   "cell_type": "code",
   "execution_count": 40,
   "metadata": {
    "executionInfo": {
     "elapsed": 17,
     "status": "ok",
     "timestamp": 1675496226422,
     "user": {
      "displayName": "Gama Putra Adi Susilo",
      "userId": "11761602289089114790"
     },
     "user_tz": -420
    },
    "id": "6tVCNnUapJty"
   },
   "outputs": [],
   "source": [
    "# Compile\n",
    "\n",
    "METRICS = [\n",
    "      tf.keras.metrics.BinaryAccuracy(name='accuracy'),\n",
    "      tf.keras.metrics.Precision(name='precision'),\n",
    "      tf.keras.metrics.Recall(name='recall')\n",
    "]\n",
    "\n",
    "model.compile(\n",
    "    optimizer='adam',\n",
    "    loss='binary_crossentropy',\n",
    "    metrics=METRICS,\n",
    ")"
   ]
  },
  {
   "cell_type": "code",
   "execution_count": 41,
   "metadata": {
    "colab": {
     "base_uri": "https://localhost:8080/"
    },
    "executionInfo": {
     "elapsed": 13311,
     "status": "ok",
     "timestamp": 1675496239717,
     "user": {
      "displayName": "Gama Putra Adi Susilo",
      "userId": "11761602289089114790"
     },
     "user_tz": -420
    },
    "id": "6gTWHyqepaFC",
    "outputId": "8f77ab1c-71fb-45f3-ea83-97a42c6aef95"
   },
   "outputs": [
    {
     "name": "stdout",
     "output_type": "stream",
     "text": [
      "Epoch 1/20\n"
     ]
    },
    {
     "name": "stderr",
     "output_type": "stream",
     "text": [
      "C:\\Users\\Aprilia\\anaconda3\\lib\\site-packages\\tensorflow\\python\\data\\ops\\structured_function.py:256: UserWarning: Even though the `tf.config.experimental_run_functions_eagerly` option is set, this option does not apply to tf.data functions. To force eager execution of tf.data functions, please use `tf.data.experimental.enable_debug_mode()`.\n",
      "  warnings.warn(\n"
     ]
    },
    {
     "name": "stdout",
     "output_type": "stream",
     "text": [
      "65/65 [==============================] - 6s 96ms/step - loss: 0.5690 - accuracy: 0.7350 - precision: 0.7421 - recall: 0.9856 - val_loss: 0.4988 - val_accuracy: 0.7868 - val_precision: 0.7868 - val_recall: 1.0000\n",
      "Epoch 2/20\n",
      "65/65 [==============================] - 6s 93ms/step - loss: 0.4831 - accuracy: 0.7427 - precision: 0.7427 - recall: 1.0000 - val_loss: 0.4419 - val_accuracy: 0.7868 - val_precision: 0.7868 - val_recall: 1.0000\n",
      "Epoch 3/20\n",
      "65/65 [==============================] - 6s 87ms/step - loss: 0.3855 - accuracy: 0.8023 - precision: 0.7907 - recall: 0.9980 - val_loss: 0.4095 - val_accuracy: 0.8411 - val_precision: 0.8375 - val_recall: 0.9901\n",
      "Epoch 4/20\n",
      "65/65 [==============================] - 5s 84ms/step - loss: 0.3243 - accuracy: 0.8789 - precision: 0.8643 - recall: 0.9928 - val_loss: 0.3963 - val_accuracy: 0.8508 - val_precision: 0.8522 - val_recall: 0.9803\n",
      "Epoch 5/20\n",
      "65/65 [==============================] - 5s 83ms/step - loss: 0.2290 - accuracy: 0.9293 - precision: 0.9262 - recall: 0.9830 - val_loss: 0.3775 - val_accuracy: 0.8605 - val_precision: 0.8744 - val_recall: 0.9606\n",
      "Epoch 6/20\n",
      "65/65 [==============================] - 5s 82ms/step - loss: 0.1435 - accuracy: 0.9612 - precision: 0.9648 - recall: 0.9837 - val_loss: 0.3899 - val_accuracy: 0.8643 - val_precision: 0.9058 - val_recall: 0.9236\n",
      "Epoch 7/20\n",
      "65/65 [==============================] - 6s 86ms/step - loss: 0.0973 - accuracy: 0.9801 - precision: 0.9838 - recall: 0.9896 - val_loss: 0.4051 - val_accuracy: 0.8740 - val_precision: 0.8920 - val_recall: 0.9557\n",
      "Epoch 8/20\n",
      "65/65 [==============================] - 6s 89ms/step - loss: 0.0605 - accuracy: 0.9913 - precision: 0.9935 - recall: 0.9948 - val_loss: 0.4254 - val_accuracy: 0.8702 - val_precision: 0.8970 - val_recall: 0.9433\n",
      "Epoch 9/20\n",
      "65/65 [==============================] - 6s 91ms/step - loss: 0.0384 - accuracy: 0.9966 - precision: 0.9980 - recall: 0.9974 - val_loss: 0.4587 - val_accuracy: 0.8702 - val_precision: 0.8915 - val_recall: 0.9507\n",
      "Epoch 10/20\n",
      "65/65 [==============================] - 6s 85ms/step - loss: 0.0257 - accuracy: 0.9990 - precision: 0.9993 - recall: 0.9993 - val_loss: 0.4757 - val_accuracy: 0.8702 - val_precision: 0.8970 - val_recall: 0.9433\n",
      "Epoch 11/20\n",
      "65/65 [==============================] - 6s 86ms/step - loss: 0.0183 - accuracy: 0.9990 - precision: 0.9993 - recall: 0.9993 - val_loss: 0.5016 - val_accuracy: 0.8702 - val_precision: 0.8970 - val_recall: 0.9433\n",
      "Epoch 12/20\n",
      "65/65 [==============================] - 6s 88ms/step - loss: 0.0134 - accuracy: 0.9990 - precision: 0.9993 - recall: 0.9993 - val_loss: 0.5244 - val_accuracy: 0.8682 - val_precision: 0.8967 - val_recall: 0.9409\n",
      "Epoch 13/20\n",
      "65/65 [==============================] - 6s 87ms/step - loss: 0.0092 - accuracy: 1.0000 - precision: 1.0000 - recall: 1.0000 - val_loss: 0.5483 - val_accuracy: 0.8721 - val_precision: 0.8972 - val_recall: 0.9458\n",
      "Epoch 14/20\n",
      "65/65 [==============================] - 6s 86ms/step - loss: 0.0073 - accuracy: 1.0000 - precision: 1.0000 - recall: 1.0000 - val_loss: 0.5673 - val_accuracy: 0.8702 - val_precision: 0.8970 - val_recall: 0.9433\n",
      "Epoch 15/20\n",
      "65/65 [==============================] - 6s 85ms/step - loss: 0.0058 - accuracy: 1.0000 - precision: 1.0000 - recall: 1.0000 - val_loss: 0.5799 - val_accuracy: 0.8702 - val_precision: 0.8988 - val_recall: 0.9409\n",
      "Epoch 16/20\n",
      "65/65 [==============================] - 6s 94ms/step - loss: 0.0048 - accuracy: 0.9995 - precision: 0.9993 - recall: 1.0000 - val_loss: 0.5894 - val_accuracy: 0.8682 - val_precision: 0.9005 - val_recall: 0.9360\n",
      "Epoch 17/20\n",
      "65/65 [==============================] - 6s 93ms/step - loss: 0.0039 - accuracy: 1.0000 - precision: 1.0000 - recall: 1.0000 - val_loss: 0.6235 - val_accuracy: 0.8682 - val_precision: 0.8930 - val_recall: 0.9458\n",
      "Epoch 18/20\n",
      "65/65 [==============================] - 6s 94ms/step - loss: 0.0034 - accuracy: 1.0000 - precision: 1.0000 - recall: 1.0000 - val_loss: 0.6186 - val_accuracy: 0.8663 - val_precision: 0.8983 - val_recall: 0.9360\n",
      "Epoch 19/20\n",
      "65/65 [==============================] - 6s 93ms/step - loss: 0.0028 - accuracy: 1.0000 - precision: 1.0000 - recall: 1.0000 - val_loss: 0.6410 - val_accuracy: 0.8702 - val_precision: 0.8970 - val_recall: 0.9433\n",
      "Epoch 20/20\n",
      "65/65 [==============================] - 5s 84ms/step - loss: 0.0024 - accuracy: 1.0000 - precision: 1.0000 - recall: 1.0000 - val_loss: 0.6509 - val_accuracy: 0.8682 - val_precision: 0.8967 - val_recall: 0.9409\n"
     ]
    }
   ],
   "source": [
    "# Train\n",
    "\n",
    "tf.config.run_functions_eagerly(True)\n",
    "\n",
    "hist = model.fit(\n",
    "    X_train,\n",
    "    y_train,\n",
    "    epochs=20,\n",
    "    validation_split=0.2\n",
    ")"
   ]
  },
  {
   "cell_type": "markdown",
   "metadata": {
    "id": "PDkHQc65Gygk"
   },
   "source": [
    "## Model Performance"
   ]
  },
  {
   "cell_type": "code",
   "execution_count": 42,
   "metadata": {
    "colab": {
     "base_uri": "https://localhost:8080/"
    },
    "executionInfo": {
     "elapsed": 15,
     "status": "ok",
     "timestamp": 1675496239718,
     "user": {
      "displayName": "Gama Putra Adi Susilo",
      "userId": "11761602289089114790"
     },
     "user_tz": -420
    },
    "id": "GQ4qYF_DphP9",
    "outputId": "b0cabc27-a22c-4ffe-dc75-b7e756ef2702"
   },
   "outputs": [
    {
     "name": "stdout",
     "output_type": "stream",
     "text": [
      "21/21 [==============================] - 1s 43ms/step - loss: 0.6791 - accuracy: 0.8421 - precision: 0.8629 - recall: 0.9379\n"
     ]
    },
    {
     "data": {
      "text/plain": [
       "[0.6790626645088196,\n",
       " 0.8421052694320679,\n",
       " 0.8628571629524231,\n",
       " 0.9378882050514221]"
      ]
     },
     "execution_count": 42,
     "metadata": {},
     "output_type": "execute_result"
    }
   ],
   "source": [
    "model.evaluate(X_test, y_test)"
   ]
  },
  {
   "cell_type": "code",
   "execution_count": 43,
   "metadata": {
    "colab": {
     "base_uri": "https://localhost:8080/"
    },
    "executionInfo": {
     "elapsed": 676,
     "status": "ok",
     "timestamp": 1675496240387,
     "user": {
      "displayName": "Gama Putra Adi Susilo",
      "userId": "11761602289089114790"
     },
     "user_tz": -420
    },
    "id": "CdiELwTZeP-s",
    "outputId": "9182947d-865a-4a1e-b22d-ee1f572ea411"
   },
   "outputs": [
    {
     "name": "stdout",
     "output_type": "stream",
     "text": [
      "21/21 [==============================] - 1s 25ms/step\n"
     ]
    }
   ],
   "source": [
    "y_predicted = model.predict(X_test)\n",
    "y_predicted = y_predicted.flatten()"
   ]
  },
  {
   "cell_type": "code",
   "execution_count": 44,
   "metadata": {
    "colab": {
     "base_uri": "https://localhost:8080/"
    },
    "executionInfo": {
     "elapsed": 28,
     "status": "ok",
     "timestamp": 1675496240388,
     "user": {
      "displayName": "Gama Putra Adi Susilo",
      "userId": "11761602289089114790"
     },
     "user_tz": -420
    },
    "id": "fQcKzPnuESaK",
    "outputId": "82fd267e-826a-47b3-c3ee-eb586d166708"
   },
   "outputs": [
    {
     "data": {
      "text/plain": [
       "array([1, 1, 1, 1, 1, 1, 1, 1, 1, 0, 1, 1, 1, 1, 1, 1, 1, 0, 1, 1, 1, 1,\n",
       "       1, 1, 0, 1, 1, 1, 1, 1, 1, 1, 1, 0, 1, 1, 0, 1, 1, 1, 1, 1, 1, 1,\n",
       "       1, 1, 1, 1, 0, 1, 1, 1, 1, 1, 1, 1, 1, 1, 1, 1, 1, 1, 1, 1, 0, 1,\n",
       "       1, 1, 0, 1, 1, 1, 1, 1, 1, 1, 1, 1, 0, 1, 1, 1, 1, 1, 1, 1, 1, 1,\n",
       "       0, 1, 1, 0, 1, 1, 1, 1, 1, 0, 1, 1, 1, 1, 1, 1, 0, 1, 1, 1, 1, 1,\n",
       "       0, 0, 0, 1, 1, 1, 1, 1, 1, 0, 1, 1, 0, 1, 1, 1, 1, 1, 0, 1, 1, 0,\n",
       "       1, 0, 1, 1, 1, 1, 1, 1, 1, 0, 0, 0, 1, 1, 1, 1, 1, 0, 0, 1, 1, 1,\n",
       "       1, 0, 1, 1, 1, 1, 1, 1, 1, 1, 1, 0, 1, 1, 1, 1, 1, 1, 1, 1, 1, 1,\n",
       "       1, 1, 0, 1, 1, 1, 0, 1, 0, 1, 1, 1, 1, 0, 1, 1, 1, 1, 1, 0, 1, 0,\n",
       "       1, 0, 1, 1, 1, 1, 0, 1, 1, 0, 1, 1, 1, 1, 1, 1, 1, 1, 1, 1, 1, 1,\n",
       "       1, 1, 1, 1, 1, 1, 1, 1, 1, 1, 0, 1, 1, 0, 1, 1, 1, 1, 1, 1, 1, 0,\n",
       "       1, 1, 1, 0, 1, 1, 1, 1, 1, 1, 1, 1, 1, 1, 1, 0, 1, 1, 1, 1, 1, 1,\n",
       "       1, 1, 1, 0, 1, 1, 1, 0, 0, 1, 1, 1, 1, 1, 1, 1, 0, 1, 1, 1, 1, 1,\n",
       "       1, 1, 1, 1, 1, 1, 1, 1, 1, 1, 1, 1, 1, 1, 1, 1, 1, 1, 1, 0, 1, 1,\n",
       "       1, 0, 1, 1, 1, 1, 1, 1, 1, 0, 1, 1, 1, 0, 1, 1, 1, 1, 1, 1, 1, 1,\n",
       "       1, 1, 1, 0, 1, 1, 1, 1, 1, 0, 1, 1, 1, 1, 1, 1, 1, 1, 1, 1, 0, 1,\n",
       "       0, 1, 1, 1, 0, 1, 1, 1, 1, 1, 0, 1, 1, 1, 1, 0, 1, 1, 0, 1, 1, 1,\n",
       "       0, 1, 1, 1, 1, 1, 1, 0, 1, 1, 1, 1, 1, 1, 1, 1, 1, 1, 1, 0, 0, 0,\n",
       "       0, 1, 1, 1, 1, 1, 1, 0, 1, 1, 1, 0, 0, 1, 1, 1, 1, 1, 1, 1, 1, 0,\n",
       "       1, 1, 0, 1, 0, 1, 1, 0, 1, 1, 1, 1, 1, 1, 1, 0, 1, 1, 0, 0, 1, 1,\n",
       "       0, 0, 1, 1, 1, 1, 1, 1, 0, 1, 1, 1, 1, 0, 1, 0, 1, 1, 1, 0, 1, 1,\n",
       "       1, 1, 1, 0, 1, 1, 1, 0, 0, 1, 0, 1, 1, 1, 1, 1, 1, 0, 1, 1, 1, 1,\n",
       "       1, 1, 1, 1, 0, 0, 0, 0, 1, 1, 0, 1, 1, 1, 0, 1, 1, 0, 1, 1, 1, 1,\n",
       "       1, 1, 0, 1, 1, 1, 1, 1, 1, 1, 1, 1, 1, 1, 1, 1, 1, 1, 1, 1, 0, 0,\n",
       "       1, 1, 1, 0, 1, 1, 1, 0, 1, 1, 0, 0, 1, 1, 1, 1, 1, 0, 1, 1, 0, 1,\n",
       "       1, 1, 1, 1, 1, 0, 1, 1, 0, 1, 1, 0, 0, 1, 1, 1, 0, 1, 0, 1, 1, 1,\n",
       "       1, 0, 1, 1, 1, 1, 0, 1, 1, 1, 1, 1, 1, 1, 1, 1, 1, 0, 1, 0, 1, 0,\n",
       "       0, 0, 1, 0, 1, 0, 1, 1, 1, 1, 1, 1, 1, 1, 1, 0, 1, 1, 1, 1, 1, 0,\n",
       "       1, 1, 1, 1, 1, 1, 1, 1, 0, 1, 1, 1, 1, 1, 0, 1, 1, 1, 1, 1, 1, 1,\n",
       "       1, 1, 1, 1, 1, 0, 1, 1])"
      ]
     },
     "execution_count": 44,
     "metadata": {},
     "output_type": "execute_result"
    }
   ],
   "source": [
    "import numpy as np\n",
    "\n",
    "y_predicted = np.where(y_predicted > 0.5, 1, 0)\n",
    "y_predicted"
   ]
  },
  {
   "cell_type": "code",
   "execution_count": 45,
   "metadata": {
    "colab": {
     "base_uri": "https://localhost:8080/"
    },
    "executionInfo": {
     "elapsed": 26,
     "status": "ok",
     "timestamp": 1675496240389,
     "user": {
      "displayName": "Gama Putra Adi Susilo",
      "userId": "11761602289089114790"
     },
     "user_tz": -420
    },
    "id": "OzBqgJt3ec6L",
    "outputId": "c5df0106-9519-4ff9-fc10-60de0a8714be"
   },
   "outputs": [
    {
     "data": {
      "text/plain": [
       "array([[ 91,  72],\n",
       "       [ 30, 453]], dtype=int64)"
      ]
     },
     "execution_count": 45,
     "metadata": {},
     "output_type": "execute_result"
    }
   ],
   "source": [
    "from sklearn.metrics import confusion_matrix, classification_report, accuracy_score, precision_score, recall_score, f1_score\n",
    "\n",
    "cm = confusion_matrix(y_test, y_predicted)\n",
    "cm "
   ]
  },
  {
   "cell_type": "code",
   "execution_count": 46,
   "metadata": {
    "colab": {
     "base_uri": "https://localhost:8080/"
    },
    "executionInfo": {
     "elapsed": 23,
     "status": "ok",
     "timestamp": 1675496240390,
     "user": {
      "displayName": "Gama Putra Adi Susilo",
      "userId": "11761602289089114790"
     },
     "user_tz": -420
    },
    "id": "QqPp7Eg_C3jr",
    "outputId": "7a27245a-f32b-481e-c0a1-075b455f90ac"
   },
   "outputs": [
    {
     "data": {
      "text/plain": [
       "0.84210526"
      ]
     },
     "execution_count": 46,
     "metadata": {},
     "output_type": "execute_result"
    }
   ],
   "source": [
    "round(accuracy_score(y_test,y_predicted),8)"
   ]
  },
  {
   "cell_type": "code",
   "execution_count": 47,
   "metadata": {
    "colab": {
     "base_uri": "https://localhost:8080/",
     "height": 296
    },
    "executionInfo": {
     "elapsed": 23,
     "status": "ok",
     "timestamp": 1675496240393,
     "user": {
      "displayName": "Gama Putra Adi Susilo",
      "userId": "11761602289089114790"
     },
     "user_tz": -420
    },
    "id": "bV5j0fd1ehW0",
    "outputId": "30a84393-0a33-4b7f-d76f-27e7cf09688b"
   },
   "outputs": [
    {
     "data": {
      "text/plain": [
       "Text(50.722222222222214, 0.5, 'Truth')"
      ]
     },
     "execution_count": 47,
     "metadata": {},
     "output_type": "execute_result"
    },
    {
     "data": {
      "image/png": "[encoded data removed]",
      "text/plain": [
       "<Figure size 640x480 with 2 Axes>"
      ]
     },
     "metadata": {},
     "output_type": "display_data"
    }
   ],
   "source": [
    "from matplotlib import pyplot as plt\n",
    "import seaborn as sn\n",
    "sn.heatmap(cm, annot=True, fmt='d')\n",
    "plt.xlabel('Predicted')\n",
    "plt.ylabel('Truth')"
   ]
  },
  {
   "cell_type": "code",
   "execution_count": 48,
   "metadata": {
    "colab": {
     "base_uri": "https://localhost:8080/"
    },
    "executionInfo": {
     "elapsed": 20,
     "status": "ok",
     "timestamp": 1675496240395,
     "user": {
      "displayName": "Gama Putra Adi Susilo",
      "userId": "11761602289089114790"
     },
     "user_tz": -420
    },
    "id": "l5P-_Ht7elac",
    "outputId": "9dcf3af3-508d-4ebe-9aa3-6bb857d17a04"
   },
   "outputs": [
    {
     "name": "stdout",
     "output_type": "stream",
     "text": [
      "              precision    recall  f1-score   support\n",
      "\n",
      "           0       0.75      0.56      0.64       163\n",
      "           1       0.86      0.94      0.90       483\n",
      "\n",
      "    accuracy                           0.84       646\n",
      "   macro avg       0.81      0.75      0.77       646\n",
      "weighted avg       0.83      0.84      0.83       646\n",
      "\n"
     ]
    }
   ],
   "source": [
    "print(classification_report(y_test, y_predicted))"
   ]
  },
  {
   "cell_type": "code",
   "execution_count": 49,
   "metadata": {
    "executionInfo": {
     "elapsed": 18,
     "status": "ok",
     "timestamp": 1675496240396,
     "user": {
      "displayName": "Gama Putra Adi Susilo",
      "userId": "11761602289089114790"
     },
     "user_tz": -420
    },
    "id": "gmoDLGCiAc-Z"
   },
   "outputs": [],
   "source": [
    "# #PICKLE\n",
    "\n",
    "# import pickle\n",
    "\n",
    "# with open('model_multiinputs.pkl','wb') as r:\n",
    "#     pickle.dump(model,r)"
   ]
  },
  {
   "cell_type": "code",
   "execution_count": 50,
   "metadata": {
    "executionInfo": {
     "elapsed": 1660,
     "status": "ok",
     "timestamp": 1675496242038,
     "user": {
      "displayName": "Gama Putra Adi Susilo",
      "userId": "11761602289089114790"
     },
     "user_tz": -420
    },
    "id": "Y9kDEapaAx36"
   },
   "outputs": [
    {
     "ename": "BadZipFile",
     "evalue": "File is not a zip file",
     "output_type": "error",
     "traceback": [
      "\u001b[1;31m---------------------------------------------------------------------------\u001b[0m",
      "\u001b[1;31mBadZipFile\u001b[0m                                Traceback (most recent call last)",
      "\u001b[1;32m~\\AppData\\Local\\Temp\\ipykernel_5376\\3990521121.py\u001b[0m in \u001b[0;36m<module>\u001b[1;34m\u001b[0m\n\u001b[0;32m      1\u001b[0m \u001b[1;32mimport\u001b[0m \u001b[0mpickle\u001b[0m\u001b[1;33m\u001b[0m\u001b[1;33m\u001b[0m\u001b[0m\n\u001b[0;32m      2\u001b[0m \u001b[1;32mwith\u001b[0m \u001b[0mopen\u001b[0m\u001b[1;33m(\u001b[0m\u001b[1;34m'model_multiinputs.pkl'\u001b[0m\u001b[1;33m,\u001b[0m\u001b[1;34m'rb'\u001b[0m\u001b[1;33m)\u001b[0m \u001b[1;32mas\u001b[0m \u001b[0mr\u001b[0m\u001b[1;33m:\u001b[0m\u001b[1;33m\u001b[0m\u001b[1;33m\u001b[0m\u001b[0m\n\u001b[1;32m----> 3\u001b[1;33m     \u001b[0mmodel\u001b[0m \u001b[1;33m=\u001b[0m \u001b[0mpickle\u001b[0m\u001b[1;33m.\u001b[0m\u001b[0mload\u001b[0m\u001b[1;33m(\u001b[0m\u001b[0mr\u001b[0m\u001b[1;33m)\u001b[0m\u001b[1;33m\u001b[0m\u001b[1;33m\u001b[0m\u001b[0m\n\u001b[0m",
      "\u001b[1;32m~\\anaconda3\\lib\\site-packages\\keras\\saving\\pickle_utils.py\u001b[0m in \u001b[0;36mdeserialize_model_from_bytecode\u001b[1;34m(serialized_model)\u001b[0m\n\u001b[0;32m     46\u001b[0m         \u001b[0mmodel\u001b[0m \u001b[1;33m=\u001b[0m \u001b[0msaving_lib\u001b[0m\u001b[1;33m.\u001b[0m\u001b[0mload_model\u001b[0m\u001b[1;33m(\u001b[0m\u001b[0mfilepath\u001b[0m\u001b[1;33m)\u001b[0m\u001b[1;33m\u001b[0m\u001b[1;33m\u001b[0m\u001b[0m\n\u001b[0;32m     47\u001b[0m     \u001b[1;32mexcept\u001b[0m \u001b[0mException\u001b[0m \u001b[1;32mas\u001b[0m \u001b[0me\u001b[0m\u001b[1;33m:\u001b[0m\u001b[1;33m\u001b[0m\u001b[1;33m\u001b[0m\u001b[0m\n\u001b[1;32m---> 48\u001b[1;33m         \u001b[1;32mraise\u001b[0m \u001b[0me\u001b[0m\u001b[1;33m\u001b[0m\u001b[1;33m\u001b[0m\u001b[0m\n\u001b[0m\u001b[0;32m     49\u001b[0m     \u001b[1;32melse\u001b[0m\u001b[1;33m:\u001b[0m\u001b[1;33m\u001b[0m\u001b[1;33m\u001b[0m\u001b[0m\n\u001b[0;32m     50\u001b[0m         \u001b[1;32mreturn\u001b[0m \u001b[0mmodel\u001b[0m\u001b[1;33m\u001b[0m\u001b[1;33m\u001b[0m\u001b[0m\n",
      "\u001b[1;32m~\\anaconda3\\lib\\site-packages\\keras\\saving\\pickle_utils.py\u001b[0m in \u001b[0;36mdeserialize_model_from_bytecode\u001b[1;34m(serialized_model)\u001b[0m\n\u001b[0;32m     44\u001b[0m         \u001b[1;31m# serialized as a string by Dense.get_config()) will require\u001b[0m\u001b[1;33m\u001b[0m\u001b[1;33m\u001b[0m\u001b[0m\n\u001b[0;32m     45\u001b[0m         \u001b[1;31m# a custom_object_scope.\u001b[0m\u001b[1;33m\u001b[0m\u001b[1;33m\u001b[0m\u001b[0m\n\u001b[1;32m---> 46\u001b[1;33m         \u001b[0mmodel\u001b[0m \u001b[1;33m=\u001b[0m \u001b[0msaving_lib\u001b[0m\u001b[1;33m.\u001b[0m\u001b[0mload_model\u001b[0m\u001b[1;33m(\u001b[0m\u001b[0mfilepath\u001b[0m\u001b[1;33m)\u001b[0m\u001b[1;33m\u001b[0m\u001b[1;33m\u001b[0m\u001b[0m\n\u001b[0m\u001b[0;32m     47\u001b[0m     \u001b[1;32mexcept\u001b[0m \u001b[0mException\u001b[0m \u001b[1;32mas\u001b[0m \u001b[0me\u001b[0m\u001b[1;33m:\u001b[0m\u001b[1;33m\u001b[0m\u001b[1;33m\u001b[0m\u001b[0m\n\u001b[0;32m     48\u001b[0m         \u001b[1;32mraise\u001b[0m \u001b[0me\u001b[0m\u001b[1;33m\u001b[0m\u001b[1;33m\u001b[0m\u001b[0m\n",
      "\u001b[1;32m~\\anaconda3\\lib\\site-packages\\keras\\saving\\experimental\\saving_lib.py\u001b[0m in \u001b[0;36mload_model\u001b[1;34m(filepath, custom_objects)\u001b[0m\n\u001b[0;32m    194\u001b[0m         \u001b[0mh5_file\u001b[0m\u001b[1;33m.\u001b[0m\u001b[0mclose\u001b[0m\u001b[1;33m(\u001b[0m\u001b[1;33m)\u001b[0m\u001b[1;33m\u001b[0m\u001b[1;33m\u001b[0m\u001b[0m\n\u001b[0;32m    195\u001b[0m     \u001b[1;32mexcept\u001b[0m \u001b[0mException\u001b[0m \u001b[1;32mas\u001b[0m \u001b[0me\u001b[0m\u001b[1;33m:\u001b[0m\u001b[1;33m\u001b[0m\u001b[1;33m\u001b[0m\u001b[0m\n\u001b[1;32m--> 196\u001b[1;33m         \u001b[1;32mraise\u001b[0m \u001b[0me\u001b[0m\u001b[1;33m\u001b[0m\u001b[1;33m\u001b[0m\u001b[0m\n\u001b[0m\u001b[0;32m    197\u001b[0m     \u001b[1;32melse\u001b[0m\u001b[1;33m:\u001b[0m\u001b[1;33m\u001b[0m\u001b[1;33m\u001b[0m\u001b[0m\n\u001b[0;32m    198\u001b[0m         \u001b[1;32mreturn\u001b[0m \u001b[0mmodel\u001b[0m\u001b[1;33m\u001b[0m\u001b[1;33m\u001b[0m\u001b[0m\n",
      "\u001b[1;32m~\\anaconda3\\lib\\site-packages\\keras\\saving\\experimental\\saving_lib.py\u001b[0m in \u001b[0;36mload_model\u001b[1;34m(filepath, custom_objects)\u001b[0m\n\u001b[0;32m    171\u001b[0m     \u001b[0mtemp_path\u001b[0m \u001b[1;33m=\u001b[0m \u001b[0m_get_temp_dir\u001b[0m\u001b[1;33m(\u001b[0m\u001b[1;33m)\u001b[0m\u001b[1;33m\u001b[0m\u001b[1;33m\u001b[0m\u001b[0m\n\u001b[0;32m    172\u001b[0m     \u001b[1;32mtry\u001b[0m\u001b[1;33m:\u001b[0m\u001b[1;33m\u001b[0m\u001b[1;33m\u001b[0m\u001b[0m\n\u001b[1;32m--> 173\u001b[1;33m         \u001b[1;32mwith\u001b[0m \u001b[0mzipfile\u001b[0m\u001b[1;33m.\u001b[0m\u001b[0mZipFile\u001b[0m\u001b[1;33m(\u001b[0m\u001b[0mfilepath\u001b[0m\u001b[1;33m,\u001b[0m \u001b[1;34m\"r\"\u001b[0m\u001b[1;33m)\u001b[0m \u001b[1;32mas\u001b[0m \u001b[0mzipfile_to_load\u001b[0m\u001b[1;33m:\u001b[0m\u001b[1;33m\u001b[0m\u001b[1;33m\u001b[0m\u001b[0m\n\u001b[0m\u001b[0;32m    174\u001b[0m             \u001b[0m_print_zip_file\u001b[0m\u001b[1;33m(\u001b[0m\u001b[0mzipfile_to_load\u001b[0m\u001b[1;33m,\u001b[0m \u001b[1;34m\"loading\"\u001b[0m\u001b[1;33m)\u001b[0m\u001b[1;33m\u001b[0m\u001b[1;33m\u001b[0m\u001b[0m\n\u001b[0;32m    175\u001b[0m             \u001b[0mzipfile_to_load\u001b[0m\u001b[1;33m.\u001b[0m\u001b[0mextractall\u001b[0m\u001b[1;33m(\u001b[0m\u001b[0mtemp_path\u001b[0m\u001b[1;33m)\u001b[0m\u001b[1;33m\u001b[0m\u001b[1;33m\u001b[0m\u001b[0m\n",
      "\u001b[1;32m~\\anaconda3\\lib\\zipfile.py\u001b[0m in \u001b[0;36m__init__\u001b[1;34m(self, file, mode, compression, allowZip64, compresslevel, strict_timestamps)\u001b[0m\n\u001b[0;32m   1264\u001b[0m         \u001b[1;32mtry\u001b[0m\u001b[1;33m:\u001b[0m\u001b[1;33m\u001b[0m\u001b[1;33m\u001b[0m\u001b[0m\n\u001b[0;32m   1265\u001b[0m             \u001b[1;32mif\u001b[0m \u001b[0mmode\u001b[0m \u001b[1;33m==\u001b[0m \u001b[1;34m'r'\u001b[0m\u001b[1;33m:\u001b[0m\u001b[1;33m\u001b[0m\u001b[1;33m\u001b[0m\u001b[0m\n\u001b[1;32m-> 1266\u001b[1;33m                 \u001b[0mself\u001b[0m\u001b[1;33m.\u001b[0m\u001b[0m_RealGetContents\u001b[0m\u001b[1;33m(\u001b[0m\u001b[1;33m)\u001b[0m\u001b[1;33m\u001b[0m\u001b[1;33m\u001b[0m\u001b[0m\n\u001b[0m\u001b[0;32m   1267\u001b[0m             \u001b[1;32melif\u001b[0m \u001b[0mmode\u001b[0m \u001b[1;32min\u001b[0m \u001b[1;33m(\u001b[0m\u001b[1;34m'w'\u001b[0m\u001b[1;33m,\u001b[0m \u001b[1;34m'x'\u001b[0m\u001b[1;33m)\u001b[0m\u001b[1;33m:\u001b[0m\u001b[1;33m\u001b[0m\u001b[1;33m\u001b[0m\u001b[0m\n\u001b[0;32m   1268\u001b[0m                 \u001b[1;31m# set the modified flag so central directory gets written\u001b[0m\u001b[1;33m\u001b[0m\u001b[1;33m\u001b[0m\u001b[0m\n",
      "\u001b[1;32m~\\anaconda3\\lib\\zipfile.py\u001b[0m in \u001b[0;36m_RealGetContents\u001b[1;34m(self)\u001b[0m\n\u001b[0;32m   1331\u001b[0m             \u001b[1;32mraise\u001b[0m \u001b[0mBadZipFile\u001b[0m\u001b[1;33m(\u001b[0m\u001b[1;34m\"File is not a zip file\"\u001b[0m\u001b[1;33m)\u001b[0m\u001b[1;33m\u001b[0m\u001b[1;33m\u001b[0m\u001b[0m\n\u001b[0;32m   1332\u001b[0m         \u001b[1;32mif\u001b[0m \u001b[1;32mnot\u001b[0m \u001b[0mendrec\u001b[0m\u001b[1;33m:\u001b[0m\u001b[1;33m\u001b[0m\u001b[1;33m\u001b[0m\u001b[0m\n\u001b[1;32m-> 1333\u001b[1;33m             \u001b[1;32mraise\u001b[0m \u001b[0mBadZipFile\u001b[0m\u001b[1;33m(\u001b[0m\u001b[1;34m\"File is not a zip file\"\u001b[0m\u001b[1;33m)\u001b[0m\u001b[1;33m\u001b[0m\u001b[1;33m\u001b[0m\u001b[0m\n\u001b[0m\u001b[0;32m   1334\u001b[0m         \u001b[1;32mif\u001b[0m \u001b[0mself\u001b[0m\u001b[1;33m.\u001b[0m\u001b[0mdebug\u001b[0m \u001b[1;33m>\u001b[0m \u001b[1;36m1\u001b[0m\u001b[1;33m:\u001b[0m\u001b[1;33m\u001b[0m\u001b[1;33m\u001b[0m\u001b[0m\n\u001b[0;32m   1335\u001b[0m             \u001b[0mprint\u001b[0m\u001b[1;33m(\u001b[0m\u001b[0mendrec\u001b[0m\u001b[1;33m)\u001b[0m\u001b[1;33m\u001b[0m\u001b[1;33m\u001b[0m\u001b[0m\n",
      "\u001b[1;31mBadZipFile\u001b[0m: File is not a zip file"
     ]
    }
   ],
   "source": [
    "import pickle\n",
    "with open('model_multiinputs.pkl','rb') as r:\n",
    "    model = pickle.load(r)"
   ]
  },
  {
   "cell_type": "code",
   "execution_count": null,
   "metadata": {
    "colab": {
     "base_uri": "https://localhost:8080/"
    },
    "executionInfo": {
     "elapsed": 22,
     "status": "ok",
     "timestamp": 1675496242039,
     "user": {
      "displayName": "Gama Putra Adi Susilo",
      "userId": "11761602289089114790"
     },
     "user_tz": -420
    },
    "id": "xdPhy_y7E_uR",
    "outputId": "b899c54d-8bcf-4f0d-9834-b890b91ba20b"
   },
   "outputs": [],
   "source": [
    "prediksi = model.predict(X_test)\n",
    "\n",
    "round(accuracy_score(y_test,y_predicted),6)"
   ]
  },
  {
   "cell_type": "code",
   "execution_count": null,
   "metadata": {
    "executionInfo": {
     "elapsed": 25,
     "status": "ok",
     "timestamp": 1675496242044,
     "user": {
      "displayName": "Gama Putra Adi Susilo",
      "userId": "11761602289089114790"
     },
     "user_tz": -420
    },
    "id": "ffKJrwNkQIlA"
   },
   "outputs": [],
   "source": [
    "train_loss=hist.history['loss']\n",
    "val_loss=hist.history['val_loss']\n",
    "train_acc=hist.history['accuracy']\n",
    "val_acc=hist.history['val_accuracy']\n"
   ]
  },
  {
   "cell_type": "code",
   "execution_count": null,
   "metadata": {
    "colab": {
     "base_uri": "https://localhost:8080/",
     "height": 282
    },
    "executionInfo": {
     "elapsed": 27,
     "status": "ok",
     "timestamp": 1675496242046,
     "user": {
      "displayName": "Gama Putra Adi Susilo",
      "userId": "11761602289089114790"
     },
     "user_tz": -420
    },
    "id": "rzcpODx5_slB",
    "outputId": "e209d4b8-58ed-48c7-8955-14926347d036"
   },
   "outputs": [],
   "source": [
    "plt.plot(train_acc)"
   ]
  },
  {
   "cell_type": "code",
   "execution_count": null,
   "metadata": {
    "colab": {
     "base_uri": "https://localhost:8080/",
     "height": 573
    },
    "executionInfo": {
     "elapsed": 988,
     "status": "ok",
     "timestamp": 1675496243013,
     "user": {
      "displayName": "Gama Putra Adi Susilo",
      "userId": "11761602289089114790"
     },
     "user_tz": -420
    },
    "id": "-HY6d467Xf9M",
    "outputId": "167d62ee-46f8-4857-b5fb-ed06911940b0"
   },
   "outputs": [],
   "source": [
    "plt.plot(train_acc)\n",
    "plt.plot(val_acc)\n",
    "plt.title('Perbandingan accuracy dari hasil training')\n",
    "plt.ylabel('acc')\n",
    "plt.xlabel('epoch')\n",
    "plt.legend(['train', 'test'], loc='upper left')\n",
    "plt.show()\n",
    "\n",
    "plt.plot(train_loss)\n",
    "plt.plot(val_loss)\n",
    "plt.title('Perbandingan loss dari hasil training')\n",
    "plt.ylabel('loss')\n",
    "plt.xlabel('epoch')\n",
    "plt.legend(['train', 'test'], loc='upper left')\n",
    "plt.show()"
   ]
  },
  {
   "cell_type": "code",
   "execution_count": null,
   "metadata": {
    "colab": {
     "base_uri": "https://localhost:8080/"
    },
    "executionInfo": {
     "elapsed": 8719,
     "status": "ok",
     "timestamp": 1675496251728,
     "user": {
      "displayName": "Gama Putra Adi Susilo",
      "userId": "11761602289089114790"
     },
     "user_tz": -420
    },
    "id": "w2YUXNjF93d6",
    "outputId": "4a0dd9ae-2c5e-44e8-9a47-22fbd75732c9"
   },
   "outputs": [],
   "source": [
    "! pip install flask-ngrok\n",
    "! pip install pyngrok"
   ]
  },
  {
   "cell_type": "code",
   "execution_count": null,
   "metadata": {
    "executionInfo": {
     "elapsed": 718,
     "status": "ok",
     "timestamp": 1675496252441,
     "user": {
      "displayName": "Gama Putra Adi Susilo",
      "userId": "11761602289089114790"
     },
     "user_tz": -420
    },
    "id": "f83Vh0o4FkR3"
   },
   "outputs": [],
   "source": [
    "from flask_ngrok import run_with_ngrok\n",
    "from flask import Flask, request, render_template\n",
    "import pickle\n",
    "import numpy as np\n",
    "from pyngrok import ngrok"
   ]
  },
  {
   "cell_type": "code",
   "execution_count": null,
   "metadata": {
    "executionInfo": {
     "elapsed": 560,
     "status": "ok",
     "timestamp": 1675497041903,
     "user": {
      "displayName": "Gama Putra Adi Susilo",
      "userId": "11761602289089114790"
     },
     "user_tz": -420
    },
    "id": "6xo0JTDrZ96_"
   },
   "outputs": [],
   "source": [
    "port_no = 5000"
   ]
  },
  {
   "cell_type": "code",
   "execution_count": null,
   "metadata": {
    "colab": {
     "base_uri": "https://localhost:8080/"
    },
    "executionInfo": {
     "elapsed": 397875,
     "status": "ok",
     "timestamp": 1675497824374,
     "user": {
      "displayName": "Gama Putra Adi Susilo",
      "userId": "11761602289089114790"
     },
     "user_tz": -420
    },
    "id": "bvyGox2waA2Z",
    "outputId": "a68880ce-a3f1-4da4-ce38-2294f9e00357"
   },
   "outputs": [],
   "source": [
    "app = Flask(__name__)\n",
    "ngrok.set_auth_token(\"2LGTehaFuSFOMyNniOt15gDF5vv_6HSbS6HddTyeKNvgBnMDh\")\n",
    "public_url =  ngrok.connect(port_no).public_url\n",
    "\n",
    "@app.route(\"/\")\n",
    "def home():\n",
    "    return render_template('index.html')\n",
    "\n",
    "print(f\"To acces the Gloable link please click {public_url}\")\n",
    "\n",
    "app.run(port=port_no)"
   ]
  },
  {
   "cell_type": "code",
   "execution_count": null,
   "metadata": {
    "colab": {
     "base_uri": "https://localhost:8080/"
    },
    "executionInfo": {
     "elapsed": 43147,
     "status": "ok",
     "timestamp": 1675496581787,
     "user": {
      "displayName": "Gama Putra Adi Susilo",
      "userId": "11761602289089114790"
     },
     "user_tz": -420
    },
    "id": "nPNCKNYLVNrM",
    "outputId": "48545311-b7e4-44f5-851c-75107a24815e"
   },
   "outputs": [],
   "source": [
    "# buat flask app\n",
    "ngrok.set_auth_token(\"2LGTehaFuSFOMyNniOt15gDF5vv_6HSbS6HddTyeKNvgBnMDh\")\n",
    "public_url =  ngrok.connect(port_no).public_url\n",
    "app = Flask(__name__)\n",
    "# run flask app\n",
    "run_with_ngrok(app)\n",
    "\n",
    "model_ = pickle.load(open('model_multiinputs.pkl','rb'))\n",
    "\n",
    "@app.route('/')\n",
    "def home():\n",
    "  return render_template('index.html')\n",
    "@app.route('/getprediction', methods=['POST'])\n",
    "def getprediction():\n",
    "  input = [float(x) for x in request.form.values()]\n",
    "  final_input = [np.array(input)]\n",
    "  prediction = model_.predict(final_input)\n",
    "\n",
    "  return render_template('index.html', output='Testing app:{}'.format(prediction))\n",
    "\n",
    "app.run()"
   ]
  },
  {
   "cell_type": "code",
   "execution_count": null,
   "metadata": {
    "executionInfo": {
     "elapsed": 18,
     "status": "ok",
     "timestamp": 1675496408329,
     "user": {
      "displayName": "Gama Putra Adi Susilo",
      "userId": "11761602289089114790"
     },
     "user_tz": -420
    },
    "id": "-IGq26enUmnn"
   },
   "outputs": [],
   "source": [
    "# # Importing libraries\n",
    "# import tensorflow as tf\n",
    "# from tensorflow.keras.preprocessing.text import Tokenizer\n",
    "# from tensorflow.keras.preprocessing.sequence import pad_sequences\n",
    "# from flask import Flask, render_template, request\n",
    "\n",
    "# app = Flask(__name__)\n",
    "\n",
    "# @app.route(\"/\")\n",
    "# def home():\n",
    "#     return render_template(\"index.html\")\n",
    "\n",
    "\n",
    "# @app.route(\"/predict\" , methods=[\"POST\"])\n",
    "# def predict():\n",
    "#     # Loading the model\n",
    "#     model = tf.keras.models.load_model('my_model_pooja.h5')\n",
    "\n",
    "#     # Taking the input text i.e. news using Post method\n",
    "#     if request.method == 'POST':\n",
    "#         text = request.form.get('text')\n",
    "\n",
    "#         # Predicting the news\n",
    "#         data = [text]\n",
    "#         # Tokenizing the data\n",
    "#         tokenizer = Tokenizer()\n",
    "#         tokenizer.fit_on_texts(data)\n",
    "#         # word_index = tokenizer.word_index\n",
    "#         sequences = tokenizer.texts_to_sequences(data)\n",
    "#         # Padding the Tokenize data\n",
    "#         padded_data = pad_sequences(sequences, maxlen=1000)\n",
    "#         # Predicting the news is fake or real\n",
    "#         predicted_val = model.predict(padded_data)\n",
    "\n",
    "#         if(predicted_val >= 0.5):\n",
    "#             prediction = \"News is Fake don't Trust it !\"\n",
    "#         else:\n",
    "#             prediction = \"News is Real !\"\n",
    "#         # rendering results page with prediction and given news by user\n",
    "#     return render_template('results.html', prediction = prediction,news = text)\n",
    "\n",
    "#     # if request to result page is not using post then back to home page\n",
    "#     return render_template(\"index.html\")\n",
    "\n",
    "\n",
    "# @app.route(\"/about\")\n",
    "# def about():\n",
    "#     return render_template('about.html')\n",
    "\n",
    "\n",
    "# if __name__ == '__main__':\n",
    "#     app.run(debug=True)"
   ]
  },
  {
   "cell_type": "code",
   "execution_count": null,
   "metadata": {
    "executionInfo": {
     "elapsed": 14,
     "status": "ok",
     "timestamp": 1675496408329,
     "user": {
      "displayName": "Gama Putra Adi Susilo",
      "userId": "11761602289089114790"
     },
     "user_tz": -420
    },
    "id": "2SBgnpEsGYOo"
   },
   "outputs": [],
   "source": [
    "# # buat flask app\n",
    "\n",
    "# app = Flask(__name__)\n",
    "# # run flask app\n",
    "# run_with_ngrok(app)\n",
    "\n",
    "# model_ = pickle.load(open('model_multiinputs.pkl','rb'))\n",
    "\n",
    "# @app.route('/')\n",
    "# def home():\n",
    "#   return render_template('index.html')\n",
    "# @app.route('/getprediction', methods=['POST'])\n",
    "# def getprediction():\n",
    "#   input = [float(x) for x in request.form.values()]\n",
    "#   final_input = [np.array(input)]\n",
    "#   prediction = model.predict(final_input)\n",
    "\n",
    "#   return render_template('index.html', output='Testing app:{}'.format(prediction))\n",
    "\n",
    "# app.run()"
   ]
  }
 ],
 "metadata": {
  "accelerator": "GPU",
  "colab": {
   "provenance": [
    {
     "file_id": "1fz7RIAb38kwm4ZWqwSpnRWHsUoU3gkAB",
     "timestamp": 1675394958319
    }
   ]
  },
  "gpuClass": "standard",
  "kernelspec": {
   "display_name": "Python 3 (ipykernel)",
   "language": "python",
   "name": "python3"
  },
  "language_info": {
   "codemirror_mode": {
    "name": "ipython",
    "version": 3
   },
   "file_extension": ".py",
   "mimetype": "text/x-python",
   "name": "python",
   "nbconvert_exporter": "python",
   "pygments_lexer": "ipython3",
   "version": "3.9.13"
  }
 },
 "nbformat": 4,
 "nbformat_minor": 1
}
