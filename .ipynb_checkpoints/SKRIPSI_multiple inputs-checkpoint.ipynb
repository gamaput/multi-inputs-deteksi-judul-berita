{
 "cells": [
  {
   "cell_type": "markdown",
   "metadata": {
    "id": "Zuu7oJ4u9M5w"
   },
   "source": [
    "## Import Libraries"
   ]
  },
  {
   "cell_type": "code",
   "execution_count": 2,
   "metadata": {},
   "outputs": [
    {
     "name": "stderr",
     "output_type": "stream",
     "text": [
      "ERROR: Could not find a version that satisfies the requirement tensorflow (from versions: none)\n",
      "ERROR: No matching distribution found for tensorflow\n"
     ]
    }
   ],
   "source": [
    "! pip install tensorflow"
   ]
  },
  {
   "cell_type": "code",
   "execution_count": 1,
   "metadata": {
    "executionInfo": {
     "elapsed": 6465,
     "status": "ok",
     "timestamp": 1675496219935,
     "user": {
      "displayName": "Gama Putra Adi Susilo",
      "userId": "11761602289089114790"
     },
     "user_tz": -420
    },
    "id": "ZBS1bYoBqJZj"
   },
   "outputs": [
    {
     "ename": "ModuleNotFoundError",
     "evalue": "No module named 'tensorflow'",
     "output_type": "error",
     "traceback": [
      "\u001b[1;31m---------------------------------------------------------------------------\u001b[0m",
      "\u001b[1;31mModuleNotFoundError\u001b[0m                       Traceback (most recent call last)",
      "Cell \u001b[1;32mIn[1], line 5\u001b[0m\n\u001b[0;32m      3\u001b[0m \u001b[38;5;28;01mimport\u001b[39;00m \u001b[38;5;21;01mnumpy\u001b[39;00m \u001b[38;5;28;01mas\u001b[39;00m \u001b[38;5;21;01mnp\u001b[39;00m\n\u001b[0;32m      4\u001b[0m \u001b[38;5;28;01mimport\u001b[39;00m \u001b[38;5;21;01mpandas\u001b[39;00m \u001b[38;5;28;01mas\u001b[39;00m \u001b[38;5;21;01mpd\u001b[39;00m\n\u001b[1;32m----> 5\u001b[0m \u001b[38;5;28;01mimport\u001b[39;00m \u001b[38;5;21;01mtensorflow\u001b[39;00m \u001b[38;5;28;01mas\u001b[39;00m \u001b[38;5;21;01mtf\u001b[39;00m\n\u001b[0;32m      6\u001b[0m \u001b[38;5;28;01mfrom\u001b[39;00m \u001b[38;5;21;01mtensorflow\u001b[39;00m \u001b[38;5;28;01mimport\u001b[39;00m keras\n\u001b[0;32m      7\u001b[0m \u001b[38;5;28;01mfrom\u001b[39;00m \u001b[38;5;21;01mkeras\u001b[39;00m \u001b[38;5;28;01mimport\u001b[39;00m models, layers\n",
      "\u001b[1;31mModuleNotFoundError\u001b[0m: No module named 'tensorflow'"
     ]
    }
   ],
   "source": [
    "# Import Libraries\n",
    "\n",
    "import numpy as np\n",
    "import pandas as pd\n",
    "import tensorflow as tf\n",
    "from tensorflow import keras\n",
    "from keras import models, layers\n",
    "import matplotlib.pyplot as plt"
   ]
  },
  {
   "cell_type": "markdown",
   "metadata": {
    "id": "I3co-M4p9jpH"
   },
   "source": [
    "## Load Dataset"
   ]
  },
  {
   "cell_type": "code",
   "execution_count": 4,
   "metadata": {
    "colab": {
     "base_uri": "https://localhost:8080/",
     "height": 337
    },
    "executionInfo": {
     "elapsed": 45,
     "status": "ok",
     "timestamp": 1675496223078,
     "user": {
      "displayName": "Gama Putra Adi Susilo",
      "userId": "11761602289089114790"
     },
     "user_tz": -420
    },
    "id": "hRXk87E0m8va",
    "outputId": "ba036cfe-6bd7-4d61-b3b7-7f74ea3ae124"
   },
   "outputs": [
    {
     "data": {
      "text/html": [
       "\n",
       "  <div id=\"df-81833ec2-97ae-4151-ad28-040f31c39653\">\n",
       "    <div class=\"colab-df-container\">\n",
       "      <div>\n",
       "<style scoped>\n",
       "    .dataframe tbody tr th:only-of-type {\n",
       "        vertical-align: middle;\n",
       "    }\n",
       "\n",
       "    .dataframe tbody tr th {\n",
       "        vertical-align: top;\n",
       "    }\n",
       "\n",
       "    .dataframe thead th {\n",
       "        text-align: right;\n",
       "    }\n",
       "</style>\n",
       "<table border=\"1\" class=\"dataframe\">\n",
       "  <thead>\n",
       "    <tr style=\"text-align: right;\">\n",
       "      <th></th>\n",
       "      <th>content</th>\n",
       "      <th>date</th>\n",
       "      <th>title</th>\n",
       "      <th>label</th>\n",
       "    </tr>\n",
       "  </thead>\n",
       "  <tbody>\n",
       "    <tr>\n",
       "      <th>0</th>\n",
       "      <td>Berita SurabayaSURYA.co.id | SURABAYA - Pengem...</td>\n",
       "      <td>Jumat, 10 Juni 2022 01:08</td>\n",
       "      <td>PT Intiland Development Kembangkan Kawasan Ind...</td>\n",
       "      <td>noclickbait</td>\n",
       "    </tr>\n",
       "    <tr>\n",
       "      <th>1</th>\n",
       "      <td>Berita SurabayaSURYA.co.id | SURABAYA - Brand ...</td>\n",
       "      <td>Jumat, 10 Juni 2022 01:16</td>\n",
       "      <td>ANKER Menangkan Penghargaan Nobel Prize di Aja...</td>\n",
       "      <td>noclickbait</td>\n",
       "    </tr>\n",
       "    <tr>\n",
       "      <th>2</th>\n",
       "      <td>Berita SurabayaSURYA.co.id | SURABAYA - PT Har...</td>\n",
       "      <td>Jumat, 10 Juni 2022 01:27</td>\n",
       "      <td>Perluas Bisnis, Hartadinata Abadi Store Buka G...</td>\n",
       "      <td>noclickbait</td>\n",
       "    </tr>\n",
       "    <tr>\n",
       "      <th>3</th>\n",
       "      <td>Berita SurabayaSURYA.co.id | SURABAYA – Peneri...</td>\n",
       "      <td>Jumat, 10 Juni 2022 01:34</td>\n",
       "      <td>PPDB SMP Dibuka Hari Ini, Dindik Surabaya Mint...</td>\n",
       "      <td>clickbait</td>\n",
       "    </tr>\n",
       "    <tr>\n",
       "      <th>4</th>\n",
       "      <td>SURYA.co.id I Masih ingat Ronaldo Nazario, san...</td>\n",
       "      <td>Jumat, 10 Juni 2022 01:51</td>\n",
       "      <td>Liga Spanyol, Ronaldo Legenda Real Madrid, Jad...</td>\n",
       "      <td>clickbait</td>\n",
       "    </tr>\n",
       "  </tbody>\n",
       "</table>\n",
       "</div>\n",
       "      <button class=\"colab-df-convert\" onclick=\"convertToInteractive('df-81833ec2-97ae-4151-ad28-040f31c39653')\"\n",
       "              title=\"Convert this dataframe to an interactive table.\"\n",
       "              style=\"display:none;\">\n",
       "        \n",
       "  <svg xmlns=\"http://www.w3.org/2000/svg\" height=\"24px\"viewBox=\"0 0 24 24\"\n",
       "       width=\"24px\">\n",
       "    <path d=\"M0 0h24v24H0V0z\" fill=\"none\"/>\n",
       "    <path d=\"M18.56 5.44l.94 2.06.94-2.06 2.06-.94-2.06-.94-.94-2.06-.94 2.06-2.06.94zm-11 1L8.5 8.5l.94-2.06 2.06-.94-2.06-.94L8.5 2.5l-.94 2.06-2.06.94zm10 10l.94 2.06.94-2.06 2.06-.94-2.06-.94-.94-2.06-.94 2.06-2.06.94z\"/><path d=\"M17.41 7.96l-1.37-1.37c-.4-.4-.92-.59-1.43-.59-.52 0-1.04.2-1.43.59L10.3 9.45l-7.72 7.72c-.78.78-.78 2.05 0 2.83L4 21.41c.39.39.9.59 1.41.59.51 0 1.02-.2 1.41-.59l7.78-7.78 2.81-2.81c.8-.78.8-2.07 0-2.86zM5.41 20L4 18.59l7.72-7.72 1.47 1.35L5.41 20z\"/>\n",
       "  </svg>\n",
       "      </button>\n",
       "      \n",
       "  <style>\n",
       "    .colab-df-container {\n",
       "      display:flex;\n",
       "      flex-wrap:wrap;\n",
       "      gap: 12px;\n",
       "    }\n",
       "\n",
       "    .colab-df-convert {\n",
       "      background-color: #E8F0FE;\n",
       "      border: none;\n",
       "      border-radius: 50%;\n",
       "      cursor: pointer;\n",
       "      display: none;\n",
       "      fill: #1967D2;\n",
       "      height: 32px;\n",
       "      padding: 0 0 0 0;\n",
       "      width: 32px;\n",
       "    }\n",
       "\n",
       "    .colab-df-convert:hover {\n",
       "      background-color: #E2EBFA;\n",
       "      box-shadow: 0px 1px 2px rgba(60, 64, 67, 0.3), 0px 1px 3px 1px rgba(60, 64, 67, 0.15);\n",
       "      fill: #174EA6;\n",
       "    }\n",
       "\n",
       "    [theme=dark] .colab-df-convert {\n",
       "      background-color: #3B4455;\n",
       "      fill: #D2E3FC;\n",
       "    }\n",
       "\n",
       "    [theme=dark] .colab-df-convert:hover {\n",
       "      background-color: #434B5C;\n",
       "      box-shadow: 0px 1px 3px 1px rgba(0, 0, 0, 0.15);\n",
       "      filter: drop-shadow(0px 1px 2px rgba(0, 0, 0, 0.3));\n",
       "      fill: #FFFFFF;\n",
       "    }\n",
       "  </style>\n",
       "\n",
       "      <script>\n",
       "        const buttonEl =\n",
       "          document.querySelector('#df-81833ec2-97ae-4151-ad28-040f31c39653 button.colab-df-convert');\n",
       "        buttonEl.style.display =\n",
       "          google.colab.kernel.accessAllowed ? 'block' : 'none';\n",
       "\n",
       "        async function convertToInteractive(key) {\n",
       "          const element = document.querySelector('#df-81833ec2-97ae-4151-ad28-040f31c39653');\n",
       "          const dataTable =\n",
       "            await google.colab.kernel.invokeFunction('convertToInteractive',\n",
       "                                                     [key], {});\n",
       "          if (!dataTable) return;\n",
       "\n",
       "          const docLinkHtml = 'Like what you see? Visit the ' +\n",
       "            '<a target=\"_blank\" href=https://colab.research.google.com/notebooks/data_table.ipynb>data table notebook</a>'\n",
       "            + ' to learn more about interactive tables.';\n",
       "          element.innerHTML = '';\n",
       "          dataTable['output_type'] = 'display_data';\n",
       "          await google.colab.output.renderOutput(dataTable, element);\n",
       "          const docLink = document.createElement('div');\n",
       "          docLink.innerHTML = docLinkHtml;\n",
       "          element.appendChild(docLink);\n",
       "        }\n",
       "      </script>\n",
       "    </div>\n",
       "  </div>\n",
       "  "
      ],
      "text/plain": [
       "                                             content  \\\n",
       "0  Berita SurabayaSURYA.co.id | SURABAYA - Pengem...   \n",
       "1  Berita SurabayaSURYA.co.id | SURABAYA - Brand ...   \n",
       "2  Berita SurabayaSURYA.co.id | SURABAYA - PT Har...   \n",
       "3  Berita SurabayaSURYA.co.id | SURABAYA – Peneri...   \n",
       "4  SURYA.co.id I Masih ingat Ronaldo Nazario, san...   \n",
       "\n",
       "                        date  \\\n",
       "0  Jumat, 10 Juni 2022 01:08   \n",
       "1  Jumat, 10 Juni 2022 01:16   \n",
       "2  Jumat, 10 Juni 2022 01:27   \n",
       "3  Jumat, 10 Juni 2022 01:34   \n",
       "4  Jumat, 10 Juni 2022 01:51   \n",
       "\n",
       "                                               title        label  \n",
       "0  PT Intiland Development Kembangkan Kawasan Ind...  noclickbait  \n",
       "1  ANKER Menangkan Penghargaan Nobel Prize di Aja...  noclickbait  \n",
       "2  Perluas Bisnis, Hartadinata Abadi Store Buka G...  noclickbait  \n",
       "3  PPDB SMP Dibuka Hari Ini, Dindik Surabaya Mint...    clickbait  \n",
       "4  Liga Spanyol, Ronaldo Legenda Real Madrid, Jad...    clickbait  "
      ]
     },
     "execution_count": 4,
     "metadata": {},
     "output_type": "execute_result"
    }
   ],
   "source": [
    "# Read Dataset\n",
    "data = pd.read_csv('/content/drive/MyDrive/project_skripsi/Multi inputs/dataset.csv')\n",
    "\n",
    "data.head()"
   ]
  },
  {
   "cell_type": "code",
   "execution_count": 5,
   "metadata": {
    "colab": {
     "base_uri": "https://localhost:8080/",
     "height": 236
    },
    "executionInfo": {
     "elapsed": 47,
     "status": "ok",
     "timestamp": 1675496223081,
     "user": {
      "displayName": "Gama Putra Adi Susilo",
      "userId": "11761602289089114790"
     },
     "user_tz": -420
    },
    "id": "LPk68TA3s38k",
    "outputId": "a5ab6398-f1f2-4468-9eac-49454bd84a85"
   },
   "outputs": [
    {
     "data": {
      "text/html": [
       "\n",
       "  <div id=\"df-878d4284-8b41-4da8-9c0f-ebf3fcc6790d\">\n",
       "    <div class=\"colab-df-container\">\n",
       "      <div>\n",
       "<style scoped>\n",
       "    .dataframe tbody tr th:only-of-type {\n",
       "        vertical-align: middle;\n",
       "    }\n",
       "\n",
       "    .dataframe tbody tr th {\n",
       "        vertical-align: top;\n",
       "    }\n",
       "\n",
       "    .dataframe thead th {\n",
       "        text-align: right;\n",
       "    }\n",
       "</style>\n",
       "<table border=\"1\" class=\"dataframe\">\n",
       "  <thead>\n",
       "    <tr style=\"text-align: right;\">\n",
       "      <th></th>\n",
       "      <th>content</th>\n",
       "      <th>date</th>\n",
       "      <th>title</th>\n",
       "      <th>label</th>\n",
       "    </tr>\n",
       "  </thead>\n",
       "  <tbody>\n",
       "    <tr>\n",
       "      <th>count</th>\n",
       "      <td>3226</td>\n",
       "      <td>3226</td>\n",
       "      <td>3226</td>\n",
       "      <td>3226</td>\n",
       "    </tr>\n",
       "    <tr>\n",
       "      <th>unique</th>\n",
       "      <td>3220</td>\n",
       "      <td>3074</td>\n",
       "      <td>3220</td>\n",
       "      <td>2</td>\n",
       "    </tr>\n",
       "    <tr>\n",
       "      <th>top</th>\n",
       "      <td>Menunjuk Pengumuman Lelang Pertama Eksekusi Ha...</td>\n",
       "      <td>Kamis, 20 Oktober 2022 09:15</td>\n",
       "      <td>Hari Pangan Sedunia, Bupati Gresik Gus Yani Ra...</td>\n",
       "      <td>noclickbait</td>\n",
       "    </tr>\n",
       "    <tr>\n",
       "      <th>freq</th>\n",
       "      <td>3</td>\n",
       "      <td>3</td>\n",
       "      <td>2</td>\n",
       "      <td>2422</td>\n",
       "    </tr>\n",
       "  </tbody>\n",
       "</table>\n",
       "</div>\n",
       "      <button class=\"colab-df-convert\" onclick=\"convertToInteractive('df-878d4284-8b41-4da8-9c0f-ebf3fcc6790d')\"\n",
       "              title=\"Convert this dataframe to an interactive table.\"\n",
       "              style=\"display:none;\">\n",
       "        \n",
       "  <svg xmlns=\"http://www.w3.org/2000/svg\" height=\"24px\"viewBox=\"0 0 24 24\"\n",
       "       width=\"24px\">\n",
       "    <path d=\"M0 0h24v24H0V0z\" fill=\"none\"/>\n",
       "    <path d=\"M18.56 5.44l.94 2.06.94-2.06 2.06-.94-2.06-.94-.94-2.06-.94 2.06-2.06.94zm-11 1L8.5 8.5l.94-2.06 2.06-.94-2.06-.94L8.5 2.5l-.94 2.06-2.06.94zm10 10l.94 2.06.94-2.06 2.06-.94-2.06-.94-.94-2.06-.94 2.06-2.06.94z\"/><path d=\"M17.41 7.96l-1.37-1.37c-.4-.4-.92-.59-1.43-.59-.52 0-1.04.2-1.43.59L10.3 9.45l-7.72 7.72c-.78.78-.78 2.05 0 2.83L4 21.41c.39.39.9.59 1.41.59.51 0 1.02-.2 1.41-.59l7.78-7.78 2.81-2.81c.8-.78.8-2.07 0-2.86zM5.41 20L4 18.59l7.72-7.72 1.47 1.35L5.41 20z\"/>\n",
       "  </svg>\n",
       "      </button>\n",
       "      \n",
       "  <style>\n",
       "    .colab-df-container {\n",
       "      display:flex;\n",
       "      flex-wrap:wrap;\n",
       "      gap: 12px;\n",
       "    }\n",
       "\n",
       "    .colab-df-convert {\n",
       "      background-color: #E8F0FE;\n",
       "      border: none;\n",
       "      border-radius: 50%;\n",
       "      cursor: pointer;\n",
       "      display: none;\n",
       "      fill: #1967D2;\n",
       "      height: 32px;\n",
       "      padding: 0 0 0 0;\n",
       "      width: 32px;\n",
       "    }\n",
       "\n",
       "    .colab-df-convert:hover {\n",
       "      background-color: #E2EBFA;\n",
       "      box-shadow: 0px 1px 2px rgba(60, 64, 67, 0.3), 0px 1px 3px 1px rgba(60, 64, 67, 0.15);\n",
       "      fill: #174EA6;\n",
       "    }\n",
       "\n",
       "    [theme=dark] .colab-df-convert {\n",
       "      background-color: #3B4455;\n",
       "      fill: #D2E3FC;\n",
       "    }\n",
       "\n",
       "    [theme=dark] .colab-df-convert:hover {\n",
       "      background-color: #434B5C;\n",
       "      box-shadow: 0px 1px 3px 1px rgba(0, 0, 0, 0.15);\n",
       "      filter: drop-shadow(0px 1px 2px rgba(0, 0, 0, 0.3));\n",
       "      fill: #FFFFFF;\n",
       "    }\n",
       "  </style>\n",
       "\n",
       "      <script>\n",
       "        const buttonEl =\n",
       "          document.querySelector('#df-878d4284-8b41-4da8-9c0f-ebf3fcc6790d button.colab-df-convert');\n",
       "        buttonEl.style.display =\n",
       "          google.colab.kernel.accessAllowed ? 'block' : 'none';\n",
       "\n",
       "        async function convertToInteractive(key) {\n",
       "          const element = document.querySelector('#df-878d4284-8b41-4da8-9c0f-ebf3fcc6790d');\n",
       "          const dataTable =\n",
       "            await google.colab.kernel.invokeFunction('convertToInteractive',\n",
       "                                                     [key], {});\n",
       "          if (!dataTable) return;\n",
       "\n",
       "          const docLinkHtml = 'Like what you see? Visit the ' +\n",
       "            '<a target=\"_blank\" href=https://colab.research.google.com/notebooks/data_table.ipynb>data table notebook</a>'\n",
       "            + ' to learn more about interactive tables.';\n",
       "          element.innerHTML = '';\n",
       "          dataTable['output_type'] = 'display_data';\n",
       "          await google.colab.output.renderOutput(dataTable, element);\n",
       "          const docLink = document.createElement('div');\n",
       "          docLink.innerHTML = docLinkHtml;\n",
       "          element.appendChild(docLink);\n",
       "        }\n",
       "      </script>\n",
       "    </div>\n",
       "  </div>\n",
       "  "
      ],
      "text/plain": [
       "                                                  content  \\\n",
       "count                                                3226   \n",
       "unique                                               3220   \n",
       "top     Menunjuk Pengumuman Lelang Pertama Eksekusi Ha...   \n",
       "freq                                                    3   \n",
       "\n",
       "                                date  \\\n",
       "count                           3226   \n",
       "unique                          3074   \n",
       "top     Kamis, 20 Oktober 2022 09:15   \n",
       "freq                               3   \n",
       "\n",
       "                                                    title        label  \n",
       "count                                                3226         3226  \n",
       "unique                                               3220            2  \n",
       "top     Hari Pangan Sedunia, Bupati Gresik Gus Yani Ra...  noclickbait  \n",
       "freq                                                    2         2422  "
      ]
     },
     "execution_count": 5,
     "metadata": {},
     "output_type": "execute_result"
    }
   ],
   "source": [
    "data.describe(include='all')"
   ]
  },
  {
   "cell_type": "code",
   "execution_count": 6,
   "metadata": {
    "colab": {
     "base_uri": "https://localhost:8080/",
     "height": 337
    },
    "executionInfo": {
     "elapsed": 48,
     "status": "ok",
     "timestamp": 1675496223084,
     "user": {
      "displayName": "Gama Putra Adi Susilo",
      "userId": "11761602289089114790"
     },
     "user_tz": -420
    },
    "id": "Y5GSGqZwA6P_",
    "outputId": "b860b073-5a95-4cdc-8f4a-ab0aec08f38b"
   },
   "outputs": [
    {
     "data": {
      "text/html": [
       "\n",
       "  <div id=\"df-1c06bfed-ccc2-43cb-8b7c-2ab2b0a71ee9\">\n",
       "    <div class=\"colab-df-container\">\n",
       "      <div>\n",
       "<style scoped>\n",
       "    .dataframe tbody tr th:only-of-type {\n",
       "        vertical-align: middle;\n",
       "    }\n",
       "\n",
       "    .dataframe tbody tr th {\n",
       "        vertical-align: top;\n",
       "    }\n",
       "\n",
       "    .dataframe thead th {\n",
       "        text-align: right;\n",
       "    }\n",
       "</style>\n",
       "<table border=\"1\" class=\"dataframe\">\n",
       "  <thead>\n",
       "    <tr style=\"text-align: right;\">\n",
       "      <th></th>\n",
       "      <th>content</th>\n",
       "      <th>date</th>\n",
       "      <th>title</th>\n",
       "      <th>label</th>\n",
       "      <th>binary_label</th>\n",
       "    </tr>\n",
       "  </thead>\n",
       "  <tbody>\n",
       "    <tr>\n",
       "      <th>0</th>\n",
       "      <td>Berita SurabayaSURYA.co.id | SURABAYA - Pengem...</td>\n",
       "      <td>Jumat, 10 Juni 2022 01:08</td>\n",
       "      <td>PT Intiland Development Kembangkan Kawasan Ind...</td>\n",
       "      <td>noclickbait</td>\n",
       "      <td>0</td>\n",
       "    </tr>\n",
       "    <tr>\n",
       "      <th>1</th>\n",
       "      <td>Berita SurabayaSURYA.co.id | SURABAYA - Brand ...</td>\n",
       "      <td>Jumat, 10 Juni 2022 01:16</td>\n",
       "      <td>ANKER Menangkan Penghargaan Nobel Prize di Aja...</td>\n",
       "      <td>noclickbait</td>\n",
       "      <td>0</td>\n",
       "    </tr>\n",
       "    <tr>\n",
       "      <th>2</th>\n",
       "      <td>Berita SurabayaSURYA.co.id | SURABAYA - PT Har...</td>\n",
       "      <td>Jumat, 10 Juni 2022 01:27</td>\n",
       "      <td>Perluas Bisnis, Hartadinata Abadi Store Buka G...</td>\n",
       "      <td>noclickbait</td>\n",
       "      <td>0</td>\n",
       "    </tr>\n",
       "    <tr>\n",
       "      <th>3</th>\n",
       "      <td>Berita SurabayaSURYA.co.id | SURABAYA – Peneri...</td>\n",
       "      <td>Jumat, 10 Juni 2022 01:34</td>\n",
       "      <td>PPDB SMP Dibuka Hari Ini, Dindik Surabaya Mint...</td>\n",
       "      <td>clickbait</td>\n",
       "      <td>1</td>\n",
       "    </tr>\n",
       "    <tr>\n",
       "      <th>4</th>\n",
       "      <td>SURYA.co.id I Masih ingat Ronaldo Nazario, san...</td>\n",
       "      <td>Jumat, 10 Juni 2022 01:51</td>\n",
       "      <td>Liga Spanyol, Ronaldo Legenda Real Madrid, Jad...</td>\n",
       "      <td>clickbait</td>\n",
       "      <td>1</td>\n",
       "    </tr>\n",
       "  </tbody>\n",
       "</table>\n",
       "</div>\n",
       "      <button class=\"colab-df-convert\" onclick=\"convertToInteractive('df-1c06bfed-ccc2-43cb-8b7c-2ab2b0a71ee9')\"\n",
       "              title=\"Convert this dataframe to an interactive table.\"\n",
       "              style=\"display:none;\">\n",
       "        \n",
       "  <svg xmlns=\"http://www.w3.org/2000/svg\" height=\"24px\"viewBox=\"0 0 24 24\"\n",
       "       width=\"24px\">\n",
       "    <path d=\"M0 0h24v24H0V0z\" fill=\"none\"/>\n",
       "    <path d=\"M18.56 5.44l.94 2.06.94-2.06 2.06-.94-2.06-.94-.94-2.06-.94 2.06-2.06.94zm-11 1L8.5 8.5l.94-2.06 2.06-.94-2.06-.94L8.5 2.5l-.94 2.06-2.06.94zm10 10l.94 2.06.94-2.06 2.06-.94-2.06-.94-.94-2.06-.94 2.06-2.06.94z\"/><path d=\"M17.41 7.96l-1.37-1.37c-.4-.4-.92-.59-1.43-.59-.52 0-1.04.2-1.43.59L10.3 9.45l-7.72 7.72c-.78.78-.78 2.05 0 2.83L4 21.41c.39.39.9.59 1.41.59.51 0 1.02-.2 1.41-.59l7.78-7.78 2.81-2.81c.8-.78.8-2.07 0-2.86zM5.41 20L4 18.59l7.72-7.72 1.47 1.35L5.41 20z\"/>\n",
       "  </svg>\n",
       "      </button>\n",
       "      \n",
       "  <style>\n",
       "    .colab-df-container {\n",
       "      display:flex;\n",
       "      flex-wrap:wrap;\n",
       "      gap: 12px;\n",
       "    }\n",
       "\n",
       "    .colab-df-convert {\n",
       "      background-color: #E8F0FE;\n",
       "      border: none;\n",
       "      border-radius: 50%;\n",
       "      cursor: pointer;\n",
       "      display: none;\n",
       "      fill: #1967D2;\n",
       "      height: 32px;\n",
       "      padding: 0 0 0 0;\n",
       "      width: 32px;\n",
       "    }\n",
       "\n",
       "    .colab-df-convert:hover {\n",
       "      background-color: #E2EBFA;\n",
       "      box-shadow: 0px 1px 2px rgba(60, 64, 67, 0.3), 0px 1px 3px 1px rgba(60, 64, 67, 0.15);\n",
       "      fill: #174EA6;\n",
       "    }\n",
       "\n",
       "    [theme=dark] .colab-df-convert {\n",
       "      background-color: #3B4455;\n",
       "      fill: #D2E3FC;\n",
       "    }\n",
       "\n",
       "    [theme=dark] .colab-df-convert:hover {\n",
       "      background-color: #434B5C;\n",
       "      box-shadow: 0px 1px 3px 1px rgba(0, 0, 0, 0.15);\n",
       "      filter: drop-shadow(0px 1px 2px rgba(0, 0, 0, 0.3));\n",
       "      fill: #FFFFFF;\n",
       "    }\n",
       "  </style>\n",
       "\n",
       "      <script>\n",
       "        const buttonEl =\n",
       "          document.querySelector('#df-1c06bfed-ccc2-43cb-8b7c-2ab2b0a71ee9 button.colab-df-convert');\n",
       "        buttonEl.style.display =\n",
       "          google.colab.kernel.accessAllowed ? 'block' : 'none';\n",
       "\n",
       "        async function convertToInteractive(key) {\n",
       "          const element = document.querySelector('#df-1c06bfed-ccc2-43cb-8b7c-2ab2b0a71ee9');\n",
       "          const dataTable =\n",
       "            await google.colab.kernel.invokeFunction('convertToInteractive',\n",
       "                                                     [key], {});\n",
       "          if (!dataTable) return;\n",
       "\n",
       "          const docLinkHtml = 'Like what you see? Visit the ' +\n",
       "            '<a target=\"_blank\" href=https://colab.research.google.com/notebooks/data_table.ipynb>data table notebook</a>'\n",
       "            + ' to learn more about interactive tables.';\n",
       "          element.innerHTML = '';\n",
       "          dataTable['output_type'] = 'display_data';\n",
       "          await google.colab.output.renderOutput(dataTable, element);\n",
       "          const docLink = document.createElement('div');\n",
       "          docLink.innerHTML = docLinkHtml;\n",
       "          element.appendChild(docLink);\n",
       "        }\n",
       "      </script>\n",
       "    </div>\n",
       "  </div>\n",
       "  "
      ],
      "text/plain": [
       "                                             content  \\\n",
       "0  Berita SurabayaSURYA.co.id | SURABAYA - Pengem...   \n",
       "1  Berita SurabayaSURYA.co.id | SURABAYA - Brand ...   \n",
       "2  Berita SurabayaSURYA.co.id | SURABAYA - PT Har...   \n",
       "3  Berita SurabayaSURYA.co.id | SURABAYA – Peneri...   \n",
       "4  SURYA.co.id I Masih ingat Ronaldo Nazario, san...   \n",
       "\n",
       "                        date  \\\n",
       "0  Jumat, 10 Juni 2022 01:08   \n",
       "1  Jumat, 10 Juni 2022 01:16   \n",
       "2  Jumat, 10 Juni 2022 01:27   \n",
       "3  Jumat, 10 Juni 2022 01:34   \n",
       "4  Jumat, 10 Juni 2022 01:51   \n",
       "\n",
       "                                               title        label  \\\n",
       "0  PT Intiland Development Kembangkan Kawasan Ind...  noclickbait   \n",
       "1  ANKER Menangkan Penghargaan Nobel Prize di Aja...  noclickbait   \n",
       "2  Perluas Bisnis, Hartadinata Abadi Store Buka G...  noclickbait   \n",
       "3  PPDB SMP Dibuka Hari Ini, Dindik Surabaya Mint...    clickbait   \n",
       "4  Liga Spanyol, Ronaldo Legenda Real Madrid, Jad...    clickbait   \n",
       "\n",
       "   binary_label  \n",
       "0             0  \n",
       "1             0  \n",
       "2             0  \n",
       "3             1  \n",
       "4             1  "
      ]
     },
     "execution_count": 6,
     "metadata": {},
     "output_type": "execute_result"
    }
   ],
   "source": [
    "# Target column is made of string values True/Fake, let's change it to numbers 0/1 (clickbait=1) \n",
    "data['binary_label'] = pd.get_dummies(data.label)['clickbait']\n",
    "data.head()"
   ]
  },
  {
   "cell_type": "code",
   "execution_count": 7,
   "metadata": {
    "colab": {
     "base_uri": "https://localhost:8080/"
    },
    "executionInfo": {
     "elapsed": 48,
     "status": "ok",
     "timestamp": 1675496223085,
     "user": {
      "displayName": "Gama Putra Adi Susilo",
      "userId": "11761602289089114790"
     },
     "user_tz": -420
    },
    "id": "W_h2dF4oBiel",
    "outputId": "2706f48f-67cb-456b-9a60-7b3f3b2b2c37"
   },
   "outputs": [
    {
     "data": {
      "text/plain": [
       "0    2422\n",
       "1     804\n",
       "Name: binary_label, dtype: int64"
      ]
     },
     "execution_count": 7,
     "metadata": {},
     "output_type": "execute_result"
    }
   ],
   "source": [
    "data['binary_label'].value_counts()"
   ]
  },
  {
   "cell_type": "code",
   "execution_count": 8,
   "metadata": {
    "colab": {
     "base_uri": "https://localhost:8080/",
     "height": 352
    },
    "executionInfo": {
     "elapsed": 47,
     "status": "ok",
     "timestamp": 1675496223088,
     "user": {
      "displayName": "Gama Putra Adi Susilo",
      "userId": "11761602289089114790"
     },
     "user_tz": -420
    },
    "id": "WYoVJANoXXZg",
    "outputId": "35b5b391-8eb5-43a9-8d13-635b6f92ec3a"
   },
   "outputs": [
    {
     "data": {
      "text/plain": [
       "([<matplotlib.patches.Wedge at 0x7f08566a8ca0>,\n",
       "  <matplotlib.patches.Wedge at 0x7f08566bc3d0>],\n",
       " [Text(-0.8464598180661049, 0.8505914274194731, 'clickbait'),\n",
       "  Text(0.846459897704218, -0.8505913481681817, 'noclickbait')],\n",
       " [Text(-0.49376822720522784, 0.49617833266135924, '24.9%'),\n",
       "  Text(0.4937682736607938, -0.4961782864314393, '75.1%')])"
      ]
     },
     "execution_count": 8,
     "metadata": {},
     "output_type": "execute_result"
    },
    {
     "data": {
      "image/png": "[encoded data removed]",
      "text/plain": [
       "<Figure size 432x288 with 1 Axes>"
      ]
     },
     "metadata": {},
     "output_type": "display_data"
    }
   ],
   "source": [
    "# Checking if our data\n",
    "label_size = [data['binary_label'].sum(),len(data['binary_label'])-data['binary_label'].sum()]\n",
    "plt.pie(label_size,explode=[0.1,0.1],colors=['firebrick','navy'],startangle=90,shadow=True,labels=['clickbait','noclickbait'],autopct='%1.1f%%')"
   ]
  },
  {
   "cell_type": "markdown",
   "metadata": {
    "id": "dIJ_pshzCdT0"
   },
   "source": [
    "## Train-test-split"
   ]
  },
  {
   "cell_type": "code",
   "execution_count": 9,
   "metadata": {
    "executionInfo": {
     "elapsed": 44,
     "status": "ok",
     "timestamp": 1675496223089,
     "user": {
      "displayName": "Gama Putra Adi Susilo",
      "userId": "11761602289089114790"
     },
     "user_tz": -420
    },
    "id": "dQvxoThCQhdu"
   },
   "outputs": [],
   "source": [
    "# Text Columns\n",
    "\n",
    "text_judul = data['title'].values.tolist()\n",
    "text_isi = data['content'].values.tolist()\n",
    "\n",
    "# merge title and content\n",
    "text_combined = text_judul + text_isi"
   ]
  },
  {
   "cell_type": "code",
   "execution_count": 10,
   "metadata": {
    "colab": {
     "base_uri": "https://localhost:8080/"
    },
    "executionInfo": {
     "elapsed": 44,
     "status": "ok",
     "timestamp": 1675496223090,
     "user": {
      "displayName": "Gama Putra Adi Susilo",
      "userId": "11761602289089114790"
     },
     "user_tz": -420
    },
    "id": "Sea77N3UZKsX",
    "outputId": "d1c6f27a-468f-4953-9be5-67226c029a88"
   },
   "outputs": [
    {
     "name": "stdout",
     "output_type": "stream",
     "text": [
      "<class 'pandas.core.frame.DataFrame'>\n",
      "RangeIndex: 3226 entries, 0 to 3225\n",
      "Data columns (total 5 columns):\n",
      " #   Column        Non-Null Count  Dtype \n",
      "---  ------        --------------  ----- \n",
      " 0   content       3226 non-null   object\n",
      " 1   date          3226 non-null   object\n",
      " 2   title         3226 non-null   object\n",
      " 3   label         3226 non-null   object\n",
      " 4   binary_label  3226 non-null   uint8 \n",
      "dtypes: object(4), uint8(1)\n",
      "memory usage: 104.1+ KB\n"
     ]
    }
   ],
   "source": [
    "# Data info\n",
    "\n",
    "data.info()"
   ]
  },
  {
   "cell_type": "code",
   "execution_count": 11,
   "metadata": {
    "colab": {
     "base_uri": "https://localhost:8080/"
    },
    "executionInfo": {
     "elapsed": 747,
     "status": "ok",
     "timestamp": 1675496223798,
     "user": {
      "displayName": "Gama Putra Adi Susilo",
      "userId": "11761602289089114790"
     },
     "user_tz": -420
    },
    "id": "zKX6ovcCVQHH",
    "outputId": "04ccef85-1b14-4313-b05d-77299c411751"
   },
   "outputs": [
    {
     "name": "stdout",
     "output_type": "stream",
     "text": [
      "[['Hasil Monaco vs PSG: Tanpa Lionel Messi, Mbappe Cs Dihancurkan 3-0 Tanpa Balas'\n",
      "  \"SURYA.co.id, - Paris Saint Germain (PSG) dihancurkan AS Monaco 3-0 tanpa balas, Kylian\\xa0Mbappe dipermalukan bekas klub, Minggu (20/3/2022).\\xa0PSG kembali mendapatkan hasil minor.\\xa0Kali ini, tim besutan Mauricio Pochettino itu ditundukkan oleh AS Monaco dengan skor 3-0 tanpa balas.\\xa0Tiga gol yang membobol gawang yang dikawal Gianluigi Donnarumma dicetak oleh Wissam Ben Yedder (25', P84') dan Kevin Volland (68').\\xa0PSG yang tampil tanpa Lionel\\xa0Messi tak mampu mencetak satu gol balasanpun.\\xa0Kylian Mbappe juga nampak tak berkutik melawan bekas timnya sendiri.\\xa0Skor 3-0 itu menutup kekalahan PSG di kandang AS Monaco pada pekan ke-29 Ligue 1.\\xa0Meski menelan kekalahan telak, PSG masih kokoh di posisi puncak klasemen dengan total 65 poin\\xa0Perolehan poin itu masih lebih banyak 15 poin dari posisi kedua yang ditempati oleh Marseille.\\xa0Jalannya PertandinganDilansir SURYA.co.id dari Kompas.com,\\xa0Laga AS Monaco\\xa0vs\\xa0PSG berjalan terbuka dengan tempo cepat sejak awal babak pertama. Secara statistik, peguasaan bola kedua tim cukup berimbang.Namun, AS Monaco lebih banyak menciptakan peluang.\\xa0AS Monaco tercatat berhasil melepaskan sembilan tembakan ke arah gawang dengan enam di antaranya tepat sasaran.Salah satu percobaan tembakan AS Monaco juga membuahkan gol pada menit ke-25.\"]\n",
      " ['Akhir Tahun 2022, Diprediksi 1,19 Juta Orang Lalu Lalang di Kota Malang'\n",
      "  'SURYA.CO.ID, MALANG - Dinas Perhubungan Kota\\xa0Malang memprediksi pergerakan manusia di Kota\\xa0Malang pada liburan Natal dan tahun baru mencapai 1,19 juta orang.Sejumlah rencana disusun untuk mengantisipasi kemacetan di Kota\\xa0Malang selama libur Natal dan Tahun Baru 2023.Kepala Dinas Perhubungan Kota\\xa0Malang, Widjaja Saleh Putra mengungkapkan, kemungkinan rencana perubahan jalur pun bisa dilakukan.Sejauh ini, masih belum ada rencana perubahan arus lalu lintas di kawasan Kota\\xa0Malang jelang liburan akhir tahun.\"Sesuai prediksi dari Kemenhub, di Jawa Timur ini ada 44 juta pergerakan orang, di Kota\\xa0Malang diprediksi mencapai 1,19 juta orang,\" ungkapnya.Sangat mungkin sekali orang atau wisatawan yang menuju Kota Malag menggunakan moda transportasi roda dua dan empat.Bahkan Widjaja juga memprediksi wisatawan datang menggunakan kendaraan angkutan umum.\"Kami menempatkan personil di pos-pos yang telah ditentukan oleh Polresta Malang Kota. Apabila nanti juga dibutuhkan pos tambahan, kami siap bantu,\" ujarnya.Pada liburan akhir tahun kali ini, belum ada mekanisme pelarangan kendaraan besar atau truk.Widjaja mengatakan, semuanya masih sesuai dengan kondisi seperti biasa. Jalur truk bisa melintasi di kawasan Jl Raden Panji Suroso.\"Tidak ada larangan truk, sementara ini tidak ada larangan. Pembatasan orang juga tidak ada, hanya PPKM tetap berlaku,\" ujarnya.Orang yang datang ke Kota\\xa0Malang diprediksi akan banyak berasal dari jalur arah Surabaya.Widjaja mengatakan, kemungkinan mereka akan memilih Kota\\xa0Malang sebagai tempat singgah atau tinggal sementara waktu.Hotel-hotel yang ada di Kota\\xa0Malang akan menjadi rujukan wisatawan yang datang.']\n",
      " ['BPCB Jatim Temukan Struktur Diduga Saluran Air di Situs Karangtengah Kota Blitar'\n",
      "  'SURYA.CO.ID, BLITAR - Tim BPCB\\xa0Jatim juga menemukan struktur yang diduga saluran air bersih di situs Karangtengah, Kecamatan Sananwetan, Kota\\xa0Blitar.Struktur yang diduga saluran air ditemukan di sebelah barat temuan struktur bata sepanjang 14 meter yang diperkirakan sebuah pagar lingkungan.\"Pagi tadi kami mulai menggali di sebelah barat dan menemukan struktur yang indikasinya saluran air bersih,\" kata Arkeolog BPCB\\xa0Jatim, Nugroho Harjo Lukito, Kamis (10/2/2022).Nugroho mengatakan indikasi struktur itu sebuah saluran air bersih karena ditemukan celah-celah yang lebarnya sekitar 3 cm. Baca juga: Hindari Sedan, Bus di Kabupaten Madiun Tabrak Pohon dan Motor di Kabupaten MadiunLetak struktur yang diindikasi saluran air juga berada lebih tinggi dari posisi temuan struktur bata yang diperkirakan pagar keliling lingkungan.Struktur dengan celah selebar sekitar 3 cm itu menyerupai parit kecil yang biasa ditemukan pada situs-situs petirtaan.\"Strukturnya ada kesamaan dengan situs-situs petertitaan. Tapi, kondisi struktur yang diindikasi saluran air ini terputus, kami masih mencari sambungannya,\" ujarnya.Dikatakannya, untuk temuan struktur bata sepanjang 14 meter yang mengarah barat ke timur dipastikan sebuah pagar keliling lingkungan.Hal itu terlihat dari model struktur yang memiliki beberapa pilar.\"Modelnya sama seperti struktur pagar di Candi Gedog, strukturnya memiliki pilar. Tapi, kami belum tahu benda apa yang berada di dalam pagar,\" ujarnya.Menurutnya, jika situs Karangtengah merupakan kawasan permukiman masa lalu, maka struktur pagar keliling itu merupakan pembatas antara rumah. Baca juga: Siswa SMP Negeri 2 Lamongan Raih Silver Medal di Ajang Internasional\"Karena di lokasi ini masih banyak struktur yang lokasinya berpencar ke arah utara. Kami belum tahu apakah struktur itu menyambung dengan struktur lainnya. Kalau melihat letaknya, antara struktur satu dan lainnya terpisah,\" katanya.Sebelumnya, Tim BPCB\\xa0Jatim berhasil menampakkan struktur bata sepanjang lebih kurang 14 meter pada hari keempat ekskavasi penyelamatan situs Karangtengah, Kecamatan Sananwetan, Kota\\xa0Blitar, Kamis (10/2/2022).Posisi struktur bata yang ditampakkan mengarah barat ke timur dari posisi temuan awal struktur bata di situs Karangtengah.BACA BERITA BLITAR LAINNYA']\n",
      " ...\n",
      " ['Hasil Klasemen Piala AFF U-2022 Usai Timnas Indonesia Cukur Myanmar 5-1, Garuda Nusantara Tersingkir'\n",
      "  'SURYA.co.id, - Berikut hasil dan klasemen Piala\\xa0AFF\\xa0U-19\\xa02022 usai Timnas Indonesia cukur Myanmar 5-1, pasukan Shin Tae-yong gagal lolos karena ini, Minggu (10/7/2022).Timnas Indonesia U-19 harus mengakhiri jalan di gelaran Piala\\xa0AFF\\xa0U-19\\xa02022.Ini karena kemenangan 5-1 atas Myanmar tak cukup untuk membuat Garuda\\xa0Nusantara mengamankan tiket lolos ke babak semifinalHasil imbang 1-1 antara Vietnam vs Thailand membuat langkah Muhammad Ferarri Cs terhenti.Timnas U-19 sejatinya punya poin yang sama dengan dua negara tersebut, yaitu 11 poin.Selisih gol paling tinggi (+14) pun didapatkan oleh pasukan Shin Tae-yong.Namun aturan head-to-head dalam klasemen mini yang membuat Garuda\\xa0Nusantara tersingkir.Hal tersebut berdasarkan hasil Timnas U-19 mengenyam hasil imbang 0-0 lawan Vietnam dan Thailand.Sementara Vietnam dan Thailand imbang dengan adanya gol 1-1.Hasil imbang 1-1 itu cukup untuk membuat Vietnam dan Thailand menyingkirkan sang tuan rumah.Hasil Piala\\xa0AFF\\xa0U-19\\xa02022 (Grup A)Filipina vs Brunei 5-0Vietnam vs Thailand 1-1Timnas Indonesia U-19 vs Myanmar 5-1']\n",
      " ['Benda Keramat Atta Halilintar Dilelang, Saksi Perjuangan Hidup Suami Aurel Ditawar Rp 150 Juta'\n",
      "  'SURYA.CO.ID -\\xa0Atta Halilintar mengumumkan bahwa akan melelang benda keramat yang digunakan sejak terjun ke dunia hiburan Tanah Air.\\xa0Benda keramat itu adalah headband atau bandana.\\xa0Hal ini disampaikan melalui unggahan Instagram pribadinya, @attahalilintar.Anak sulung dari keluarga Gen Halilintar ini membagikan potret bandana hitam bermotif tulisan AHHA, yang merupakan inisial namanya sekaligus brand fashion miliknya.Bandana itu dipajang di pigura lengkap dengan tanda tangannya.\"Banyak yg bilang LELANG headbandnya taa. Dan ini salah satu Headband AHHA pertama yang aku cetak sendiri,\" ujar Atta.Menurut suami Aurel Hermansyah ini, bandana itu sudah menjadi saksi perjuangan hidupnya sehingga memiliki sejarah tersendiri.\"Headband sudah jadi saksi hidup perjuangan ku 7-8 Tahun. Dan Headband juga jadi hoki sendiri buat aku.. di dunia usaha sampe dunia sosial media dan per Youtubean,\" tulis Atta.\\xa0\"Dari di bully karna headband sampe disukai sampai punya hampir 30jt subs juga kebanyakan pake headband,\" katanya.\\xa0Bukan untuk foya-foya, Atta\\xa0Halilintar rela melelang bandana itu untuk kegiatan sosial, yakni membantu pembangunan rumah hafalan Alquran.\\xa0\"Nanti penawaran tertinggi, hasilnya bakal aku salurkan untuk membantu Pembangunan rumah pengahafal Alquran. Boleh tag akun-akun Sultan-sultan Baik dan orang-orang baik di kolom komen ya,\" ujar Atta.\\xa0Unggahan itu menuai beragam komentar dari para konten kreator, selebgram, dan pengusaha. Bandana Atta banjir tawaran hingga nominal ratusan juta rupiah.\\xa0\"Izin bid braderku Rp100 juta semoga berkah,\" komentar Putra Siregar.\\xa0\"Bismillah untuk anak-anak hafiz quran Rp111.111.111,\" komenta Nodiewakgenk. \"Rp150.000.000 semoga bermanfaat untuk anak hafiz quran,\" tulis selebgram Stevia Agnecya.']\n",
      " ['Tebing Longsor Putuskan Jalur ke Wisata Gunung Kawi, Warga 4 Desa di Blitar Terpaksa Memutar 15 KM'\n",
      "  'SURYA.CO.ID, BLITAR - Bencana tanah longsor yang terjadi di perbatasan Blitar-Malang, Minggu (19/6/2022) petang lalu, seperti ancaman dalam senyap.Meski tidak sampai memakan korban jiwa, tetapi longsor yang meruntuhkan tebing curam di Gunung Gogoh Niti itu memutus jalur wisata ke Gunung Kawi dan sempat menghambat aktivitas warga dari empat desa di Kabupaten Blitar.Warga bersama petugas kepolisian dari Polsek Doko Polres Blitar langsung bekerja cepat, sehingga material longsor bisa disingkirkan, Senin (20/6/2022) siang. Tetapi sejak semalam sampai esoknya, warga dari empat desa harus memutar sampai 15 KM untuk berbelanja ke Pasar Wlingi.\"Titik longsor terjadi di tengah perkebunan Cengkeh, yang masuk Desa Sidorejo, Kecamatan Doko, Kabupaten Blitar. Lokasinya berada di tengah perkebunan Branggah Banaran, yang menguasai lahan seluas 1.400 hektare,\" kata Kepala Desa (Kades) Sidorejo, Danang Dwi Suratno kepada SURYA, Senin (20/6/2022).Diduga karena tergerus air hujan yang terjadi hampir sepanjang hari, tebing yang berada di tepi jalan ber-hotmiks itu longsor, Minggu (19/06) sore. \"Memang agak rawan longsor saat musim penghujan karena memang berupa tebing yang tinggi karena merupakan lereng bukit,\" jelasnya.Menurut Danang, tidak ada yang tahu pasti bagaimana kejadiannya karena lokasi longsor jauh dari perkampungan. Titik kerusakan berada di tengah perkebunan cengkeh yang sepi di mana atas jalan itu adalah tebing bukit dan di bawahnya berupa jurang.\"Tahu-tahu ada laporan kalau jalan tak bisa dilewati karena tertutup gundukan tanah longsor dari tebing di atas jalan itu,\" ungkapnya.Meski tidak ada korban, namun kejadian itu berdampak pada aktivitas warga yang biasa melalui jalur perkebunan berkelok-kelok itu. Terutama para pedagang yang akan kulakan barang ke Pasar Wlingi, sejak semalam tidak bisa lewat dan memutar sampai belasan kilometer.\"Meski jalan yang longsor itu di tengah perkebunan, namun menjadi akses penting bagi warga. Sebab itu jalan yang bisa menghubungkan perkotaan dengan pedesaan,\" paparnya.Dan ternyata jalur yang terputus longsor itu juga merupakan jalan alternatif antarkabupaten Malang dan Blitar. Termasuk menjad jalan alternatif ke lokasi wisata Gunung Kawi, yaitu dari arah Blitar melalui Kecamatan Doko dan Wlingi.Jalannya cukup bagus karena sudah berbahan hotmiks, termasuk di lokasi yang longsor di tengah perkebunan cengkeh itu. Meski kondisinya sepi di sepanjang perkebunan cengkeh yang kini dikuasai perusahaan swasta, namun medan jalannya disuka para wisatawan.Sebab banyak tantangan berupa kelokan, terutama di sepanjang perbukitan yang rawan longsor itu. Bahkan kalau pagi, bukan hanya panoramanya cukup bagus namun hawanya cukup dingin.\"Bukan hanya truk bermuatan pasir kali yang lewat namun kini juga banyak mobil pribadi datang. Makanya, longsor itu langsung diantisipasi oleh warga dengan bekerja bakti untuk menyingkirkan material yang langsung dibuang ke jurang di sebelahnya. Senin (20/06) siang, jalan itu bisa dilewati normal kembali,\" pungkasnya. *****']] \n",
      "\n",
      "[1 1 1 ... 1 1 1]\n"
     ]
    }
   ],
   "source": [
    "# Process Dataset\n",
    "from sklearn.preprocessing import LabelBinarizer\n",
    "\n",
    "X = data[['title', 'content']].values\n",
    "y = data['label'].values\n",
    "\n",
    "# Fit transform train validation\n",
    "lb = LabelBinarizer()\n",
    "y = lb.fit_transform(y).ravel()\n",
    "lb.classes_\n",
    "\n",
    "# Train-validation-Test set split 80:20 ratio\n",
    "from sklearn.model_selection import train_test_split\n",
    "\n",
    "X_train, X_test, y_train, y_test = train_test_split(\n",
    "    X, y, test_size=0.2, random_state=42\n",
    ")\n",
    "print(X_train, '\\n')\n",
    "print(y_train)"
   ]
  },
  {
   "cell_type": "code",
   "execution_count": 12,
   "metadata": {
    "colab": {
     "base_uri": "https://localhost:8080/"
    },
    "executionInfo": {
     "elapsed": 14,
     "status": "ok",
     "timestamp": 1675496223798,
     "user": {
      "displayName": "Gama Putra Adi Susilo",
      "userId": "11761602289089114790"
     },
     "user_tz": -420
    },
    "id": "Q69vpM8vq2o0",
    "outputId": "64533753-ba06-4b73-83aa-efb659d5bd0f"
   },
   "outputs": [
    {
     "name": "stdout",
     "output_type": "stream",
     "text": [
      "(3226, 2)\n",
      "(3226,)\n"
     ]
    }
   ],
   "source": [
    "print(X.shape)\n",
    "print(y.shape)"
   ]
  },
  {
   "cell_type": "code",
   "execution_count": 13,
   "metadata": {
    "colab": {
     "base_uri": "https://localhost:8080/"
    },
    "executionInfo": {
     "elapsed": 558,
     "status": "ok",
     "timestamp": 1675496224349,
     "user": {
      "displayName": "Gama Putra Adi Susilo",
      "userId": "11761602289089114790"
     },
     "user_tz": -420
    },
    "id": "eQTcikOGsLnT",
    "outputId": "3dd777db-6614-48c0-f51d-9ad0624c3867"
   },
   "outputs": [
    {
     "data": {
      "text/plain": [
       "array(['Hasil Monaco vs PSG: Tanpa Lionel Messi, Mbappe Cs Dihancurkan 3-0 Tanpa Balas',\n",
       "       \"SURYA.co.id, - Paris Saint Germain (PSG) dihancurkan AS Monaco 3-0 tanpa balas, Kylian\\xa0Mbappe dipermalukan bekas klub, Minggu (20/3/2022).\\xa0PSG kembali mendapatkan hasil minor.\\xa0Kali ini, tim besutan Mauricio Pochettino itu ditundukkan oleh AS Monaco dengan skor 3-0 tanpa balas.\\xa0Tiga gol yang membobol gawang yang dikawal Gianluigi Donnarumma dicetak oleh Wissam Ben Yedder (25', P84') dan Kevin Volland (68').\\xa0PSG yang tampil tanpa Lionel\\xa0Messi tak mampu mencetak satu gol balasanpun.\\xa0Kylian Mbappe juga nampak tak berkutik melawan bekas timnya sendiri.\\xa0Skor 3-0 itu menutup kekalahan PSG di kandang AS Monaco pada pekan ke-29 Ligue 1.\\xa0Meski menelan kekalahan telak, PSG masih kokoh di posisi puncak klasemen dengan total 65 poin\\xa0Perolehan poin itu masih lebih banyak 15 poin dari posisi kedua yang ditempati oleh Marseille.\\xa0Jalannya PertandinganDilansir SURYA.co.id dari Kompas.com,\\xa0Laga AS Monaco\\xa0vs\\xa0PSG berjalan terbuka dengan tempo cepat sejak awal babak pertama. Secara statistik, peguasaan bola kedua tim cukup berimbang.Namun, AS Monaco lebih banyak menciptakan peluang.\\xa0AS Monaco tercatat berhasil melepaskan sembilan tembakan ke arah gawang dengan enam di antaranya tepat sasaran.Salah satu percobaan tembakan AS Monaco juga membuahkan gol pada menit ke-25.\"],\n",
       "      dtype=object)"
      ]
     },
     "execution_count": 13,
     "metadata": {},
     "output_type": "execute_result"
    }
   ],
   "source": [
    "X_train[0]"
   ]
  },
  {
   "cell_type": "markdown",
   "metadata": {
    "id": "dO7m4dWTEdzh"
   },
   "source": [
    "## Model Training"
   ]
  },
  {
   "cell_type": "code",
   "execution_count": 14,
   "metadata": {
    "executionInfo": {
     "elapsed": 1586,
     "status": "ok",
     "timestamp": 1675496226416,
     "user": {
      "displayName": "Gama Putra Adi Susilo",
      "userId": "11761602289089114790"
     },
     "user_tz": -420
    },
    "id": "2DnmpL0tUn5F"
   },
   "outputs": [],
   "source": [
    "# Text Vectorization\n",
    "\n",
    "max_features = 1000\n",
    "max_len = 50\n",
    "\n",
    "vectorize_layer = layers.TextVectorization(\n",
    "                        max_tokens=max_features,\n",
    "                        output_mode='int',\n",
    "                        output_sequence_length=max_len,\n",
    "                        name='Text_Vectorization'\n",
    "                    )\n",
    "\n",
    "vectorize_layer.adapt(text_combined)"
   ]
  },
  {
   "cell_type": "code",
   "execution_count": 14,
   "metadata": {
    "executionInfo": {
     "elapsed": 36,
     "status": "ok",
     "timestamp": 1675496226418,
     "user": {
      "displayName": "Gama Putra Adi Susilo",
      "userId": "11761602289089114790"
     },
     "user_tz": -420
    },
    "id": "2wQXSRirw2Y6"
   },
   "outputs": [],
   "source": []
  },
  {
   "cell_type": "code",
   "execution_count": 15,
   "metadata": {
    "executionInfo": {
     "elapsed": 37,
     "status": "ok",
     "timestamp": 1675496226420,
     "user": {
      "displayName": "Gama Putra Adi Susilo",
      "userId": "11761602289089114790"
     },
     "user_tz": -420
    },
    "id": "P1fBGkwIogou"
   },
   "outputs": [],
   "source": [
    "# Model\n",
    "\n",
    "model = models.Sequential([\n",
    "    layers.Input(shape=(2,), dtype=tf.dtypes.string, name='Input'),\n",
    "    layers.Reshape((2,1), name='Reshape'),\n",
    "    vectorize_layer,\n",
    "    layers.Embedding(input_dim=max_features, output_dim=16, name='Embedding'),\n",
    "    layers.Flatten(name='Flatten'),\n",
    "    layers.Dense(16, activation='relu', name='Dense'),\n",
    "    layers.Dense(1, activation='sigmoid', name='Output')\n",
    "])"
   ]
  },
  {
   "cell_type": "code",
   "execution_count": 16,
   "metadata": {
    "colab": {
     "base_uri": "https://localhost:8080/"
    },
    "executionInfo": {
     "elapsed": 37,
     "status": "ok",
     "timestamp": 1675496226421,
     "user": {
      "displayName": "Gama Putra Adi Susilo",
      "userId": "11761602289089114790"
     },
     "user_tz": -420
    },
    "id": "YHd_9l8UowVl",
    "outputId": "895d1ab3-8dbf-44ce-b164-383d75718042"
   },
   "outputs": [
    {
     "name": "stdout",
     "output_type": "stream",
     "text": [
      "Model: \"sequential\"\n",
      "_________________________________________________________________\n",
      " Layer (type)                Output Shape              Param #   \n",
      "=================================================================\n",
      " Reshape (Reshape)           (None, 2, 1)              0         \n",
      "                                                                 \n",
      " Text_Vectorization (TextVec  (None, 2, 50)            0         \n",
      " torization)                                                     \n",
      "                                                                 \n",
      " Embedding (Embedding)       (None, 2, 50, 16)         16000     \n",
      "                                                                 \n",
      " Flatten (Flatten)           (None, 1600)              0         \n",
      "                                                                 \n",
      " Dense (Dense)               (None, 16)                25616     \n",
      "                                                                 \n",
      " Output (Dense)              (None, 1)                 17        \n",
      "                                                                 \n",
      "=================================================================\n",
      "Total params: 41,633\n",
      "Trainable params: 41,633\n",
      "Non-trainable params: 0\n",
      "_________________________________________________________________\n"
     ]
    }
   ],
   "source": [
    "model.summary()"
   ]
  },
  {
   "cell_type": "code",
   "execution_count": 17,
   "metadata": {
    "colab": {
     "base_uri": "https://localhost:8080/",
     "height": 754
    },
    "executionInfo": {
     "elapsed": 18,
     "status": "ok",
     "timestamp": 1675496226421,
     "user": {
      "displayName": "Gama Putra Adi Susilo",
      "userId": "11761602289089114790"
     },
     "user_tz": -420
    },
    "id": "yH3DFnyVpH6x",
    "outputId": "87787f5a-8942-401b-f353-4de143dbd2b2"
   },
   "outputs": [
    {
     "data": {
      "image/png": "[encoded data removed]",
      "text/plain": [
       "<IPython.core.display.Image object>"
      ]
     },
     "execution_count": 17,
     "metadata": {},
     "output_type": "execute_result"
    }
   ],
   "source": [
    "# Layers Models\n",
    "\n",
    "image_model = keras.utils.plot_model(model, show_shapes=True)\n",
    "image_model"
   ]
  },
  {
   "cell_type": "code",
   "execution_count": 18,
   "metadata": {
    "executionInfo": {
     "elapsed": 17,
     "status": "ok",
     "timestamp": 1675496226422,
     "user": {
      "displayName": "Gama Putra Adi Susilo",
      "userId": "11761602289089114790"
     },
     "user_tz": -420
    },
    "id": "6tVCNnUapJty"
   },
   "outputs": [],
   "source": [
    "# Compile\n",
    "\n",
    "METRICS = [\n",
    "      tf.keras.metrics.BinaryAccuracy(name='accuracy'),\n",
    "      tf.keras.metrics.Precision(name='precision'),\n",
    "      tf.keras.metrics.Recall(name='recall')\n",
    "]\n",
    "\n",
    "model.compile(\n",
    "    optimizer='adam',\n",
    "    loss='binary_crossentropy',\n",
    "    metrics=METRICS,\n",
    ")"
   ]
  },
  {
   "cell_type": "code",
   "execution_count": 19,
   "metadata": {
    "colab": {
     "base_uri": "https://localhost:8080/"
    },
    "executionInfo": {
     "elapsed": 13311,
     "status": "ok",
     "timestamp": 1675496239717,
     "user": {
      "displayName": "Gama Putra Adi Susilo",
      "userId": "11761602289089114790"
     },
     "user_tz": -420
    },
    "id": "6gTWHyqepaFC",
    "outputId": "8f77ab1c-71fb-45f3-ea83-97a42c6aef95"
   },
   "outputs": [
    {
     "name": "stdout",
     "output_type": "stream",
     "text": [
      "Epoch 1/20\n",
      "65/65 [==============================] - 2s 14ms/step - loss: 0.5676 - accuracy: 0.7481 - precision: 0.7560 - recall: 0.9833 - val_loss: 0.5385 - val_accuracy: 0.7519 - val_precision: 0.7519 - val_recall: 1.0000\n",
      "Epoch 2/20\n",
      "65/65 [==============================] - 1s 9ms/step - loss: 0.4819 - accuracy: 0.7544 - precision: 0.7544 - recall: 1.0000 - val_loss: 0.4562 - val_accuracy: 0.7558 - val_precision: 0.7549 - val_recall: 1.0000\n",
      "Epoch 3/20\n",
      "65/65 [==============================] - 1s 9ms/step - loss: 0.3545 - accuracy: 0.8454 - precision: 0.8353 - recall: 0.9904 - val_loss: 0.3827 - val_accuracy: 0.8450 - val_precision: 0.8422 - val_recall: 0.9768\n",
      "Epoch 4/20\n",
      "65/65 [==============================] - 1s 9ms/step - loss: 0.2501 - accuracy: 0.9079 - precision: 0.9076 - recall: 0.9775 - val_loss: 0.3678 - val_accuracy: 0.8488 - val_precision: 0.8780 - val_recall: 0.9278\n",
      "Epoch 5/20\n",
      "65/65 [==============================] - 1s 8ms/step - loss: 0.1791 - accuracy: 0.9419 - precision: 0.9443 - recall: 0.9807 - val_loss: 0.3784 - val_accuracy: 0.8411 - val_precision: 0.8542 - val_recall: 0.9510\n",
      "Epoch 6/20\n",
      "65/65 [==============================] - 1s 9ms/step - loss: 0.1216 - accuracy: 0.9685 - precision: 0.9698 - recall: 0.9891 - val_loss: 0.3843 - val_accuracy: 0.8469 - val_precision: 0.8618 - val_recall: 0.9485\n",
      "Epoch 7/20\n",
      "65/65 [==============================] - 1s 9ms/step - loss: 0.0764 - accuracy: 0.9893 - precision: 0.9898 - recall: 0.9961 - val_loss: 0.4319 - val_accuracy: 0.8391 - val_precision: 0.8490 - val_recall: 0.9562\n",
      "Epoch 8/20\n",
      "65/65 [==============================] - 1s 9ms/step - loss: 0.0446 - accuracy: 0.9956 - precision: 0.9949 - recall: 0.9994 - val_loss: 0.4437 - val_accuracy: 0.8469 - val_precision: 0.8635 - val_recall: 0.9459\n",
      "Epoch 9/20\n",
      "65/65 [==============================] - 1s 9ms/step - loss: 0.0259 - accuracy: 0.9990 - precision: 0.9994 - recall: 0.9994 - val_loss: 0.4896 - val_accuracy: 0.8450 - val_precision: 0.8565 - val_recall: 0.9536\n",
      "Epoch 10/20\n",
      "65/65 [==============================] - 1s 8ms/step - loss: 0.0163 - accuracy: 0.9995 - precision: 1.0000 - recall: 0.9994 - val_loss: 0.5169 - val_accuracy: 0.8450 - val_precision: 0.8565 - val_recall: 0.9536\n",
      "Epoch 11/20\n",
      "65/65 [==============================] - 1s 9ms/step - loss: 0.0109 - accuracy: 0.9995 - precision: 1.0000 - recall: 0.9994 - val_loss: 0.5582 - val_accuracy: 0.8391 - val_precision: 0.8490 - val_recall: 0.9562\n",
      "Epoch 12/20\n",
      "65/65 [==============================] - 1s 9ms/step - loss: 0.0067 - accuracy: 0.9995 - precision: 1.0000 - recall: 0.9994 - val_loss: 0.5660 - val_accuracy: 0.8411 - val_precision: 0.8575 - val_recall: 0.9459\n",
      "Epoch 13/20\n",
      "65/65 [==============================] - 1s 9ms/step - loss: 0.0042 - accuracy: 1.0000 - precision: 1.0000 - recall: 1.0000 - val_loss: 0.5861 - val_accuracy: 0.8411 - val_precision: 0.8592 - val_recall: 0.9433\n",
      "Epoch 14/20\n",
      "65/65 [==============================] - 1s 9ms/step - loss: 0.0031 - accuracy: 1.0000 - precision: 1.0000 - recall: 1.0000 - val_loss: 0.6188 - val_accuracy: 0.8411 - val_precision: 0.8558 - val_recall: 0.9485\n",
      "Epoch 15/20\n",
      "65/65 [==============================] - 1s 8ms/step - loss: 0.0023 - accuracy: 1.0000 - precision: 1.0000 - recall: 1.0000 - val_loss: 0.6372 - val_accuracy: 0.8411 - val_precision: 0.8558 - val_recall: 0.9485\n",
      "Epoch 16/20\n",
      "65/65 [==============================] - 1s 9ms/step - loss: 0.0018 - accuracy: 1.0000 - precision: 1.0000 - recall: 1.0000 - val_loss: 0.6509 - val_accuracy: 0.8430 - val_precision: 0.8578 - val_recall: 0.9485\n",
      "Epoch 17/20\n",
      "65/65 [==============================] - 1s 9ms/step - loss: 0.0014 - accuracy: 1.0000 - precision: 1.0000 - recall: 1.0000 - val_loss: 0.6595 - val_accuracy: 0.8411 - val_precision: 0.8575 - val_recall: 0.9459\n",
      "Epoch 18/20\n",
      "65/65 [==============================] - 1s 9ms/step - loss: 0.0012 - accuracy: 1.0000 - precision: 1.0000 - recall: 1.0000 - val_loss: 0.6778 - val_accuracy: 0.8430 - val_precision: 0.8578 - val_recall: 0.9485\n",
      "Epoch 19/20\n",
      "65/65 [==============================] - 1s 9ms/step - loss: 9.7621e-04 - accuracy: 1.0000 - precision: 1.0000 - recall: 1.0000 - val_loss: 0.6857 - val_accuracy: 0.8430 - val_precision: 0.8578 - val_recall: 0.9485\n",
      "Epoch 20/20\n",
      "65/65 [==============================] - 1s 9ms/step - loss: 8.2326e-04 - accuracy: 1.0000 - precision: 1.0000 - recall: 1.0000 - val_loss: 0.6962 - val_accuracy: 0.8430 - val_precision: 0.8578 - val_recall: 0.9485\n"
     ]
    }
   ],
   "source": [
    "# Train\n",
    "\n",
    "tf.config.run_functions_eagerly(True)\n",
    "\n",
    "hist = model.fit(\n",
    "    X_train,\n",
    "    y_train,\n",
    "    epochs=20,\n",
    "    validation_split=0.2\n",
    ")"
   ]
  },
  {
   "cell_type": "markdown",
   "metadata": {
    "id": "PDkHQc65Gygk"
   },
   "source": [
    "## Model Performance"
   ]
  },
  {
   "cell_type": "code",
   "execution_count": 20,
   "metadata": {
    "colab": {
     "base_uri": "https://localhost:8080/"
    },
    "executionInfo": {
     "elapsed": 15,
     "status": "ok",
     "timestamp": 1675496239718,
     "user": {
      "displayName": "Gama Putra Adi Susilo",
      "userId": "11761602289089114790"
     },
     "user_tz": -420
    },
    "id": "GQ4qYF_DphP9",
    "outputId": "b0cabc27-a22c-4ffe-dc75-b7e756ef2702"
   },
   "outputs": [
    {
     "name": "stdout",
     "output_type": "stream",
     "text": [
      "21/21 [==============================] - 0s 6ms/step - loss: 0.6956 - accuracy: 0.8483 - precision: 0.8694 - recall: 0.9350\n"
     ]
    },
    {
     "data": {
      "text/plain": [
       "[0.6956185102462769,\n",
       " 0.8482972383499146,\n",
       " 0.8693957328796387,\n",
       " 0.9350104928016663]"
      ]
     },
     "execution_count": 20,
     "metadata": {},
     "output_type": "execute_result"
    }
   ],
   "source": [
    "model.evaluate(X_test, y_test)"
   ]
  },
  {
   "cell_type": "code",
   "execution_count": 21,
   "metadata": {
    "colab": {
     "base_uri": "https://localhost:8080/"
    },
    "executionInfo": {
     "elapsed": 676,
     "status": "ok",
     "timestamp": 1675496240387,
     "user": {
      "displayName": "Gama Putra Adi Susilo",
      "userId": "11761602289089114790"
     },
     "user_tz": -420
    },
    "id": "CdiELwTZeP-s",
    "outputId": "9182947d-865a-4a1e-b22d-ee1f572ea411"
   },
   "outputs": [
    {
     "name": "stdout",
     "output_type": "stream",
     "text": [
      "21/21 [==============================] - 0s 4ms/step\n"
     ]
    }
   ],
   "source": [
    "y_predicted = model.predict(X_test)\n",
    "y_predicted = y_predicted.flatten()"
   ]
  },
  {
   "cell_type": "code",
   "execution_count": 22,
   "metadata": {
    "colab": {
     "base_uri": "https://localhost:8080/"
    },
    "executionInfo": {
     "elapsed": 28,
     "status": "ok",
     "timestamp": 1675496240388,
     "user": {
      "displayName": "Gama Putra Adi Susilo",
      "userId": "11761602289089114790"
     },
     "user_tz": -420
    },
    "id": "fQcKzPnuESaK",
    "outputId": "82fd267e-826a-47b3-c3ee-eb586d166708"
   },
   "outputs": [
    {
     "data": {
      "text/plain": [
       "array([1, 1, 0, 1, 1, 1, 1, 0, 1, 1, 1, 1, 1, 1, 1, 0, 1, 1, 1, 1, 1, 1,\n",
       "       1, 1, 0, 0, 1, 1, 1, 1, 1, 1, 1, 0, 1, 1, 1, 1, 0, 1, 0, 0, 1, 1,\n",
       "       1, 1, 1, 0, 1, 1, 1, 1, 1, 0, 1, 1, 1, 0, 1, 0, 1, 1, 0, 1, 1, 1,\n",
       "       1, 1, 1, 1, 1, 1, 0, 1, 1, 1, 1, 1, 1, 1, 1, 1, 1, 1, 1, 0, 1, 1,\n",
       "       0, 1, 1, 0, 1, 1, 0, 1, 1, 1, 1, 1, 0, 1, 1, 1, 1, 1, 1, 1, 1, 1,\n",
       "       1, 1, 1, 1, 1, 1, 1, 1, 1, 0, 1, 1, 1, 1, 0, 1, 1, 1, 1, 0, 1, 0,\n",
       "       0, 0, 1, 0, 0, 1, 1, 0, 1, 0, 0, 1, 1, 1, 1, 1, 0, 1, 1, 1, 1, 1,\n",
       "       1, 1, 0, 1, 0, 0, 1, 1, 0, 1, 1, 1, 1, 0, 1, 1, 1, 1, 1, 1, 1, 1,\n",
       "       1, 1, 1, 1, 1, 1, 1, 1, 1, 1, 1, 1, 1, 0, 1, 1, 0, 1, 1, 1, 1, 1,\n",
       "       1, 1, 1, 1, 1, 1, 1, 0, 0, 1, 1, 1, 1, 1, 1, 1, 1, 1, 1, 1, 1, 1,\n",
       "       1, 1, 0, 1, 1, 1, 0, 1, 1, 1, 1, 1, 1, 1, 1, 1, 1, 1, 1, 0, 1, 0,\n",
       "       1, 0, 1, 1, 1, 1, 1, 1, 0, 1, 1, 1, 0, 1, 1, 0, 1, 0, 1, 1, 1, 1,\n",
       "       1, 1, 1, 1, 0, 0, 1, 1, 1, 0, 0, 1, 0, 1, 1, 0, 1, 1, 0, 1, 1, 1,\n",
       "       0, 1, 1, 1, 1, 1, 0, 0, 1, 1, 0, 0, 0, 1, 1, 1, 1, 0, 1, 1, 0, 1,\n",
       "       1, 1, 1, 0, 0, 1, 1, 1, 0, 1, 1, 0, 1, 1, 1, 1, 1, 1, 1, 1, 1, 1,\n",
       "       0, 1, 1, 1, 1, 1, 1, 1, 1, 1, 1, 1, 1, 1, 1, 1, 0, 1, 1, 1, 1, 1,\n",
       "       1, 1, 0, 1, 0, 1, 1, 0, 1, 1, 1, 1, 0, 1, 1, 1, 0, 1, 1, 1, 1, 0,\n",
       "       1, 1, 1, 1, 1, 1, 1, 1, 0, 1, 1, 1, 1, 0, 1, 1, 1, 1, 1, 0, 1, 1,\n",
       "       1, 0, 0, 1, 1, 0, 1, 0, 1, 1, 1, 1, 0, 1, 1, 1, 0, 0, 1, 1, 1, 1,\n",
       "       1, 1, 1, 1, 1, 1, 1, 1, 0, 1, 1, 1, 1, 1, 1, 1, 1, 0, 1, 1, 1, 1,\n",
       "       1, 1, 1, 1, 1, 1, 1, 1, 0, 1, 0, 1, 0, 1, 1, 1, 1, 0, 1, 0, 1, 0,\n",
       "       1, 1, 0, 1, 0, 1, 1, 1, 1, 1, 1, 1, 1, 0, 1, 1, 1, 1, 1, 1, 0, 1,\n",
       "       1, 1, 0, 1, 1, 1, 1, 1, 1, 1, 1, 1, 1, 1, 1, 1, 1, 0, 1, 1, 1, 1,\n",
       "       1, 1, 1, 1, 1, 1, 1, 1, 0, 1, 0, 1, 1, 1, 1, 1, 0, 1, 1, 1, 1, 1,\n",
       "       1, 0, 1, 1, 1, 1, 1, 0, 1, 1, 0, 0, 1, 1, 0, 1, 0, 1, 1, 1, 0, 1,\n",
       "       0, 0, 0, 0, 1, 1, 1, 1, 1, 1, 1, 1, 1, 1, 0, 1, 0, 1, 0, 1, 0, 0,\n",
       "       1, 1, 1, 1, 1, 0, 1, 1, 0, 1, 1, 0, 1, 1, 1, 1, 0, 1, 0, 1, 1, 1,\n",
       "       1, 1, 0, 0, 1, 1, 1, 1, 1, 1, 0, 1, 0, 1, 1, 1, 1, 1, 1, 1, 0, 0,\n",
       "       1, 1, 1, 1, 1, 1, 1, 1, 1, 1, 1, 1, 1, 1, 1, 1, 1, 1, 1, 1, 1, 1,\n",
       "       1, 1, 1, 0, 1, 1, 1, 0])"
      ]
     },
     "execution_count": 22,
     "metadata": {},
     "output_type": "execute_result"
    }
   ],
   "source": [
    "import numpy as np\n",
    "\n",
    "y_predicted = np.where(y_predicted > 0.5, 1, 0)\n",
    "y_predicted"
   ]
  },
  {
   "cell_type": "code",
   "execution_count": 23,
   "metadata": {
    "colab": {
     "base_uri": "https://localhost:8080/"
    },
    "executionInfo": {
     "elapsed": 26,
     "status": "ok",
     "timestamp": 1675496240389,
     "user": {
      "displayName": "Gama Putra Adi Susilo",
      "userId": "11761602289089114790"
     },
     "user_tz": -420
    },
    "id": "OzBqgJt3ec6L",
    "outputId": "c5df0106-9519-4ff9-fc10-60de0a8714be"
   },
   "outputs": [
    {
     "data": {
      "text/plain": [
       "array([[102,  67],\n",
       "       [ 31, 446]])"
      ]
     },
     "execution_count": 23,
     "metadata": {},
     "output_type": "execute_result"
    }
   ],
   "source": [
    "from sklearn.metrics import confusion_matrix, classification_report, accuracy_score, precision_score, recall_score, f1_score\n",
    "\n",
    "cm = confusion_matrix(y_test, y_predicted)\n",
    "cm "
   ]
  },
  {
   "cell_type": "code",
   "execution_count": 24,
   "metadata": {
    "colab": {
     "base_uri": "https://localhost:8080/"
    },
    "executionInfo": {
     "elapsed": 23,
     "status": "ok",
     "timestamp": 1675496240390,
     "user": {
      "displayName": "Gama Putra Adi Susilo",
      "userId": "11761602289089114790"
     },
     "user_tz": -420
    },
    "id": "QqPp7Eg_C3jr",
    "outputId": "7a27245a-f32b-481e-c0a1-075b455f90ac"
   },
   "outputs": [
    {
     "data": {
      "text/plain": [
       "0.84829721"
      ]
     },
     "execution_count": 24,
     "metadata": {},
     "output_type": "execute_result"
    }
   ],
   "source": [
    "round(accuracy_score(y_test,y_predicted),8)"
   ]
  },
  {
   "cell_type": "code",
   "execution_count": 25,
   "metadata": {
    "colab": {
     "base_uri": "https://localhost:8080/",
     "height": 296
    },
    "executionInfo": {
     "elapsed": 23,
     "status": "ok",
     "timestamp": 1675496240393,
     "user": {
      "displayName": "Gama Putra Adi Susilo",
      "userId": "11761602289089114790"
     },
     "user_tz": -420
    },
    "id": "bV5j0fd1ehW0",
    "outputId": "30a84393-0a33-4b7f-d76f-27e7cf09688b"
   },
   "outputs": [
    {
     "data": {
      "text/plain": [
       "Text(33.0, 0.5, 'Truth')"
      ]
     },
     "execution_count": 25,
     "metadata": {},
     "output_type": "execute_result"
    },
    {
     "data": {
      "image/png": "[encoded data removed]",
      "text/plain": [
       "<Figure size 432x288 with 2 Axes>"
      ]
     },
     "metadata": {
      "needs_background": "light"
     },
     "output_type": "display_data"
    }
   ],
   "source": [
    "from matplotlib import pyplot as plt\n",
    "import seaborn as sn\n",
    "sn.heatmap(cm, annot=True, fmt='d')\n",
    "plt.xlabel('Predicted')\n",
    "plt.ylabel('Truth')"
   ]
  },
  {
   "cell_type": "code",
   "execution_count": 26,
   "metadata": {
    "colab": {
     "base_uri": "https://localhost:8080/"
    },
    "executionInfo": {
     "elapsed": 20,
     "status": "ok",
     "timestamp": 1675496240395,
     "user": {
      "displayName": "Gama Putra Adi Susilo",
      "userId": "11761602289089114790"
     },
     "user_tz": -420
    },
    "id": "l5P-_Ht7elac",
    "outputId": "9dcf3af3-508d-4ebe-9aa3-6bb857d17a04"
   },
   "outputs": [
    {
     "name": "stdout",
     "output_type": "stream",
     "text": [
      "              precision    recall  f1-score   support\n",
      "\n",
      "           0       0.77      0.60      0.68       169\n",
      "           1       0.87      0.94      0.90       477\n",
      "\n",
      "    accuracy                           0.85       646\n",
      "   macro avg       0.82      0.77      0.79       646\n",
      "weighted avg       0.84      0.85      0.84       646\n",
      "\n"
     ]
    }
   ],
   "source": [
    "print(classification_report(y_test, y_predicted))"
   ]
  },
  {
   "cell_type": "code",
   "execution_count": 27,
   "metadata": {
    "executionInfo": {
     "elapsed": 18,
     "status": "ok",
     "timestamp": 1675496240396,
     "user": {
      "displayName": "Gama Putra Adi Susilo",
      "userId": "11761602289089114790"
     },
     "user_tz": -420
    },
    "id": "gmoDLGCiAc-Z"
   },
   "outputs": [],
   "source": [
    "# #PICKLE\n",
    "\n",
    "# import pickle\n",
    "\n",
    "# with open('model_multiinputs.pkl','wb') as r:\n",
    "#     pickle.dump(model,r)"
   ]
  },
  {
   "cell_type": "code",
   "execution_count": 28,
   "metadata": {
    "executionInfo": {
     "elapsed": 1660,
     "status": "ok",
     "timestamp": 1675496242038,
     "user": {
      "displayName": "Gama Putra Adi Susilo",
      "userId": "11761602289089114790"
     },
     "user_tz": -420
    },
    "id": "Y9kDEapaAx36"
   },
   "outputs": [],
   "source": [
    "import pickle\n",
    "with open('model_multiinputs.pkl','rb') as r:\n",
    "    model = pickle.load(r)"
   ]
  },
  {
   "cell_type": "code",
   "execution_count": 29,
   "metadata": {
    "colab": {
     "base_uri": "https://localhost:8080/"
    },
    "executionInfo": {
     "elapsed": 22,
     "status": "ok",
     "timestamp": 1675496242039,
     "user": {
      "displayName": "Gama Putra Adi Susilo",
      "userId": "11761602289089114790"
     },
     "user_tz": -420
    },
    "id": "xdPhy_y7E_uR",
    "outputId": "b899c54d-8bcf-4f0d-9834-b890b91ba20b"
   },
   "outputs": [
    {
     "name": "stdout",
     "output_type": "stream",
     "text": [
      "21/21 [==============================] - 0s 4ms/step\n"
     ]
    },
    {
     "data": {
      "text/plain": [
       "0.848297"
      ]
     },
     "execution_count": 29,
     "metadata": {},
     "output_type": "execute_result"
    }
   ],
   "source": [
    "prediksi = model.predict(X_test)\n",
    "\n",
    "round(accuracy_score(y_test,y_predicted),6)"
   ]
  },
  {
   "cell_type": "code",
   "execution_count": 30,
   "metadata": {
    "executionInfo": {
     "elapsed": 25,
     "status": "ok",
     "timestamp": 1675496242044,
     "user": {
      "displayName": "Gama Putra Adi Susilo",
      "userId": "11761602289089114790"
     },
     "user_tz": -420
    },
    "id": "ffKJrwNkQIlA"
   },
   "outputs": [],
   "source": [
    "train_loss=hist.history['loss']\n",
    "val_loss=hist.history['val_loss']\n",
    "train_acc=hist.history['accuracy']\n",
    "val_acc=hist.history['val_accuracy']\n"
   ]
  },
  {
   "cell_type": "code",
   "execution_count": 31,
   "metadata": {
    "colab": {
     "base_uri": "https://localhost:8080/",
     "height": 282
    },
    "executionInfo": {
     "elapsed": 27,
     "status": "ok",
     "timestamp": 1675496242046,
     "user": {
      "displayName": "Gama Putra Adi Susilo",
      "userId": "11761602289089114790"
     },
     "user_tz": -420
    },
    "id": "rzcpODx5_slB",
    "outputId": "e209d4b8-58ed-48c7-8955-14926347d036"
   },
   "outputs": [
    {
     "data": {
      "text/plain": [
       "[<matplotlib.lines.Line2D at 0x7f07ecf3ea30>]"
      ]
     },
     "execution_count": 31,
     "metadata": {},
     "output_type": "execute_result"
    },
    {
     "data": {
      "image/png": "[encoded data removed]",
      "text/plain": [
       "<Figure size 432x288 with 1 Axes>"
      ]
     },
     "metadata": {
      "needs_background": "light"
     },
     "output_type": "display_data"
    }
   ],
   "source": [
    "plt.plot(train_acc)"
   ]
  },
  {
   "cell_type": "code",
   "execution_count": 32,
   "metadata": {
    "colab": {
     "base_uri": "https://localhost:8080/",
     "height": 573
    },
    "executionInfo": {
     "elapsed": 988,
     "status": "ok",
     "timestamp": 1675496243013,
     "user": {
      "displayName": "Gama Putra Adi Susilo",
      "userId": "11761602289089114790"
     },
     "user_tz": -420
    },
    "id": "-HY6d467Xf9M",
    "outputId": "167d62ee-46f8-4857-b5fb-ed06911940b0"
   },
   "outputs": [
    {
     "data": {
      "image/png": "[encoded data removed]",
      "text/plain": [
       "<Figure size 432x288 with 1 Axes>"
      ]
     },
     "metadata": {
      "needs_background": "light"
     },
     "output_type": "display_data"
    },
    {
     "data": {
      "image/png": "[encoded data removed]",
      "text/plain": [
       "<Figure size 432x288 with 1 Axes>"
      ]
     },
     "metadata": {
      "needs_background": "light"
     },
     "output_type": "display_data"
    }
   ],
   "source": [
    "plt.plot(train_acc)\n",
    "plt.plot(val_acc)\n",
    "plt.title('Perbandingan accuracy dari hasil training')\n",
    "plt.ylabel('acc')\n",
    "plt.xlabel('epoch')\n",
    "plt.legend(['train', 'test'], loc='upper left')\n",
    "plt.show()\n",
    "\n",
    "plt.plot(train_loss)\n",
    "plt.plot(val_loss)\n",
    "plt.title('Perbandingan loss dari hasil training')\n",
    "plt.ylabel('loss')\n",
    "plt.xlabel('epoch')\n",
    "plt.legend(['train', 'test'], loc='upper left')\n",
    "plt.show()"
   ]
  },
  {
   "cell_type": "code",
   "execution_count": 33,
   "metadata": {
    "colab": {
     "base_uri": "https://localhost:8080/"
    },
    "executionInfo": {
     "elapsed": 8719,
     "status": "ok",
     "timestamp": 1675496251728,
     "user": {
      "displayName": "Gama Putra Adi Susilo",
      "userId": "11761602289089114790"
     },
     "user_tz": -420
    },
    "id": "w2YUXNjF93d6",
    "outputId": "4a0dd9ae-2c5e-44e8-9a47-22fbd75732c9"
   },
   "outputs": [
    {
     "name": "stdout",
     "output_type": "stream",
     "text": [
      "Looking in indexes: https://pypi.org/simple, https://us-python.pkg.dev/colab-wheels/public/simple/\n",
      "Requirement already satisfied: flask-ngrok in /usr/local/lib/python3.8/dist-packages (0.0.25)\n",
      "Requirement already satisfied: Flask>=0.8 in /usr/local/lib/python3.8/dist-packages (from flask-ngrok) (1.1.4)\n",
      "Requirement already satisfied: requests in /usr/local/lib/python3.8/dist-packages (from flask-ngrok) (2.25.1)\n",
      "Requirement already satisfied: itsdangerous<2.0,>=0.24 in /usr/local/lib/python3.8/dist-packages (from Flask>=0.8->flask-ngrok) (1.1.0)\n",
      "Requirement already satisfied: Jinja2<3.0,>=2.10.1 in /usr/local/lib/python3.8/dist-packages (from Flask>=0.8->flask-ngrok) (2.11.3)\n",
      "Requirement already satisfied: click<8.0,>=5.1 in /usr/local/lib/python3.8/dist-packages (from Flask>=0.8->flask-ngrok) (7.1.2)\n",
      "Requirement already satisfied: Werkzeug<2.0,>=0.15 in /usr/local/lib/python3.8/dist-packages (from Flask>=0.8->flask-ngrok) (1.0.1)\n",
      "Requirement already satisfied: urllib3<1.27,>=1.21.1 in /usr/local/lib/python3.8/dist-packages (from requests->flask-ngrok) (1.24.3)\n",
      "Requirement already satisfied: certifi>=2017.4.17 in /usr/local/lib/python3.8/dist-packages (from requests->flask-ngrok) (2022.12.7)\n",
      "Requirement already satisfied: chardet<5,>=3.0.2 in /usr/local/lib/python3.8/dist-packages (from requests->flask-ngrok) (4.0.0)\n",
      "Requirement already satisfied: idna<3,>=2.5 in /usr/local/lib/python3.8/dist-packages (from requests->flask-ngrok) (2.10)\n",
      "Requirement already satisfied: MarkupSafe>=0.23 in /usr/local/lib/python3.8/dist-packages (from Jinja2<3.0,>=2.10.1->Flask>=0.8->flask-ngrok) (2.0.1)\n",
      "Looking in indexes: https://pypi.org/simple, https://us-python.pkg.dev/colab-wheels/public/simple/\n",
      "Collecting pyngrok\n",
      "  Downloading pyngrok-5.2.1.tar.gz (761 kB)\n",
      "\u001b[2K     \u001b[90m━━━━━━━━━━━━━━━━━━━━━━━━━━━━━━━━━━━━━━\u001b[0m \u001b[32m761.3/761.3 KB\u001b[0m \u001b[31m29.8 MB/s\u001b[0m eta \u001b[36m0:00:00\u001b[0m\n",
      "\u001b[?25h  Preparing metadata (setup.py) ... \u001b[?25l\u001b[?25hdone\n",
      "Requirement already satisfied: PyYAML in /usr/local/lib/python3.8/dist-packages (from pyngrok) (6.0)\n",
      "Building wheels for collected packages: pyngrok\n",
      "  Building wheel for pyngrok (setup.py) ... \u001b[?25l\u001b[?25hdone\n",
      "  Created wheel for pyngrok: filename=pyngrok-5.2.1-py3-none-any.whl size=19792 sha256=42a606e73225d61cb1010568c861e1ea439572cd7934db82e9a8f3d4d0868a2f\n",
      "  Stored in directory: /root/.cache/pip/wheels/5d/f2/70/526da675d32f17577ec47ac4c663084efe39d47c826b6c3bb1\n",
      "Successfully built pyngrok\n",
      "Installing collected packages: pyngrok\n",
      "Successfully installed pyngrok-5.2.1\n"
     ]
    }
   ],
   "source": [
    "! pip install flask-ngrok\n",
    "! pip install pyngrok"
   ]
  },
  {
   "cell_type": "code",
   "execution_count": 34,
   "metadata": {
    "executionInfo": {
     "elapsed": 718,
     "status": "ok",
     "timestamp": 1675496252441,
     "user": {
      "displayName": "Gama Putra Adi Susilo",
      "userId": "11761602289089114790"
     },
     "user_tz": -420
    },
    "id": "f83Vh0o4FkR3"
   },
   "outputs": [],
   "source": [
    "from flask_ngrok import run_with_ngrok\n",
    "from flask import Flask, request, render_template\n",
    "import pickle\n",
    "import numpy as np\n",
    "from pyngrok import ngrok"
   ]
  },
  {
   "cell_type": "code",
   "execution_count": 45,
   "metadata": {
    "executionInfo": {
     "elapsed": 560,
     "status": "ok",
     "timestamp": 1675497041903,
     "user": {
      "displayName": "Gama Putra Adi Susilo",
      "userId": "11761602289089114790"
     },
     "user_tz": -420
    },
    "id": "6xo0JTDrZ96_"
   },
   "outputs": [],
   "source": [
    "port_no = 5000"
   ]
  },
  {
   "cell_type": "code",
   "execution_count": 49,
   "metadata": {
    "colab": {
     "base_uri": "https://localhost:8080/"
    },
    "executionInfo": {
     "elapsed": 397875,
     "status": "ok",
     "timestamp": 1675497824374,
     "user": {
      "displayName": "Gama Putra Adi Susilo",
      "userId": "11761602289089114790"
     },
     "user_tz": -420
    },
    "id": "bvyGox2waA2Z",
    "outputId": "a68880ce-a3f1-4da4-ce38-2294f9e00357"
   },
   "outputs": [
    {
     "name": "stderr",
     "output_type": "stream",
     "text": [
      "WARNING:pyngrok.process.ngrok:t=2023-02-04T07:57:07+0000 lvl=warn msg=\"can't bind default web address, trying alternatives\" obj=web addr=127.0.0.1:4040\n"
     ]
    },
    {
     "name": "stdout",
     "output_type": "stream",
     "text": [
      "To acces the Gloable link please click http://d26a-34-147-19-206.ngrok.io\n",
      " * Serving Flask app \"__main__\" (lazy loading)\n",
      " * Environment: production\n",
      "\u001b[31m   WARNING: This is a development server. Do not use it in a production deployment.\u001b[0m\n",
      "\u001b[2m   Use a production WSGI server instead.\u001b[0m\n",
      " * Debug mode: off\n"
     ]
    },
    {
     "name": "stderr",
     "output_type": "stream",
     "text": [
      "INFO:werkzeug: * Running on http://127.0.0.1:5000/ (Press CTRL+C to quit)\n",
      "ERROR:__main__:Exception on / [GET]\n",
      "Traceback (most recent call last):\n",
      "  File \"/usr/local/lib/python3.8/dist-packages/flask/app.py\", line 2447, in wsgi_app\n",
      "    response = self.full_dispatch_request()\n",
      "  File \"/usr/local/lib/python3.8/dist-packages/flask/app.py\", line 1952, in full_dispatch_request\n",
      "    rv = self.handle_user_exception(e)\n",
      "  File \"/usr/local/lib/python3.8/dist-packages/flask/app.py\", line 1821, in handle_user_exception\n",
      "    reraise(exc_type, exc_value, tb)\n",
      "  File \"/usr/local/lib/python3.8/dist-packages/flask/_compat.py\", line 39, in reraise\n",
      "    raise value\n",
      "  File \"/usr/local/lib/python3.8/dist-packages/flask/app.py\", line 1950, in full_dispatch_request\n",
      "    rv = self.dispatch_request()\n",
      "  File \"/usr/local/lib/python3.8/dist-packages/flask/app.py\", line 1936, in dispatch_request\n",
      "    return self.view_functions[rule.endpoint](**req.view_args)\n",
      "  File \"<ipython-input-49-98029ecb3cb0>\", line 7, in home\n",
      "    return render_template('index.html')\n",
      "  File \"/usr/local/lib/python3.8/dist-packages/flask/templating.py\", line 137, in render_template\n",
      "    return _render(\n",
      "  File \"/usr/local/lib/python3.8/dist-packages/flask/templating.py\", line 120, in _render\n",
      "    rv = template.render(context)\n",
      "  File \"/usr/local/lib/python3.8/dist-packages/jinja2/environment.py\", line 1090, in render\n",
      "    self.environment.handle_exception()\n",
      "  File \"/usr/local/lib/python3.8/dist-packages/jinja2/environment.py\", line 832, in handle_exception\n",
      "    reraise(*rewrite_traceback_stack(source=source))\n",
      "  File \"/usr/local/lib/python3.8/dist-packages/jinja2/_compat.py\", line 28, in reraise\n",
      "    raise value.with_traceback(tb)\n",
      "  File \"/content/drive/MyDrive/project_skripsi/Multi inputs/templates/index.html\", line 1, in top-level template code\n",
      "    {% extends \"Layout.html\" %}\n",
      "  File \"/usr/local/lib/python3.8/dist-packages/flask/templating.py\", line 60, in get_source\n",
      "    return self._get_source_fast(environment, template)\n",
      "  File \"/usr/local/lib/python3.8/dist-packages/flask/templating.py\", line 89, in _get_source_fast\n",
      "    raise TemplateNotFound(template)\n",
      "jinja2.exceptions.TemplateNotFound: Layout.html\n",
      "INFO:werkzeug:127.0.0.1 - - [04/Feb/2023 07:57:25] \"\u001b[35m\u001b[1mGET / HTTP/1.1\u001b[0m\" 500 -\n",
      "INFO:werkzeug:127.0.0.1 - - [04/Feb/2023 07:57:26] \"\u001b[33mGET /favicon.ico HTTP/1.1\u001b[0m\" 404 -\n"
     ]
    }
   ],
   "source": [
    "app = Flask(__name__)\n",
    "ngrok.set_auth_token(\"2LGTehaFuSFOMyNniOt15gDF5vv_6HSbS6HddTyeKNvgBnMDh\")\n",
    "public_url =  ngrok.connect(port_no).public_url\n",
    "\n",
    "@app.route(\"/\")\n",
    "def home():\n",
    "    return render_template('index.html')\n",
    "\n",
    "print(f\"To acces the Gloable link please click {public_url}\")\n",
    "\n",
    "app.run(port=port_no)"
   ]
  },
  {
   "cell_type": "code",
   "execution_count": 41,
   "metadata": {
    "colab": {
     "base_uri": "https://localhost:8080/"
    },
    "executionInfo": {
     "elapsed": 43147,
     "status": "ok",
     "timestamp": 1675496581787,
     "user": {
      "displayName": "Gama Putra Adi Susilo",
      "userId": "11761602289089114790"
     },
     "user_tz": -420
    },
    "id": "nPNCKNYLVNrM",
    "outputId": "48545311-b7e4-44f5-851c-75107a24815e"
   },
   "outputs": [
    {
     "name": "stderr",
     "output_type": "stream",
     "text": [
      "WARNING:pyngrok.process.ngrok:t=2023-02-04T07:42:19+0000 lvl=warn msg=\"can't bind default web address, trying alternatives\" obj=web addr=127.0.0.1:4040\n"
     ]
    },
    {
     "name": "stdout",
     "output_type": "stream",
     "text": [
      " * Serving Flask app \"__main__\" (lazy loading)\n",
      " * Environment: production\n",
      "\u001b[31m   WARNING: This is a development server. Do not use it in a production deployment.\u001b[0m\n",
      "\u001b[2m   Use a production WSGI server instead.\u001b[0m\n",
      " * Debug mode: off\n"
     ]
    },
    {
     "name": "stderr",
     "output_type": "stream",
     "text": [
      "INFO:werkzeug: * Running on http://127.0.0.1:5000/ (Press CTRL+C to quit)\n"
     ]
    },
    {
     "name": "stdout",
     "output_type": "stream",
     "text": [
      " * Running on http://c05c-34-147-19-206.ngrok.io\n",
      " * Traffic stats available on http://127.0.0.1:4040\n"
     ]
    },
    {
     "name": "stderr",
     "output_type": "stream",
     "text": [
      "ERROR:__main__:Exception on / [GET]\n",
      "Traceback (most recent call last):\n",
      "  File \"/usr/local/lib/python3.8/dist-packages/flask/app.py\", line 2447, in wsgi_app\n",
      "    response = self.full_dispatch_request()\n",
      "  File \"/usr/local/lib/python3.8/dist-packages/flask/app.py\", line 1952, in full_dispatch_request\n",
      "    rv = self.handle_user_exception(e)\n",
      "  File \"/usr/local/lib/python3.8/dist-packages/flask/app.py\", line 1821, in handle_user_exception\n",
      "    reraise(exc_type, exc_value, tb)\n",
      "  File \"/usr/local/lib/python3.8/dist-packages/flask/_compat.py\", line 39, in reraise\n",
      "    raise value\n",
      "  File \"/usr/local/lib/python3.8/dist-packages/flask/app.py\", line 1950, in full_dispatch_request\n",
      "    rv = self.dispatch_request()\n",
      "  File \"/usr/local/lib/python3.8/dist-packages/flask/app.py\", line 1936, in dispatch_request\n",
      "    return self.view_functions[rule.endpoint](**req.view_args)\n",
      "  File \"<ipython-input-41-b2f9a5f8cb9b>\", line 12, in home\n",
      "    return render_template('index.html')\n",
      "  File \"/usr/local/lib/python3.8/dist-packages/flask/templating.py\", line 138, in render_template\n",
      "    ctx.app.jinja_env.get_or_select_template(template_name_or_list),\n",
      "  File \"/usr/local/lib/python3.8/dist-packages/jinja2/environment.py\", line 930, in get_or_select_template\n",
      "    return self.get_template(template_name_or_list, parent, globals)\n",
      "  File \"/usr/local/lib/python3.8/dist-packages/jinja2/environment.py\", line 883, in get_template\n",
      "    return self._load_template(name, self.make_globals(globals))\n",
      "  File \"/usr/local/lib/python3.8/dist-packages/jinja2/environment.py\", line 857, in _load_template\n",
      "    template = self.loader.load(self, name, globals)\n",
      "  File \"/usr/local/lib/python3.8/dist-packages/jinja2/loaders.py\", line 115, in load\n",
      "    source, filename, uptodate = self.get_source(environment, name)\n",
      "  File \"/usr/local/lib/python3.8/dist-packages/flask/templating.py\", line 60, in get_source\n",
      "    return self._get_source_fast(environment, template)\n",
      "  File \"/usr/local/lib/python3.8/dist-packages/flask/templating.py\", line 89, in _get_source_fast\n",
      "    raise TemplateNotFound(template)\n",
      "jinja2.exceptions.TemplateNotFound: index.html\n",
      "INFO:werkzeug:127.0.0.1 - - [04/Feb/2023 07:42:26] \"\u001b[35m\u001b[1mGET / HTTP/1.1\u001b[0m\" 500 -\n",
      "INFO:werkzeug:127.0.0.1 - - [04/Feb/2023 07:42:27] \"\u001b[33mGET /favicon.ico HTTP/1.1\u001b[0m\" 404 -\n"
     ]
    }
   ],
   "source": [
    "# buat flask app\n",
    "ngrok.set_auth_token(\"2LGTehaFuSFOMyNniOt15gDF5vv_6HSbS6HddTyeKNvgBnMDh\")\n",
    "public_url =  ngrok.connect(port_no).public_url\n",
    "app = Flask(__name__)\n",
    "# run flask app\n",
    "run_with_ngrok(app)\n",
    "\n",
    "model_ = pickle.load(open('model_multiinputs.pkl','rb'))\n",
    "\n",
    "@app.route('/')\n",
    "def home():\n",
    "  return render_template('index.html')\n",
    "@app.route('/getprediction', methods=['POST'])\n",
    "def getprediction():\n",
    "  input = [float(x) for x in request.form.values()]\n",
    "  final_input = [np.array(input)]\n",
    "  prediction = model_.predict(final_input)\n",
    "\n",
    "  return render_template('index.html', output='Testing app:{}'.format(prediction))\n",
    "\n",
    "app.run()"
   ]
  },
  {
   "cell_type": "code",
   "execution_count": 36,
   "metadata": {
    "executionInfo": {
     "elapsed": 18,
     "status": "ok",
     "timestamp": 1675496408329,
     "user": {
      "displayName": "Gama Putra Adi Susilo",
      "userId": "11761602289089114790"
     },
     "user_tz": -420
    },
    "id": "-IGq26enUmnn"
   },
   "outputs": [],
   "source": [
    "# # Importing libraries\n",
    "# import tensorflow as tf\n",
    "# from tensorflow.keras.preprocessing.text import Tokenizer\n",
    "# from tensorflow.keras.preprocessing.sequence import pad_sequences\n",
    "# from flask import Flask, render_template, request\n",
    "\n",
    "# app = Flask(__name__)\n",
    "\n",
    "# @app.route(\"/\")\n",
    "# def home():\n",
    "#     return render_template(\"index.html\")\n",
    "\n",
    "\n",
    "# @app.route(\"/predict\" , methods=[\"POST\"])\n",
    "# def predict():\n",
    "#     # Loading the model\n",
    "#     model = tf.keras.models.load_model('my_model_pooja.h5')\n",
    "\n",
    "#     # Taking the input text i.e. news using Post method\n",
    "#     if request.method == 'POST':\n",
    "#         text = request.form.get('text')\n",
    "\n",
    "#         # Predicting the news\n",
    "#         data = [text]\n",
    "#         # Tokenizing the data\n",
    "#         tokenizer = Tokenizer()\n",
    "#         tokenizer.fit_on_texts(data)\n",
    "#         # word_index = tokenizer.word_index\n",
    "#         sequences = tokenizer.texts_to_sequences(data)\n",
    "#         # Padding the Tokenize data\n",
    "#         padded_data = pad_sequences(sequences, maxlen=1000)\n",
    "#         # Predicting the news is fake or real\n",
    "#         predicted_val = model.predict(padded_data)\n",
    "\n",
    "#         if(predicted_val >= 0.5):\n",
    "#             prediction = \"News is Fake don't Trust it !\"\n",
    "#         else:\n",
    "#             prediction = \"News is Real !\"\n",
    "#         # rendering results page with prediction and given news by user\n",
    "#     return render_template('results.html', prediction = prediction,news = text)\n",
    "\n",
    "#     # if request to result page is not using post then back to home page\n",
    "#     return render_template(\"index.html\")\n",
    "\n",
    "\n",
    "# @app.route(\"/about\")\n",
    "# def about():\n",
    "#     return render_template('about.html')\n",
    "\n",
    "\n",
    "# if __name__ == '__main__':\n",
    "#     app.run(debug=True)"
   ]
  },
  {
   "cell_type": "code",
   "execution_count": 37,
   "metadata": {
    "executionInfo": {
     "elapsed": 14,
     "status": "ok",
     "timestamp": 1675496408329,
     "user": {
      "displayName": "Gama Putra Adi Susilo",
      "userId": "11761602289089114790"
     },
     "user_tz": -420
    },
    "id": "2SBgnpEsGYOo"
   },
   "outputs": [],
   "source": [
    "# # buat flask app\n",
    "\n",
    "# app = Flask(__name__)\n",
    "# # run flask app\n",
    "# run_with_ngrok(app)\n",
    "\n",
    "# model_ = pickle.load(open('model_multiinputs.pkl','rb'))\n",
    "\n",
    "# @app.route('/')\n",
    "# def home():\n",
    "#   return render_template('index.html')\n",
    "# @app.route('/getprediction', methods=['POST'])\n",
    "# def getprediction():\n",
    "#   input = [float(x) for x in request.form.values()]\n",
    "#   final_input = [np.array(input)]\n",
    "#   prediction = model.predict(final_input)\n",
    "\n",
    "#   return render_template('index.html', output='Testing app:{}'.format(prediction))\n",
    "\n",
    "# app.run()"
   ]
  }
 ],
 "metadata": {
  "accelerator": "GPU",
  "colab": {
   "provenance": [
    {
     "file_id": "1fz7RIAb38kwm4ZWqwSpnRWHsUoU3gkAB",
     "timestamp": 1675394958319
    }
   ]
  },
  "gpuClass": "standard",
  "kernelspec": {
   "display_name": "Python 3 (ipykernel)",
   "language": "python",
   "name": "python3"
  },
  "language_info": {
   "codemirror_mode": {
    "name": "ipython",
    "version": 3
   },
   "file_extension": ".py",
   "mimetype": "text/x-python",
   "name": "python",
   "nbconvert_exporter": "python",
   "pygments_lexer": "ipython3",
   "version": "3.11.1"
  }
 },
 "nbformat": 4,
 "nbformat_minor": 1
}
