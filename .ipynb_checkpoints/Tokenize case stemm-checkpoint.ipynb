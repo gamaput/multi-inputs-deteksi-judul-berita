{
 "cells": [
  {
   "cell_type": "code",
   "execution_count": null,
   "metadata": {
    "colab": {
     "base_uri": "https://localhost:8080/"
    },
    "executionInfo": {
     "elapsed": 4252,
     "status": "ok",
     "timestamp": 1675305407384,
     "user": {
      "displayName": "Gama Putra Adi Susilo",
      "userId": "11761602289089114790"
     },
     "user_tz": -420
    },
    "id": "Nge5lc1qLoGN",
    "outputId": "62fb5b23-60e1-4972-dd90-95f385655855"
   },
   "outputs": [
    {
     "name": "stdout",
     "output_type": "stream",
     "text": [
      "Looking in indexes: https://pypi.org/simple, https://us-python.pkg.dev/colab-wheels/public/simple/\n",
      "Collecting Sastrawi\n",
      "  Downloading Sastrawi-1.0.1-py2.py3-none-any.whl (209 kB)\n",
      "\u001b[2K     \u001b[90m━━━━━━━━━━━━━━━━━━━━━━━━━━━━━━━━━━━━━━━\u001b[0m \u001b[32m209.7/209.7 KB\u001b[0m \u001b[31m5.5 MB/s\u001b[0m eta \u001b[36m0:00:00\u001b[0m\n",
      "\u001b[?25hInstalling collected packages: Sastrawi\n",
      "Successfully installed Sastrawi-1.0.1\n"
     ]
    }
   ],
   "source": [
    "! pip install Sastrawi"
   ]
  },
  {
   "cell_type": "code",
   "execution_count": null,
   "metadata": {
    "id": "rLJnpIL_KBAb"
   },
   "outputs": [],
   "source": [
    "import pandas as pd\n",
    "import numpy as np\n",
    "import os\n",
    "import re\n",
    "import ast\n",
    "import seaborn as sns\n",
    "import matplotlib.pyplot as plt\n",
    "import string\n",
    "from collections import Counter\n",
    "from wordcloud import WordCloud\n",
    "\n",
    "import nltk\n",
    "\n",
    "from nltk import punkt\n",
    "from nltk import word_tokenize, FreqDist\n",
    "from nltk.corpus import stopwords\n",
    "from nltk.stem import WordNetLemmatizer\n",
    "from Sastrawi.Stemmer.StemmerFactory import StemmerFactory\n",
    "from Sastrawi.StopWordRemover.StopWordRemoverFactory import StopWordRemoverFactory\n",
    "\n",
    "from sklearn.model_selection import train_test_split\n",
    "from gensim.models import Word2Vec\n",
    "from gensim.models import KeyedVectors\n",
    "from tensorflow.keras.preprocessing.text import Tokenizer\n",
    "from tensorflow.keras.preprocessing.text import one_hot\n",
    "\n",
    "from tensorflow.keras.initializers import Constant\n",
    "from tensorflow.keras.optimizers import Adam\n",
    "from tensorflow.keras.optimizers import *\n",
    "from tensorflow.keras.preprocessing.sequence import pad_sequences\n",
    "from tensorflow.keras.utils import to_categorical\n",
    "import tensorflow as tf\n",
    "from tensorflow.keras.models import Sequential\n",
    "from tensorflow.keras.layers import Dense, Flatten, Embedding, Input, LSTM, Conv1D, MaxPooling1D, Bidirectional, Dropout, AveragePooling1D\n",
    "from tensorflow.keras.models import Model\n",
    "from tensorflow.keras.layers import GlobalAveragePooling1D\n",
    "from tensorflow.keras.callbacks import EarlyStopping\n",
    "from tensorflow.keras.callbacks import ModelCheckpoint\n",
    "from sklearn.preprocessing import LabelEncoder\n",
    "from sklearn.metrics import accuracy_score, precision_score, recall_score, f1_score, confusion_matrix, classification_report, precision_recall_curve, average_precision_score\n",
    "from sklearn.model_selection import KFold\n",
    "\n",
    "from sklearn import model_selection, preprocessing, linear_model, naive_bayes, metrics\n",
    "from sklearn.feature_extraction.text import TfidfVectorizer, CountVectorizer,HashingVectorizer\n",
    "\n",
    "import pickle\n",
    "\n",
    "import warnings\n",
    "warnings.filterwarnings('ignore')"
   ]
  },
  {
   "cell_type": "code",
   "execution_count": null,
   "metadata": {
    "colab": {
     "base_uri": "https://localhost:8080/"
    },
    "executionInfo": {
     "elapsed": 17808,
     "status": "ok",
     "timestamp": 1675305442363,
     "user": {
      "displayName": "Gama Putra Adi Susilo",
      "userId": "11761602289089114790"
     },
     "user_tz": -420
    },
    "id": "kwLCj4ktK5R4",
    "outputId": "50b3e863-81bd-478c-e62a-09b2e7fc5d2d"
   },
   "outputs": [
    {
     "name": "stdout",
     "output_type": "stream",
     "text": [
      "Mounted at /content/drive\n"
     ]
    }
   ],
   "source": [
    "# Mount Google Drive - applicable, if working on Google Drive\n",
    "from google.colab import drive\n",
    "drive.mount('/content/drive')"
   ]
  },
  {
   "cell_type": "code",
   "execution_count": null,
   "metadata": {
    "colab": {
     "base_uri": "https://localhost:8080/"
    },
    "executionInfo": {
     "elapsed": 361,
     "status": "ok",
     "timestamp": 1675305445354,
     "user": {
      "displayName": "Gama Putra Adi Susilo",
      "userId": "11761602289089114790"
     },
     "user_tz": -420
    },
    "id": "Qe2xl7t9L4mV",
    "outputId": "1cc19bfb-ecdd-4df0-a095-fc8ade017f22"
   },
   "outputs": [
    {
     "name": "stdout",
     "output_type": "stream",
     "text": [
      "/content/drive/MyDrive/project_skripsi/DATA\n"
     ]
    }
   ],
   "source": [
    "# Set Working Directory - if working on Google Drive\n",
    "%cd /content/drive/MyDrive/project_skripsi/DATA"
   ]
  },
  {
   "cell_type": "code",
   "execution_count": null,
   "metadata": {
    "colab": {
     "base_uri": "https://localhost:8080/",
     "height": 641
    },
    "executionInfo": {
     "elapsed": 13,
     "status": "ok",
     "timestamp": 1675225167684,
     "user": {
      "displayName": "Gama Putra Adi Susilo",
      "userId": "11761602289089114790"
     },
     "user_tz": -420
    },
    "id": "77gLKaMEMAoF",
    "outputId": "da1ab486-e761-4382-b27d-8e3dac52aae9"
   },
   "outputs": [
    {
     "data": {
      "text/html": [
       "\n",
       "  <div id=\"df-c57aa780-3fc9-4ac4-8a1a-f2a14848506c\">\n",
       "    <div class=\"colab-df-container\">\n",
       "      <div>\n",
       "<style scoped>\n",
       "    .dataframe tbody tr th:only-of-type {\n",
       "        vertical-align: middle;\n",
       "    }\n",
       "\n",
       "    .dataframe tbody tr th {\n",
       "        vertical-align: top;\n",
       "    }\n",
       "\n",
       "    .dataframe thead th {\n",
       "        text-align: right;\n",
       "    }\n",
       "</style>\n",
       "<table border=\"1\" class=\"dataframe\">\n",
       "  <thead>\n",
       "    <tr style=\"text-align: right;\">\n",
       "      <th></th>\n",
       "      <th>content</th>\n",
       "      <th>date</th>\n",
       "      <th>title</th>\n",
       "      <th>label</th>\n",
       "    </tr>\n",
       "  </thead>\n",
       "  <tbody>\n",
       "    <tr>\n",
       "      <th>0</th>\n",
       "      <td>Berita SurabayaSURYA.co.id | SURABAYA - Pengem...</td>\n",
       "      <td>Jumat, 10 Juni 2022 01:08</td>\n",
       "      <td>PT Intiland Development Kembangkan Kawasan Ind...</td>\n",
       "      <td>noclickbait</td>\n",
       "    </tr>\n",
       "    <tr>\n",
       "      <th>1</th>\n",
       "      <td>Berita SurabayaSURYA.co.id | SURABAYA - Brand ...</td>\n",
       "      <td>Jumat, 10 Juni 2022 01:16</td>\n",
       "      <td>ANKER Menangkan Penghargaan Nobel Prize di Aja...</td>\n",
       "      <td>noclickbait</td>\n",
       "    </tr>\n",
       "    <tr>\n",
       "      <th>2</th>\n",
       "      <td>Berita SurabayaSURYA.co.id | SURABAYA - PT Har...</td>\n",
       "      <td>Jumat, 10 Juni 2022 01:27</td>\n",
       "      <td>Perluas Bisnis, Hartadinata Abadi Store Buka G...</td>\n",
       "      <td>noclickbait</td>\n",
       "    </tr>\n",
       "    <tr>\n",
       "      <th>3</th>\n",
       "      <td>Berita SurabayaSURYA.co.id | SURABAYA – Peneri...</td>\n",
       "      <td>Jumat, 10 Juni 2022 01:34</td>\n",
       "      <td>PPDB SMP Dibuka Hari Ini, Dindik Surabaya Mint...</td>\n",
       "      <td>clickbait</td>\n",
       "    </tr>\n",
       "    <tr>\n",
       "      <th>4</th>\n",
       "      <td>SURYA.co.id I Masih ingat Ronaldo Nazario, san...</td>\n",
       "      <td>Jumat, 10 Juni 2022 01:51</td>\n",
       "      <td>Liga Spanyol, Ronaldo Legenda Real Madrid, Jad...</td>\n",
       "      <td>clickbait</td>\n",
       "    </tr>\n",
       "    <tr>\n",
       "      <th>...</th>\n",
       "      <td>...</td>\n",
       "      <td>...</td>\n",
       "      <td>...</td>\n",
       "      <td>...</td>\n",
       "    </tr>\n",
       "    <tr>\n",
       "      <th>3221</th>\n",
       "      <td>Berita SurabayaSURYA.co.id | SURABAYA - Mahasi...</td>\n",
       "      <td>Senin, 20 Juni 2022 23:15</td>\n",
       "      <td>Mahasiswa Magister Manajemen Unair Gelar Works...</td>\n",
       "      <td>noclickbait</td>\n",
       "    </tr>\n",
       "    <tr>\n",
       "      <th>3222</th>\n",
       "      <td>Berita SurabayaSURYA.co.id | SURABAYA - Pengem...</td>\n",
       "      <td>Senin, 20 Juni 2022 23:25</td>\n",
       "      <td>Permintaan Rumah Tapak Besar Meningkat, CitraL...</td>\n",
       "      <td>noclickbait</td>\n",
       "    </tr>\n",
       "    <tr>\n",
       "      <th>3223</th>\n",
       "      <td>SURYA.co.id I Kerja shift malam, sudah tentu m...</td>\n",
       "      <td>Senin, 20 Juni 2022 23:38</td>\n",
       "      <td>Tips Sehat: 10 Tips Makan Sehat untuk Pekerja ...</td>\n",
       "      <td>noclickbait</td>\n",
       "    </tr>\n",
       "    <tr>\n",
       "      <th>3224</th>\n",
       "      <td>Berita MadiunSURYA.vo.id, MADIUN - Piala Dunia...</td>\n",
       "      <td>Senin, 20 Juni 2022 23:41</td>\n",
       "      <td>Bola Al Rihla untuk Piala Dunia 2022 Qatar Dip...</td>\n",
       "      <td>noclickbait</td>\n",
       "    </tr>\n",
       "    <tr>\n",
       "      <th>3225</th>\n",
       "      <td>Berita MadiunSURYA.co.id, MADIUN - Bola Al Rih...</td>\n",
       "      <td>Senin, 20 Juni 2022 23:54</td>\n",
       "      <td>PT Global Way Indonesia di Madiun Produksi 1 J...</td>\n",
       "      <td>noclickbait</td>\n",
       "    </tr>\n",
       "  </tbody>\n",
       "</table>\n",
       "<p>3226 rows × 4 columns</p>\n",
       "</div>\n",
       "      <button class=\"colab-df-convert\" onclick=\"convertToInteractive('df-c57aa780-3fc9-4ac4-8a1a-f2a14848506c')\"\n",
       "              title=\"Convert this dataframe to an interactive table.\"\n",
       "              style=\"display:none;\">\n",
       "        \n",
       "  <svg xmlns=\"http://www.w3.org/2000/svg\" height=\"24px\"viewBox=\"0 0 24 24\"\n",
       "       width=\"24px\">\n",
       "    <path d=\"M0 0h24v24H0V0z\" fill=\"none\"/>\n",
       "    <path d=\"M18.56 5.44l.94 2.06.94-2.06 2.06-.94-2.06-.94-.94-2.06-.94 2.06-2.06.94zm-11 1L8.5 8.5l.94-2.06 2.06-.94-2.06-.94L8.5 2.5l-.94 2.06-2.06.94zm10 10l.94 2.06.94-2.06 2.06-.94-2.06-.94-.94-2.06-.94 2.06-2.06.94z\"/><path d=\"M17.41 7.96l-1.37-1.37c-.4-.4-.92-.59-1.43-.59-.52 0-1.04.2-1.43.59L10.3 9.45l-7.72 7.72c-.78.78-.78 2.05 0 2.83L4 21.41c.39.39.9.59 1.41.59.51 0 1.02-.2 1.41-.59l7.78-7.78 2.81-2.81c.8-.78.8-2.07 0-2.86zM5.41 20L4 18.59l7.72-7.72 1.47 1.35L5.41 20z\"/>\n",
       "  </svg>\n",
       "      </button>\n",
       "      \n",
       "  <style>\n",
       "    .colab-df-container {\n",
       "      display:flex;\n",
       "      flex-wrap:wrap;\n",
       "      gap: 12px;\n",
       "    }\n",
       "\n",
       "    .colab-df-convert {\n",
       "      background-color: #E8F0FE;\n",
       "      border: none;\n",
       "      border-radius: 50%;\n",
       "      cursor: pointer;\n",
       "      display: none;\n",
       "      fill: #1967D2;\n",
       "      height: 32px;\n",
       "      padding: 0 0 0 0;\n",
       "      width: 32px;\n",
       "    }\n",
       "\n",
       "    .colab-df-convert:hover {\n",
       "      background-color: #E2EBFA;\n",
       "      box-shadow: 0px 1px 2px rgba(60, 64, 67, 0.3), 0px 1px 3px 1px rgba(60, 64, 67, 0.15);\n",
       "      fill: #174EA6;\n",
       "    }\n",
       "\n",
       "    [theme=dark] .colab-df-convert {\n",
       "      background-color: #3B4455;\n",
       "      fill: #D2E3FC;\n",
       "    }\n",
       "\n",
       "    [theme=dark] .colab-df-convert:hover {\n",
       "      background-color: #434B5C;\n",
       "      box-shadow: 0px 1px 3px 1px rgba(0, 0, 0, 0.15);\n",
       "      filter: drop-shadow(0px 1px 2px rgba(0, 0, 0, 0.3));\n",
       "      fill: #FFFFFF;\n",
       "    }\n",
       "  </style>\n",
       "\n",
       "      <script>\n",
       "        const buttonEl =\n",
       "          document.querySelector('#df-c57aa780-3fc9-4ac4-8a1a-f2a14848506c button.colab-df-convert');\n",
       "        buttonEl.style.display =\n",
       "          google.colab.kernel.accessAllowed ? 'block' : 'none';\n",
       "\n",
       "        async function convertToInteractive(key) {\n",
       "          const element = document.querySelector('#df-c57aa780-3fc9-4ac4-8a1a-f2a14848506c');\n",
       "          const dataTable =\n",
       "            await google.colab.kernel.invokeFunction('convertToInteractive',\n",
       "                                                     [key], {});\n",
       "          if (!dataTable) return;\n",
       "\n",
       "          const docLinkHtml = 'Like what you see? Visit the ' +\n",
       "            '<a target=\"_blank\" href=https://colab.research.google.com/notebooks/data_table.ipynb>data table notebook</a>'\n",
       "            + ' to learn more about interactive tables.';\n",
       "          element.innerHTML = '';\n",
       "          dataTable['output_type'] = 'display_data';\n",
       "          await google.colab.output.renderOutput(dataTable, element);\n",
       "          const docLink = document.createElement('div');\n",
       "          docLink.innerHTML = docLinkHtml;\n",
       "          element.appendChild(docLink);\n",
       "        }\n",
       "      </script>\n",
       "    </div>\n",
       "  </div>\n",
       "  "
      ],
      "text/plain": [
       "                                                content  \\\n",
       "0     Berita SurabayaSURYA.co.id | SURABAYA - Pengem...   \n",
       "1     Berita SurabayaSURYA.co.id | SURABAYA - Brand ...   \n",
       "2     Berita SurabayaSURYA.co.id | SURABAYA - PT Har...   \n",
       "3     Berita SurabayaSURYA.co.id | SURABAYA – Peneri...   \n",
       "4     SURYA.co.id I Masih ingat Ronaldo Nazario, san...   \n",
       "...                                                 ...   \n",
       "3221  Berita SurabayaSURYA.co.id | SURABAYA - Mahasi...   \n",
       "3222  Berita SurabayaSURYA.co.id | SURABAYA - Pengem...   \n",
       "3223  SURYA.co.id I Kerja shift malam, sudah tentu m...   \n",
       "3224  Berita MadiunSURYA.vo.id, MADIUN - Piala Dunia...   \n",
       "3225  Berita MadiunSURYA.co.id, MADIUN - Bola Al Rih...   \n",
       "\n",
       "                           date  \\\n",
       "0     Jumat, 10 Juni 2022 01:08   \n",
       "1     Jumat, 10 Juni 2022 01:16   \n",
       "2     Jumat, 10 Juni 2022 01:27   \n",
       "3     Jumat, 10 Juni 2022 01:34   \n",
       "4     Jumat, 10 Juni 2022 01:51   \n",
       "...                         ...   \n",
       "3221  Senin, 20 Juni 2022 23:15   \n",
       "3222  Senin, 20 Juni 2022 23:25   \n",
       "3223  Senin, 20 Juni 2022 23:38   \n",
       "3224  Senin, 20 Juni 2022 23:41   \n",
       "3225  Senin, 20 Juni 2022 23:54   \n",
       "\n",
       "                                                  title        label  \n",
       "0     PT Intiland Development Kembangkan Kawasan Ind...  noclickbait  \n",
       "1     ANKER Menangkan Penghargaan Nobel Prize di Aja...  noclickbait  \n",
       "2     Perluas Bisnis, Hartadinata Abadi Store Buka G...  noclickbait  \n",
       "3     PPDB SMP Dibuka Hari Ini, Dindik Surabaya Mint...    clickbait  \n",
       "4     Liga Spanyol, Ronaldo Legenda Real Madrid, Jad...    clickbait  \n",
       "...                                                 ...          ...  \n",
       "3221  Mahasiswa Magister Manajemen Unair Gelar Works...  noclickbait  \n",
       "3222  Permintaan Rumah Tapak Besar Meningkat, CitraL...  noclickbait  \n",
       "3223  Tips Sehat: 10 Tips Makan Sehat untuk Pekerja ...  noclickbait  \n",
       "3224  Bola Al Rihla untuk Piala Dunia 2022 Qatar Dip...  noclickbait  \n",
       "3225  PT Global Way Indonesia di Madiun Produksi 1 J...  noclickbait  \n",
       "\n",
       "[3226 rows x 4 columns]"
      ]
     },
     "execution_count": 11,
     "metadata": {},
     "output_type": "execute_result"
    }
   ],
   "source": [
    "#membaca data\n",
    "# df = pd.read_excel('/content/drive/MyDrive/project_skripsi/DATA/dataset_tribun_content.xlsx')\n",
    "# df.to_csv ('/content/drive/MyDrive/project_skripsi//DATA/dataset.csv', index = None, header=True)\n",
    "# df"
   ]
  },
  {
   "cell_type": "code",
   "execution_count": 1,
   "metadata": {
    "colab": {
     "base_uri": "https://localhost:8080/",
     "height": 200
    },
    "executionInfo": {
     "elapsed": 7,
     "status": "error",
     "timestamp": 1675389310379,
     "user": {
      "displayName": "Gama Putra Adi Susilo",
      "userId": "11761602289089114790"
     },
     "user_tz": -420
    },
    "id": "NKnLjtXDMf0r",
    "outputId": "7f998ca8-800c-4cc4-f04c-c2f2e53329e2"
   },
   "outputs": [
    {
     "ename": "NameError",
     "evalue": "ignored",
     "output_type": "error",
     "traceback": [
      "\u001b[0;31m---------------------------------------------------------------------------\u001b[0m",
      "\u001b[0;31mNameError\u001b[0m                                 Traceback (most recent call last)",
      "\u001b[0;32m<ipython-input-1-fa8b94ab7184>\u001b[0m in \u001b[0;36m<module>\u001b[0;34m\u001b[0m\n\u001b[0;32m----> 1\u001b[0;31m \u001b[0mdata\u001b[0m \u001b[0;34m=\u001b[0m \u001b[0mpd\u001b[0m\u001b[0;34m.\u001b[0m\u001b[0mread_csv\u001b[0m\u001b[0;34m(\u001b[0m\u001b[0;34m'/content/drive/MyDrive/project_skripsi/DATA/dataset.csv'\u001b[0m\u001b[0;34m)\u001b[0m\u001b[0;34m\u001b[0m\u001b[0;34m\u001b[0m\u001b[0m\n\u001b[0m\u001b[1;32m      2\u001b[0m \u001b[0mprint\u001b[0m\u001b[0;34m(\u001b[0m\u001b[0mdata\u001b[0m\u001b[0;34m.\u001b[0m\u001b[0mshape\u001b[0m\u001b[0;34m)\u001b[0m\u001b[0;34m\u001b[0m\u001b[0;34m\u001b[0m\u001b[0m\n\u001b[1;32m      3\u001b[0m \u001b[0mdata\u001b[0m\u001b[0;34m.\u001b[0m\u001b[0mhead\u001b[0m\u001b[0;34m\u001b[0m\u001b[0;34m\u001b[0m\u001b[0m\n",
      "\u001b[0;31mNameError\u001b[0m: name 'pd' is not defined"
     ]
    }
   ],
   "source": [
    "data = pd.read_csv('/content/drive/MyDrive/project_skripsi/DATA/dataset.csv')\n",
    "print(data.shape)\n",
    "data.head"
   ]
  },
  {
   "cell_type": "code",
   "execution_count": null,
   "metadata": {
    "colab": {
     "base_uri": "https://localhost:8080/",
     "height": 363
    },
    "executionInfo": {
     "elapsed": 12,
     "status": "ok",
     "timestamp": 1675305456197,
     "user": {
      "displayName": "Gama Putra Adi Susilo",
      "userId": "11761602289089114790"
     },
     "user_tz": -420
    },
    "id": "IW4uydryNGb2",
    "outputId": "373d67bc-8148-4023-826a-a73b85865b80"
   },
   "outputs": [
    {
     "data": {
      "text/html": [
       "\n",
       "  <div id=\"df-987151f9-280a-4128-ac82-333a14100df1\">\n",
       "    <div class=\"colab-df-container\">\n",
       "      <div>\n",
       "<style scoped>\n",
       "    .dataframe tbody tr th:only-of-type {\n",
       "        vertical-align: middle;\n",
       "    }\n",
       "\n",
       "    .dataframe tbody tr th {\n",
       "        vertical-align: top;\n",
       "    }\n",
       "\n",
       "    .dataframe thead th {\n",
       "        text-align: right;\n",
       "    }\n",
       "</style>\n",
       "<table border=\"1\" class=\"dataframe\">\n",
       "  <thead>\n",
       "    <tr style=\"text-align: right;\">\n",
       "      <th></th>\n",
       "      <th>content</th>\n",
       "      <th>date</th>\n",
       "      <th>title</th>\n",
       "      <th>label</th>\n",
       "    </tr>\n",
       "  </thead>\n",
       "  <tbody>\n",
       "    <tr>\n",
       "      <th>0</th>\n",
       "      <td>Berita SurabayaSURYA.co.id | SURABAYA - Pengem...</td>\n",
       "      <td>Jumat, 10 Juni 2022 01:08</td>\n",
       "      <td>PT Intiland Development Kembangkan Kawasan Ind...</td>\n",
       "      <td>noclickbait</td>\n",
       "    </tr>\n",
       "    <tr>\n",
       "      <th>1</th>\n",
       "      <td>Berita SurabayaSURYA.co.id | SURABAYA - Brand ...</td>\n",
       "      <td>Jumat, 10 Juni 2022 01:16</td>\n",
       "      <td>ANKER Menangkan Penghargaan Nobel Prize di Aja...</td>\n",
       "      <td>noclickbait</td>\n",
       "    </tr>\n",
       "    <tr>\n",
       "      <th>2</th>\n",
       "      <td>Berita SurabayaSURYA.co.id | SURABAYA - PT Har...</td>\n",
       "      <td>Jumat, 10 Juni 2022 01:27</td>\n",
       "      <td>Perluas Bisnis, Hartadinata Abadi Store Buka G...</td>\n",
       "      <td>noclickbait</td>\n",
       "    </tr>\n",
       "    <tr>\n",
       "      <th>3</th>\n",
       "      <td>Berita SurabayaSURYA.co.id | SURABAYA – Peneri...</td>\n",
       "      <td>Jumat, 10 Juni 2022 01:34</td>\n",
       "      <td>PPDB SMP Dibuka Hari Ini, Dindik Surabaya Mint...</td>\n",
       "      <td>clickbait</td>\n",
       "    </tr>\n",
       "    <tr>\n",
       "      <th>4</th>\n",
       "      <td>SURYA.co.id I Masih ingat Ronaldo Nazario, san...</td>\n",
       "      <td>Jumat, 10 Juni 2022 01:51</td>\n",
       "      <td>Liga Spanyol, Ronaldo Legenda Real Madrid, Jad...</td>\n",
       "      <td>clickbait</td>\n",
       "    </tr>\n",
       "    <tr>\n",
       "      <th>5</th>\n",
       "      <td>SURYA.co.id - Berikut Berita Persebaya Populer...</td>\n",
       "      <td>Jumat, 10 Juni 2022 05:04</td>\n",
       "      <td>Berita Persebaya Populer Hari ini: 2 Pemain Ba...</td>\n",
       "      <td>clickbait</td>\n",
       "    </tr>\n",
       "    <tr>\n",
       "      <th>6</th>\n",
       "      <td>SURYA.co.id - Inilah kehebatan kapal perang KR...</td>\n",
       "      <td>Jumat, 10 Juni 2022 05:08</td>\n",
       "      <td>TNI AL Kerahkan KRI Frans Kaisiepo untuk Hancu...</td>\n",
       "      <td>clickbait</td>\n",
       "    </tr>\n",
       "    <tr>\n",
       "      <th>7</th>\n",
       "      <td>SURYA.co.id - Berikut sejumlah fakta tentang B...</td>\n",
       "      <td>Jumat, 10 Juni 2022 05:58</td>\n",
       "      <td>5 FAKTA Bendungan Engehalde Lokasi Jasad Eril ...</td>\n",
       "      <td>clickbait</td>\n",
       "    </tr>\n",
       "    <tr>\n",
       "      <th>8</th>\n",
       "      <td>SURYA.co.id - Gara-gara kecerobohannya sendiri...</td>\n",
       "      <td>Jumat, 10 Juni 2022 06:02</td>\n",
       "      <td>Anggota KKB Papua Ceroboh, Perannya Sebagai Pe...</td>\n",
       "      <td>clickbait</td>\n",
       "    </tr>\n",
       "    <tr>\n",
       "      <th>9</th>\n",
       "      <td>SURYA.co.id | SURABAYA - Gelombang ribuan Bon...</td>\n",
       "      <td>Jumat, 10 Juni 2022 06:06</td>\n",
       "      <td>Ribuan Bonek Serbu Bandung Dukung Persebaya di...</td>\n",
       "      <td>clickbait</td>\n",
       "    </tr>\n",
       "  </tbody>\n",
       "</table>\n",
       "</div>\n",
       "      <button class=\"colab-df-convert\" onclick=\"convertToInteractive('df-987151f9-280a-4128-ac82-333a14100df1')\"\n",
       "              title=\"Convert this dataframe to an interactive table.\"\n",
       "              style=\"display:none;\">\n",
       "        \n",
       "  <svg xmlns=\"http://www.w3.org/2000/svg\" height=\"24px\"viewBox=\"0 0 24 24\"\n",
       "       width=\"24px\">\n",
       "    <path d=\"M0 0h24v24H0V0z\" fill=\"none\"/>\n",
       "    <path d=\"M18.56 5.44l.94 2.06.94-2.06 2.06-.94-2.06-.94-.94-2.06-.94 2.06-2.06.94zm-11 1L8.5 8.5l.94-2.06 2.06-.94-2.06-.94L8.5 2.5l-.94 2.06-2.06.94zm10 10l.94 2.06.94-2.06 2.06-.94-2.06-.94-.94-2.06-.94 2.06-2.06.94z\"/><path d=\"M17.41 7.96l-1.37-1.37c-.4-.4-.92-.59-1.43-.59-.52 0-1.04.2-1.43.59L10.3 9.45l-7.72 7.72c-.78.78-.78 2.05 0 2.83L4 21.41c.39.39.9.59 1.41.59.51 0 1.02-.2 1.41-.59l7.78-7.78 2.81-2.81c.8-.78.8-2.07 0-2.86zM5.41 20L4 18.59l7.72-7.72 1.47 1.35L5.41 20z\"/>\n",
       "  </svg>\n",
       "      </button>\n",
       "      \n",
       "  <style>\n",
       "    .colab-df-container {\n",
       "      display:flex;\n",
       "      flex-wrap:wrap;\n",
       "      gap: 12px;\n",
       "    }\n",
       "\n",
       "    .colab-df-convert {\n",
       "      background-color: #E8F0FE;\n",
       "      border: none;\n",
       "      border-radius: 50%;\n",
       "      cursor: pointer;\n",
       "      display: none;\n",
       "      fill: #1967D2;\n",
       "      height: 32px;\n",
       "      padding: 0 0 0 0;\n",
       "      width: 32px;\n",
       "    }\n",
       "\n",
       "    .colab-df-convert:hover {\n",
       "      background-color: #E2EBFA;\n",
       "      box-shadow: 0px 1px 2px rgba(60, 64, 67, 0.3), 0px 1px 3px 1px rgba(60, 64, 67, 0.15);\n",
       "      fill: #174EA6;\n",
       "    }\n",
       "\n",
       "    [theme=dark] .colab-df-convert {\n",
       "      background-color: #3B4455;\n",
       "      fill: #D2E3FC;\n",
       "    }\n",
       "\n",
       "    [theme=dark] .colab-df-convert:hover {\n",
       "      background-color: #434B5C;\n",
       "      box-shadow: 0px 1px 3px 1px rgba(0, 0, 0, 0.15);\n",
       "      filter: drop-shadow(0px 1px 2px rgba(0, 0, 0, 0.3));\n",
       "      fill: #FFFFFF;\n",
       "    }\n",
       "  </style>\n",
       "\n",
       "      <script>\n",
       "        const buttonEl =\n",
       "          document.querySelector('#df-987151f9-280a-4128-ac82-333a14100df1 button.colab-df-convert');\n",
       "        buttonEl.style.display =\n",
       "          google.colab.kernel.accessAllowed ? 'block' : 'none';\n",
       "\n",
       "        async function convertToInteractive(key) {\n",
       "          const element = document.querySelector('#df-987151f9-280a-4128-ac82-333a14100df1');\n",
       "          const dataTable =\n",
       "            await google.colab.kernel.invokeFunction('convertToInteractive',\n",
       "                                                     [key], {});\n",
       "          if (!dataTable) return;\n",
       "\n",
       "          const docLinkHtml = 'Like what you see? Visit the ' +\n",
       "            '<a target=\"_blank\" href=https://colab.research.google.com/notebooks/data_table.ipynb>data table notebook</a>'\n",
       "            + ' to learn more about interactive tables.';\n",
       "          element.innerHTML = '';\n",
       "          dataTable['output_type'] = 'display_data';\n",
       "          await google.colab.output.renderOutput(dataTable, element);\n",
       "          const docLink = document.createElement('div');\n",
       "          docLink.innerHTML = docLinkHtml;\n",
       "          element.appendChild(docLink);\n",
       "        }\n",
       "      </script>\n",
       "    </div>\n",
       "  </div>\n",
       "  "
      ],
      "text/plain": [
       "                                             content  \\\n",
       "0  Berita SurabayaSURYA.co.id | SURABAYA - Pengem...   \n",
       "1  Berita SurabayaSURYA.co.id | SURABAYA - Brand ...   \n",
       "2  Berita SurabayaSURYA.co.id | SURABAYA - PT Har...   \n",
       "3  Berita SurabayaSURYA.co.id | SURABAYA – Peneri...   \n",
       "4  SURYA.co.id I Masih ingat Ronaldo Nazario, san...   \n",
       "5  SURYA.co.id - Berikut Berita Persebaya Populer...   \n",
       "6  SURYA.co.id - Inilah kehebatan kapal perang KR...   \n",
       "7  SURYA.co.id - Berikut sejumlah fakta tentang B...   \n",
       "8  SURYA.co.id - Gara-gara kecerobohannya sendiri...   \n",
       "9   SURYA.co.id | SURABAYA - Gelombang ribuan Bon...   \n",
       "\n",
       "                        date  \\\n",
       "0  Jumat, 10 Juni 2022 01:08   \n",
       "1  Jumat, 10 Juni 2022 01:16   \n",
       "2  Jumat, 10 Juni 2022 01:27   \n",
       "3  Jumat, 10 Juni 2022 01:34   \n",
       "4  Jumat, 10 Juni 2022 01:51   \n",
       "5  Jumat, 10 Juni 2022 05:04   \n",
       "6  Jumat, 10 Juni 2022 05:08   \n",
       "7  Jumat, 10 Juni 2022 05:58   \n",
       "8  Jumat, 10 Juni 2022 06:02   \n",
       "9  Jumat, 10 Juni 2022 06:06   \n",
       "\n",
       "                                               title        label  \n",
       "0  PT Intiland Development Kembangkan Kawasan Ind...  noclickbait  \n",
       "1  ANKER Menangkan Penghargaan Nobel Prize di Aja...  noclickbait  \n",
       "2  Perluas Bisnis, Hartadinata Abadi Store Buka G...  noclickbait  \n",
       "3  PPDB SMP Dibuka Hari Ini, Dindik Surabaya Mint...    clickbait  \n",
       "4  Liga Spanyol, Ronaldo Legenda Real Madrid, Jad...    clickbait  \n",
       "5  Berita Persebaya Populer Hari ini: 2 Pemain Ba...    clickbait  \n",
       "6  TNI AL Kerahkan KRI Frans Kaisiepo untuk Hancu...    clickbait  \n",
       "7  5 FAKTA Bendungan Engehalde Lokasi Jasad Eril ...    clickbait  \n",
       "8  Anggota KKB Papua Ceroboh, Perannya Sebagai Pe...    clickbait  \n",
       "9  Ribuan Bonek Serbu Bandung Dukung Persebaya di...    clickbait  "
      ]
     },
     "execution_count": 6,
     "metadata": {},
     "output_type": "execute_result"
    }
   ],
   "source": [
    "data.head(10)"
   ]
  },
  {
   "cell_type": "code",
   "execution_count": null,
   "metadata": {
    "colab": {
     "base_uri": "https://localhost:8080/"
    },
    "executionInfo": {
     "elapsed": 460,
     "status": "ok",
     "timestamp": 1675305459265,
     "user": {
      "displayName": "Gama Putra Adi Susilo",
      "userId": "11761602289089114790"
     },
     "user_tz": -420
    },
    "id": "PaU027xpNgu8",
    "outputId": "313cd7b3-cafa-4f7b-f7d7-2b49ec5107af"
   },
   "outputs": [
    {
     "name": "stdout",
     "output_type": "stream",
     "text": [
      "<class 'pandas.core.frame.DataFrame'>\n",
      "RangeIndex: 3226 entries, 0 to 3225\n",
      "Data columns (total 4 columns):\n",
      " #   Column   Non-Null Count  Dtype \n",
      "---  ------   --------------  ----- \n",
      " 0   content  3226 non-null   object\n",
      " 1   date     3226 non-null   object\n",
      " 2   title    3226 non-null   object\n",
      " 3   label    3226 non-null   object\n",
      "dtypes: object(4)\n",
      "memory usage: 100.9+ KB\n"
     ]
    }
   ],
   "source": [
    "#info type data\n",
    "data.info()"
   ]
  },
  {
   "cell_type": "code",
   "execution_count": null,
   "metadata": {
    "colab": {
     "base_uri": "https://localhost:8080/",
     "height": 175
    },
    "executionInfo": {
     "elapsed": 467,
     "status": "ok",
     "timestamp": 1675305465624,
     "user": {
      "displayName": "Gama Putra Adi Susilo",
      "userId": "11761602289089114790"
     },
     "user_tz": -420
    },
    "id": "BMZVmZySNlKk",
    "outputId": "1c62af5f-09ba-4ba4-cbf2-d9c37309d291"
   },
   "outputs": [
    {
     "data": {
      "text/html": [
       "\n",
       "  <div id=\"df-bc3910e3-7eb2-4c95-a5e8-bd597d25da23\">\n",
       "    <div class=\"colab-df-container\">\n",
       "      <div>\n",
       "<style scoped>\n",
       "    .dataframe tbody tr th:only-of-type {\n",
       "        vertical-align: middle;\n",
       "    }\n",
       "\n",
       "    .dataframe tbody tr th {\n",
       "        vertical-align: top;\n",
       "    }\n",
       "\n",
       "    .dataframe thead th {\n",
       "        text-align: right;\n",
       "    }\n",
       "</style>\n",
       "<table border=\"1\" class=\"dataframe\">\n",
       "  <thead>\n",
       "    <tr style=\"text-align: right;\">\n",
       "      <th></th>\n",
       "      <th>content</th>\n",
       "      <th>date</th>\n",
       "      <th>title</th>\n",
       "      <th>label</th>\n",
       "    </tr>\n",
       "  </thead>\n",
       "  <tbody>\n",
       "    <tr>\n",
       "      <th>count</th>\n",
       "      <td>3226</td>\n",
       "      <td>3226</td>\n",
       "      <td>3226</td>\n",
       "      <td>3226</td>\n",
       "    </tr>\n",
       "    <tr>\n",
       "      <th>unique</th>\n",
       "      <td>3220</td>\n",
       "      <td>3074</td>\n",
       "      <td>3220</td>\n",
       "      <td>2</td>\n",
       "    </tr>\n",
       "    <tr>\n",
       "      <th>top</th>\n",
       "      <td>Menunjuk Pengumuman Lelang Pertama Eksekusi Ha...</td>\n",
       "      <td>Kamis, 20 Oktober 2022 09:15</td>\n",
       "      <td>Hari Pangan Sedunia, Bupati Gresik Gus Yani Ra...</td>\n",
       "      <td>noclickbait</td>\n",
       "    </tr>\n",
       "    <tr>\n",
       "      <th>freq</th>\n",
       "      <td>3</td>\n",
       "      <td>3</td>\n",
       "      <td>2</td>\n",
       "      <td>2422</td>\n",
       "    </tr>\n",
       "  </tbody>\n",
       "</table>\n",
       "</div>\n",
       "      <button class=\"colab-df-convert\" onclick=\"convertToInteractive('df-bc3910e3-7eb2-4c95-a5e8-bd597d25da23')\"\n",
       "              title=\"Convert this dataframe to an interactive table.\"\n",
       "              style=\"display:none;\">\n",
       "        \n",
       "  <svg xmlns=\"http://www.w3.org/2000/svg\" height=\"24px\"viewBox=\"0 0 24 24\"\n",
       "       width=\"24px\">\n",
       "    <path d=\"M0 0h24v24H0V0z\" fill=\"none\"/>\n",
       "    <path d=\"M18.56 5.44l.94 2.06.94-2.06 2.06-.94-2.06-.94-.94-2.06-.94 2.06-2.06.94zm-11 1L8.5 8.5l.94-2.06 2.06-.94-2.06-.94L8.5 2.5l-.94 2.06-2.06.94zm10 10l.94 2.06.94-2.06 2.06-.94-2.06-.94-.94-2.06-.94 2.06-2.06.94z\"/><path d=\"M17.41 7.96l-1.37-1.37c-.4-.4-.92-.59-1.43-.59-.52 0-1.04.2-1.43.59L10.3 9.45l-7.72 7.72c-.78.78-.78 2.05 0 2.83L4 21.41c.39.39.9.59 1.41.59.51 0 1.02-.2 1.41-.59l7.78-7.78 2.81-2.81c.8-.78.8-2.07 0-2.86zM5.41 20L4 18.59l7.72-7.72 1.47 1.35L5.41 20z\"/>\n",
       "  </svg>\n",
       "      </button>\n",
       "      \n",
       "  <style>\n",
       "    .colab-df-container {\n",
       "      display:flex;\n",
       "      flex-wrap:wrap;\n",
       "      gap: 12px;\n",
       "    }\n",
       "\n",
       "    .colab-df-convert {\n",
       "      background-color: #E8F0FE;\n",
       "      border: none;\n",
       "      border-radius: 50%;\n",
       "      cursor: pointer;\n",
       "      display: none;\n",
       "      fill: #1967D2;\n",
       "      height: 32px;\n",
       "      padding: 0 0 0 0;\n",
       "      width: 32px;\n",
       "    }\n",
       "\n",
       "    .colab-df-convert:hover {\n",
       "      background-color: #E2EBFA;\n",
       "      box-shadow: 0px 1px 2px rgba(60, 64, 67, 0.3), 0px 1px 3px 1px rgba(60, 64, 67, 0.15);\n",
       "      fill: #174EA6;\n",
       "    }\n",
       "\n",
       "    [theme=dark] .colab-df-convert {\n",
       "      background-color: #3B4455;\n",
       "      fill: #D2E3FC;\n",
       "    }\n",
       "\n",
       "    [theme=dark] .colab-df-convert:hover {\n",
       "      background-color: #434B5C;\n",
       "      box-shadow: 0px 1px 3px 1px rgba(0, 0, 0, 0.15);\n",
       "      filter: drop-shadow(0px 1px 2px rgba(0, 0, 0, 0.3));\n",
       "      fill: #FFFFFF;\n",
       "    }\n",
       "  </style>\n",
       "\n",
       "      <script>\n",
       "        const buttonEl =\n",
       "          document.querySelector('#df-bc3910e3-7eb2-4c95-a5e8-bd597d25da23 button.colab-df-convert');\n",
       "        buttonEl.style.display =\n",
       "          google.colab.kernel.accessAllowed ? 'block' : 'none';\n",
       "\n",
       "        async function convertToInteractive(key) {\n",
       "          const element = document.querySelector('#df-bc3910e3-7eb2-4c95-a5e8-bd597d25da23');\n",
       "          const dataTable =\n",
       "            await google.colab.kernel.invokeFunction('convertToInteractive',\n",
       "                                                     [key], {});\n",
       "          if (!dataTable) return;\n",
       "\n",
       "          const docLinkHtml = 'Like what you see? Visit the ' +\n",
       "            '<a target=\"_blank\" href=https://colab.research.google.com/notebooks/data_table.ipynb>data table notebook</a>'\n",
       "            + ' to learn more about interactive tables.';\n",
       "          element.innerHTML = '';\n",
       "          dataTable['output_type'] = 'display_data';\n",
       "          await google.colab.output.renderOutput(dataTable, element);\n",
       "          const docLink = document.createElement('div');\n",
       "          docLink.innerHTML = docLinkHtml;\n",
       "          element.appendChild(docLink);\n",
       "        }\n",
       "      </script>\n",
       "    </div>\n",
       "  </div>\n",
       "  "
      ],
      "text/plain": [
       "                                                  content  \\\n",
       "count                                                3226   \n",
       "unique                                               3220   \n",
       "top     Menunjuk Pengumuman Lelang Pertama Eksekusi Ha...   \n",
       "freq                                                    3   \n",
       "\n",
       "                                date  \\\n",
       "count                           3226   \n",
       "unique                          3074   \n",
       "top     Kamis, 20 Oktober 2022 09:15   \n",
       "freq                               3   \n",
       "\n",
       "                                                    title        label  \n",
       "count                                                3226         3226  \n",
       "unique                                               3220            2  \n",
       "top     Hari Pangan Sedunia, Bupati Gresik Gus Yani Ra...  noclickbait  \n",
       "freq                                                    2         2422  "
      ]
     },
     "execution_count": 8,
     "metadata": {},
     "output_type": "execute_result"
    }
   ],
   "source": [
    "data.describe()"
   ]
  },
  {
   "cell_type": "code",
   "execution_count": null,
   "metadata": {
    "colab": {
     "base_uri": "https://localhost:8080/",
     "height": 297
    },
    "executionInfo": {
     "elapsed": 968,
     "status": "ok",
     "timestamp": 1675305481781,
     "user": {
      "displayName": "Gama Putra Adi Susilo",
      "userId": "11761602289089114790"
     },
     "user_tz": -420
    },
    "id": "aDNWnKxSNxyk",
    "outputId": "f9a6c35a-5fce-4a7c-e342-06626d87f6a5"
   },
   "outputs": [
    {
     "data": {
      "text/plain": [
       "<matplotlib.axes._subplots.AxesSubplot at 0x7fe7b8b9f910>"
      ]
     },
     "execution_count": 9,
     "metadata": {},
     "output_type": "execute_result"
    },
    {
     "data": {
      "image/png": "[encoded data removed]",
      "text/plain": [
       "<Figure size 432x288 with 1 Axes>"
      ]
     },
     "metadata": {
      "needs_background": "light"
     },
     "output_type": "display_data"
    }
   ],
   "source": [
    "#value label\n",
    "sns.countplot(data['label'])"
   ]
  },
  {
   "cell_type": "code",
   "execution_count": null,
   "metadata": {
    "colab": {
     "base_uri": "https://localhost:8080/"
    },
    "executionInfo": {
     "elapsed": 4,
     "status": "ok",
     "timestamp": 1675236702776,
     "user": {
      "displayName": "Gama Putra Adi Susilo",
      "userId": "11761602289089114790"
     },
     "user_tz": -420
    },
    "id": "6UAVahe_N1mk",
    "outputId": "92983c58-48b8-460d-b7df-bc6eb83de1e6"
   },
   "outputs": [
    {
     "data": {
      "text/plain": [
       "noclickbait    2422\n",
       "clickbait       804\n",
       "Name: label, dtype: int64"
      ]
     },
     "execution_count": 10,
     "metadata": {},
     "output_type": "execute_result"
    }
   ],
   "source": [
    "# karena data inbalance\n",
    "# proses balancing data\n",
    "data['label'].value_counts()"
   ]
  },
  {
   "cell_type": "code",
   "execution_count": null,
   "metadata": {
    "colab": {
     "base_uri": "https://localhost:8080/"
    },
    "executionInfo": {
     "elapsed": 2,
     "status": "ok",
     "timestamp": 1675236703744,
     "user": {
      "displayName": "Gama Putra Adi Susilo",
      "userId": "11761602289089114790"
     },
     "user_tz": -420
    },
    "id": "1iPdtW1gOKRb",
    "outputId": "5a880e25-a50b-4bac-845f-03f6a9ebd397"
   },
   "outputs": [
    {
     "data": {
      "text/plain": [
       "(804, 4)"
      ]
     },
     "execution_count": 11,
     "metadata": {},
     "output_type": "execute_result"
    }
   ],
   "source": [
    "data_clickbait = data[data['label']=='clickbait']\n",
    "data_clickbait.shape"
   ]
  },
  {
   "cell_type": "code",
   "execution_count": null,
   "metadata": {
    "colab": {
     "base_uri": "https://localhost:8080/"
    },
    "executionInfo": {
     "elapsed": 15,
     "status": "ok",
     "timestamp": 1675236705651,
     "user": {
      "displayName": "Gama Putra Adi Susilo",
      "userId": "11761602289089114790"
     },
     "user_tz": -420
    },
    "id": "K3dej0ykORvN",
    "outputId": "a2d22537-1900-4c76-da24-4a8ad0474331"
   },
   "outputs": [
    {
     "data": {
      "text/plain": [
       "(2422, 4)"
      ]
     },
     "execution_count": 12,
     "metadata": {},
     "output_type": "execute_result"
    }
   ],
   "source": [
    "data_noclickbait = data[data['label']=='noclickbait']\n",
    "data_noclickbait.shape"
   ]
  },
  {
   "cell_type": "code",
   "execution_count": null,
   "metadata": {
    "colab": {
     "base_uri": "https://localhost:8080/"
    },
    "executionInfo": {
     "elapsed": 13,
     "status": "ok",
     "timestamp": 1675236705652,
     "user": {
      "displayName": "Gama Putra Adi Susilo",
      "userId": "11761602289089114790"
     },
     "user_tz": -420
    },
    "id": "NTbuVRVIOW7r",
    "outputId": "923dab99-abf5-450d-a015-c4cd6f79e154"
   },
   "outputs": [
    {
     "data": {
      "text/plain": [
       "(804, 4)"
      ]
     },
     "execution_count": 13,
     "metadata": {},
     "output_type": "execute_result"
    }
   ],
   "source": [
    "data_noclickbait_downsampled = data_noclickbait.sample(data_clickbait.shape[0])\n",
    "data_noclickbait_downsampled.shape"
   ]
  },
  {
   "cell_type": "code",
   "execution_count": null,
   "metadata": {
    "colab": {
     "base_uri": "https://localhost:8080/"
    },
    "executionInfo": {
     "elapsed": 14,
     "status": "ok",
     "timestamp": 1675236706219,
     "user": {
      "displayName": "Gama Putra Adi Susilo",
      "userId": "11761602289089114790"
     },
     "user_tz": -420
    },
    "id": "lBVSfv5TOeqT",
    "outputId": "9edec2b5-8c83-40b0-bf57-5a3bf9d87256"
   },
   "outputs": [
    {
     "data": {
      "text/plain": [
       "(1608, 4)"
      ]
     },
     "execution_count": 14,
     "metadata": {},
     "output_type": "execute_result"
    }
   ],
   "source": [
    "data_balanced = pd.concat([data_noclickbait_downsampled, data_clickbait])\n",
    "data_balanced.shape"
   ]
  },
  {
   "cell_type": "code",
   "execution_count": null,
   "metadata": {
    "colab": {
     "base_uri": "https://localhost:8080/"
    },
    "executionInfo": {
     "elapsed": 10,
     "status": "ok",
     "timestamp": 1675236706219,
     "user": {
      "displayName": "Gama Putra Adi Susilo",
      "userId": "11761602289089114790"
     },
     "user_tz": -420
    },
    "id": "T-MjGnKAOkqT",
    "outputId": "196ec7c9-06ff-46ae-9f9e-a379ccdbfaea"
   },
   "outputs": [
    {
     "data": {
      "text/plain": [
       "noclickbait    804\n",
       "clickbait      804\n",
       "Name: label, dtype: int64"
      ]
     },
     "execution_count": 15,
     "metadata": {},
     "output_type": "execute_result"
    }
   ],
   "source": [
    "data_balanced['label'].value_counts()"
   ]
  },
  {
   "cell_type": "code",
   "execution_count": null,
   "metadata": {
    "id": "b_lXwyYVOuFL"
   },
   "outputs": [],
   "source": [
    "# menggabungan teks judul dan isi berita\n",
    "data['Combined'] = data['title'] + ' ' + data['content']"
   ]
  },
  {
   "cell_type": "code",
   "execution_count": null,
   "metadata": {
    "colab": {
     "base_uri": "https://localhost:8080/"
    },
    "executionInfo": {
     "elapsed": 1615,
     "status": "ok",
     "timestamp": 1675305497674,
     "user": {
      "displayName": "Gama Putra Adi Susilo",
      "userId": "11761602289089114790"
     },
     "user_tz": -420
    },
    "id": "QkJyozF3O6LL",
    "outputId": "11357cb2-5543-4204-ea4b-b24634775c03"
   },
   "outputs": [
    {
     "name": "stdout",
     "output_type": "stream",
     "text": [
      "Anggota KKB Papua Ceroboh, Perannya Sebagai Pemasok Amunisi Terbongkar Gara-gara Bacok Warga Sipil \n",
      "\n",
      "SURYA.co.id - Gara-gara kecerobohannya sendiri, seorang anggota KKB Papua berhasil ditangkap aparat TNI -Polri.Tak hanya itu, perannya sebagai pemasok amunisi untuk KKB Papua juga ikut terbongkar.Penyebab awalnya adalah ia nekat membacok warga sipil di Intan Jaya pada April 2021 lalu.Polisi langsung menangkapnya dan akhirnya terbongkar perannya sebagai anggota KKB Papua yang bertugas memasok amunisi.Melansir dari laman tribratanews.polri.go.id, berdasarkan Informasi adanya keberadaan Tersangka Pembacokan Warga Intan Jaya pada April 2021 di Pertigaan Pasar Yokatapang, Tim Aparat Gabungan Ops Damai Cartenz 2020 melakukan pegecekan dan penyelidikan. Dari hasil pengecekan, tersangka terlihat di Kali Wabu, Rabu (08/06/2022).Selanjutnya, tim bergerak dan berhasil mengamankan tersangka yang diketahui berinisial FS.Dari hasil pemeriksaan sementara, tersangka FS ini juga merupakan anggota KKB Papua Aktif.Hal ini dibenarkan oleh Kabid Humas Polda Papua Kombes Pol A. Mustofa Kamal, SH saat dikonfirmasi. Pihaknya menyebutkan penangkanapan FS berawal dari penyeledikan kasus pembacokan Asep Saputra pada April 2021 lalu.“Setelah mendapat informasi, kita berhasil mengamankan tersangka dan selanjutnya kita lakukan pengembangan,” ujarnya.Dari Hasil pengembangan, Lanjut Kasatgas bahwa Tersangka FS ini diketahui merupakan jaringan pengadaan amunisi untuk KKB Papua.Hal ini terbukti saat mengamankan tersangka petugas menemukan 10 butir amunisi Cal 5,56 MM.“Selain terkait kasus pembacokan, tersangka FS juga jaringan Pengadaan Amunisi untuk KKB Papua.Selanjutnya kita akan lakukan pengembangan dan kita informasikan kembali,”pungkas Kabid Humas Polda Papua.Terungkap sosok Praka AKG \n",
      "\n",
      "Anggota KKB Papua Ceroboh, Perannya Sebagai Pemasok Amunisi Terbongkar Gara-gara Bacok Warga Sipil SURYA.co.id - Gara-gara kecerobohannya sendiri, seorang anggota KKB Papua berhasil ditangkap aparat TNI -Polri.Tak hanya itu, perannya sebagai pemasok amunisi untuk KKB Papua juga ikut terbongkar.Penyebab awalnya adalah ia nekat membacok warga sipil di Intan Jaya pada April 2021 lalu.Polisi langsung menangkapnya dan akhirnya terbongkar perannya sebagai anggota KKB Papua yang bertugas memasok amunisi.Melansir dari laman tribratanews.polri.go.id, berdasarkan Informasi adanya keberadaan Tersangka Pembacokan Warga Intan Jaya pada April 2021 di Pertigaan Pasar Yokatapang, Tim Aparat Gabungan Ops Damai Cartenz 2020 melakukan pegecekan dan penyelidikan. Dari hasil pengecekan, tersangka terlihat di Kali Wabu, Rabu (08/06/2022).Selanjutnya, tim bergerak dan berhasil mengamankan tersangka yang diketahui berinisial FS.Dari hasil pemeriksaan sementara, tersangka FS ini juga merupakan anggota KKB Papua Aktif.Hal ini dibenarkan oleh Kabid Humas Polda Papua Kombes Pol A. Mustofa Kamal, SH saat dikonfirmasi. Pihaknya menyebutkan penangkanapan FS berawal dari penyeledikan kasus pembacokan Asep Saputra pada April 2021 lalu.“Setelah mendapat informasi, kita berhasil mengamankan tersangka dan selanjutnya kita lakukan pengembangan,” ujarnya.Dari Hasil pengembangan, Lanjut Kasatgas bahwa Tersangka FS ini diketahui merupakan jaringan pengadaan amunisi untuk KKB Papua.Hal ini terbukti saat mengamankan tersangka petugas menemukan 10 butir amunisi Cal 5,56 MM.“Selain terkait kasus pembacokan, tersangka FS juga jaringan Pengadaan Amunisi untuk KKB Papua.Selanjutnya kita akan lakukan pengembangan dan kita informasikan kembali,”pungkas Kabid Humas Polda Papua.Terungkap sosok Praka AKG \n",
      "\n"
     ]
    }
   ],
   "source": [
    "#contoh data yang sudah di combine\n",
    "for i in data.loc[8][['title', 'content','Combined']]:\n",
    "    print(i,'\\n')"
   ]
  },
  {
   "cell_type": "markdown",
   "metadata": {
    "id": "ii_Z2KphPIv8"
   },
   "source": [
    "Preprocessing"
   ]
  },
  {
   "cell_type": "code",
   "execution_count": null,
   "metadata": {
    "id": "XAFHkUX8O9SD"
   },
   "outputs": [],
   "source": [
    "#membersihkan data\n",
    "def cleaning(text):\n",
    "    #remove url\n",
    "    text = re.sub(r\"http\\S+\", \"\", str(text))\n",
    "    #remove hex characters\n",
    "    text = re.sub(r'(\\\\x(.){2})', '', text)\n",
    "    #menghapus spasi awal teks\n",
    "    text = text.lstrip()\n",
    "    #remove newlines\n",
    "    text = re.sub(r'\\s+|\\\\n', ' ', text)\n",
    "    #remove hashtags\n",
    "    text = re.sub(r'\\B#\\w*[a-zA-Z]+\\w*','', text)\n",
    "    #remove single char\n",
    "    text = re.sub(r'\\b[a-zA-Z]\\b','', text)\n",
    "    #remove number\n",
    "    text = re.sub(r'\\d+','', text)\n",
    "    #remove punctuation / tanda baca\n",
    "    text = re.sub(r'[^\\w\\s]+', ' ', text)\n",
    "    #remove spasi dari awal teks\n",
    "    text = re.sub(r\"/^\\\\s+/m\", '', text)\n",
    "    #remove character yang memilliki kurang dari 4 huruf\n",
    "    text = re.sub(r'\\b\\w{1,3}\\b', '', text)\n",
    "    #remove spasi berlebih\n",
    "    text = re.sub(r'\\s+', ' ', text)\n",
    "    #remove non-ascii character\n",
    "    text = re.sub('[^\\x00-\\x7F]+', '', text)\n",
    "    return text\n",
    "\n",
    "data['Cleaning'] = data['Combined'].apply(cleaning)"
   ]
  },
  {
   "cell_type": "code",
   "execution_count": null,
   "metadata": {
    "colab": {
     "base_uri": "https://localhost:8080/"
    },
    "executionInfo": {
     "elapsed": 289,
     "status": "ok",
     "timestamp": 1675305508695,
     "user": {
      "displayName": "Gama Putra Adi Susilo",
      "userId": "11761602289089114790"
     },
     "user_tz": -420
    },
    "id": "HoS3MjW9POka",
    "outputId": "6b14e051-dcc5-4913-91a9-5e5462d250d7"
   },
   "outputs": [
    {
     "name": "stdout",
     "output_type": "stream",
     "text": [
      "Anggota KKB Papua Ceroboh, Perannya Sebagai Pemasok Amunisi Terbongkar Gara-gara Bacok Warga Sipil SURYA.co.id - Gara-gara kecerobohannya sendiri, seorang anggota KKB Papua berhasil ditangkap aparat TNI -Polri.Tak hanya itu, perannya sebagai pemasok amunisi untuk KKB Papua juga ikut terbongkar.Penyebab awalnya adalah ia nekat membacok warga sipil di Intan Jaya pada April 2021 lalu.Polisi langsung menangkapnya dan akhirnya terbongkar perannya sebagai anggota KKB Papua yang bertugas memasok amunisi.Melansir dari laman tribratanews.polri.go.id, berdasarkan Informasi adanya keberadaan Tersangka Pembacokan Warga Intan Jaya pada April 2021 di Pertigaan Pasar Yokatapang, Tim Aparat Gabungan Ops Damai Cartenz 2020 melakukan pegecekan dan penyelidikan. Dari hasil pengecekan, tersangka terlihat di Kali Wabu, Rabu (08/06/2022).Selanjutnya, tim bergerak dan berhasil mengamankan tersangka yang diketahui berinisial FS.Dari hasil pemeriksaan sementara, tersangka FS ini juga merupakan anggota KKB Papua Aktif.Hal ini dibenarkan oleh Kabid Humas Polda Papua Kombes Pol A. Mustofa Kamal, SH saat dikonfirmasi. Pihaknya menyebutkan penangkanapan FS berawal dari penyeledikan kasus pembacokan Asep Saputra pada April 2021 lalu.“Setelah mendapat informasi, kita berhasil mengamankan tersangka dan selanjutnya kita lakukan pengembangan,” ujarnya.Dari Hasil pengembangan, Lanjut Kasatgas bahwa Tersangka FS ini diketahui merupakan jaringan pengadaan amunisi untuk KKB Papua.Hal ini terbukti saat mengamankan tersangka petugas menemukan 10 butir amunisi Cal 5,56 MM.“Selain terkait kasus pembacokan, tersangka FS juga jaringan Pengadaan Amunisi untuk KKB Papua.Selanjutnya kita akan lakukan pengembangan dan kita informasikan kembali,”pungkas Kabid Humas Polda Papua.Terungkap sosok Praka AKG \n",
      "\n",
      "Anggota Papua Ceroboh Perannya Sebagai Pemasok Amunisi Terbongkar Gara gara Bacok Warga Sipil SURYA Gara gara kecerobohannya sendiri seorang anggota Papua berhasil ditangkap aparat Polri hanya perannya sebagai pemasok amunisi untuk Papua juga ikut terbongkar Penyebab awalnya adalah nekat membacok warga sipil Intan Jaya pada April lalu Polisi langsung menangkapnya akhirnya terbongkar perannya sebagai anggota Papua yang bertugas memasok amunisi Melansir dari laman tribratanews polri berdasarkan Informasi adanya keberadaan Tersangka Pembacokan Warga Intan Jaya pada April Pertigaan Pasar Yokatapang Aparat Gabungan Damai Cartenz melakukan pegecekan penyelidikan Dari hasil pengecekan tersangka terlihat Kali Wabu Rabu Selanjutnya bergerak berhasil mengamankan tersangka yang diketahui berinisial Dari hasil pemeriksaan sementara tersangka juga merupakan anggota Papua Aktif dibenarkan oleh Kabid Humas Polda Papua Kombes Mustofa Kamal saat dikonfirmasi Pihaknya menyebutkan penangkanapan berawal dari penyeledikan kasus pembacokan Asep Saputra pada April lalu Setelah mendapat informasi kita berhasil mengamankan tersangka selanjutnya kita lakukan pengembangan ujarnya Dari Hasil pengembangan Lanjut Kasatgas bahwa Tersangka diketahui merupakan jaringan pengadaan amunisi untuk Papua terbukti saat mengamankan tersangka petugas menemukan butir amunisi Selain terkait kasus pembacokan tersangka juga jaringan Pengadaan Amunisi untuk Papua Selanjutnya kita akan lakukan pengembangan kita informasikan kembali pungkas Kabid Humas Polda Papua Terungkap sosok Praka  \n",
      "\n"
     ]
    }
   ],
   "source": [
    "#contoh data yang sudah dibersihkan\n",
    "for i in data.loc[8][['Combined','Cleaning']]:\n",
    "    print(i,'\\n')"
   ]
  },
  {
   "cell_type": "markdown",
   "metadata": {
    "id": "oEzLGnfRPX8D"
   },
   "source": [
    "Case folding"
   ]
  },
  {
   "cell_type": "code",
   "execution_count": null,
   "metadata": {
    "id": "JVkZCl9jPRqC"
   },
   "outputs": [],
   "source": [
    "#mengubah huruf kapital menjadi huruf kecil\n",
    "data['Case Folding'] = data['Cleaning'].str.lower()"
   ]
  },
  {
   "cell_type": "code",
   "execution_count": null,
   "metadata": {
    "colab": {
     "base_uri": "https://localhost:8080/"
    },
    "executionInfo": {
     "elapsed": 4,
     "status": "ok",
     "timestamp": 1675305514284,
     "user": {
      "displayName": "Gama Putra Adi Susilo",
      "userId": "11761602289089114790"
     },
     "user_tz": -420
    },
    "id": "M1UwnReLPa_b",
    "outputId": "8a3c9518-f5f5-400c-f9f9-e08ababd412b"
   },
   "outputs": [
    {
     "name": "stdout",
     "output_type": "stream",
     "text": [
      "Anggota Papua Ceroboh Perannya Sebagai Pemasok Amunisi Terbongkar Gara gara Bacok Warga Sipil SURYA Gara gara kecerobohannya sendiri seorang anggota Papua berhasil ditangkap aparat Polri hanya perannya sebagai pemasok amunisi untuk Papua juga ikut terbongkar Penyebab awalnya adalah nekat membacok warga sipil Intan Jaya pada April lalu Polisi langsung menangkapnya akhirnya terbongkar perannya sebagai anggota Papua yang bertugas memasok amunisi Melansir dari laman tribratanews polri berdasarkan Informasi adanya keberadaan Tersangka Pembacokan Warga Intan Jaya pada April Pertigaan Pasar Yokatapang Aparat Gabungan Damai Cartenz melakukan pegecekan penyelidikan Dari hasil pengecekan tersangka terlihat Kali Wabu Rabu Selanjutnya bergerak berhasil mengamankan tersangka yang diketahui berinisial Dari hasil pemeriksaan sementara tersangka juga merupakan anggota Papua Aktif dibenarkan oleh Kabid Humas Polda Papua Kombes Mustofa Kamal saat dikonfirmasi Pihaknya menyebutkan penangkanapan berawal dari penyeledikan kasus pembacokan Asep Saputra pada April lalu Setelah mendapat informasi kita berhasil mengamankan tersangka selanjutnya kita lakukan pengembangan ujarnya Dari Hasil pengembangan Lanjut Kasatgas bahwa Tersangka diketahui merupakan jaringan pengadaan amunisi untuk Papua terbukti saat mengamankan tersangka petugas menemukan butir amunisi Selain terkait kasus pembacokan tersangka juga jaringan Pengadaan Amunisi untuk Papua Selanjutnya kita akan lakukan pengembangan kita informasikan kembali pungkas Kabid Humas Polda Papua Terungkap sosok Praka  \n",
      "\n",
      "anggota papua ceroboh perannya sebagai pemasok amunisi terbongkar gara gara bacok warga sipil surya gara gara kecerobohannya sendiri seorang anggota papua berhasil ditangkap aparat polri hanya perannya sebagai pemasok amunisi untuk papua juga ikut terbongkar penyebab awalnya adalah nekat membacok warga sipil intan jaya pada april lalu polisi langsung menangkapnya akhirnya terbongkar perannya sebagai anggota papua yang bertugas memasok amunisi melansir dari laman tribratanews polri berdasarkan informasi adanya keberadaan tersangka pembacokan warga intan jaya pada april pertigaan pasar yokatapang aparat gabungan damai cartenz melakukan pegecekan penyelidikan dari hasil pengecekan tersangka terlihat kali wabu rabu selanjutnya bergerak berhasil mengamankan tersangka yang diketahui berinisial dari hasil pemeriksaan sementara tersangka juga merupakan anggota papua aktif dibenarkan oleh kabid humas polda papua kombes mustofa kamal saat dikonfirmasi pihaknya menyebutkan penangkanapan berawal dari penyeledikan kasus pembacokan asep saputra pada april lalu setelah mendapat informasi kita berhasil mengamankan tersangka selanjutnya kita lakukan pengembangan ujarnya dari hasil pengembangan lanjut kasatgas bahwa tersangka diketahui merupakan jaringan pengadaan amunisi untuk papua terbukti saat mengamankan tersangka petugas menemukan butir amunisi selain terkait kasus pembacokan tersangka juga jaringan pengadaan amunisi untuk papua selanjutnya kita akan lakukan pengembangan kita informasikan kembali pungkas kabid humas polda papua terungkap sosok praka  \n",
      "\n"
     ]
    }
   ],
   "source": [
    "#contoh data yang sudah di casefolding\n",
    "for i in data.loc[8][['Cleaning','Case Folding']]:\n",
    "    print(i,'\\n')"
   ]
  },
  {
   "cell_type": "markdown",
   "metadata": {
    "id": "8cmN-ZKlPiAI"
   },
   "source": [
    "Tokenizing"
   ]
  },
  {
   "cell_type": "code",
   "execution_count": null,
   "metadata": {
    "colab": {
     "base_uri": "https://localhost:8080/"
    },
    "executionInfo": {
     "elapsed": 70135,
     "status": "ok",
     "timestamp": 1675305615801,
     "user": {
      "displayName": "Gama Putra Adi Susilo",
      "userId": "11761602289089114790"
     },
     "user_tz": -420
    },
    "id": "0GnBmuF4_bnr",
    "outputId": "2ab51ecf-fb4f-44e8-c39a-1196f9d5322f"
   },
   "outputs": [
    {
     "name": "stdout",
     "output_type": "stream",
     "text": [
      "NLTK Downloader\n",
      "---------------------------------------------------------------------------\n",
      "    d) Download   l) List    u) Update   c) Config   h) Help   q) Quit\n",
      "---------------------------------------------------------------------------\n",
      "Downloader> d\n",
      "\n",
      "Download which package (l=list; x=cancel)?\n",
      "  Identifier> all\n"
     ]
    },
    {
     "name": "stderr",
     "output_type": "stream",
     "text": [
      "    Downloading collection 'all'\n",
      "       | \n",
      "       | Downloading package abc to /root/nltk_data...\n",
      "       |   Unzipping corpora/abc.zip.\n",
      "       | Downloading package alpino to /root/nltk_data...\n",
      "       |   Unzipping corpora/alpino.zip.\n",
      "       | Downloading package averaged_perceptron_tagger to\n",
      "       |     /root/nltk_data...\n",
      "       |   Unzipping taggers/averaged_perceptron_tagger.zip.\n",
      "       | Downloading package averaged_perceptron_tagger_ru to\n",
      "       |     /root/nltk_data...\n",
      "       |   Unzipping taggers/averaged_perceptron_tagger_ru.zip.\n",
      "       | Downloading package basque_grammars to /root/nltk_data...\n",
      "       |   Unzipping grammars/basque_grammars.zip.\n",
      "       | Downloading package bcp47 to /root/nltk_data...\n",
      "       | Downloading package biocreative_ppi to /root/nltk_data...\n",
      "       |   Unzipping corpora/biocreative_ppi.zip.\n",
      "       | Downloading package bllip_wsj_no_aux to /root/nltk_data...\n",
      "       |   Unzipping models/bllip_wsj_no_aux.zip.\n",
      "       | Downloading package book_grammars to /root/nltk_data...\n",
      "       |   Unzipping grammars/book_grammars.zip.\n",
      "       | Downloading package brown to /root/nltk_data...\n",
      "       |   Unzipping corpora/brown.zip.\n",
      "       | Downloading package brown_tei to /root/nltk_data...\n",
      "       |   Unzipping corpora/brown_tei.zip.\n",
      "       | Downloading package cess_cat to /root/nltk_data...\n",
      "       |   Unzipping corpora/cess_cat.zip.\n",
      "       | Downloading package cess_esp to /root/nltk_data...\n",
      "       |   Unzipping corpora/cess_esp.zip.\n",
      "       | Downloading package chat80 to /root/nltk_data...\n",
      "       |   Unzipping corpora/chat80.zip.\n",
      "       | Downloading package city_database to /root/nltk_data...\n",
      "       |   Unzipping corpora/city_database.zip.\n",
      "       | Downloading package cmudict to /root/nltk_data...\n",
      "       |   Unzipping corpora/cmudict.zip.\n",
      "       | Downloading package comparative_sentences to\n",
      "       |     /root/nltk_data...\n",
      "       |   Unzipping corpora/comparative_sentences.zip.\n",
      "       | Downloading package comtrans to /root/nltk_data...\n",
      "       | Downloading package conll2000 to /root/nltk_data...\n",
      "       |   Unzipping corpora/conll2000.zip.\n",
      "       | Downloading package conll2002 to /root/nltk_data...\n",
      "       |   Unzipping corpora/conll2002.zip.\n",
      "       | Downloading package conll2007 to /root/nltk_data...\n",
      "       | Downloading package crubadan to /root/nltk_data...\n",
      "       |   Unzipping corpora/crubadan.zip.\n",
      "       | Downloading package dependency_treebank to /root/nltk_data...\n",
      "       |   Unzipping corpora/dependency_treebank.zip.\n",
      "       | Downloading package dolch to /root/nltk_data...\n",
      "       |   Unzipping corpora/dolch.zip.\n",
      "       | Downloading package europarl_raw to /root/nltk_data...\n",
      "       |   Unzipping corpora/europarl_raw.zip.\n",
      "       | Downloading package extended_omw to /root/nltk_data...\n",
      "       | Downloading package floresta to /root/nltk_data...\n",
      "       |   Unzipping corpora/floresta.zip.\n",
      "       | Downloading package framenet_v15 to /root/nltk_data...\n",
      "       |   Unzipping corpora/framenet_v15.zip.\n",
      "       | Downloading package framenet_v17 to /root/nltk_data...\n",
      "       |   Unzipping corpora/framenet_v17.zip.\n",
      "       | Downloading package gazetteers to /root/nltk_data...\n",
      "       |   Unzipping corpora/gazetteers.zip.\n",
      "       | Downloading package genesis to /root/nltk_data...\n",
      "       |   Unzipping corpora/genesis.zip.\n",
      "       | Downloading package gutenberg to /root/nltk_data...\n",
      "       |   Unzipping corpora/gutenberg.zip.\n",
      "       | Downloading package ieer to /root/nltk_data...\n",
      "       |   Unzipping corpora/ieer.zip.\n",
      "       | Downloading package inaugural to /root/nltk_data...\n",
      "       |   Unzipping corpora/inaugural.zip.\n",
      "       | Downloading package indian to /root/nltk_data...\n",
      "       |   Unzipping corpora/indian.zip.\n",
      "       | Downloading package jeita to /root/nltk_data...\n",
      "       | Downloading package kimmo to /root/nltk_data...\n",
      "       |   Unzipping corpora/kimmo.zip.\n",
      "       | Downloading package knbc to /root/nltk_data...\n",
      "       | Downloading package large_grammars to /root/nltk_data...\n",
      "       |   Unzipping grammars/large_grammars.zip.\n",
      "       | Downloading package lin_thesaurus to /root/nltk_data...\n",
      "       |   Unzipping corpora/lin_thesaurus.zip.\n",
      "       | Downloading package mac_morpho to /root/nltk_data...\n",
      "       |   Unzipping corpora/mac_morpho.zip.\n",
      "       | Downloading package machado to /root/nltk_data...\n",
      "       | Downloading package masc_tagged to /root/nltk_data...\n",
      "       | Downloading package maxent_ne_chunker to /root/nltk_data...\n",
      "       |   Unzipping chunkers/maxent_ne_chunker.zip.\n",
      "       | Downloading package maxent_treebank_pos_tagger to\n",
      "       |     /root/nltk_data...\n",
      "       |   Unzipping taggers/maxent_treebank_pos_tagger.zip.\n",
      "       | Downloading package moses_sample to /root/nltk_data...\n",
      "       |   Unzipping models/moses_sample.zip.\n",
      "       | Downloading package movie_reviews to /root/nltk_data...\n",
      "       |   Unzipping corpora/movie_reviews.zip.\n",
      "       | Downloading package mte_teip5 to /root/nltk_data...\n",
      "       |   Unzipping corpora/mte_teip5.zip.\n",
      "       | Downloading package mwa_ppdb to /root/nltk_data...\n",
      "       |   Unzipping misc/mwa_ppdb.zip.\n",
      "       | Downloading package names to /root/nltk_data...\n",
      "       |   Unzipping corpora/names.zip.\n",
      "       | Downloading package nombank.1.0 to /root/nltk_data...\n",
      "       | Downloading package nonbreaking_prefixes to\n",
      "       |     /root/nltk_data...\n",
      "       |   Unzipping corpora/nonbreaking_prefixes.zip.\n",
      "       | Downloading package nps_chat to /root/nltk_data...\n",
      "       |   Unzipping corpora/nps_chat.zip.\n",
      "       | Downloading package omw to /root/nltk_data...\n",
      "       | Downloading package omw-1.4 to /root/nltk_data...\n",
      "       | Downloading package opinion_lexicon to /root/nltk_data...\n",
      "       |   Unzipping corpora/opinion_lexicon.zip.\n",
      "       | Downloading package panlex_swadesh to /root/nltk_data...\n",
      "       | Downloading package paradigms to /root/nltk_data...\n",
      "       |   Unzipping corpora/paradigms.zip.\n",
      "       | Downloading package pe08 to /root/nltk_data...\n",
      "       |   Unzipping corpora/pe08.zip.\n",
      "       | Downloading package perluniprops to /root/nltk_data...\n",
      "       |   Unzipping misc/perluniprops.zip.\n",
      "       | Downloading package pil to /root/nltk_data...\n",
      "       |   Unzipping corpora/pil.zip.\n",
      "       | Downloading package pl196x to /root/nltk_data...\n",
      "       |   Unzipping corpora/pl196x.zip.\n",
      "       | Downloading package porter_test to /root/nltk_data...\n",
      "       |   Unzipping stemmers/porter_test.zip.\n",
      "       | Downloading package ppattach to /root/nltk_data...\n",
      "       |   Unzipping corpora/ppattach.zip.\n",
      "       | Downloading package problem_reports to /root/nltk_data...\n",
      "       |   Unzipping corpora/problem_reports.zip.\n",
      "       | Downloading package product_reviews_1 to /root/nltk_data...\n",
      "       |   Unzipping corpora/product_reviews_1.zip.\n",
      "       | Downloading package product_reviews_2 to /root/nltk_data...\n",
      "       |   Unzipping corpora/product_reviews_2.zip.\n",
      "       | Downloading package propbank to /root/nltk_data...\n",
      "       | Downloading package pros_cons to /root/nltk_data...\n",
      "       |   Unzipping corpora/pros_cons.zip.\n",
      "       | Downloading package ptb to /root/nltk_data...\n",
      "       |   Unzipping corpora/ptb.zip.\n",
      "       | Downloading package punkt to /root/nltk_data...\n",
      "       |   Unzipping tokenizers/punkt.zip.\n",
      "       | Downloading package qc to /root/nltk_data...\n",
      "       |   Unzipping corpora/qc.zip.\n",
      "       | Downloading package reuters to /root/nltk_data...\n",
      "       | Downloading package rslp to /root/nltk_data...\n",
      "       |   Unzipping stemmers/rslp.zip.\n",
      "       | Downloading package rte to /root/nltk_data...\n",
      "       |   Unzipping corpora/rte.zip.\n",
      "       | Downloading package sample_grammars to /root/nltk_data...\n",
      "       |   Unzipping grammars/sample_grammars.zip.\n",
      "       | Downloading package semcor to /root/nltk_data...\n",
      "       | Downloading package senseval to /root/nltk_data...\n",
      "       |   Unzipping corpora/senseval.zip.\n",
      "       | Downloading package sentence_polarity to /root/nltk_data...\n",
      "       |   Unzipping corpora/sentence_polarity.zip.\n",
      "       | Downloading package sentiwordnet to /root/nltk_data...\n",
      "       |   Unzipping corpora/sentiwordnet.zip.\n",
      "       | Downloading package shakespeare to /root/nltk_data...\n",
      "       |   Unzipping corpora/shakespeare.zip.\n",
      "       | Downloading package sinica_treebank to /root/nltk_data...\n",
      "       |   Unzipping corpora/sinica_treebank.zip.\n",
      "       | Downloading package smultron to /root/nltk_data...\n",
      "       |   Unzipping corpora/smultron.zip.\n",
      "       | Downloading package snowball_data to /root/nltk_data...\n",
      "       | Downloading package spanish_grammars to /root/nltk_data...\n",
      "       |   Unzipping grammars/spanish_grammars.zip.\n",
      "       | Downloading package state_union to /root/nltk_data...\n",
      "       |   Unzipping corpora/state_union.zip.\n",
      "       | Downloading package stopwords to /root/nltk_data...\n",
      "       |   Unzipping corpora/stopwords.zip.\n",
      "       | Downloading package subjectivity to /root/nltk_data...\n",
      "       |   Unzipping corpora/subjectivity.zip.\n",
      "       | Downloading package swadesh to /root/nltk_data...\n",
      "       |   Unzipping corpora/swadesh.zip.\n",
      "       | Downloading package switchboard to /root/nltk_data...\n",
      "       |   Unzipping corpora/switchboard.zip.\n",
      "       | Downloading package tagsets to /root/nltk_data...\n",
      "       |   Unzipping help/tagsets.zip.\n",
      "       | Downloading package timit to /root/nltk_data...\n",
      "       |   Unzipping corpora/timit.zip.\n",
      "       | Downloading package toolbox to /root/nltk_data...\n",
      "       |   Unzipping corpora/toolbox.zip.\n",
      "       | Downloading package treebank to /root/nltk_data...\n",
      "       |   Unzipping corpora/treebank.zip.\n",
      "       | Downloading package twitter_samples to /root/nltk_data...\n",
      "       |   Unzipping corpora/twitter_samples.zip.\n",
      "       | Downloading package udhr to /root/nltk_data...\n",
      "       |   Unzipping corpora/udhr.zip.\n",
      "       | Downloading package udhr2 to /root/nltk_data...\n",
      "       |   Unzipping corpora/udhr2.zip.\n",
      "       | Downloading package unicode_samples to /root/nltk_data...\n",
      "       |   Unzipping corpora/unicode_samples.zip.\n",
      "       | Downloading package universal_tagset to /root/nltk_data...\n",
      "       |   Unzipping taggers/universal_tagset.zip.\n",
      "       | Downloading package universal_treebanks_v20 to\n",
      "       |     /root/nltk_data...\n",
      "       | Downloading package vader_lexicon to /root/nltk_data...\n",
      "       | Downloading package verbnet to /root/nltk_data...\n",
      "       |   Unzipping corpora/verbnet.zip.\n",
      "       | Downloading package verbnet3 to /root/nltk_data...\n",
      "       |   Unzipping corpora/verbnet3.zip.\n",
      "       | Downloading package webtext to /root/nltk_data...\n",
      "       |   Unzipping corpora/webtext.zip.\n",
      "       | Downloading package wmt15_eval to /root/nltk_data...\n",
      "       |   Unzipping models/wmt15_eval.zip.\n",
      "       | Downloading package word2vec_sample to /root/nltk_data...\n",
      "       |   Unzipping models/word2vec_sample.zip.\n",
      "       | Downloading package wordnet to /root/nltk_data...\n",
      "       | Downloading package wordnet2021 to /root/nltk_data...\n",
      "       | Downloading package wordnet31 to /root/nltk_data...\n",
      "       | Downloading package wordnet_ic to /root/nltk_data...\n",
      "       |   Unzipping corpora/wordnet_ic.zip.\n",
      "       | Downloading package words to /root/nltk_data...\n",
      "       |   Unzipping corpora/words.zip.\n",
      "       | Downloading package ycoe to /root/nltk_data...\n",
      "       |   Unzipping corpora/ycoe.zip.\n",
      "       | \n",
      "     Done downloading collection all\n"
     ]
    },
    {
     "name": "stdout",
     "output_type": "stream",
     "text": [
      "\n",
      "---------------------------------------------------------------------------\n",
      "    d) Download   l) List    u) Update   c) Config   h) Help   q) Quit\n",
      "---------------------------------------------------------------------------\n",
      "Downloader> q\n"
     ]
    },
    {
     "data": {
      "text/plain": [
       "True"
      ]
     },
     "execution_count": 17,
     "metadata": {},
     "output_type": "execute_result"
    }
   ],
   "source": [
    "nltk.download()"
   ]
  },
  {
   "cell_type": "code",
   "execution_count": null,
   "metadata": {
    "id": "8wc92B1SPc6i"
   },
   "outputs": [],
   "source": [
    "#memisahkan kalimat menjadi potongan kata dengan menggunakan library word_tokenize dari nltk\n",
    "data['Tokenized'] = data['Case Folding'].apply(word_tokenize)"
   ]
  },
  {
   "cell_type": "code",
   "execution_count": null,
   "metadata": {
    "colab": {
     "base_uri": "https://localhost:8080/"
    },
    "executionInfo": {
     "elapsed": 8,
     "status": "ok",
     "timestamp": 1675305634319,
     "user": {
      "displayName": "Gama Putra Adi Susilo",
      "userId": "11761602289089114790"
     },
     "user_tz": -420
    },
    "id": "jaigLMNHPm76",
    "outputId": "6b81bc52-afa2-4da3-ba5b-ece6bb5835c9"
   },
   "outputs": [
    {
     "name": "stdout",
     "output_type": "stream",
     "text": [
      "anggota papua ceroboh perannya sebagai pemasok amunisi terbongkar gara gara bacok warga sipil surya gara gara kecerobohannya sendiri seorang anggota papua berhasil ditangkap aparat polri hanya perannya sebagai pemasok amunisi untuk papua juga ikut terbongkar penyebab awalnya adalah nekat membacok warga sipil intan jaya pada april lalu polisi langsung menangkapnya akhirnya terbongkar perannya sebagai anggota papua yang bertugas memasok amunisi melansir dari laman tribratanews polri berdasarkan informasi adanya keberadaan tersangka pembacokan warga intan jaya pada april pertigaan pasar yokatapang aparat gabungan damai cartenz melakukan pegecekan penyelidikan dari hasil pengecekan tersangka terlihat kali wabu rabu selanjutnya bergerak berhasil mengamankan tersangka yang diketahui berinisial dari hasil pemeriksaan sementara tersangka juga merupakan anggota papua aktif dibenarkan oleh kabid humas polda papua kombes mustofa kamal saat dikonfirmasi pihaknya menyebutkan penangkanapan berawal dari penyeledikan kasus pembacokan asep saputra pada april lalu setelah mendapat informasi kita berhasil mengamankan tersangka selanjutnya kita lakukan pengembangan ujarnya dari hasil pengembangan lanjut kasatgas bahwa tersangka diketahui merupakan jaringan pengadaan amunisi untuk papua terbukti saat mengamankan tersangka petugas menemukan butir amunisi selain terkait kasus pembacokan tersangka juga jaringan pengadaan amunisi untuk papua selanjutnya kita akan lakukan pengembangan kita informasikan kembali pungkas kabid humas polda papua terungkap sosok praka  \n",
      "\n",
      "['anggota', 'papua', 'ceroboh', 'perannya', 'sebagai', 'pemasok', 'amunisi', 'terbongkar', 'gara', 'gara', 'bacok', 'warga', 'sipil', 'surya', 'gara', 'gara', 'kecerobohannya', 'sendiri', 'seorang', 'anggota', 'papua', 'berhasil', 'ditangkap', 'aparat', 'polri', 'hanya', 'perannya', 'sebagai', 'pemasok', 'amunisi', 'untuk', 'papua', 'juga', 'ikut', 'terbongkar', 'penyebab', 'awalnya', 'adalah', 'nekat', 'membacok', 'warga', 'sipil', 'intan', 'jaya', 'pada', 'april', 'lalu', 'polisi', 'langsung', 'menangkapnya', 'akhirnya', 'terbongkar', 'perannya', 'sebagai', 'anggota', 'papua', 'yang', 'bertugas', 'memasok', 'amunisi', 'melansir', 'dari', 'laman', 'tribratanews', 'polri', 'berdasarkan', 'informasi', 'adanya', 'keberadaan', 'tersangka', 'pembacokan', 'warga', 'intan', 'jaya', 'pada', 'april', 'pertigaan', 'pasar', 'yokatapang', 'aparat', 'gabungan', 'damai', 'cartenz', 'melakukan', 'pegecekan', 'penyelidikan', 'dari', 'hasil', 'pengecekan', 'tersangka', 'terlihat', 'kali', 'wabu', 'rabu', 'selanjutnya', 'bergerak', 'berhasil', 'mengamankan', 'tersangka', 'yang', 'diketahui', 'berinisial', 'dari', 'hasil', 'pemeriksaan', 'sementara', 'tersangka', 'juga', 'merupakan', 'anggota', 'papua', 'aktif', 'dibenarkan', 'oleh', 'kabid', 'humas', 'polda', 'papua', 'kombes', 'mustofa', 'kamal', 'saat', 'dikonfirmasi', 'pihaknya', 'menyebutkan', 'penangkanapan', 'berawal', 'dari', 'penyeledikan', 'kasus', 'pembacokan', 'asep', 'saputra', 'pada', 'april', 'lalu', 'setelah', 'mendapat', 'informasi', 'kita', 'berhasil', 'mengamankan', 'tersangka', 'selanjutnya', 'kita', 'lakukan', 'pengembangan', 'ujarnya', 'dari', 'hasil', 'pengembangan', 'lanjut', 'kasatgas', 'bahwa', 'tersangka', 'diketahui', 'merupakan', 'jaringan', 'pengadaan', 'amunisi', 'untuk', 'papua', 'terbukti', 'saat', 'mengamankan', 'tersangka', 'petugas', 'menemukan', 'butir', 'amunisi', 'selain', 'terkait', 'kasus', 'pembacokan', 'tersangka', 'juga', 'jaringan', 'pengadaan', 'amunisi', 'untuk', 'papua', 'selanjutnya', 'kita', 'akan', 'lakukan', 'pengembangan', 'kita', 'informasikan', 'kembali', 'pungkas', 'kabid', 'humas', 'polda', 'papua', 'terungkap', 'sosok', 'praka'] \n",
      "\n"
     ]
    }
   ],
   "source": [
    "for i in data.loc[8][['Case Folding','Tokenized']]:\n",
    "    print(i,'\\n')"
   ]
  },
  {
   "cell_type": "markdown",
   "metadata": {
    "id": "PsvjETnzQxys"
   },
   "source": [
    "Normalisasi"
   ]
  },
  {
   "cell_type": "code",
   "execution_count": null,
   "metadata": {
    "colab": {
     "base_uri": "https://localhost:8080/"
    },
    "executionInfo": {
     "elapsed": 538,
     "status": "ok",
     "timestamp": 1675305638381,
     "user": {
      "displayName": "Gama Putra Adi Susilo",
      "userId": "11761602289089114790"
     },
     "user_tz": -420
    },
    "id": "-5Ceoc3UQuXB",
    "outputId": "3f88a831-1f8a-4155-d9de-e2705a7c8cad"
   },
   "outputs": [
    {
     "name": "stdout",
     "output_type": "stream",
     "text": [
      "<class 'dict'>\n"
     ]
    },
    {
     "data": {
      "text/plain": [
       "{'@': 'di',\n",
       " 'abis': 'habis',\n",
       " 'ad': 'ada',\n",
       " 'adlh': 'adalah',\n",
       " 'afaik': 'as far as i know',\n",
       " 'ahaha': 'haha',\n",
       " 'aj': 'saja',\n",
       " 'ajep-ajep': 'dunia gemerlap',\n",
       " 'ak': 'saya',\n",
       " 'akika': 'aku',\n",
       " 'akkoh': 'aku',\n",
       " 'akuwh': 'aku',\n",
       " 'alay': 'norak',\n",
       " 'alow': 'halo',\n",
       " 'ambilin': 'ambilkan',\n",
       " 'ancur': 'hancur',\n",
       " 'anjrit': 'anjing',\n",
       " 'anter': 'antar',\n",
       " 'ap2': 'apa-apa',\n",
       " 'apasih': 'apa sih',\n",
       " 'apes': 'sial',\n",
       " 'aps': 'apa',\n",
       " 'aq': 'saya',\n",
       " 'aquwh': 'aku',\n",
       " 'asbun': 'asal bunyi',\n",
       " 'aseekk': 'asyik',\n",
       " 'asekk': 'asyik',\n",
       " 'asem': 'asam',\n",
       " 'aspal': 'asli tetapi palsu',\n",
       " 'astul': 'asal tulis',\n",
       " 'ato': 'atau',\n",
       " 'au ah': 'tidak mau tahu',\n",
       " 'awak': 'saya',\n",
       " 'ay': 'sayang',\n",
       " 'ayank': 'sayang',\n",
       " 'b4': 'sebelum',\n",
       " 'bakalan': 'akan',\n",
       " 'bandes': 'bantuan desa',\n",
       " 'bangedh': 'banget',\n",
       " 'banpol': 'bantuan polisi',\n",
       " 'banpur': 'bantuan tempur',\n",
       " 'basbang': 'basi',\n",
       " 'bcanda': 'bercanda',\n",
       " 'bdg': 'bandung',\n",
       " 'begajulan': 'nakal',\n",
       " 'beliin': 'belikan',\n",
       " 'bencong': 'banci',\n",
       " 'bentar': 'sebentar',\n",
       " 'ber3': 'bertiga',\n",
       " 'beresin': 'membereskan',\n",
       " 'bete': 'bosan',\n",
       " 'beud': 'banget',\n",
       " 'bg': 'abang',\n",
       " 'bgmn': 'bagaimana',\n",
       " 'bgt': 'banget',\n",
       " 'bijimane': 'bagaimana',\n",
       " 'bintal': 'bimbingan mental',\n",
       " 'bkl': 'akan',\n",
       " 'bknnya': 'bukannya',\n",
       " 'blegug': 'bodoh',\n",
       " 'blh': 'boleh',\n",
       " 'bln': 'bulan',\n",
       " 'blum': 'belum',\n",
       " 'bnci': 'benci',\n",
       " 'bnran': 'yang benar',\n",
       " 'bodor': 'lucu',\n",
       " 'bokap': 'ayah',\n",
       " 'boker': 'buang air besar',\n",
       " 'bokis': 'bohong',\n",
       " 'boljug': 'boleh juga',\n",
       " 'bonek': 'bocah nekat',\n",
       " 'boyeh': 'boleh',\n",
       " 'br': 'baru',\n",
       " 'brg': 'bareng',\n",
       " 'bro': 'saudara laki-laki',\n",
       " 'bru': 'baru',\n",
       " 'bs': 'bisa',\n",
       " 'bsen': 'bosan',\n",
       " 'bt': 'buat',\n",
       " 'btw': 'ngomong-ngomong',\n",
       " 'buaya': 'tidak setia',\n",
       " 'bubbu': 'tidur',\n",
       " 'bubu': 'tidur',\n",
       " 'bumil': 'ibu hamil',\n",
       " 'bw': 'bawa',\n",
       " 'bwt': 'buat',\n",
       " 'byk': 'banyak',\n",
       " 'byrin': 'bayarkan',\n",
       " 'cabal': 'sabar',\n",
       " 'cadas': 'keren',\n",
       " 'calo': 'makelar',\n",
       " 'can': 'belum',\n",
       " 'capcus': 'pergi',\n",
       " 'caper': 'cari perhatian',\n",
       " 'ce': 'cewek',\n",
       " 'cekal': 'cegah tangkal',\n",
       " 'cemen': 'penakut',\n",
       " 'cengengesan': 'tertawa',\n",
       " 'cepet': 'cepat',\n",
       " 'cew': 'cewek',\n",
       " 'chuyunk': 'sayang',\n",
       " 'cimeng': 'ganja',\n",
       " 'cipika cipiki': 'cium pipi kanan cium pipi kiri',\n",
       " 'ciyh': 'sih',\n",
       " 'ckepp': 'cakep',\n",
       " 'ckp': 'cakep',\n",
       " 'cmiiw': \"correct me if i'm wrong\",\n",
       " 'cmpur': 'campur',\n",
       " 'cong': 'banci',\n",
       " 'conlok': 'cinta lokasi',\n",
       " 'cowwyy': 'maaf',\n",
       " 'cp': 'siapa',\n",
       " 'cpe': 'capek',\n",
       " 'cppe': 'capek',\n",
       " 'cucok': 'cocok',\n",
       " 'cuex': 'cuek',\n",
       " 'cumi': 'Cuma miscall',\n",
       " 'cups': 'culun',\n",
       " 'curanmor': 'pencurian kendaraan bermotor',\n",
       " 'curcol': 'curahan hati colongan',\n",
       " 'cwek': 'cewek',\n",
       " 'cyin': 'cinta',\n",
       " 'd': 'di',\n",
       " 'dah': 'deh',\n",
       " 'dapet': 'dapat',\n",
       " 'de': 'adik',\n",
       " 'dek': 'adik',\n",
       " 'demen': 'suka',\n",
       " 'deyh': 'deh',\n",
       " 'dgn': 'dengan',\n",
       " 'diancurin': 'dihancurkan',\n",
       " 'dimaafin': 'dimaafkan',\n",
       " 'dimintak': 'diminta',\n",
       " 'disono': 'di sana',\n",
       " 'dket': 'dekat',\n",
       " 'dkk': 'dan kawan-kawan',\n",
       " 'dll': 'dan lain-lain',\n",
       " 'dlu': 'dulu',\n",
       " 'dngn': 'dengan',\n",
       " 'dodol': 'bodoh',\n",
       " 'doku': 'uang',\n",
       " 'dongs': 'dong',\n",
       " 'dpt': 'dapat',\n",
       " 'dri': 'dari',\n",
       " 'drmn': 'darimana',\n",
       " 'drtd': 'dari tadi',\n",
       " 'dst': 'dan seterusnya',\n",
       " 'dtg': 'datang',\n",
       " 'duh': 'aduh',\n",
       " 'duren': 'durian',\n",
       " 'ed': 'edisi',\n",
       " 'egp': 'emang gue pikirin',\n",
       " 'eke': 'aku',\n",
       " 'elu': 'kamu',\n",
       " 'emangnya': 'memangnya',\n",
       " 'emng': 'memang',\n",
       " 'endak': 'tidak',\n",
       " 'enggak': 'tidak',\n",
       " 'envy': 'iri',\n",
       " 'ex': 'mantan',\n",
       " 'fax': 'facsimile',\n",
       " 'fifo': 'first in first out',\n",
       " 'folbek': 'follow back',\n",
       " 'fyi': 'sebagai informasi',\n",
       " 'gaada': 'tidak ada uang',\n",
       " 'gag': 'tidak',\n",
       " 'gaje': 'tidak jelas',\n",
       " 'gak papa': 'tidak apa-apa',\n",
       " 'gan': 'juragan',\n",
       " 'gaptek': 'gagap teknologi',\n",
       " 'gatek': 'gagap teknologi',\n",
       " 'gawe': 'kerja',\n",
       " 'gbs': 'tidak bisa',\n",
       " 'gebetan': 'orang yang disuka',\n",
       " 'geje': 'tidak jelas',\n",
       " 'gepeng': 'gelandangan dan pengemis',\n",
       " 'ghiy': 'lagi',\n",
       " 'gile': 'gila',\n",
       " 'gimana': 'bagaimana',\n",
       " 'gino': 'gigi nongol',\n",
       " 'githu': 'gitu',\n",
       " 'gj': 'tidak jelas',\n",
       " 'gmana': 'bagaimana',\n",
       " 'gn': 'begini',\n",
       " 'goblok': 'bodoh',\n",
       " 'golput': 'golongan putih',\n",
       " 'gowes': 'mengayuh sepeda',\n",
       " 'gpny': 'tidak punya',\n",
       " 'gr': 'gede rasa',\n",
       " 'gretongan': 'gratisan',\n",
       " 'gtau': 'tidak tahu',\n",
       " 'gua': 'saya',\n",
       " 'guoblok': 'goblok',\n",
       " 'gw': 'saya',\n",
       " 'ha': 'tertawa',\n",
       " 'haha': 'tertawa',\n",
       " 'hallow': 'halo',\n",
       " 'hankam': 'pertahanan dan keamanan',\n",
       " 'hehe': 'he',\n",
       " 'helo': 'halo',\n",
       " 'hey': 'hai',\n",
       " 'hlm': 'halaman',\n",
       " 'hny': 'hanya',\n",
       " 'hoax': 'isu bohong',\n",
       " 'hr': 'hari',\n",
       " 'hrus': 'harus',\n",
       " 'hubdar': 'perhubungan darat',\n",
       " 'huff': 'mengeluh',\n",
       " 'hum': 'rumah',\n",
       " 'humz': 'rumah',\n",
       " 'ilang': 'hilang',\n",
       " 'ilfil': 'tidak suka',\n",
       " 'imho': 'in my humble opinion',\n",
       " 'imoetz': 'imut',\n",
       " 'item': 'hitam',\n",
       " 'itungan': 'hitungan',\n",
       " 'iye': 'iya',\n",
       " 'ja': 'saja',\n",
       " 'jadiin': 'jadi',\n",
       " 'jaim': 'jaga image',\n",
       " 'jayus': 'tidak lucu',\n",
       " 'jdi': 'jadi',\n",
       " 'jem': 'jam',\n",
       " 'jga': 'juga',\n",
       " 'jgnkan': 'jangankan',\n",
       " 'jir': 'anjing',\n",
       " 'jln': 'jalan',\n",
       " 'jomblo': 'tidak punya pacar',\n",
       " 'jubir': 'juru bicara',\n",
       " 'jutek': 'galak',\n",
       " 'k': 'ke',\n",
       " 'kab': 'kabupaten',\n",
       " 'kabor': 'kabur',\n",
       " 'kacrut': 'kacau',\n",
       " 'kadiv': 'kepala divisi',\n",
       " 'kagak': 'tidak',\n",
       " 'kalo': 'kalau',\n",
       " 'kampret': 'sialan',\n",
       " 'kamtibmas': 'keamanan dan ketertiban masyarakat',\n",
       " 'kamuwh': 'kamu',\n",
       " 'kanwil': 'kantor wilayah',\n",
       " 'karna': 'karena',\n",
       " 'kasubbag': 'kepala subbagian',\n",
       " 'katrok': 'kampungan',\n",
       " 'kayanya': 'kayaknya',\n",
       " 'kbr': 'kabar',\n",
       " 'kdu': 'harus',\n",
       " 'kec': 'kecamatan',\n",
       " 'kejurnas': 'kejuaraan nasional',\n",
       " 'kekeuh': 'keras kepala',\n",
       " 'kel': 'kelurahan',\n",
       " 'kemaren': 'kemarin',\n",
       " 'kepengen': 'mau',\n",
       " 'kepingin': 'mau',\n",
       " 'kepsek': 'kepala sekolah',\n",
       " 'kesbang': 'kesatuan bangsa',\n",
       " 'kesra': 'kesejahteraan rakyat',\n",
       " 'ketrima': 'diterima',\n",
       " 'kgiatan': 'kegiatan',\n",
       " 'kibul': 'bohong',\n",
       " 'kimpoi': 'kawin',\n",
       " 'kl': 'kalau',\n",
       " 'klianz': 'kalian',\n",
       " 'kloter': 'kelompok terbang',\n",
       " 'klw': 'kalau',\n",
       " 'km': 'kamu',\n",
       " 'kmps': 'kampus',\n",
       " 'kmrn': 'kemarin',\n",
       " 'knal': 'kenal',\n",
       " 'knp': 'kenapa',\n",
       " 'kodya': 'kota madya',\n",
       " 'komdis': 'komisi disiplin',\n",
       " 'komsov': 'komunis sovyet',\n",
       " 'kongkow': 'kumpul bareng teman-teman',\n",
       " 'kopdar': 'kopi darat',\n",
       " 'korup': 'korupsi',\n",
       " 'kpn': 'kapan',\n",
       " 'krenz': 'keren',\n",
       " 'krm': 'kirim',\n",
       " 'kt': 'kita',\n",
       " 'ktmu': 'ketemu',\n",
       " 'ktr': 'kantor',\n",
       " 'kuper': 'kurang pergaulan',\n",
       " 'kw': 'imitasi',\n",
       " 'kyk': 'seperti',\n",
       " 'la': 'lah',\n",
       " 'lam': 'salam',\n",
       " 'lamp': 'lampiran',\n",
       " 'lanud': 'landasan udara',\n",
       " 'latgab': 'latihan gabungan',\n",
       " 'lebay': 'berlebihan',\n",
       " 'leh': 'boleh',\n",
       " 'lelet': 'lambat',\n",
       " 'lemot': 'lambat',\n",
       " 'lgi': 'lagi',\n",
       " 'lgsg': 'langsung',\n",
       " 'liat': 'lihat',\n",
       " 'litbang': 'penelitian dan pengembangan',\n",
       " 'lmyn': 'lumayan',\n",
       " 'lo': 'kamu',\n",
       " 'loe': 'kamu',\n",
       " 'lola': 'lambat berfikir',\n",
       " 'louph': 'cinta',\n",
       " 'low': 'kalau',\n",
       " 'lp': 'lupa',\n",
       " 'luber': 'langsung, umum, bebas, dan rahasia',\n",
       " 'luchuw': 'lucu',\n",
       " 'lum': 'belum',\n",
       " 'luthu': 'lucu',\n",
       " 'lwn': 'lawan',\n",
       " 'maacih': 'terima kasih',\n",
       " 'mabal': 'bolos',\n",
       " 'macem': 'macam',\n",
       " 'macih': 'masih',\n",
       " 'maem': 'makan',\n",
       " 'magabut': 'makan gaji buta',\n",
       " 'maho': 'homo',\n",
       " 'mak jang': 'kaget',\n",
       " 'maksain': 'memaksa',\n",
       " 'malem': 'malam',\n",
       " 'mam': 'makan',\n",
       " 'maneh': 'kamu',\n",
       " 'maniez': 'manis',\n",
       " 'mao': 'mau',\n",
       " 'masukin': 'masukkan',\n",
       " 'melu': 'ikut',\n",
       " 'mepet': 'dekat sekali',\n",
       " 'mgu': 'minggu',\n",
       " 'migas': 'minyak dan gas bumi',\n",
       " 'mikol': 'minuman beralkohol',\n",
       " 'miras': 'minuman keras',\n",
       " 'mlah': 'malah',\n",
       " 'mngkn': 'mungkin',\n",
       " 'mo': 'mau',\n",
       " 'mokad': 'mati',\n",
       " 'moso': 'masa',\n",
       " 'mpe': 'sampai',\n",
       " 'msk': 'masuk',\n",
       " 'mslh': 'masalah',\n",
       " 'mt': 'makan teman',\n",
       " 'mubes': 'musyawarah besar',\n",
       " 'mulu': 'melulu',\n",
       " 'mumpung': 'selagi',\n",
       " 'munas': 'musyawarah nasional',\n",
       " 'muntaber': 'muntah dan berak',\n",
       " 'musti': 'mesti',\n",
       " 'muupz': 'maaf',\n",
       " 'mw': 'now watching',\n",
       " 'n': 'dan',\n",
       " 'nanam': 'menanam',\n",
       " 'nanya': 'bertanya',\n",
       " 'napa': 'kenapa',\n",
       " 'napi': 'narapidana',\n",
       " 'napza': 'narkotika, alkohol, psikotropika, dan zat adiktif ',\n",
       " 'narkoba': 'narkotika, psikotropika, dan obat terlarang',\n",
       " 'nasgor': 'nasi goreng',\n",
       " 'nda': 'tidak',\n",
       " 'ndiri': 'sendiri',\n",
       " 'ne': 'ini',\n",
       " 'nekolin': 'neokolonialisme',\n",
       " 'nembak': 'menyatakan cinta',\n",
       " 'ngabuburit': 'menunggu berbuka puasa',\n",
       " 'ngaku': 'mengaku',\n",
       " 'ngambil': 'mengambil',\n",
       " 'nganggur': 'tidak punya pekerjaan',\n",
       " 'ngapah': 'kenapa',\n",
       " 'ngaret': 'terlambat',\n",
       " 'ngasih': 'memberikan',\n",
       " 'ngebandel': 'berbuat bandel',\n",
       " 'ngegosip': 'bergosip',\n",
       " 'ngeklaim': 'mengklaim',\n",
       " 'ngeksis': 'menjadi eksis',\n",
       " 'ngeles': 'berkilah',\n",
       " 'ngelidur': 'menggigau',\n",
       " 'ngerampok': 'merampok',\n",
       " 'ngga': 'tidak',\n",
       " 'ngibul': 'berbohong',\n",
       " 'ngiler': 'mau',\n",
       " 'ngiri': 'iri',\n",
       " 'ngisiin': 'mengisikan',\n",
       " 'ngmng': 'bicara',\n",
       " 'ngomong': 'bicara',\n",
       " 'ngubek2': 'mencari-cari',\n",
       " 'ngurus': 'mengurus',\n",
       " 'nie': 'ini',\n",
       " 'nih': 'ini',\n",
       " 'niyh': 'nih',\n",
       " 'nmr': 'nomor',\n",
       " 'nntn': 'nonton',\n",
       " 'nobar': 'nonton bareng',\n",
       " 'np': 'now playing',\n",
       " 'ntar': 'nanti',\n",
       " 'ntn': 'nonton',\n",
       " 'numpuk': 'bertumpuk',\n",
       " 'nutupin': 'menutupi',\n",
       " 'nyari': 'mencari',\n",
       " 'nyekar': 'menyekar',\n",
       " 'nyicil': 'mencicil',\n",
       " 'nyoblos': 'mencoblos',\n",
       " 'nyokap': 'ibu',\n",
       " 'ogah': 'tidak mau',\n",
       " 'ol': 'online',\n",
       " 'ongkir': 'ongkos kirim',\n",
       " 'oot': 'out of topic',\n",
       " 'org2': 'orang-orang',\n",
       " 'ortu': 'orang tua',\n",
       " 'otda': 'otonomi daerah',\n",
       " 'otw': 'on the way, sedang di jalan',\n",
       " 'pacal': 'pacar',\n",
       " 'pake': 'pakai',\n",
       " 'pala': 'kepala',\n",
       " 'pansus': 'panitia khusus',\n",
       " 'parpol': 'partai politik',\n",
       " 'pasutri': 'pasangan suami istri',\n",
       " 'pd': 'pada',\n",
       " 'pede': 'percaya diri',\n",
       " 'pelatnas': 'pemusatan latihan nasional',\n",
       " 'pemda': 'pemerintah daerah',\n",
       " 'pemkot': 'pemerintah kota',\n",
       " 'pemred': 'pemimpin redaksi',\n",
       " 'penjas': 'pendidikan jasmani',\n",
       " 'perda': 'peraturan daerah',\n",
       " 'perhatiin': 'perhatikan',\n",
       " 'pesenan': 'pesanan',\n",
       " 'pgang': 'pegang',\n",
       " 'pi': 'tapi',\n",
       " 'pilkada': 'pemilihan kepala daerah',\n",
       " 'pisan': 'sangat',\n",
       " 'pk': 'penjahat kelamin',\n",
       " 'plg': 'paling',\n",
       " 'pmrnth': 'pemerintah',\n",
       " 'polantas': 'polisi lalu lintas',\n",
       " 'ponpes': 'pondok pesantren',\n",
       " 'pp': 'pulang pergi',\n",
       " 'prg': 'pergi',\n",
       " 'prnh': 'pernah',\n",
       " 'psen': 'pesan',\n",
       " 'pst': 'pasti',\n",
       " 'pswt': 'pesawat',\n",
       " 'pw': 'posisi nyaman',\n",
       " 'qmu': 'kamu',\n",
       " 'rakor': 'rapat koordinasi',\n",
       " 'ranmor': 'kendaraan bermotor',\n",
       " 're': 'reply',\n",
       " 'ref': 'referensi',\n",
       " 'rehab': 'rehabilitasi',\n",
       " 'rempong': 'sulit',\n",
       " 'repp': 'balas',\n",
       " 'restik': 'reserse narkotika',\n",
       " 'rhs': 'rahasia',\n",
       " 'rmh': 'rumah',\n",
       " 'ru': 'baru',\n",
       " 'ruko': 'rumah toko',\n",
       " 'rusunawa': 'rumah susun sewa',\n",
       " 'ruz': 'terus',\n",
       " 'saia': 'saya',\n",
       " 'salting': 'salah tingkah',\n",
       " 'sampe': 'sampai',\n",
       " 'samsek': 'sama sekali',\n",
       " 'sapose': 'siapa',\n",
       " 'satpam': 'satuan pengamanan',\n",
       " 'sbb': 'sebagai berikut',\n",
       " 'sbh': 'sebuah',\n",
       " 'sbnrny': 'sebenarnya',\n",
       " 'scr': 'secara',\n",
       " 'sdgkn': 'sedangkan',\n",
       " 'sdkt': 'sedikit',\n",
       " 'se7': 'setuju',\n",
       " 'sebelas dua belas': 'mirip',\n",
       " 'sembako': 'sembilan bahan pokok',\n",
       " 'sempet': 'sempat',\n",
       " 'sendratari': 'seni drama tari',\n",
       " 'sgt': 'sangat',\n",
       " 'shg': 'sehingga',\n",
       " 'siech': 'sih',\n",
       " 'sikon': 'situasi dan kondisi',\n",
       " 'sinetron': 'sinema elektronik',\n",
       " 'siramin': 'siramkan',\n",
       " 'sj': 'saja',\n",
       " 'skalian': 'sekalian',\n",
       " 'sklh': 'sekolah',\n",
       " 'skt': 'sakit',\n",
       " 'slesai': 'selesai',\n",
       " 'sll': 'selalu',\n",
       " 'slma': 'selama',\n",
       " 'slsai': 'selesai',\n",
       " 'smpt': 'sempat',\n",
       " 'smw': 'semua',\n",
       " 'sndiri': 'sendiri',\n",
       " 'soljum': 'sholat jumat',\n",
       " 'songong': 'sombong',\n",
       " 'sory': 'maaf',\n",
       " 'sosek': 'sosial-ekonomi',\n",
       " 'sotoy': 'sok tahu',\n",
       " 'spa': 'siapa',\n",
       " 'sppa': 'siapa',\n",
       " 'spt': 'seperti',\n",
       " 'srtfkt': 'sertifikat',\n",
       " 'stiap': 'setiap',\n",
       " 'stlh': 'setelah',\n",
       " 'suk': 'masuk',\n",
       " 'sumpek': 'sempit',\n",
       " 'syg': 'sayang',\n",
       " 't4': 'tempat',\n",
       " 'tajir': 'kaya',\n",
       " 'tau': 'tahu',\n",
       " 'taw': 'tahu',\n",
       " 'td': 'tadi',\n",
       " 'tdk': 'tidak',\n",
       " 'teh': 'kakak perempuan',\n",
       " 'telat': 'terlambat',\n",
       " 'telmi': 'telat berpikir',\n",
       " 'temen': 'teman',\n",
       " 'tengil': 'menyebalkan',\n",
       " 'tepar': 'terkapar',\n",
       " 'tggu': 'tunggu',\n",
       " 'tgu': 'tunggu',\n",
       " 'thankz': 'terima kasih',\n",
       " 'thn': 'tahun',\n",
       " 'tilang': 'bukti pelanggaran',\n",
       " 'tipiwan': 'TvOne',\n",
       " 'tks': 'terima kasih',\n",
       " 'tlp': 'telepon',\n",
       " 'tls': 'tulis',\n",
       " 'tmbah': 'tambah',\n",
       " 'tmen2': 'teman-teman',\n",
       " 'tmpah': 'tumpah',\n",
       " 'tmpt': 'tempat',\n",
       " 'tngu': 'tunggu',\n",
       " 'tnyta': 'ternyata',\n",
       " 'tokai': 'tai',\n",
       " 'toserba': 'toko serba ada',\n",
       " 'tpi': 'tapi',\n",
       " 'trdhulu': 'terdahulu',\n",
       " 'trima': 'terima kasih',\n",
       " 'trm': 'terima',\n",
       " 'trs': 'terus',\n",
       " 'trutama': 'terutama',\n",
       " 'ts': 'penulis',\n",
       " 'tst': 'tahu sama tahu',\n",
       " 'ttg': 'tentang',\n",
       " 'tuch': 'tuh',\n",
       " 'tuir': 'tua',\n",
       " 'tw': 'tahu',\n",
       " 'u': 'kamu',\n",
       " 'ud': 'sudah',\n",
       " 'udah': 'sudah',\n",
       " 'ujg': 'ujung',\n",
       " 'ul': 'ulangan',\n",
       " 'unyu': 'lucu',\n",
       " 'uplot': 'unggah',\n",
       " 'urang': 'saya',\n",
       " 'usah': 'perlu',\n",
       " 'utk': 'untuk',\n",
       " 'valas': 'valuta asing',\n",
       " 'w/': 'dengan',\n",
       " 'wadir': 'wakil direktur',\n",
       " 'wamil': 'wajib militer',\n",
       " 'warkop': 'warung kopi',\n",
       " 'warteg': 'warung tegal',\n",
       " 'wat': 'buat',\n",
       " 'wkt': 'waktu',\n",
       " 'wtf': 'what the fuck',\n",
       " 'xixixi': 'tertawa',\n",
       " 'ya': 'iya',\n",
       " 'yap': 'iya',\n",
       " 'yaudah': 'ya sudah',\n",
       " 'yawdah': 'ya sudah',\n",
       " 'yg': 'yang',\n",
       " 'yl': 'yang lain',\n",
       " 'yo': 'iya',\n",
       " 'yowes': 'ya sudah',\n",
       " 'yup': 'iya',\n",
       " '7an': 'tujuan',\n",
       " 'ababil': 'abg labil',\n",
       " 'acc': 'accord',\n",
       " 'adlah': 'adalah',\n",
       " 'adoh': 'aduh',\n",
       " 'aha': 'tertawa',\n",
       " 'aing': 'saya',\n",
       " 'aja': 'saja',\n",
       " 'ajj': 'saja',\n",
       " 'aka': 'dikenal juga sebagai',\n",
       " 'akko': 'aku',\n",
       " 'akku': 'aku',\n",
       " 'akyu': 'aku',\n",
       " 'aljasa': 'asal jadi saja',\n",
       " 'ama': 'sama',\n",
       " 'ambl': 'ambil',\n",
       " 'anjir': 'anjing',\n",
       " 'ank': 'anak',\n",
       " 'ap': 'apa',\n",
       " 'apaan': 'apa',\n",
       " 'ape': 'apa',\n",
       " 'aplot': 'unggah',\n",
       " 'apva': 'apa',\n",
       " 'aqu': 'aku',\n",
       " 'asap': 'sesegera mungkin',\n",
       " 'aseek': 'asyik',\n",
       " 'asek': 'asyik',\n",
       " 'aseknya': 'asyiknya',\n",
       " 'asoy': 'asyik',\n",
       " 'astrojim': 'astagfirullahaladzim',\n",
       " 'ath': 'kalau begitu',\n",
       " 'atuh': 'kalau begitu',\n",
       " 'ava': 'avatar',\n",
       " 'aws': 'awas',\n",
       " 'ayang': 'sayang',\n",
       " 'ayok': 'ayo',\n",
       " 'bacot': 'banyak bicara',\n",
       " 'bales': 'balas',\n",
       " 'bangdes': 'pembangunan desa',\n",
       " 'bangkotan': 'tua',\n",
       " 'banpres': 'bantuan presiden',\n",
       " 'bansarkas': 'bantuan sarana kesehatan',\n",
       " 'bazis': 'badan amal, zakat, infak, dan sedekah',\n",
       " 'bcoz': 'karena',\n",
       " 'beb': 'sayang',\n",
       " 'bejibun': 'banyak',\n",
       " 'belom': 'belum',\n",
       " 'bener': 'benar',\n",
       " 'ber2': 'berdua',\n",
       " 'berdikari': 'berdiri di atas kaki sendiri',\n",
       " 'bet': 'banget',\n",
       " 'beti': 'beda tipis',\n",
       " 'beut': 'banget',\n",
       " 'bgd': 'banget',\n",
       " 'bgs': 'bagus',\n",
       " 'bhubu': 'tidur',\n",
       " 'bimbuluh': 'bimbingan dan penyuluhan',\n",
       " 'bisi': 'kalau-kalau',\n",
       " 'bkn': 'bukan',\n",
       " 'bl': 'beli',\n",
       " 'blg': 'bilang',\n",
       " 'blm': 'belum',\n",
       " 'bls': 'balas',\n",
       " 'bnchi': 'benci',\n",
       " 'bngung': 'bingung',\n",
       " 'bnyk': 'banyak',\n",
       " 'bohay': 'badan aduhai',\n",
       " 'bokep': 'porno',\n",
       " 'bokin': 'pacar',\n",
       " 'bole': 'boleh',\n",
       " 'bolot': 'bodoh',\n",
       " 'bonyok': 'ayah ibu',\n",
       " 'bpk': 'bapak',\n",
       " 'brb': 'segera kembali',\n",
       " 'brngkt': 'berangkat',\n",
       " 'brp': 'berapa',\n",
       " 'brur': 'saudara laki-laki',\n",
       " 'bsa': 'bisa',\n",
       " 'bsk': 'besok',\n",
       " 'bu_bu': 'tidur',\n",
       " 'bubarin': 'bubarkan',\n",
       " 'buber': 'buka bersama',\n",
       " 'bujubune': 'luar biasa',\n",
       " 'buser': 'buru sergap',\n",
       " 'bwhn': 'bawahan',\n",
       " 'byar': 'bayar',\n",
       " 'byr': 'bayar',\n",
       " 'c8': 'chat',\n",
       " 'cabut': 'pergi',\n",
       " 'caem': 'cakep',\n",
       " 'cama-cama': 'sama-sama',\n",
       " 'cangcut': 'celana dalam',\n",
       " 'cape': 'capek',\n",
       " 'caur': 'jelek',\n",
       " 'cekak': 'tidak ada uang',\n",
       " 'cekidot': 'coba lihat',\n",
       " 'cemplungin': 'cemplungkan',\n",
       " 'ceper': 'pendek',\n",
       " 'ceu': 'kakak perempuan',\n",
       " 'cewe': 'cewek',\n",
       " 'cibuk': 'sibuk',\n",
       " 'cin': 'cinta',\n",
       " 'ciye': 'cie',\n",
       " 'ckck': 'ck',\n",
       " 'clbk': 'cinta lama bersemi kembali',\n",
       " 'cmpr': 'campur',\n",
       " 'cnenk': 'senang',\n",
       " 'congor': 'mulut',\n",
       " 'cow': 'cowok',\n",
       " 'coz': 'karena',\n",
       " 'cpa': 'siapa',\n",
       " 'gokil': 'gila',\n",
       " 'gombal': 'suka merayu',\n",
       " 'gpl': 'tidak pakai lama',\n",
       " 'gpp': 'tidak apa-apa',\n",
       " 'gretong': 'gratis',\n",
       " 'gt': 'begitu',\n",
       " 'gtw': 'tidak tahu',\n",
       " 'gue': 'saya',\n",
       " 'guys': 'teman-teman',\n",
       " 'gws': 'cepat sembuh',\n",
       " 'haghaghag': 'tertawa',\n",
       " 'hakhak': 'tertawa',\n",
       " 'handak': 'bahan peledak',\n",
       " 'hansip': 'pertahanan sipil',\n",
       " 'hellow': 'halo',\n",
       " 'helow': 'halo',\n",
       " 'hi': 'hai',\n",
       " 'hlng': 'hilang',\n",
       " 'hnya': 'hanya',\n",
       " 'houm': 'rumah',\n",
       " 'hrs': 'harus',\n",
       " 'hubad': 'hubungan angkatan darat',\n",
       " 'hubla': 'perhubungan laut',\n",
       " 'huft': 'mengeluh',\n",
       " 'humas': 'hubungan masyarakat',\n",
       " 'idk': 'saya tidak tahu',\n",
       " 'ilfeel': 'tidak suka',\n",
       " 'imba': 'jago sekali',\n",
       " 'imoet': 'imut',\n",
       " 'info': 'informasi',\n",
       " 'itung': 'hitung',\n",
       " 'isengin': 'bercanda',\n",
       " 'iyala': 'iya lah',\n",
       " 'iyo': 'iya',\n",
       " 'jablay': 'jarang dibelai',\n",
       " 'jadul': 'jaman dulu',\n",
       " 'jancuk': 'anjing',\n",
       " 'jd': 'jadi',\n",
       " 'jdikan': 'jadikan',\n",
       " 'jg': 'juga',\n",
       " 'jgn': 'jangan',\n",
       " 'jijay': 'jijik',\n",
       " 'jkt': 'jakarta',\n",
       " 'jnj': 'janji',\n",
       " 'jth': 'jatuh',\n",
       " 'jurdil': 'jujur adil',\n",
       " 'jwb': 'jawab',\n",
       " 'ka': 'kakak',\n",
       " 'kabag': 'kepala bagian',\n",
       " 'kacian': 'kasihan',\n",
       " 'kadit': 'kepala direktorat',\n",
       " 'kaga': 'tidak',\n",
       " 'kaka': 'kakak',\n",
       " 'kamtib': 'keamanan dan ketertiban',\n",
       " 'kamuh': 'kamu',\n",
       " 'kamyu': 'kamu',\n",
       " 'kapt': 'kapten',\n",
       " 'kasat': 'kepala satuan',\n",
       " 'kasubbid': 'kepala subbidang',\n",
       " 'kau': 'kamu',\n",
       " 'kbar': 'kabar',\n",
       " 'kcian': 'kasihan',\n",
       " 'keburu': 'terlanjur',\n",
       " 'kedubes': 'kedutaan besar',\n",
       " 'kek': 'seperti',\n",
       " 'keknya': 'kayaknya',\n",
       " 'keliatan': 'kelihatan',\n",
       " 'keneh': 'masih',\n",
       " 'kepikiran': 'terpikirkan',\n",
       " 'kepo': 'mau tahu urusan orang',\n",
       " 'kere': 'tidak punya uang',\n",
       " 'kesian': 'kasihan',\n",
       " 'ketauan': 'ketahuan',\n",
       " 'keukeuh': 'keras kepala',\n",
       " 'khan': 'kan',\n",
       " 'kibus': 'kaki busuk',\n",
       " 'kk': 'kakak',\n",
       " 'klian': 'kalian',\n",
       " 'klo': 'kalau',\n",
       " 'kluarga': 'keluarga',\n",
       " 'klwrga': 'keluarga',\n",
       " 'kmari': 'kemari',\n",
       " 'kmpus': 'kampus',\n",
       " 'kn': 'kan',\n",
       " 'knl': 'kenal',\n",
       " 'knpa': 'kenapa',\n",
       " 'kog': 'kok',\n",
       " 'kompi': 'komputer',\n",
       " 'komtiong': 'komunis Tiongkok',\n",
       " 'konjen': 'konsulat jenderal',\n",
       " 'koq': 'kok',\n",
       " 'kpd': 'kepada',\n",
       " 'kptsan': 'keputusan',\n",
       " 'krik': 'garing',\n",
       " 'krn': 'karena',\n",
       " 'ktauan': 'ketahuan',\n",
       " 'ktny': 'katanya',\n",
       " 'kudu': 'harus',\n",
       " 'kuq': 'kok',\n",
       " 'ky': 'seperti',\n",
       " 'kykny': 'kayanya',\n",
       " 'laka': 'kecelakaan',\n",
       " 'lambreta': 'lambat',\n",
       " 'lansia': 'lanjut usia',\n",
       " 'lapas': 'lembaga pemasyarakatan',\n",
       " 'lbur': 'libur',\n",
       " 'lekong': 'laki-laki',\n",
       " 'lg': 'lagi',\n",
       " 'lgkp': 'lengkap',\n",
       " 'lht': 'lihat',\n",
       " 'linmas': 'perlindungan masyarakat',\n",
       " 'lmyan': 'lumayan',\n",
       " 'lngkp': 'lengkap',\n",
       " 'loch': 'loh',\n",
       " 'lol': 'tertawa',\n",
       " 'lom': 'belum',\n",
       " 'loupz': 'cinta',\n",
       " 'lowh': 'kamu',\n",
       " 'lu': 'kamu',\n",
       " 'luchu': 'lucu',\n",
       " 'luff': 'cinta',\n",
       " 'luph': 'cinta',\n",
       " 'lw': 'kamu',\n",
       " 'lwt': 'lewat',\n",
       " 'maaciw': 'terima kasih',\n",
       " 'mabes': 'markas besar',\n",
       " 'macem-macem': 'macam-macam',\n",
       " 'madesu': 'masa depan suram',\n",
       " 'maen': 'main',\n",
       " 'mahatma': 'maju sehat bersama',\n",
       " 'mak': 'ibu',\n",
       " 'makasih': 'terima kasih',\n",
       " 'malah': 'bahkan',\n",
       " 'malu2in': 'memalukan',\n",
       " 'mamz': 'makan',\n",
       " 'manies': 'manis',\n",
       " 'mantep': 'mantap',\n",
       " 'markus': 'makelar kasus',\n",
       " 'mba': 'mbak',\n",
       " 'mending': 'lebih baik',\n",
       " 'mgkn': 'mungkin',\n",
       " 'mhn': 'mohon',\n",
       " 'miker': 'minuman keras',\n",
       " 'milis': 'mailing list',\n",
       " 'mksd': 'maksud',\n",
       " 'mls': 'malas',\n",
       " 'mnt': 'minta',\n",
       " 'moge': 'motor gede',\n",
       " 'mokat': 'mati',\n",
       " 'mosok': 'masa',\n",
       " 'msh': 'masih',\n",
       " 'mskpn': 'meskipun',\n",
       " 'msng2': 'masing-masing',\n",
       " 'muahal': 'mahal',\n",
       " 'muker': 'musyawarah kerja',\n",
       " 'mumet': 'pusing',\n",
       " 'muna': 'munafik',\n",
       " 'munaslub': 'musyawarah nasional luar biasa',\n",
       " 'musda': 'musyawarah daerah',\n",
       " 'muup': 'maaf',\n",
       " 'muuv': 'maaf',\n",
       " 'nal': 'kenal',\n",
       " 'nangis': 'menangis',\n",
       " 'naon': 'apa',\n",
       " 'napol': 'narapidana politik',\n",
       " 'naq': 'anak',\n",
       " 'narsis': 'bangga pada diri sendiri',\n",
       " 'nax': 'anak',\n",
       " 'ndak': 'tidak',\n",
       " 'ndut': 'gendut',\n",
       " 'nekolim': 'neokolonialisme',\n",
       " 'nelfon': 'menelepon',\n",
       " 'ngabis2in': 'menghabiskan',\n",
       " 'ngakak': 'tertawa',\n",
       " 'ngambek': 'marah',\n",
       " 'ngampus': 'pergi ke kampus',\n",
       " 'ngantri': 'mengantri',\n",
       " 'ngapain': 'sedang apa',\n",
       " 'ngaruh': 'berpengaruh',\n",
       " 'ngawur': 'berbicara sembarangan',\n",
       " 'ngeceng': 'kumpul bareng-bareng',\n",
       " 'ngeh': 'sadar',\n",
       " 'ngekos': 'tinggal di kos',\n",
       " 'ngelamar': 'melamar',\n",
       " 'ngeliat': 'melihat',\n",
       " 'ngemeng': 'bicara terus-terusan',\n",
       " 'ngerti': 'mengerti',\n",
       " 'nggak': 'tidak',\n",
       " 'ngikut': 'ikut',\n",
       " 'nginep': 'menginap',\n",
       " 'ngisi': 'mengisi',\n",
       " 'ngmg': 'bicara',\n",
       " 'ngocol': 'lucu',\n",
       " 'ngomongin': 'membicarakan',\n",
       " 'ngumpul': 'berkumpul',\n",
       " 'ni': 'ini',\n",
       " 'nyasar': 'tersesat',\n",
       " 'nyariin': 'mencari',\n",
       " 'nyiapin': 'mempersiapkan',\n",
       " 'nyiram': 'menyiram',\n",
       " 'nyok': 'ayo',\n",
       " 'o/': 'oleh',\n",
       " 'ok': 'ok',\n",
       " 'priksa': 'periksa',\n",
       " 'pro': 'profesional',\n",
       " 'psn': 'pesan',\n",
       " 'psti': 'pasti',\n",
       " 'puanas': 'panas',\n",
       " 'qmo': 'kamu',\n",
       " 'qt': 'kita',\n",
       " 'rame': 'ramai',\n",
       " 'raskin': 'rakyat miskin',\n",
       " 'red': 'redaksi',\n",
       " 'reg': 'register',\n",
       " 'rejeki': 'rezeki',\n",
       " 'renstra': 'rencana strategis',\n",
       " 'reskrim': 'reserse kriminal',\n",
       " 'sni': 'sini',\n",
       " 'somse': 'sombong sekali',\n",
       " 'sorry': 'maaf',\n",
       " 'sosbud': 'sosial-budaya',\n",
       " 'sospol': 'sosial-politik',\n",
       " 'sowry': 'maaf',\n",
       " 'spd': 'sepeda',\n",
       " 'sprti': 'seperti',\n",
       " 'spy': 'supaya',\n",
       " 'stelah': 'setelah',\n",
       " 'subbag': 'subbagian',\n",
       " 'sumbangin': 'sumbangkan',\n",
       " 'sy': 'saya',\n",
       " 'syp': 'siapa',\n",
       " 'tabanas': 'tabungan pembangunan nasional',\n",
       " 'tar': 'nanti',\n",
       " 'taun': 'tahun',\n",
       " 'tawh': 'tahu',\n",
       " 'tdi': 'tadi',\n",
       " 'te2p': 'tetap',\n",
       " 'tekor': 'rugi',\n",
       " 'telkom': 'telekomunikasi',\n",
       " 'telp': 'telepon',\n",
       " 'temen2': 'teman-teman',\n",
       " 'tengok': 'menjenguk',\n",
       " 'terbitin': 'terbitkan',\n",
       " 'tgl': 'tanggal',\n",
       " 'thanks': 'terima kasih',\n",
       " 'thd': 'terhadap',\n",
       " 'thx': 'terima kasih',\n",
       " 'tipi': 'TV',\n",
       " 'tkg': 'tukang',\n",
       " 'tll': 'terlalu',\n",
       " 'tlpn': 'telepon',\n",
       " 'tman': 'teman',\n",
       " 'tmbh': 'tambah',\n",
       " 'tmn2': 'teman-teman',\n",
       " 'tmph': 'tumpah',\n",
       " 'tnda': 'tanda',\n",
       " 'tnh': 'tanah',\n",
       " 'togel': 'toto gelap',\n",
       " 'tp': 'tapi',\n",
       " 'tq': 'terima kasih',\n",
       " 'trgntg': 'tergantung',\n",
       " 'trims': 'terima kasih',\n",
       " 'cb': 'coba',\n",
       " 'y': 'ya',\n",
       " 'munfik': 'munafik',\n",
       " 'reklamuk': 'reklamasi',\n",
       " 'sma': 'sama',\n",
       " 'tren': 'trend',\n",
       " 'ngehe': 'kesal',\n",
       " 'mz': 'mas',\n",
       " 'analisise': 'analisis',\n",
       " 'sadaar': 'sadar',\n",
       " 'sept': 'september',\n",
       " 'nmenarik': 'menarik',\n",
       " 'zonk': 'bodoh',\n",
       " 'rights': 'benar',\n",
       " 'simiskin': 'miskin',\n",
       " 'ngumpet': 'sembunyi',\n",
       " 'hardcore': 'keras',\n",
       " 'akhirx': 'akhirnya',\n",
       " 'solve': 'solusi',\n",
       " 'watuk': 'batuk',\n",
       " 'ngebully': 'intimidasi',\n",
       " 'masy': 'masyarakat',\n",
       " 'still': 'masih',\n",
       " 'tauk': 'tahu',\n",
       " 'mbual': 'bual',\n",
       " 'tioghoa': 'tionghoa',\n",
       " 'ngentotin': 'senggama',\n",
       " 'kentot': 'senggama',\n",
       " 'faktakta': 'fakta',\n",
       " 'sohib': 'teman',\n",
       " 'rubahnn': 'rubah',\n",
       " 'trlalu': 'terlalu',\n",
       " 'nyela': 'cela',\n",
       " 'heters': 'pembenci',\n",
       " 'nyembah': 'sembah',\n",
       " 'most': 'paling',\n",
       " 'ikon': 'lambang',\n",
       " 'light': 'terang',\n",
       " 'pndukung': 'pendukung',\n",
       " 'setting': 'atur',\n",
       " 'seting': 'akting',\n",
       " 'next': 'lanjut',\n",
       " 'waspadalah': 'waspada',\n",
       " 'gantengsaya': 'ganteng',\n",
       " 'parte': 'partai',\n",
       " 'nyerang': 'serang',\n",
       " 'nipu': 'tipu',\n",
       " 'ktipu': 'tipu',\n",
       " 'jentelmen': 'berani',\n",
       " 'buangbuang': 'buang',\n",
       " 'tsangka': 'tersangka',\n",
       " 'kurng': 'kurang',\n",
       " 'ista': 'nista',\n",
       " 'less': 'kurang',\n",
       " ...}"
      ]
     },
     "execution_count": 20,
     "metadata": {},
     "output_type": "execute_result"
    }
   ],
   "source": [
    "#membaca data dan mengubahnya menjadi dictionary\n",
    "file = open(\"combined_slang_words.txt\", \"r\")\n",
    "\n",
    "contents = file.read()\n",
    "kamus = ast.literal_eval(contents)\n",
    "file.close()\n",
    "print(type(kamus))\n",
    "kamus"
   ]
  },
  {
   "cell_type": "code",
   "execution_count": null,
   "metadata": {
    "id": "6oC2yUzJQz_x"
   },
   "outputs": [],
   "source": [
    "## Change word\n",
    "\n",
    "def normalisasi(text):\n",
    "    final_string = ' '.join(str(kamus.get(word, word)) for word in text).split()\n",
    "    return final_string\n",
    "\n",
    "data['Normalisasi'] = data['Tokenized'].apply(normalisasi)"
   ]
  },
  {
   "cell_type": "code",
   "execution_count": null,
   "metadata": {
    "colab": {
     "base_uri": "https://localhost:8080/"
    },
    "executionInfo": {
     "elapsed": 507,
     "status": "ok",
     "timestamp": 1675305656724,
     "user": {
      "displayName": "Gama Putra Adi Susilo",
      "userId": "11761602289089114790"
     },
     "user_tz": -420
    },
    "id": "M1Xp1wGDRZ9p",
    "outputId": "d2910018-2e55-46fb-8b28-443981b75ee2"
   },
   "outputs": [
    {
     "name": "stdout",
     "output_type": "stream",
     "text": [
      "['anggota', 'papua', 'ceroboh', 'perannya', 'sebagai', 'pemasok', 'amunisi', 'terbongkar', 'gara', 'gara', 'bacok', 'warga', 'sipil', 'surya', 'gara', 'gara', 'kecerobohannya', 'sendiri', 'seorang', 'anggota', 'papua', 'berhasil', 'ditangkap', 'aparat', 'polri', 'hanya', 'perannya', 'sebagai', 'pemasok', 'amunisi', 'untuk', 'papua', 'juga', 'ikut', 'terbongkar', 'penyebab', 'awalnya', 'adalah', 'nekat', 'membacok', 'warga', 'sipil', 'intan', 'jaya', 'pada', 'april', 'lalu', 'polisi', 'langsung', 'menangkapnya', 'akhirnya', 'terbongkar', 'perannya', 'sebagai', 'anggota', 'papua', 'yang', 'bertugas', 'memasok', 'amunisi', 'melansir', 'dari', 'laman', 'tribratanews', 'polri', 'berdasarkan', 'informasi', 'adanya', 'keberadaan', 'tersangka', 'pembacokan', 'warga', 'intan', 'jaya', 'pada', 'april', 'pertigaan', 'pasar', 'yokatapang', 'aparat', 'gabungan', 'damai', 'cartenz', 'melakukan', 'pegecekan', 'penyelidikan', 'dari', 'hasil', 'pengecekan', 'tersangka', 'terlihat', 'kali', 'wabu', 'rabu', 'selanjutnya', 'bergerak', 'berhasil', 'mengamankan', 'tersangka', 'yang', 'diketahui', 'berinisial', 'dari', 'hasil', 'pemeriksaan', 'sementara', 'tersangka', 'juga', 'merupakan', 'anggota', 'papua', 'aktif', 'dibenarkan', 'oleh', 'kabid', 'humas', 'polda', 'papua', 'kombes', 'mustofa', 'kamal', 'saat', 'dikonfirmasi', 'pihaknya', 'menyebutkan', 'penangkanapan', 'berawal', 'dari', 'penyeledikan', 'kasus', 'pembacokan', 'asep', 'saputra', 'pada', 'april', 'lalu', 'setelah', 'mendapat', 'informasi', 'kita', 'berhasil', 'mengamankan', 'tersangka', 'selanjutnya', 'kita', 'lakukan', 'pengembangan', 'ujarnya', 'dari', 'hasil', 'pengembangan', 'lanjut', 'kasatgas', 'bahwa', 'tersangka', 'diketahui', 'merupakan', 'jaringan', 'pengadaan', 'amunisi', 'untuk', 'papua', 'terbukti', 'saat', 'mengamankan', 'tersangka', 'petugas', 'menemukan', 'butir', 'amunisi', 'selain', 'terkait', 'kasus', 'pembacokan', 'tersangka', 'juga', 'jaringan', 'pengadaan', 'amunisi', 'untuk', 'papua', 'selanjutnya', 'kita', 'akan', 'lakukan', 'pengembangan', 'kita', 'informasikan', 'kembali', 'pungkas', 'kabid', 'humas', 'polda', 'papua', 'terungkap', 'sosok', 'praka'] \n",
      "\n",
      "['anggota', 'papua', 'ceroboh', 'perannya', 'sebagai', 'pemasok', 'amunisi', 'terbongkar', 'gara', 'gara', 'bacok', 'warga', 'sipil', 'surya', 'gara', 'gara', 'kecerobohannya', 'sendiri', 'seorang', 'anggota', 'papua', 'berhasil', 'ditangkap', 'aparat', 'polri', 'hanya', 'perannya', 'sebagai', 'pemasok', 'amunisi', 'untuk', 'papua', 'juga', 'ikut', 'terbongkar', 'penyebab', 'awalnya', 'adalah', 'nekat', 'membacok', 'warga', 'sipil', 'intan', 'jaya', 'pada', 'april', 'lalu', 'polisi', 'langsung', 'menangkapnya', 'akhirnya', 'terbongkar', 'perannya', 'sebagai', 'anggota', 'papua', 'yang', 'bertugas', 'memasok', 'amunisi', 'melansir', 'dari', 'laman', 'tribratanews', 'polri', 'berdasarkan', 'informasi', 'adanya', 'keberadaan', 'tersangka', 'pembacokan', 'warga', 'intan', 'jaya', 'pada', 'april', 'pertigaan', 'pasar', 'yokatapang', 'aparat', 'gabungan', 'damai', 'cartenz', 'melakukan', 'pegecekan', 'penyelidikan', 'dari', 'hasil', 'pengecekan', 'tersangka', 'terlihat', 'kali', 'wabu', 'rabu', 'selanjutnya', 'bergerak', 'berhasil', 'mengamankan', 'tersangka', 'yang', 'diketahui', 'berinisial', 'dari', 'hasil', 'pemeriksaan', 'sementara', 'tersangka', 'juga', 'merupakan', 'anggota', 'papua', 'aktif', 'dibenarkan', 'oleh', 'kabid', 'hubungan', 'masyarakat', 'polda', 'papua', 'kombes', 'mustofa', 'kamal', 'saat', 'dikonfirmasi', 'pihaknya', 'menyebutkan', 'penangkanapan', 'berawal', 'dari', 'penyeledikan', 'kasus', 'pembacokan', 'asep', 'saputra', 'pada', 'april', 'lalu', 'setelah', 'mendapat', 'informasi', 'kita', 'berhasil', 'mengamankan', 'tersangka', 'selanjutnya', 'kita', 'lakukan', 'pengembangan', 'ujarnya', 'dari', 'hasil', 'pengembangan', 'lanjut', 'kasatgas', 'bahwa', 'tersangka', 'diketahui', 'merupakan', 'jaringan', 'pengadaan', 'amunisi', 'untuk', 'papua', 'terbukti', 'saat', 'mengamankan', 'tersangka', 'petugas', 'menemukan', 'butir', 'amunisi', 'selain', 'terkait', 'kasus', 'pembacokan', 'tersangka', 'juga', 'jaringan', 'pengadaan', 'amunisi', 'untuk', 'papua', 'selanjutnya', 'kita', 'akan', 'lakukan', 'pengembangan', 'kita', 'informasikan', 'kembali', 'pungkas', 'kabid', 'hubungan', 'masyarakat', 'polda', 'papua', 'terungkap', 'sosok', 'praka'] \n",
      "\n"
     ]
    }
   ],
   "source": [
    "for i in data.loc[8][['Tokenized','Normalisasi']]:\n",
    "    print(i,'\\n')"
   ]
  },
  {
   "cell_type": "markdown",
   "metadata": {
    "id": "gKlAgLnLRgLL"
   },
   "source": [
    "Stopword Removal"
   ]
  },
  {
   "cell_type": "code",
   "execution_count": null,
   "metadata": {
    "colab": {
     "base_uri": "https://localhost:8080/"
    },
    "executionInfo": {
     "elapsed": 573,
     "status": "ok",
     "timestamp": 1675305660784,
     "user": {
      "displayName": "Gama Putra Adi Susilo",
      "userId": "11761602289089114790"
     },
     "user_tz": -420
    },
    "id": "j-jTIR_IRb_p",
    "outputId": "0bff5d72-4e3d-4eb1-dc1d-4ba58cdb2628"
   },
   "outputs": [
    {
     "name": "stderr",
     "output_type": "stream",
     "text": [
      "[nltk_data] Downloading package stopwords to /root/nltk_data...\n",
      "[nltk_data]   Package stopwords is already up-to-date!\n"
     ]
    }
   ],
   "source": [
    "#menghapus kata yang kurang penting, namun sering muncul (stopword) seperti kata penghubung\n",
    "#mengambil stopword dari library python sastrawi\n",
    "import nltk\n",
    "nltk.download('stopwords')\n",
    "\n",
    "listStopword = set(stopwords.words('indonesian'))\n",
    "listStopword.update(set(stopwords.words('english')))\n",
    "\n",
    "def stopwords_removal(words):\n",
    "    return [word for word in words if word not in listStopword]\n",
    "\n",
    "data['Removed Stopwords'] = data['Normalisasi'].apply(stopwords_removal)"
   ]
  },
  {
   "cell_type": "code",
   "execution_count": null,
   "metadata": {
    "colab": {
     "base_uri": "https://localhost:8080/"
    },
    "executionInfo": {
     "elapsed": 9,
     "status": "ok",
     "timestamp": 1675305663886,
     "user": {
      "displayName": "Gama Putra Adi Susilo",
      "userId": "11761602289089114790"
     },
     "user_tz": -420
    },
    "id": "51wIgEhxRmMA",
    "outputId": "12d54b68-48a2-4a2a-d238-823fec8f1ec6"
   },
   "outputs": [
    {
     "name": "stdout",
     "output_type": "stream",
     "text": [
      "['anggota', 'papua', 'ceroboh', 'perannya', 'sebagai', 'pemasok', 'amunisi', 'terbongkar', 'gara', 'gara', 'bacok', 'warga', 'sipil', 'surya', 'gara', 'gara', 'kecerobohannya', 'sendiri', 'seorang', 'anggota', 'papua', 'berhasil', 'ditangkap', 'aparat', 'polri', 'hanya', 'perannya', 'sebagai', 'pemasok', 'amunisi', 'untuk', 'papua', 'juga', 'ikut', 'terbongkar', 'penyebab', 'awalnya', 'adalah', 'nekat', 'membacok', 'warga', 'sipil', 'intan', 'jaya', 'pada', 'april', 'lalu', 'polisi', 'langsung', 'menangkapnya', 'akhirnya', 'terbongkar', 'perannya', 'sebagai', 'anggota', 'papua', 'yang', 'bertugas', 'memasok', 'amunisi', 'melansir', 'dari', 'laman', 'tribratanews', 'polri', 'berdasarkan', 'informasi', 'adanya', 'keberadaan', 'tersangka', 'pembacokan', 'warga', 'intan', 'jaya', 'pada', 'april', 'pertigaan', 'pasar', 'yokatapang', 'aparat', 'gabungan', 'damai', 'cartenz', 'melakukan', 'pegecekan', 'penyelidikan', 'dari', 'hasil', 'pengecekan', 'tersangka', 'terlihat', 'kali', 'wabu', 'rabu', 'selanjutnya', 'bergerak', 'berhasil', 'mengamankan', 'tersangka', 'yang', 'diketahui', 'berinisial', 'dari', 'hasil', 'pemeriksaan', 'sementara', 'tersangka', 'juga', 'merupakan', 'anggota', 'papua', 'aktif', 'dibenarkan', 'oleh', 'kabid', 'hubungan', 'masyarakat', 'polda', 'papua', 'kombes', 'mustofa', 'kamal', 'saat', 'dikonfirmasi', 'pihaknya', 'menyebutkan', 'penangkanapan', 'berawal', 'dari', 'penyeledikan', 'kasus', 'pembacokan', 'asep', 'saputra', 'pada', 'april', 'lalu', 'setelah', 'mendapat', 'informasi', 'kita', 'berhasil', 'mengamankan', 'tersangka', 'selanjutnya', 'kita', 'lakukan', 'pengembangan', 'ujarnya', 'dari', 'hasil', 'pengembangan', 'lanjut', 'kasatgas', 'bahwa', 'tersangka', 'diketahui', 'merupakan', 'jaringan', 'pengadaan', 'amunisi', 'untuk', 'papua', 'terbukti', 'saat', 'mengamankan', 'tersangka', 'petugas', 'menemukan', 'butir', 'amunisi', 'selain', 'terkait', 'kasus', 'pembacokan', 'tersangka', 'juga', 'jaringan', 'pengadaan', 'amunisi', 'untuk', 'papua', 'selanjutnya', 'kita', 'akan', 'lakukan', 'pengembangan', 'kita', 'informasikan', 'kembali', 'pungkas', 'kabid', 'hubungan', 'masyarakat', 'polda', 'papua', 'terungkap', 'sosok', 'praka'] \n",
      "\n",
      "['anggota', 'papua', 'ceroboh', 'perannya', 'pemasok', 'amunisi', 'terbongkar', 'gara', 'gara', 'bacok', 'warga', 'sipil', 'surya', 'gara', 'gara', 'kecerobohannya', 'anggota', 'papua', 'berhasil', 'ditangkap', 'aparat', 'polri', 'perannya', 'pemasok', 'amunisi', 'papua', 'terbongkar', 'penyebab', 'nekat', 'membacok', 'warga', 'sipil', 'intan', 'jaya', 'april', 'polisi', 'langsung', 'menangkapnya', 'terbongkar', 'perannya', 'anggota', 'papua', 'bertugas', 'memasok', 'amunisi', 'melansir', 'laman', 'tribratanews', 'polri', 'berdasarkan', 'informasi', 'keberadaan', 'tersangka', 'pembacokan', 'warga', 'intan', 'jaya', 'april', 'pertigaan', 'pasar', 'yokatapang', 'aparat', 'gabungan', 'damai', 'cartenz', 'pegecekan', 'penyelidikan', 'hasil', 'pengecekan', 'tersangka', 'kali', 'wabu', 'rabu', 'bergerak', 'berhasil', 'mengamankan', 'tersangka', 'berinisial', 'hasil', 'pemeriksaan', 'tersangka', 'anggota', 'papua', 'aktif', 'dibenarkan', 'kabid', 'hubungan', 'masyarakat', 'polda', 'papua', 'kombes', 'mustofa', 'kamal', 'dikonfirmasi', 'penangkanapan', 'penyeledikan', 'pembacokan', 'asep', 'saputra', 'april', 'informasi', 'berhasil', 'mengamankan', 'tersangka', 'lakukan', 'pengembangan', 'hasil', 'pengembangan', 'kasatgas', 'tersangka', 'jaringan', 'pengadaan', 'amunisi', 'papua', 'terbukti', 'mengamankan', 'tersangka', 'petugas', 'menemukan', 'butir', 'amunisi', 'terkait', 'pembacokan', 'tersangka', 'jaringan', 'pengadaan', 'amunisi', 'papua', 'lakukan', 'pengembangan', 'informasikan', 'pungkas', 'kabid', 'hubungan', 'masyarakat', 'polda', 'papua', 'terungkap', 'sosok', 'praka'] \n",
      "\n"
     ]
    }
   ],
   "source": [
    "for i in data.loc[8][['Normalisasi','Removed Stopwords']]:\n",
    "    print(i,'\\n')"
   ]
  },
  {
   "cell_type": "code",
   "execution_count": null,
   "metadata": {
    "id": "HrF0VIMiSxTI"
   },
   "outputs": [],
   "source": [
    "#mengembalikan token menjadi string tunggal kembali untuk stemming\n",
    "def untokenize(text):\n",
    "    \n",
    "    text = ' '.join(text)\n",
    "    step1 = text.replace(\"`` \", '\"').replace(\" ''\", '\"').replace('. . .',  '...')\n",
    "    step2 = step1.replace(\" ( \", \" (\").replace(\" ) \", \") \")\n",
    "    step3 = re.sub(r' ([.,:;?!%]+)([ \\'\"`])', r\"\\1\\2\", step2)\n",
    "    step4 = re.sub(r' ([.,:;?!%]+)$', r\"\\1\", step3)\n",
    "    step5 = step4.replace(\" '\", \"'\").replace(\" n't\", \"n't\").replace(\n",
    "         \"can not\", \"cannot\")\n",
    "    step6 = step5.replace(\" ` \", \" '\")\n",
    "    return step6.strip()\n",
    "\n",
    "data['Untokenized'] = data['Removed Stopwords'].apply(untokenize)"
   ]
  },
  {
   "cell_type": "code",
   "execution_count": null,
   "metadata": {
    "colab": {
     "base_uri": "https://localhost:8080/"
    },
    "executionInfo": {
     "elapsed": 686,
     "status": "ok",
     "timestamp": 1675305677920,
     "user": {
      "displayName": "Gama Putra Adi Susilo",
      "userId": "11761602289089114790"
     },
     "user_tz": -420
    },
    "id": "fwRJXLR4S2Dw",
    "outputId": "6dd18690-3b46-4092-8acc-ba16d6289d19"
   },
   "outputs": [
    {
     "name": "stdout",
     "output_type": "stream",
     "text": [
      "['anggota', 'papua', 'ceroboh', 'perannya', 'pemasok', 'amunisi', 'terbongkar', 'gara', 'gara', 'bacok', 'warga', 'sipil', 'surya', 'gara', 'gara', 'kecerobohannya', 'anggota', 'papua', 'berhasil', 'ditangkap', 'aparat', 'polri', 'perannya', 'pemasok', 'amunisi', 'papua', 'terbongkar', 'penyebab', 'nekat', 'membacok', 'warga', 'sipil', 'intan', 'jaya', 'april', 'polisi', 'langsung', 'menangkapnya', 'terbongkar', 'perannya', 'anggota', 'papua', 'bertugas', 'memasok', 'amunisi', 'melansir', 'laman', 'tribratanews', 'polri', 'berdasarkan', 'informasi', 'keberadaan', 'tersangka', 'pembacokan', 'warga', 'intan', 'jaya', 'april', 'pertigaan', 'pasar', 'yokatapang', 'aparat', 'gabungan', 'damai', 'cartenz', 'pegecekan', 'penyelidikan', 'hasil', 'pengecekan', 'tersangka', 'kali', 'wabu', 'rabu', 'bergerak', 'berhasil', 'mengamankan', 'tersangka', 'berinisial', 'hasil', 'pemeriksaan', 'tersangka', 'anggota', 'papua', 'aktif', 'dibenarkan', 'kabid', 'hubungan', 'masyarakat', 'polda', 'papua', 'kombes', 'mustofa', 'kamal', 'dikonfirmasi', 'penangkanapan', 'penyeledikan', 'pembacokan', 'asep', 'saputra', 'april', 'informasi', 'berhasil', 'mengamankan', 'tersangka', 'lakukan', 'pengembangan', 'hasil', 'pengembangan', 'kasatgas', 'tersangka', 'jaringan', 'pengadaan', 'amunisi', 'papua', 'terbukti', 'mengamankan', 'tersangka', 'petugas', 'menemukan', 'butir', 'amunisi', 'terkait', 'pembacokan', 'tersangka', 'jaringan', 'pengadaan', 'amunisi', 'papua', 'lakukan', 'pengembangan', 'informasikan', 'pungkas', 'kabid', 'hubungan', 'masyarakat', 'polda', 'papua', 'terungkap', 'sosok', 'praka'] \n",
      "\n",
      "anggota papua ceroboh perannya pemasok amunisi terbongkar gara gara bacok warga sipil surya gara gara kecerobohannya anggota papua berhasil ditangkap aparat polri perannya pemasok amunisi papua terbongkar penyebab nekat membacok warga sipil intan jaya april polisi langsung menangkapnya terbongkar perannya anggota papua bertugas memasok amunisi melansir laman tribratanews polri berdasarkan informasi keberadaan tersangka pembacokan warga intan jaya april pertigaan pasar yokatapang aparat gabungan damai cartenz pegecekan penyelidikan hasil pengecekan tersangka kali wabu rabu bergerak berhasil mengamankan tersangka berinisial hasil pemeriksaan tersangka anggota papua aktif dibenarkan kabid hubungan masyarakat polda papua kombes mustofa kamal dikonfirmasi penangkanapan penyeledikan pembacokan asep saputra april informasi berhasil mengamankan tersangka lakukan pengembangan hasil pengembangan kasatgas tersangka jaringan pengadaan amunisi papua terbukti mengamankan tersangka petugas menemukan butir amunisi terkait pembacokan tersangka jaringan pengadaan amunisi papua lakukan pengembangan informasikan pungkas kabid hubungan masyarakat polda papua terungkap sosok praka \n",
      "\n"
     ]
    }
   ],
   "source": [
    "for i in data.loc[8][['Removed Stopwords','Untokenized']]:\n",
    "    print(i,'\\n')"
   ]
  },
  {
   "cell_type": "code",
   "execution_count": null,
   "metadata": {
    "colab": {
     "base_uri": "https://localhost:8080/",
     "height": 563
    },
    "executionInfo": {
     "elapsed": 421,
     "status": "ok",
     "timestamp": 1675305684166,
     "user": {
      "displayName": "Gama Putra Adi Susilo",
      "userId": "11761602289089114790"
     },
     "user_tz": -420
    },
    "id": "tWmFYYV5S3yg",
    "outputId": "0256e992-20e1-4b61-a543-c6e17975184a"
   },
   "outputs": [
    {
     "data": {
      "text/html": [
       "\n",
       "  <div id=\"df-2aa0c179-2f24-45df-b8aa-9cf740917044\">\n",
       "    <div class=\"colab-df-container\">\n",
       "      <div>\n",
       "<style scoped>\n",
       "    .dataframe tbody tr th:only-of-type {\n",
       "        vertical-align: middle;\n",
       "    }\n",
       "\n",
       "    .dataframe tbody tr th {\n",
       "        vertical-align: top;\n",
       "    }\n",
       "\n",
       "    .dataframe thead th {\n",
       "        text-align: right;\n",
       "    }\n",
       "</style>\n",
       "<table border=\"1\" class=\"dataframe\">\n",
       "  <thead>\n",
       "    <tr style=\"text-align: right;\">\n",
       "      <th></th>\n",
       "      <th>content</th>\n",
       "      <th>date</th>\n",
       "      <th>title</th>\n",
       "      <th>label</th>\n",
       "      <th>Combined</th>\n",
       "      <th>Cleaning</th>\n",
       "      <th>Case Folding</th>\n",
       "      <th>Tokenized</th>\n",
       "      <th>Normalisasi</th>\n",
       "      <th>Removed Stopwords</th>\n",
       "      <th>Untokenized</th>\n",
       "    </tr>\n",
       "  </thead>\n",
       "  <tbody>\n",
       "    <tr>\n",
       "      <th>0</th>\n",
       "      <td>Berita SurabayaSURYA.co.id | SURABAYA - Pengem...</td>\n",
       "      <td>Jumat, 10 Juni 2022 01:08</td>\n",
       "      <td>PT Intiland Development Kembangkan Kawasan Ind...</td>\n",
       "      <td>noclickbait</td>\n",
       "      <td>PT Intiland Development Kembangkan Kawasan Ind...</td>\n",
       "      <td>Intiland Development Kembangkan Kawasan Indus...</td>\n",
       "      <td>intiland development kembangkan kawasan indus...</td>\n",
       "      <td>[intiland, development, kembangkan, kawasan, i...</td>\n",
       "      <td>[intiland, development, kembangkan, kawasan, i...</td>\n",
       "      <td>[intiland, development, kembangkan, kawasan, i...</td>\n",
       "      <td>intiland development kembangkan kawasan indust...</td>\n",
       "    </tr>\n",
       "    <tr>\n",
       "      <th>1</th>\n",
       "      <td>Berita SurabayaSURYA.co.id | SURABAYA - Brand ...</td>\n",
       "      <td>Jumat, 10 Juni 2022 01:16</td>\n",
       "      <td>ANKER Menangkan Penghargaan Nobel Prize di Aja...</td>\n",
       "      <td>noclickbait</td>\n",
       "      <td>ANKER Menangkan Penghargaan Nobel Prize di Aja...</td>\n",
       "      <td>ANKER Menangkan Penghargaan Nobel Prize Ajang ...</td>\n",
       "      <td>anker menangkan penghargaan nobel prize ajang ...</td>\n",
       "      <td>[anker, menangkan, penghargaan, nobel, prize, ...</td>\n",
       "      <td>[anker, menangkan, penghargaan, nobel, prize, ...</td>\n",
       "      <td>[anker, menangkan, penghargaan, nobel, prize, ...</td>\n",
       "      <td>anker menangkan penghargaan nobel prize ajang ...</td>\n",
       "    </tr>\n",
       "    <tr>\n",
       "      <th>2</th>\n",
       "      <td>Berita SurabayaSURYA.co.id | SURABAYA - PT Har...</td>\n",
       "      <td>Jumat, 10 Juni 2022 01:27</td>\n",
       "      <td>Perluas Bisnis, Hartadinata Abadi Store Buka G...</td>\n",
       "      <td>noclickbait</td>\n",
       "      <td>Perluas Bisnis, Hartadinata Abadi Store Buka G...</td>\n",
       "      <td>Perluas Bisnis Hartadinata Abadi Store Buka Ge...</td>\n",
       "      <td>perluas bisnis hartadinata abadi store buka ge...</td>\n",
       "      <td>[perluas, bisnis, hartadinata, abadi, store, b...</td>\n",
       "      <td>[perluas, bisnis, hartadinata, abadi, store, b...</td>\n",
       "      <td>[perluas, bisnis, hartadinata, abadi, store, b...</td>\n",
       "      <td>perluas bisnis hartadinata abadi store buka ge...</td>\n",
       "    </tr>\n",
       "    <tr>\n",
       "      <th>3</th>\n",
       "      <td>Berita SurabayaSURYA.co.id | SURABAYA – Peneri...</td>\n",
       "      <td>Jumat, 10 Juni 2022 01:34</td>\n",
       "      <td>PPDB SMP Dibuka Hari Ini, Dindik Surabaya Mint...</td>\n",
       "      <td>clickbait</td>\n",
       "      <td>PPDB SMP Dibuka Hari Ini, Dindik Surabaya Mint...</td>\n",
       "      <td>PPDB Dibuka Hari Dindik Surabaya Minta Wali Mu...</td>\n",
       "      <td>ppdb dibuka hari dindik surabaya minta wali mu...</td>\n",
       "      <td>[ppdb, dibuka, hari, dindik, surabaya, minta, ...</td>\n",
       "      <td>[ppdb, dibuka, hari, dindik, surabaya, minta, ...</td>\n",
       "      <td>[ppdb, dibuka, dindik, surabaya, wali, murid, ...</td>\n",
       "      <td>ppdb dibuka dindik surabaya wali murid percaya...</td>\n",
       "    </tr>\n",
       "    <tr>\n",
       "      <th>4</th>\n",
       "      <td>SURYA.co.id I Masih ingat Ronaldo Nazario, san...</td>\n",
       "      <td>Jumat, 10 Juni 2022 01:51</td>\n",
       "      <td>Liga Spanyol, Ronaldo Legenda Real Madrid, Jad...</td>\n",
       "      <td>clickbait</td>\n",
       "      <td>Liga Spanyol, Ronaldo Legenda Real Madrid, Jad...</td>\n",
       "      <td>Liga Spanyol Ronaldo Legenda Real Madrid Jadi ...</td>\n",
       "      <td>liga spanyol ronaldo legenda real madrid jadi ...</td>\n",
       "      <td>[liga, spanyol, ronaldo, legenda, real, madrid...</td>\n",
       "      <td>[liga, spanyol, ronaldo, legenda, real, madrid...</td>\n",
       "      <td>[liga, spanyol, ronaldo, legenda, real, madrid...</td>\n",
       "      <td>liga spanyol ronaldo legenda real madrid presi...</td>\n",
       "    </tr>\n",
       "  </tbody>\n",
       "</table>\n",
       "</div>\n",
       "      <button class=\"colab-df-convert\" onclick=\"convertToInteractive('df-2aa0c179-2f24-45df-b8aa-9cf740917044')\"\n",
       "              title=\"Convert this dataframe to an interactive table.\"\n",
       "              style=\"display:none;\">\n",
       "        \n",
       "  <svg xmlns=\"http://www.w3.org/2000/svg\" height=\"24px\"viewBox=\"0 0 24 24\"\n",
       "       width=\"24px\">\n",
       "    <path d=\"M0 0h24v24H0V0z\" fill=\"none\"/>\n",
       "    <path d=\"M18.56 5.44l.94 2.06.94-2.06 2.06-.94-2.06-.94-.94-2.06-.94 2.06-2.06.94zm-11 1L8.5 8.5l.94-2.06 2.06-.94-2.06-.94L8.5 2.5l-.94 2.06-2.06.94zm10 10l.94 2.06.94-2.06 2.06-.94-2.06-.94-.94-2.06-.94 2.06-2.06.94z\"/><path d=\"M17.41 7.96l-1.37-1.37c-.4-.4-.92-.59-1.43-.59-.52 0-1.04.2-1.43.59L10.3 9.45l-7.72 7.72c-.78.78-.78 2.05 0 2.83L4 21.41c.39.39.9.59 1.41.59.51 0 1.02-.2 1.41-.59l7.78-7.78 2.81-2.81c.8-.78.8-2.07 0-2.86zM5.41 20L4 18.59l7.72-7.72 1.47 1.35L5.41 20z\"/>\n",
       "  </svg>\n",
       "      </button>\n",
       "      \n",
       "  <style>\n",
       "    .colab-df-container {\n",
       "      display:flex;\n",
       "      flex-wrap:wrap;\n",
       "      gap: 12px;\n",
       "    }\n",
       "\n",
       "    .colab-df-convert {\n",
       "      background-color: #E8F0FE;\n",
       "      border: none;\n",
       "      border-radius: 50%;\n",
       "      cursor: pointer;\n",
       "      display: none;\n",
       "      fill: #1967D2;\n",
       "      height: 32px;\n",
       "      padding: 0 0 0 0;\n",
       "      width: 32px;\n",
       "    }\n",
       "\n",
       "    .colab-df-convert:hover {\n",
       "      background-color: #E2EBFA;\n",
       "      box-shadow: 0px 1px 2px rgba(60, 64, 67, 0.3), 0px 1px 3px 1px rgba(60, 64, 67, 0.15);\n",
       "      fill: #174EA6;\n",
       "    }\n",
       "\n",
       "    [theme=dark] .colab-df-convert {\n",
       "      background-color: #3B4455;\n",
       "      fill: #D2E3FC;\n",
       "    }\n",
       "\n",
       "    [theme=dark] .colab-df-convert:hover {\n",
       "      background-color: #434B5C;\n",
       "      box-shadow: 0px 1px 3px 1px rgba(0, 0, 0, 0.15);\n",
       "      filter: drop-shadow(0px 1px 2px rgba(0, 0, 0, 0.3));\n",
       "      fill: #FFFFFF;\n",
       "    }\n",
       "  </style>\n",
       "\n",
       "      <script>\n",
       "        const buttonEl =\n",
       "          document.querySelector('#df-2aa0c179-2f24-45df-b8aa-9cf740917044 button.colab-df-convert');\n",
       "        buttonEl.style.display =\n",
       "          google.colab.kernel.accessAllowed ? 'block' : 'none';\n",
       "\n",
       "        async function convertToInteractive(key) {\n",
       "          const element = document.querySelector('#df-2aa0c179-2f24-45df-b8aa-9cf740917044');\n",
       "          const dataTable =\n",
       "            await google.colab.kernel.invokeFunction('convertToInteractive',\n",
       "                                                     [key], {});\n",
       "          if (!dataTable) return;\n",
       "\n",
       "          const docLinkHtml = 'Like what you see? Visit the ' +\n",
       "            '<a target=\"_blank\" href=https://colab.research.google.com/notebooks/data_table.ipynb>data table notebook</a>'\n",
       "            + ' to learn more about interactive tables.';\n",
       "          element.innerHTML = '';\n",
       "          dataTable['output_type'] = 'display_data';\n",
       "          await google.colab.output.renderOutput(dataTable, element);\n",
       "          const docLink = document.createElement('div');\n",
       "          docLink.innerHTML = docLinkHtml;\n",
       "          element.appendChild(docLink);\n",
       "        }\n",
       "      </script>\n",
       "    </div>\n",
       "  </div>\n",
       "  "
      ],
      "text/plain": [
       "                                             content  \\\n",
       "0  Berita SurabayaSURYA.co.id | SURABAYA - Pengem...   \n",
       "1  Berita SurabayaSURYA.co.id | SURABAYA - Brand ...   \n",
       "2  Berita SurabayaSURYA.co.id | SURABAYA - PT Har...   \n",
       "3  Berita SurabayaSURYA.co.id | SURABAYA – Peneri...   \n",
       "4  SURYA.co.id I Masih ingat Ronaldo Nazario, san...   \n",
       "\n",
       "                        date  \\\n",
       "0  Jumat, 10 Juni 2022 01:08   \n",
       "1  Jumat, 10 Juni 2022 01:16   \n",
       "2  Jumat, 10 Juni 2022 01:27   \n",
       "3  Jumat, 10 Juni 2022 01:34   \n",
       "4  Jumat, 10 Juni 2022 01:51   \n",
       "\n",
       "                                               title        label  \\\n",
       "0  PT Intiland Development Kembangkan Kawasan Ind...  noclickbait   \n",
       "1  ANKER Menangkan Penghargaan Nobel Prize di Aja...  noclickbait   \n",
       "2  Perluas Bisnis, Hartadinata Abadi Store Buka G...  noclickbait   \n",
       "3  PPDB SMP Dibuka Hari Ini, Dindik Surabaya Mint...    clickbait   \n",
       "4  Liga Spanyol, Ronaldo Legenda Real Madrid, Jad...    clickbait   \n",
       "\n",
       "                                            Combined  \\\n",
       "0  PT Intiland Development Kembangkan Kawasan Ind...   \n",
       "1  ANKER Menangkan Penghargaan Nobel Prize di Aja...   \n",
       "2  Perluas Bisnis, Hartadinata Abadi Store Buka G...   \n",
       "3  PPDB SMP Dibuka Hari Ini, Dindik Surabaya Mint...   \n",
       "4  Liga Spanyol, Ronaldo Legenda Real Madrid, Jad...   \n",
       "\n",
       "                                            Cleaning  \\\n",
       "0   Intiland Development Kembangkan Kawasan Indus...   \n",
       "1  ANKER Menangkan Penghargaan Nobel Prize Ajang ...   \n",
       "2  Perluas Bisnis Hartadinata Abadi Store Buka Ge...   \n",
       "3  PPDB Dibuka Hari Dindik Surabaya Minta Wali Mu...   \n",
       "4  Liga Spanyol Ronaldo Legenda Real Madrid Jadi ...   \n",
       "\n",
       "                                        Case Folding  \\\n",
       "0   intiland development kembangkan kawasan indus...   \n",
       "1  anker menangkan penghargaan nobel prize ajang ...   \n",
       "2  perluas bisnis hartadinata abadi store buka ge...   \n",
       "3  ppdb dibuka hari dindik surabaya minta wali mu...   \n",
       "4  liga spanyol ronaldo legenda real madrid jadi ...   \n",
       "\n",
       "                                           Tokenized  \\\n",
       "0  [intiland, development, kembangkan, kawasan, i...   \n",
       "1  [anker, menangkan, penghargaan, nobel, prize, ...   \n",
       "2  [perluas, bisnis, hartadinata, abadi, store, b...   \n",
       "3  [ppdb, dibuka, hari, dindik, surabaya, minta, ...   \n",
       "4  [liga, spanyol, ronaldo, legenda, real, madrid...   \n",
       "\n",
       "                                         Normalisasi  \\\n",
       "0  [intiland, development, kembangkan, kawasan, i...   \n",
       "1  [anker, menangkan, penghargaan, nobel, prize, ...   \n",
       "2  [perluas, bisnis, hartadinata, abadi, store, b...   \n",
       "3  [ppdb, dibuka, hari, dindik, surabaya, minta, ...   \n",
       "4  [liga, spanyol, ronaldo, legenda, real, madrid...   \n",
       "\n",
       "                                   Removed Stopwords  \\\n",
       "0  [intiland, development, kembangkan, kawasan, i...   \n",
       "1  [anker, menangkan, penghargaan, nobel, prize, ...   \n",
       "2  [perluas, bisnis, hartadinata, abadi, store, b...   \n",
       "3  [ppdb, dibuka, dindik, surabaya, wali, murid, ...   \n",
       "4  [liga, spanyol, ronaldo, legenda, real, madrid...   \n",
       "\n",
       "                                         Untokenized  \n",
       "0  intiland development kembangkan kawasan indust...  \n",
       "1  anker menangkan penghargaan nobel prize ajang ...  \n",
       "2  perluas bisnis hartadinata abadi store buka ge...  \n",
       "3  ppdb dibuka dindik surabaya wali murid percaya...  \n",
       "4  liga spanyol ronaldo legenda real madrid presi...  "
      ]
     },
     "execution_count": 27,
     "metadata": {},
     "output_type": "execute_result"
    }
   ],
   "source": [
    "data.head(5)"
   ]
  },
  {
   "cell_type": "code",
   "execution_count": null,
   "metadata": {
    "colab": {
     "base_uri": "https://localhost:8080/",
     "height": 337
    },
    "executionInfo": {
     "elapsed": 1812,
     "status": "ok",
     "timestamp": 1675305696720,
     "user": {
      "displayName": "Gama Putra Adi Susilo",
      "userId": "11761602289089114790"
     },
     "user_tz": -420
    },
    "id": "zlJc1sECS6vQ",
    "outputId": "14b0d9a3-dd09-4598-c4f7-b6996ca08b55"
   },
   "outputs": [
    {
     "data": {
      "text/html": [
       "\n",
       "  <div id=\"df-8c16dc9e-3cef-4ddc-be55-73d7c8686ddd\">\n",
       "    <div class=\"colab-df-container\">\n",
       "      <div>\n",
       "<style scoped>\n",
       "    .dataframe tbody tr th:only-of-type {\n",
       "        vertical-align: middle;\n",
       "    }\n",
       "\n",
       "    .dataframe tbody tr th {\n",
       "        vertical-align: top;\n",
       "    }\n",
       "\n",
       "    .dataframe thead th {\n",
       "        text-align: right;\n",
       "    }\n",
       "</style>\n",
       "<table border=\"1\" class=\"dataframe\">\n",
       "  <thead>\n",
       "    <tr style=\"text-align: right;\">\n",
       "      <th></th>\n",
       "      <th>Case Folding</th>\n",
       "      <th>Tokenized</th>\n",
       "      <th>Normalisasi</th>\n",
       "      <th>Removed Stopwords</th>\n",
       "      <th>Untokenized</th>\n",
       "      <th>label</th>\n",
       "    </tr>\n",
       "  </thead>\n",
       "  <tbody>\n",
       "    <tr>\n",
       "      <th>0</th>\n",
       "      <td>intiland development kembangkan kawasan indus...</td>\n",
       "      <td>[intiland, development, kembangkan, kawasan, i...</td>\n",
       "      <td>[intiland, development, kembangkan, kawasan, i...</td>\n",
       "      <td>[intiland, development, kembangkan, kawasan, i...</td>\n",
       "      <td>intiland development kembangkan kawasan indust...</td>\n",
       "      <td>noclickbait</td>\n",
       "    </tr>\n",
       "    <tr>\n",
       "      <th>1</th>\n",
       "      <td>anker menangkan penghargaan nobel prize ajang ...</td>\n",
       "      <td>[anker, menangkan, penghargaan, nobel, prize, ...</td>\n",
       "      <td>[anker, menangkan, penghargaan, nobel, prize, ...</td>\n",
       "      <td>[anker, menangkan, penghargaan, nobel, prize, ...</td>\n",
       "      <td>anker menangkan penghargaan nobel prize ajang ...</td>\n",
       "      <td>noclickbait</td>\n",
       "    </tr>\n",
       "    <tr>\n",
       "      <th>2</th>\n",
       "      <td>perluas bisnis hartadinata abadi store buka ge...</td>\n",
       "      <td>[perluas, bisnis, hartadinata, abadi, store, b...</td>\n",
       "      <td>[perluas, bisnis, hartadinata, abadi, store, b...</td>\n",
       "      <td>[perluas, bisnis, hartadinata, abadi, store, b...</td>\n",
       "      <td>perluas bisnis hartadinata abadi store buka ge...</td>\n",
       "      <td>noclickbait</td>\n",
       "    </tr>\n",
       "    <tr>\n",
       "      <th>3</th>\n",
       "      <td>ppdb dibuka hari dindik surabaya minta wali mu...</td>\n",
       "      <td>[ppdb, dibuka, hari, dindik, surabaya, minta, ...</td>\n",
       "      <td>[ppdb, dibuka, hari, dindik, surabaya, minta, ...</td>\n",
       "      <td>[ppdb, dibuka, dindik, surabaya, wali, murid, ...</td>\n",
       "      <td>ppdb dibuka dindik surabaya wali murid percaya...</td>\n",
       "      <td>clickbait</td>\n",
       "    </tr>\n",
       "    <tr>\n",
       "      <th>4</th>\n",
       "      <td>liga spanyol ronaldo legenda real madrid jadi ...</td>\n",
       "      <td>[liga, spanyol, ronaldo, legenda, real, madrid...</td>\n",
       "      <td>[liga, spanyol, ronaldo, legenda, real, madrid...</td>\n",
       "      <td>[liga, spanyol, ronaldo, legenda, real, madrid...</td>\n",
       "      <td>liga spanyol ronaldo legenda real madrid presi...</td>\n",
       "      <td>clickbait</td>\n",
       "    </tr>\n",
       "  </tbody>\n",
       "</table>\n",
       "</div>\n",
       "      <button class=\"colab-df-convert\" onclick=\"convertToInteractive('df-8c16dc9e-3cef-4ddc-be55-73d7c8686ddd')\"\n",
       "              title=\"Convert this dataframe to an interactive table.\"\n",
       "              style=\"display:none;\">\n",
       "        \n",
       "  <svg xmlns=\"http://www.w3.org/2000/svg\" height=\"24px\"viewBox=\"0 0 24 24\"\n",
       "       width=\"24px\">\n",
       "    <path d=\"M0 0h24v24H0V0z\" fill=\"none\"/>\n",
       "    <path d=\"M18.56 5.44l.94 2.06.94-2.06 2.06-.94-2.06-.94-.94-2.06-.94 2.06-2.06.94zm-11 1L8.5 8.5l.94-2.06 2.06-.94-2.06-.94L8.5 2.5l-.94 2.06-2.06.94zm10 10l.94 2.06.94-2.06 2.06-.94-2.06-.94-.94-2.06-.94 2.06-2.06.94z\"/><path d=\"M17.41 7.96l-1.37-1.37c-.4-.4-.92-.59-1.43-.59-.52 0-1.04.2-1.43.59L10.3 9.45l-7.72 7.72c-.78.78-.78 2.05 0 2.83L4 21.41c.39.39.9.59 1.41.59.51 0 1.02-.2 1.41-.59l7.78-7.78 2.81-2.81c.8-.78.8-2.07 0-2.86zM5.41 20L4 18.59l7.72-7.72 1.47 1.35L5.41 20z\"/>\n",
       "  </svg>\n",
       "      </button>\n",
       "      \n",
       "  <style>\n",
       "    .colab-df-container {\n",
       "      display:flex;\n",
       "      flex-wrap:wrap;\n",
       "      gap: 12px;\n",
       "    }\n",
       "\n",
       "    .colab-df-convert {\n",
       "      background-color: #E8F0FE;\n",
       "      border: none;\n",
       "      border-radius: 50%;\n",
       "      cursor: pointer;\n",
       "      display: none;\n",
       "      fill: #1967D2;\n",
       "      height: 32px;\n",
       "      padding: 0 0 0 0;\n",
       "      width: 32px;\n",
       "    }\n",
       "\n",
       "    .colab-df-convert:hover {\n",
       "      background-color: #E2EBFA;\n",
       "      box-shadow: 0px 1px 2px rgba(60, 64, 67, 0.3), 0px 1px 3px 1px rgba(60, 64, 67, 0.15);\n",
       "      fill: #174EA6;\n",
       "    }\n",
       "\n",
       "    [theme=dark] .colab-df-convert {\n",
       "      background-color: #3B4455;\n",
       "      fill: #D2E3FC;\n",
       "    }\n",
       "\n",
       "    [theme=dark] .colab-df-convert:hover {\n",
       "      background-color: #434B5C;\n",
       "      box-shadow: 0px 1px 3px 1px rgba(0, 0, 0, 0.15);\n",
       "      filter: drop-shadow(0px 1px 2px rgba(0, 0, 0, 0.3));\n",
       "      fill: #FFFFFF;\n",
       "    }\n",
       "  </style>\n",
       "\n",
       "      <script>\n",
       "        const buttonEl =\n",
       "          document.querySelector('#df-8c16dc9e-3cef-4ddc-be55-73d7c8686ddd button.colab-df-convert');\n",
       "        buttonEl.style.display =\n",
       "          google.colab.kernel.accessAllowed ? 'block' : 'none';\n",
       "\n",
       "        async function convertToInteractive(key) {\n",
       "          const element = document.querySelector('#df-8c16dc9e-3cef-4ddc-be55-73d7c8686ddd');\n",
       "          const dataTable =\n",
       "            await google.colab.kernel.invokeFunction('convertToInteractive',\n",
       "                                                     [key], {});\n",
       "          if (!dataTable) return;\n",
       "\n",
       "          const docLinkHtml = 'Like what you see? Visit the ' +\n",
       "            '<a target=\"_blank\" href=https://colab.research.google.com/notebooks/data_table.ipynb>data table notebook</a>'\n",
       "            + ' to learn more about interactive tables.';\n",
       "          element.innerHTML = '';\n",
       "          dataTable['output_type'] = 'display_data';\n",
       "          await google.colab.output.renderOutput(dataTable, element);\n",
       "          const docLink = document.createElement('div');\n",
       "          docLink.innerHTML = docLinkHtml;\n",
       "          element.appendChild(docLink);\n",
       "        }\n",
       "      </script>\n",
       "    </div>\n",
       "  </div>\n",
       "  "
      ],
      "text/plain": [
       "                                        Case Folding  \\\n",
       "0   intiland development kembangkan kawasan indus...   \n",
       "1  anker menangkan penghargaan nobel prize ajang ...   \n",
       "2  perluas bisnis hartadinata abadi store buka ge...   \n",
       "3  ppdb dibuka hari dindik surabaya minta wali mu...   \n",
       "4  liga spanyol ronaldo legenda real madrid jadi ...   \n",
       "\n",
       "                                           Tokenized  \\\n",
       "0  [intiland, development, kembangkan, kawasan, i...   \n",
       "1  [anker, menangkan, penghargaan, nobel, prize, ...   \n",
       "2  [perluas, bisnis, hartadinata, abadi, store, b...   \n",
       "3  [ppdb, dibuka, hari, dindik, surabaya, minta, ...   \n",
       "4  [liga, spanyol, ronaldo, legenda, real, madrid...   \n",
       "\n",
       "                                         Normalisasi  \\\n",
       "0  [intiland, development, kembangkan, kawasan, i...   \n",
       "1  [anker, menangkan, penghargaan, nobel, prize, ...   \n",
       "2  [perluas, bisnis, hartadinata, abadi, store, b...   \n",
       "3  [ppdb, dibuka, hari, dindik, surabaya, minta, ...   \n",
       "4  [liga, spanyol, ronaldo, legenda, real, madrid...   \n",
       "\n",
       "                                   Removed Stopwords  \\\n",
       "0  [intiland, development, kembangkan, kawasan, i...   \n",
       "1  [anker, menangkan, penghargaan, nobel, prize, ...   \n",
       "2  [perluas, bisnis, hartadinata, abadi, store, b...   \n",
       "3  [ppdb, dibuka, dindik, surabaya, wali, murid, ...   \n",
       "4  [liga, spanyol, ronaldo, legenda, real, madrid...   \n",
       "\n",
       "                                         Untokenized        label  \n",
       "0  intiland development kembangkan kawasan indust...  noclickbait  \n",
       "1  anker menangkan penghargaan nobel prize ajang ...  noclickbait  \n",
       "2  perluas bisnis hartadinata abadi store buka ge...  noclickbait  \n",
       "3  ppdb dibuka dindik surabaya wali murid percaya...    clickbait  \n",
       "4  liga spanyol ronaldo legenda real madrid presi...    clickbait  "
      ]
     },
     "execution_count": 28,
     "metadata": {},
     "output_type": "execute_result"
    }
   ],
   "source": [
    "column_name = ['Case Folding', 'Tokenized', 'Normalisasi', 'Removed Stopwords', 'Untokenized', 'label']\n",
    "df = data.reindex(columns=column_name)\n",
    "df.to_csv('preprocessed_data.csv', index=False)\n",
    "df.head(5)"
   ]
  },
  {
   "cell_type": "markdown",
   "metadata": {
    "id": "WX_EasDbTMQE"
   },
   "source": [
    "Sentences Conversion"
   ]
  },
  {
   "cell_type": "code",
   "execution_count": null,
   "metadata": {
    "colab": {
     "base_uri": "https://localhost:8080/"
    },
    "executionInfo": {
     "elapsed": 8,
     "status": "ok",
     "timestamp": 1675305702311,
     "user": {
      "displayName": "Gama Putra Adi Susilo",
      "userId": "11761602289089114790"
     },
     "user_tz": -420
    },
    "id": "vLuaBN0-TC8o",
    "outputId": "20dfbd73-04a0-43b8-c6d8-efe72b5c35e4"
   },
   "outputs": [
    {
     "name": "stdout",
     "output_type": "stream",
     "text": [
      "max length pada data : 493\n"
     ]
    }
   ],
   "source": [
    "#find max length text\n",
    "max_len = 0\n",
    "for i in data['Removed Stopwords']:\n",
    "    if len(i) > max_len:\n",
    "        max_len = len(i)\n",
    "print('max length pada data :',max_len)"
   ]
  },
  {
   "cell_type": "code",
   "execution_count": null,
   "metadata": {
    "id": "2c8pVXx_TRM4"
   },
   "outputs": [],
   "source": [
    "sentences = data['Untokenized'].values.tolist()"
   ]
  },
  {
   "cell_type": "code",
   "execution_count": null,
   "metadata": {
    "id": "KRE9LIsPTXBI"
   },
   "outputs": [],
   "source": [
    "#encoding text\n",
    "tokenizer = Tokenizer()\n",
    "tokenizer.fit_on_texts(data['Untokenized'])\n",
    "encd_text = tokenizer.texts_to_sequences(data['Untokenized'])"
   ]
  },
  {
   "cell_type": "code",
   "execution_count": null,
   "metadata": {
    "id": "SJmhNli2TcfH"
   },
   "outputs": [],
   "source": [
    "def transformlabel(labels):\n",
    "    for i in range(len(labels)):\n",
    "        if labels[i] == ('Valid'):\n",
    "            labels[i] = 1\n",
    "        else:\n",
    "            labels[i] = 0\n",
    "    return labels\n",
    "\n",
    "y_transform = transformlabel(data['label'])"
   ]
  },
  {
   "cell_type": "code",
   "execution_count": null,
   "metadata": {
    "id": "dm1kYyhOThZP"
   },
   "outputs": [],
   "source": [
    "x = pad_sequences(encd_text, maxlen=max_len, padding='post', truncating='post')\n",
    "y = np.array(y_transform).astype('int32')"
   ]
  },
  {
   "cell_type": "code",
   "execution_count": null,
   "metadata": {
    "colab": {
     "base_uri": "https://localhost:8080/"
    },
    "executionInfo": {
     "elapsed": 9,
     "status": "ok",
     "timestamp": 1675305722204,
     "user": {
      "displayName": "Gama Putra Adi Susilo",
      "userId": "11761602289089114790"
     },
     "user_tz": -420
    },
    "id": "5XwJ-H3RTkxf",
    "outputId": "231c4a70-5488-4c42-8d06-69a71f3e95a8"
   },
   "outputs": [
    {
     "name": "stdout",
     "output_type": "stream",
     "text": [
      "padding teks : [ 6893 13963   338 16615 10669   418   900    36   550     1  1838  6893\n",
      "  3514    46 16616  1380  1625  1910   288  2370  2191   281   418  2153\n",
      " 16617 21698  3234  8693  5435  4916 21699  1120  1467   958    99 21700\n",
      " 21701 12097    29  6893   164  1597   803   189    42    99  1427 16618\n",
      "   329 16619  2067  1986 21702  2737   637  4917  1598    12   157  1051\n",
      "  6893   281   852  4368 10670  5766  1450   755  1838   958    99    99\n",
      "  3751  1626  2191  6073   460    24    99  7412  1504   940 16615   418\n",
      "   772  1468  3140  1104  6893     6    50   338  6893    99   148  6893\n",
      " 12098 16620 21703    35   185   329  1341   717 21704   825   825  1469\n",
      "   603   198 12099 12100 16621 21705   922  3515 21706   594   976   148\n",
      "   735   603 16622 21707 21708   977  9615  1273 21709   329   198  4188\n",
      "  1361  1079  6074 21710  1469   329 13964  1132 21711    65  1469   603\n",
      "  6893  4918  5436   603  2422  1875   329 21712     0     0     0     0\n",
      "     0     0     0     0     0     0     0     0     0     0     0     0\n",
      "     0     0     0     0     0     0     0     0     0     0     0     0\n",
      "     0     0     0     0     0     0     0     0     0     0     0     0\n",
      "     0     0     0     0     0     0     0     0     0     0     0     0\n",
      "     0     0     0     0     0     0     0     0     0     0     0     0\n",
      "     0     0     0     0     0     0     0     0     0     0     0     0\n",
      "     0     0     0     0     0     0     0     0     0     0     0     0\n",
      "     0     0     0     0     0     0     0     0     0     0     0     0\n",
      "     0     0     0     0     0     0     0     0     0     0     0     0\n",
      "     0     0     0     0     0     0     0     0     0     0     0     0\n",
      "     0     0     0     0     0     0     0     0     0     0     0     0\n",
      "     0     0     0     0     0     0     0     0     0     0     0     0\n",
      "     0     0     0     0     0     0     0     0     0     0     0     0\n",
      "     0     0     0     0     0     0     0     0     0     0     0     0\n",
      "     0     0     0     0     0     0     0     0     0     0     0     0\n",
      "     0     0     0     0     0     0     0     0     0     0     0     0\n",
      "     0     0     0     0     0     0     0     0     0     0     0     0\n",
      "     0     0     0     0     0     0     0     0     0     0     0     0\n",
      "     0     0     0     0     0     0     0     0     0     0     0     0\n",
      "     0     0     0     0     0     0     0     0     0     0     0     0\n",
      "     0     0     0     0     0     0     0     0     0     0     0     0\n",
      "     0     0     0     0     0     0     0     0     0     0     0     0\n",
      "     0     0     0     0     0     0     0     0     0     0     0     0\n",
      "     0     0     0     0     0     0     0     0     0     0     0     0\n",
      "     0     0     0     0     0     0     0     0     0     0     0     0\n",
      "     0     0     0     0     0     0     0     0     0     0     0     0\n",
      "     0     0     0     0     0     0     0     0     0     0     0     0\n",
      "     0     0     0     0     0     0     0     0     0     0     0     0\n",
      "     0]\n",
      "panjang padding : 493 493\n"
     ]
    }
   ],
   "source": [
    "#contoh teks yang telah di padding\n",
    "print(\"padding teks :\", x[1])\n",
    "print(\"panjang padding :\", len(x[1]), len(x[2]))"
   ]
  },
  {
   "cell_type": "code",
   "execution_count": null,
   "metadata": {
    "colab": {
     "base_uri": "https://localhost:8080/"
    },
    "executionInfo": {
     "elapsed": 285,
     "status": "ok",
     "timestamp": 1675305732237,
     "user": {
      "displayName": "Gama Putra Adi Susilo",
      "userId": "11761602289089114790"
     },
     "user_tz": -420
    },
    "id": "R7am5ScCTm7P",
    "outputId": "3b960d46-c732-4c39-959c-3fa7a22dda5c"
   },
   "outputs": [
    {
     "name": "stdout",
     "output_type": "stream",
     "text": [
      "int32\n",
      "int32\n"
     ]
    }
   ],
   "source": [
    "print(x.dtype)\n",
    "print(y.dtype)"
   ]
  },
  {
   "cell_type": "markdown",
   "metadata": {
    "id": "x5zOqGtYTucm"
   },
   "source": [
    "Word2Vec"
   ]
  },
  {
   "cell_type": "code",
   "execution_count": null,
   "metadata": {
    "colab": {
     "base_uri": "https://localhost:8080/"
    },
    "executionInfo": {
     "elapsed": 2280245,
     "status": "ok",
     "timestamp": 1675239445914,
     "user": {
      "displayName": "Gama Putra Adi Susilo",
      "userId": "11761602289089114790"
     },
     "user_tz": -420
    },
    "id": "sb74u4Da2B5e",
    "outputId": "9818be64-f212-47e0-e966-28139e34b949"
   },
   "outputs": [
    {
     "name": "stdout",
     "output_type": "stream",
     "text": [
      "Streaming wiki...\n",
      "10000 articles processed\n",
      "20000 articles processed\n",
      "30000 articles processed\n",
      "40000 articles processed\n",
      "50000 articles processed\n",
      "60000 articles processed\n",
      "70000 articles processed\n",
      "80000 articles processed\n",
      "90000 articles processed\n",
      "100000 articles processed\n",
      "110000 articles processed\n",
      "120000 articles processed\n",
      "130000 articles processed\n",
      "140000 articles processed\n",
      "150000 articles processed\n",
      "160000 articles processed\n",
      "170000 articles processed\n",
      "180000 articles processed\n",
      "190000 articles processed\n",
      "200000 articles processed\n",
      "210000 articles processed\n",
      "220000 articles processed\n",
      "230000 articles processed\n",
      "240000 articles processed\n",
      "250000 articles processed\n",
      "260000 articles processed\n",
      "270000 articles processed\n",
      "280000 articles processed\n",
      "290000 articles processed\n",
      "300000 articles processed\n",
      "310000 articles processed\n",
      "320000 articles processed\n",
      "330000 articles processed\n",
      "340000 articles processed\n",
      "350000 articles processed\n",
      "360000 articles processed\n",
      "370000 articles processed\n",
      "380000 articles processed\n",
      "390000 articles processed\n",
      "400000 articles processed\n",
      "410000 articles processed\n",
      "420000 articles processed\n",
      "430000 articles processed\n",
      "440000 articles processed\n",
      "450000 articles processed\n",
      "460000 articles processed\n",
      "470000 articles processed\n",
      "total: 476100 articles\n",
      "Elapsed time: 0:44:11.084868\n"
     ]
    }
   ],
   "source": [
    "if __name__ == '__main__':\n",
    "\n",
    "    start_time = time.time()\n",
    "    print('Streaming wiki...')\n",
    "    id_wiki = gensim.corpora.WikiCorpus(\n",
    "        'idwiki-latest-pages-articles.xml.bz2',\n",
    "        lemmatize=None, dictionary={}, lower=True\n",
    "    )\n",
    "    \n",
    "    article_count = 0\n",
    "    with io.open('idwiki_new_lower.txt', 'w', encoding='utf-8') as wiki_txt:\n",
    "        for text in id_wiki.get_texts():\n",
    "\n",
    "            wiki_txt.write(\" \".join(text) + '\\n')\n",
    "            article_count += 1\n",
    "            \n",
    "            if article_count % 10000 == 0:\n",
    "                print('{} articles processed'.format(article_count))\n",
    "        print('total: {} articles'.format(article_count))\n",
    "\n",
    "    finish_time = time.time()\n",
    "    print('Elapsed time: {}'.format(timedelta(seconds=finish_time-start_time)))"
   ]
  },
  {
   "cell_type": "code",
   "execution_count": null,
   "metadata": {
    "colab": {
     "base_uri": "https://localhost:8080/",
     "height": 235
    },
    "executionInfo": {
     "elapsed": 12,
     "status": "error",
     "timestamp": 1675305750952,
     "user": {
      "displayName": "Gama Putra Adi Susilo",
      "userId": "11761602289089114790"
     },
     "user_tz": -420
    },
    "id": "jJBV3LZD5dn0",
    "outputId": "3201ec93-6765-4d08-ae4c-15123a5e9c5c"
   },
   "outputs": [
    {
     "ename": "NameError",
     "evalue": "ignored",
     "output_type": "error",
     "traceback": [
      "\u001b[0;31m---------------------------------------------------------------------------\u001b[0m",
      "\u001b[0;31mNameError\u001b[0m                                 Traceback (most recent call last)",
      "\u001b[0;32m<ipython-input-36-fa1f9eed67cc>\u001b[0m in \u001b[0;36m<module>\u001b[0;34m\u001b[0m\n\u001b[1;32m      2\u001b[0m \u001b[0;34m\u001b[0m\u001b[0m\n\u001b[1;32m      3\u001b[0m \u001b[0;34m\u001b[0m\u001b[0m\n\u001b[0;32m----> 4\u001b[0;31m     \u001b[0mstart_time\u001b[0m \u001b[0;34m=\u001b[0m \u001b[0mtime\u001b[0m\u001b[0;34m.\u001b[0m\u001b[0mtime\u001b[0m\u001b[0;34m(\u001b[0m\u001b[0;34m)\u001b[0m\u001b[0;34m\u001b[0m\u001b[0;34m\u001b[0m\u001b[0m\n\u001b[0m\u001b[1;32m      5\u001b[0m     \u001b[0mprint\u001b[0m\u001b[0;34m(\u001b[0m\u001b[0;34m'Training Word2Vec Model...'\u001b[0m\u001b[0;34m)\u001b[0m\u001b[0;34m\u001b[0m\u001b[0;34m\u001b[0m\u001b[0m\n\u001b[1;32m      6\u001b[0m     \u001b[0msentences\u001b[0m \u001b[0;34m=\u001b[0m \u001b[0mword2vec\u001b[0m\u001b[0;34m.\u001b[0m\u001b[0mLineSentence\u001b[0m\u001b[0;34m(\u001b[0m\u001b[0;34m'idwiki_new_lower.txt'\u001b[0m\u001b[0;34m)\u001b[0m\u001b[0;34m\u001b[0m\u001b[0;34m\u001b[0m\u001b[0m\n",
      "\u001b[0;31mNameError\u001b[0m: name 'time' is not defined"
     ]
    }
   ],
   "source": [
    "if __name__ == '__main__':\n",
    "\n",
    "\n",
    "    start_time = time.time()\n",
    "    print('Training Word2Vec Model...')\n",
    "    sentences = word2vec.LineSentence('idwiki_new_lower.txt')\n",
    "    id_w2v = word2vec.Word2Vec(sentences, vector_size=100, window = 5, min_count=1, sg = 0, hs = 0, workers=multiprocessing.cpu_count()-1)\n",
    "    id_w2v.save('idwiki_word2vec_100_new_lower.model')\n",
    "    finish_time = time.time()\n",
    "\n",
    "    print('Finished. Elapsed time: {}'.format(timedelta(seconds=finish_time-start_time)))"
   ]
  },
  {
   "cell_type": "code",
   "execution_count": null,
   "metadata": {
    "colab": {
     "base_uri": "https://localhost:8080/",
     "height": 166
    },
    "executionInfo": {
     "elapsed": 289,
     "status": "error",
     "timestamp": 1675305761030,
     "user": {
      "displayName": "Gama Putra Adi Susilo",
      "userId": "11761602289089114790"
     },
     "user_tz": -420
    },
    "id": "3Or9yISE5gk7",
    "outputId": "e41adfb1-ff24-4f2b-a95b-9b7eaaf133b0"
   },
   "outputs": [
    {
     "ename": "NameError",
     "evalue": "ignored",
     "output_type": "error",
     "traceback": [
      "\u001b[0;31m---------------------------------------------------------------------------\u001b[0m",
      "\u001b[0;31mNameError\u001b[0m                                 Traceback (most recent call last)",
      "\u001b[0;32m<ipython-input-37-930da9579a56>\u001b[0m in \u001b[0;36m<module>\u001b[0;34m\u001b[0m\n\u001b[0;32m----> 1\u001b[0;31m \u001b[0mid_w2v\u001b[0m\u001b[0;34m.\u001b[0m\u001b[0mwv\u001b[0m\u001b[0;34m.\u001b[0m\u001b[0mget_vector\u001b[0m\u001b[0;34m(\u001b[0m\u001b[0;34m'covid'\u001b[0m\u001b[0;34m)\u001b[0m\u001b[0;34m\u001b[0m\u001b[0;34m\u001b[0m\u001b[0m\n\u001b[0m",
      "\u001b[0;31mNameError\u001b[0m: name 'id_w2v' is not defined"
     ]
    }
   ],
   "source": [
    "id_w2v.wv.get_vector('covid')"
   ]
  },
  {
   "cell_type": "code",
   "execution_count": null,
   "metadata": {
    "colab": {
     "base_uri": "https://localhost:8080/",
     "height": 166
    },
    "executionInfo": {
     "elapsed": 469,
     "status": "error",
     "timestamp": 1675310011801,
     "user": {
      "displayName": "Gama Putra Adi Susilo",
      "userId": "11761602289089114790"
     },
     "user_tz": -420
    },
    "id": "PsJ6Z3Vo5j-W",
    "outputId": "f0f0f14a-1fa3-4189-cf47-907f8efa61b5"
   },
   "outputs": [
    {
     "ename": "NameError",
     "evalue": "ignored",
     "output_type": "error",
     "traceback": [
      "\u001b[0;31m---------------------------------------------------------------------------\u001b[0m",
      "\u001b[0;31mNameError\u001b[0m                                 Traceback (most recent call last)",
      "\u001b[0;32m<ipython-input-40-4f31d1d5b7d7>\u001b[0m in \u001b[0;36m<module>\u001b[0;34m\u001b[0m\n\u001b[0;32m----> 1\u001b[0;31m \u001b[0mid_w2v\u001b[0m\u001b[0;34m.\u001b[0m\u001b[0mwv\u001b[0m\u001b[0;34m.\u001b[0m\u001b[0mmost_similar\u001b[0m\u001b[0;34m(\u001b[0m\u001b[0;34m'covid'\u001b[0m\u001b[0;34m,\u001b[0m \u001b[0mtopn\u001b[0m\u001b[0;34m=\u001b[0m\u001b[0;36m10\u001b[0m\u001b[0;34m)\u001b[0m\u001b[0;34m\u001b[0m\u001b[0;34m\u001b[0m\u001b[0m\n\u001b[0m",
      "\u001b[0;31mNameError\u001b[0m: name 'id_w2v' is not defined"
     ]
    }
   ],
   "source": [
    "id_w2v.wv.most_similar('covid', topn=10)"
   ]
  },
  {
   "cell_type": "code",
   "execution_count": null,
   "metadata": {
    "id": "0VuE-Q6Y5j3T"
   },
   "outputs": [],
   "source": [
    "print(\"Jumlah vocab kata : %d \\n\" %len(id_w2v.wv.index_to_key)) \n",
    "print(\"Tampilkan 10 vocab kata teratas  : \\n\", id_w2v.wv.index_to_key[0:10])"
   ]
  },
  {
   "cell_type": "code",
   "execution_count": null,
   "metadata": {
    "id": "U5nfmyoH5juz"
   },
   "outputs": [],
   "source": [
    "if __name__ == '__main__':\n",
    "\n",
    "\n",
    "    start_time = time.time()\n",
    "    print('Training Word2Vec Model...')\n",
    "    sentences_200d = word2vec.LineSentence('idwiki_new_lower.txt')\n",
    "    id_w2v_200d = word2vec.Word2Vec(sentences_200d, vector_size=200, window = 5, min_count=1, sg = 1, hs = 1, workers=multiprocessing.cpu_count()-1)\n",
    "    id_w2v_200d.save('idwiki_word2vec_200_new_lower.model')\n",
    "    finish_time = time.time()\n",
    "\n",
    "    print('Finished. Elapsed time: {}'.format(timedelta(seconds=finish_time-start_time)))"
   ]
  },
  {
   "cell_type": "code",
   "execution_count": null,
   "metadata": {
    "id": "slj3RtAE5pV_"
   },
   "outputs": [],
   "source": [
    "if __name__ == '__main__':\n",
    "\n",
    "\n",
    "    start_time = time.time()\n",
    "    print('Training Word2Vec Model...')\n",
    "    sentences_300d = word2vec.LineSentence('idwiki_new_lower.txt')\n",
    "    id_w2v_300d = word2vec.Word2Vec(sentences_300d, vector_size=300, window = 5, min_count=1, sg = 1, hs = 1, workers=multiprocessing.cpu_count()-1)\n",
    "    id_w2v_300d.save('idwiki_word2vec_300_new_lower.model')\n",
    "    finish_time = time.time()\n",
    "\n",
    "    \n",
    "    print('Finished. Elapsed time: {}'.format(timedelta(seconds=finish_time-start_time)))"
   ]
  },
  {
   "cell_type": "code",
   "execution_count": null,
   "metadata": {
    "id": "PKGTL7YR5pPA"
   },
   "outputs": [],
   "source": [
    "#making binary file\n",
    "from gensim.models import Word2Vec"
   ]
  },
  {
   "cell_type": "code",
   "execution_count": null,
   "metadata": {
    "colab": {
     "base_uri": "https://localhost:8080/",
     "height": 433
    },
    "executionInfo": {
     "elapsed": 77107,
     "status": "error",
     "timestamp": 1675310098011,
     "user": {
      "displayName": "Gama Putra Adi Susilo",
      "userId": "11761602289089114790"
     },
     "user_tz": -420
    },
    "id": "Cz2FElAc5pIO",
    "outputId": "76a9255f-2a6f-4a84-e43f-393b0c10e8d3"
   },
   "outputs": [
    {
     "ename": "UnpicklingError",
     "evalue": "ignored",
     "output_type": "error",
     "traceback": [
      "\u001b[0;31m---------------------------------------------------------------------------\u001b[0m",
      "\u001b[0;31mAttributeError\u001b[0m                            Traceback (most recent call last)",
      "\u001b[0;32m/usr/local/lib/python3.8/dist-packages/gensim/models/word2vec.py\u001b[0m in \u001b[0;36mload\u001b[0;34m(cls, *args, **kwargs)\u001b[0m\n\u001b[1;32m   1311\u001b[0m         \u001b[0;32mtry\u001b[0m\u001b[0;34m:\u001b[0m\u001b[0;34m\u001b[0m\u001b[0;34m\u001b[0m\u001b[0m\n\u001b[0;32m-> 1312\u001b[0;31m             \u001b[0mmodel\u001b[0m \u001b[0;34m=\u001b[0m \u001b[0msuper\u001b[0m\u001b[0;34m(\u001b[0m\u001b[0mWord2Vec\u001b[0m\u001b[0;34m,\u001b[0m \u001b[0mcls\u001b[0m\u001b[0;34m)\u001b[0m\u001b[0;34m.\u001b[0m\u001b[0mload\u001b[0m\u001b[0;34m(\u001b[0m\u001b[0;34m*\u001b[0m\u001b[0margs\u001b[0m\u001b[0;34m,\u001b[0m \u001b[0;34m**\u001b[0m\u001b[0mkwargs\u001b[0m\u001b[0;34m)\u001b[0m\u001b[0;34m\u001b[0m\u001b[0;34m\u001b[0m\u001b[0m\n\u001b[0m\u001b[1;32m   1313\u001b[0m \u001b[0;34m\u001b[0m\u001b[0m\n",
      "\u001b[0;32m/usr/local/lib/python3.8/dist-packages/gensim/models/base_any2vec.py\u001b[0m in \u001b[0;36mload\u001b[0;34m(cls, *args, **kwargs)\u001b[0m\n\u001b[1;32m   1243\u001b[0m         \"\"\"\n\u001b[0;32m-> 1244\u001b[0;31m         \u001b[0mmodel\u001b[0m \u001b[0;34m=\u001b[0m \u001b[0msuper\u001b[0m\u001b[0;34m(\u001b[0m\u001b[0mBaseWordEmbeddingsModel\u001b[0m\u001b[0;34m,\u001b[0m \u001b[0mcls\u001b[0m\u001b[0;34m)\u001b[0m\u001b[0;34m.\u001b[0m\u001b[0mload\u001b[0m\u001b[0;34m(\u001b[0m\u001b[0;34m*\u001b[0m\u001b[0margs\u001b[0m\u001b[0;34m,\u001b[0m \u001b[0;34m**\u001b[0m\u001b[0mkwargs\u001b[0m\u001b[0;34m)\u001b[0m\u001b[0;34m\u001b[0m\u001b[0;34m\u001b[0m\u001b[0m\n\u001b[0m\u001b[1;32m   1245\u001b[0m         \u001b[0;32mif\u001b[0m \u001b[0;32mnot\u001b[0m \u001b[0mhasattr\u001b[0m\u001b[0;34m(\u001b[0m\u001b[0mmodel\u001b[0m\u001b[0;34m,\u001b[0m \u001b[0;34m'ns_exponent'\u001b[0m\u001b[0;34m)\u001b[0m\u001b[0;34m:\u001b[0m\u001b[0;34m\u001b[0m\u001b[0;34m\u001b[0m\u001b[0m\n",
      "\u001b[0;32m/usr/local/lib/python3.8/dist-packages/gensim/models/base_any2vec.py\u001b[0m in \u001b[0;36mload\u001b[0;34m(cls, fname_or_handle, **kwargs)\u001b[0m\n\u001b[1;32m    602\u001b[0m         \"\"\"\n\u001b[0;32m--> 603\u001b[0;31m         \u001b[0;32mreturn\u001b[0m \u001b[0msuper\u001b[0m\u001b[0;34m(\u001b[0m\u001b[0mBaseAny2VecModel\u001b[0m\u001b[0;34m,\u001b[0m \u001b[0mcls\u001b[0m\u001b[0;34m)\u001b[0m\u001b[0;34m.\u001b[0m\u001b[0mload\u001b[0m\u001b[0;34m(\u001b[0m\u001b[0mfname_or_handle\u001b[0m\u001b[0;34m,\u001b[0m \u001b[0;34m**\u001b[0m\u001b[0mkwargs\u001b[0m\u001b[0;34m)\u001b[0m\u001b[0;34m\u001b[0m\u001b[0;34m\u001b[0m\u001b[0m\n\u001b[0m\u001b[1;32m    604\u001b[0m \u001b[0;34m\u001b[0m\u001b[0m\n",
      "\u001b[0;32m/usr/local/lib/python3.8/dist-packages/gensim/utils.py\u001b[0m in \u001b[0;36mload\u001b[0;34m(cls, fname, mmap)\u001b[0m\n\u001b[1;32m    422\u001b[0m         \u001b[0mobj\u001b[0m \u001b[0;34m=\u001b[0m \u001b[0munpickle\u001b[0m\u001b[0;34m(\u001b[0m\u001b[0mfname\u001b[0m\u001b[0;34m)\u001b[0m\u001b[0;34m\u001b[0m\u001b[0;34m\u001b[0m\u001b[0m\n\u001b[0;32m--> 423\u001b[0;31m         \u001b[0mobj\u001b[0m\u001b[0;34m.\u001b[0m\u001b[0m_load_specials\u001b[0m\u001b[0;34m(\u001b[0m\u001b[0mfname\u001b[0m\u001b[0;34m,\u001b[0m \u001b[0mmmap\u001b[0m\u001b[0;34m,\u001b[0m \u001b[0mcompress\u001b[0m\u001b[0;34m,\u001b[0m \u001b[0msubname\u001b[0m\u001b[0;34m)\u001b[0m\u001b[0;34m\u001b[0m\u001b[0;34m\u001b[0m\u001b[0m\n\u001b[0m\u001b[1;32m    424\u001b[0m         \u001b[0mlogger\u001b[0m\u001b[0;34m.\u001b[0m\u001b[0minfo\u001b[0m\u001b[0;34m(\u001b[0m\u001b[0;34m\"loaded %s\"\u001b[0m\u001b[0;34m,\u001b[0m \u001b[0mfname\u001b[0m\u001b[0;34m)\u001b[0m\u001b[0;34m\u001b[0m\u001b[0;34m\u001b[0m\u001b[0m\n",
      "\u001b[0;32m/usr/local/lib/python3.8/dist-packages/gensim/utils.py\u001b[0m in \u001b[0;36m_load_specials\u001b[0;34m(self, fname, mmap, compress, subname)\u001b[0m\n\u001b[1;32m    465\u001b[0m \u001b[0;34m\u001b[0m\u001b[0m\n\u001b[0;32m--> 466\u001b[0;31m             \u001b[0msetattr\u001b[0m\u001b[0;34m(\u001b[0m\u001b[0mself\u001b[0m\u001b[0;34m,\u001b[0m \u001b[0mattrib\u001b[0m\u001b[0;34m,\u001b[0m \u001b[0mval\u001b[0m\u001b[0;34m)\u001b[0m\u001b[0;34m\u001b[0m\u001b[0;34m\u001b[0m\u001b[0m\n\u001b[0m\u001b[1;32m    467\u001b[0m \u001b[0;34m\u001b[0m\u001b[0m\n",
      "\u001b[0;32m/usr/local/lib/python3.8/dist-packages/gensim/utils.py\u001b[0m in \u001b[0;36mnew_func1\u001b[0;34m(*args, **kwargs)\u001b[0m\n\u001b[1;32m   1421\u001b[0m                 )\n\u001b[0;32m-> 1422\u001b[0;31m                 \u001b[0;32mreturn\u001b[0m \u001b[0mfunc\u001b[0m\u001b[0;34m(\u001b[0m\u001b[0;34m*\u001b[0m\u001b[0margs\u001b[0m\u001b[0;34m,\u001b[0m \u001b[0;34m**\u001b[0m\u001b[0mkwargs\u001b[0m\u001b[0;34m)\u001b[0m\u001b[0;34m\u001b[0m\u001b[0;34m\u001b[0m\u001b[0m\n\u001b[0m\u001b[1;32m   1423\u001b[0m \u001b[0;34m\u001b[0m\u001b[0m\n",
      "\u001b[0;32m/usr/local/lib/python3.8/dist-packages/gensim/models/base_any2vec.py\u001b[0m in \u001b[0;36msyn1\u001b[0;34m(self, value)\u001b[0m\n\u001b[1;32m    789\u001b[0m     \u001b[0;32mdef\u001b[0m \u001b[0msyn1\u001b[0m\u001b[0;34m(\u001b[0m\u001b[0mself\u001b[0m\u001b[0;34m,\u001b[0m \u001b[0mvalue\u001b[0m\u001b[0;34m)\u001b[0m\u001b[0;34m:\u001b[0m\u001b[0;34m\u001b[0m\u001b[0;34m\u001b[0m\u001b[0m\n\u001b[0;32m--> 790\u001b[0;31m         \u001b[0mself\u001b[0m\u001b[0;34m.\u001b[0m\u001b[0mtrainables\u001b[0m\u001b[0;34m.\u001b[0m\u001b[0msyn1\u001b[0m \u001b[0;34m=\u001b[0m \u001b[0mvalue\u001b[0m\u001b[0;34m\u001b[0m\u001b[0;34m\u001b[0m\u001b[0m\n\u001b[0m\u001b[1;32m    791\u001b[0m \u001b[0;34m\u001b[0m\u001b[0m\n",
      "\u001b[0;31mAttributeError\u001b[0m: 'Word2Vec' object has no attribute 'trainables'",
      "\nDuring handling of the above exception, another exception occurred:\n",
      "\u001b[0;31mUnpicklingError\u001b[0m                           Traceback (most recent call last)",
      "\u001b[0;32m<ipython-input-42-c1dc75393787>\u001b[0m in \u001b[0;36m<module>\u001b[0;34m\u001b[0m\n\u001b[1;32m      1\u001b[0m \u001b[0;31m#load model korpus word2vec wikipedia\u001b[0m\u001b[0;34m\u001b[0m\u001b[0;34m\u001b[0m\u001b[0;34m\u001b[0m\u001b[0m\n\u001b[0;32m----> 2\u001b[0;31m \u001b[0mid_w2v1\u001b[0m \u001b[0;34m=\u001b[0m \u001b[0mWord2Vec\u001b[0m\u001b[0;34m.\u001b[0m\u001b[0mload\u001b[0m\u001b[0;34m(\u001b[0m\u001b[0;34m\"idwiki_word2vec_100_new_lower.model\"\u001b[0m\u001b[0;34m)\u001b[0m\u001b[0;34m\u001b[0m\u001b[0;34m\u001b[0m\u001b[0m\n\u001b[0m",
      "\u001b[0;32m/usr/local/lib/python3.8/dist-packages/gensim/models/word2vec.py\u001b[0m in \u001b[0;36mload\u001b[0;34m(cls, *args, **kwargs)\u001b[0m\n\u001b[1;32m   1321\u001b[0m             \u001b[0mlogger\u001b[0m\u001b[0;34m.\u001b[0m\u001b[0minfo\u001b[0m\u001b[0;34m(\u001b[0m\u001b[0;34m'Model saved using code from earlier Gensim Version. Re-loading old model in a compatible way.'\u001b[0m\u001b[0;34m)\u001b[0m\u001b[0;34m\u001b[0m\u001b[0;34m\u001b[0m\u001b[0m\n\u001b[1;32m   1322\u001b[0m             \u001b[0;32mfrom\u001b[0m \u001b[0mgensim\u001b[0m\u001b[0;34m.\u001b[0m\u001b[0mmodels\u001b[0m\u001b[0;34m.\u001b[0m\u001b[0mdeprecated\u001b[0m\u001b[0;34m.\u001b[0m\u001b[0mword2vec\u001b[0m \u001b[0;32mimport\u001b[0m \u001b[0mload_old_word2vec\u001b[0m\u001b[0;34m\u001b[0m\u001b[0;34m\u001b[0m\u001b[0m\n\u001b[0;32m-> 1323\u001b[0;31m             \u001b[0;32mreturn\u001b[0m \u001b[0mload_old_word2vec\u001b[0m\u001b[0;34m(\u001b[0m\u001b[0;34m*\u001b[0m\u001b[0margs\u001b[0m\u001b[0;34m,\u001b[0m \u001b[0;34m**\u001b[0m\u001b[0mkwargs\u001b[0m\u001b[0;34m)\u001b[0m\u001b[0;34m\u001b[0m\u001b[0;34m\u001b[0m\u001b[0m\n\u001b[0m\u001b[1;32m   1324\u001b[0m \u001b[0;34m\u001b[0m\u001b[0m\n\u001b[1;32m   1325\u001b[0m \u001b[0;34m\u001b[0m\u001b[0m\n",
      "\u001b[0;32m/usr/local/lib/python3.8/dist-packages/gensim/models/deprecated/word2vec.py\u001b[0m in \u001b[0;36mload_old_word2vec\u001b[0;34m(*args, **kwargs)\u001b[0m\n\u001b[1;32m    151\u001b[0m \u001b[0;34m\u001b[0m\u001b[0m\n\u001b[1;32m    152\u001b[0m \u001b[0;32mdef\u001b[0m \u001b[0mload_old_word2vec\u001b[0m\u001b[0;34m(\u001b[0m\u001b[0;34m*\u001b[0m\u001b[0margs\u001b[0m\u001b[0;34m,\u001b[0m \u001b[0;34m**\u001b[0m\u001b[0mkwargs\u001b[0m\u001b[0;34m)\u001b[0m\u001b[0;34m:\u001b[0m\u001b[0;34m\u001b[0m\u001b[0;34m\u001b[0m\u001b[0m\n\u001b[0;32m--> 153\u001b[0;31m     \u001b[0mold_model\u001b[0m \u001b[0;34m=\u001b[0m \u001b[0mWord2Vec\u001b[0m\u001b[0;34m.\u001b[0m\u001b[0mload\u001b[0m\u001b[0;34m(\u001b[0m\u001b[0;34m*\u001b[0m\u001b[0margs\u001b[0m\u001b[0;34m,\u001b[0m \u001b[0;34m**\u001b[0m\u001b[0mkwargs\u001b[0m\u001b[0;34m)\u001b[0m\u001b[0;34m\u001b[0m\u001b[0;34m\u001b[0m\u001b[0m\n\u001b[0m\u001b[1;32m    154\u001b[0m     \u001b[0mvector_size\u001b[0m \u001b[0;34m=\u001b[0m \u001b[0mgetattr\u001b[0m\u001b[0;34m(\u001b[0m\u001b[0mold_model\u001b[0m\u001b[0;34m,\u001b[0m \u001b[0;34m'vector_size'\u001b[0m\u001b[0;34m,\u001b[0m \u001b[0mold_model\u001b[0m\u001b[0;34m.\u001b[0m\u001b[0mlayer1_size\u001b[0m\u001b[0;34m)\u001b[0m\u001b[0;34m\u001b[0m\u001b[0;34m\u001b[0m\u001b[0m\n\u001b[1;32m    155\u001b[0m     params = {\n",
      "\u001b[0;32m/usr/local/lib/python3.8/dist-packages/gensim/models/deprecated/word2vec.py\u001b[0m in \u001b[0;36mload\u001b[0;34m(cls, *args, **kwargs)\u001b[0m\n\u001b[1;32m   1616\u001b[0m     \u001b[0;34m@\u001b[0m\u001b[0mclassmethod\u001b[0m\u001b[0;34m\u001b[0m\u001b[0;34m\u001b[0m\u001b[0m\n\u001b[1;32m   1617\u001b[0m     \u001b[0;32mdef\u001b[0m \u001b[0mload\u001b[0m\u001b[0;34m(\u001b[0m\u001b[0mcls\u001b[0m\u001b[0;34m,\u001b[0m \u001b[0;34m*\u001b[0m\u001b[0margs\u001b[0m\u001b[0;34m,\u001b[0m \u001b[0;34m**\u001b[0m\u001b[0mkwargs\u001b[0m\u001b[0;34m)\u001b[0m\u001b[0;34m:\u001b[0m\u001b[0;34m\u001b[0m\u001b[0;34m\u001b[0m\u001b[0m\n\u001b[0;32m-> 1618\u001b[0;31m         \u001b[0mmodel\u001b[0m \u001b[0;34m=\u001b[0m \u001b[0msuper\u001b[0m\u001b[0;34m(\u001b[0m\u001b[0mWord2Vec\u001b[0m\u001b[0;34m,\u001b[0m \u001b[0mcls\u001b[0m\u001b[0;34m)\u001b[0m\u001b[0;34m.\u001b[0m\u001b[0mload\u001b[0m\u001b[0;34m(\u001b[0m\u001b[0;34m*\u001b[0m\u001b[0margs\u001b[0m\u001b[0;34m,\u001b[0m \u001b[0;34m**\u001b[0m\u001b[0mkwargs\u001b[0m\u001b[0;34m)\u001b[0m\u001b[0;34m\u001b[0m\u001b[0;34m\u001b[0m\u001b[0m\n\u001b[0m\u001b[1;32m   1619\u001b[0m         \u001b[0;31m# update older models\u001b[0m\u001b[0;34m\u001b[0m\u001b[0;34m\u001b[0m\u001b[0;34m\u001b[0m\u001b[0m\n\u001b[1;32m   1620\u001b[0m         \u001b[0;32mif\u001b[0m \u001b[0mhasattr\u001b[0m\u001b[0;34m(\u001b[0m\u001b[0mmodel\u001b[0m\u001b[0;34m,\u001b[0m \u001b[0;34m'table'\u001b[0m\u001b[0;34m)\u001b[0m\u001b[0;34m:\u001b[0m\u001b[0;34m\u001b[0m\u001b[0;34m\u001b[0m\u001b[0m\n",
      "\u001b[0;32m/usr/local/lib/python3.8/dist-packages/gensim/models/deprecated/old_saveload.py\u001b[0m in \u001b[0;36mload\u001b[0;34m(cls, fname, mmap)\u001b[0m\n\u001b[1;32m     85\u001b[0m         \u001b[0mcompress\u001b[0m\u001b[0;34m,\u001b[0m \u001b[0msubname\u001b[0m \u001b[0;34m=\u001b[0m \u001b[0mSaveLoad\u001b[0m\u001b[0;34m.\u001b[0m\u001b[0m_adapt_by_suffix\u001b[0m\u001b[0;34m(\u001b[0m\u001b[0mfname\u001b[0m\u001b[0;34m)\u001b[0m\u001b[0;34m\u001b[0m\u001b[0;34m\u001b[0m\u001b[0m\n\u001b[1;32m     86\u001b[0m \u001b[0;34m\u001b[0m\u001b[0m\n\u001b[0;32m---> 87\u001b[0;31m         \u001b[0mobj\u001b[0m \u001b[0;34m=\u001b[0m \u001b[0munpickle\u001b[0m\u001b[0;34m(\u001b[0m\u001b[0mfname\u001b[0m\u001b[0;34m)\u001b[0m\u001b[0;34m\u001b[0m\u001b[0;34m\u001b[0m\u001b[0m\n\u001b[0m\u001b[1;32m     88\u001b[0m         \u001b[0mobj\u001b[0m\u001b[0;34m.\u001b[0m\u001b[0m_load_specials\u001b[0m\u001b[0;34m(\u001b[0m\u001b[0mfname\u001b[0m\u001b[0;34m,\u001b[0m \u001b[0mmmap\u001b[0m\u001b[0;34m,\u001b[0m \u001b[0mcompress\u001b[0m\u001b[0;34m,\u001b[0m \u001b[0msubname\u001b[0m\u001b[0;34m)\u001b[0m\u001b[0;34m\u001b[0m\u001b[0;34m\u001b[0m\u001b[0m\n\u001b[1;32m     89\u001b[0m         \u001b[0mlogger\u001b[0m\u001b[0;34m.\u001b[0m\u001b[0minfo\u001b[0m\u001b[0;34m(\u001b[0m\u001b[0;34m\"loaded %s\"\u001b[0m\u001b[0;34m,\u001b[0m \u001b[0mfname\u001b[0m\u001b[0;34m)\u001b[0m\u001b[0;34m\u001b[0m\u001b[0;34m\u001b[0m\u001b[0m\n",
      "\u001b[0;32m/usr/local/lib/python3.8/dist-packages/gensim/models/deprecated/old_saveload.py\u001b[0m in \u001b[0;36munpickle\u001b[0;34m(fname)\u001b[0m\n\u001b[1;32m    378\u001b[0m             b'gensim.models.wrappers.fasttext', b'gensim.models.deprecated.fasttext_wrapper')\n\u001b[1;32m    379\u001b[0m         \u001b[0;32mif\u001b[0m \u001b[0msys\u001b[0m\u001b[0;34m.\u001b[0m\u001b[0mversion_info\u001b[0m \u001b[0;34m>\u001b[0m \u001b[0;34m(\u001b[0m\u001b[0;36m3\u001b[0m\u001b[0;34m,\u001b[0m \u001b[0;36m0\u001b[0m\u001b[0;34m)\u001b[0m\u001b[0;34m:\u001b[0m\u001b[0;34m\u001b[0m\u001b[0;34m\u001b[0m\u001b[0m\n\u001b[0;32m--> 380\u001b[0;31m             \u001b[0;32mreturn\u001b[0m \u001b[0m_pickle\u001b[0m\u001b[0;34m.\u001b[0m\u001b[0mloads\u001b[0m\u001b[0;34m(\u001b[0m\u001b[0mfile_bytes\u001b[0m\u001b[0;34m,\u001b[0m \u001b[0mencoding\u001b[0m\u001b[0;34m=\u001b[0m\u001b[0;34m'latin1'\u001b[0m\u001b[0;34m)\u001b[0m\u001b[0;34m\u001b[0m\u001b[0;34m\u001b[0m\u001b[0m\n\u001b[0m\u001b[1;32m    381\u001b[0m         \u001b[0;32melse\u001b[0m\u001b[0;34m:\u001b[0m\u001b[0;34m\u001b[0m\u001b[0;34m\u001b[0m\u001b[0m\n\u001b[1;32m    382\u001b[0m             \u001b[0;32mreturn\u001b[0m \u001b[0m_pickle\u001b[0m\u001b[0;34m.\u001b[0m\u001b[0mloads\u001b[0m\u001b[0;34m(\u001b[0m\u001b[0mfile_bytes\u001b[0m\u001b[0;34m)\u001b[0m\u001b[0;34m\u001b[0m\u001b[0;34m\u001b[0m\u001b[0m\n",
      "\u001b[0;31mUnpicklingError\u001b[0m: could not find MARK"
     ]
    }
   ],
   "source": [
    "#load model korpus word2vec wikipedia\n",
    "id_w2v1 = Word2Vec.load(\"idwiki_word2vec_100_new_lower.model\")"
   ]
  },
  {
   "cell_type": "code",
   "execution_count": null,
   "metadata": {
    "colab": {
     "base_uri": "https://localhost:8080/",
     "height": 166
    },
    "executionInfo": {
     "elapsed": 292,
     "status": "error",
     "timestamp": 1675310308165,
     "user": {
      "displayName": "Gama Putra Adi Susilo",
      "userId": "11761602289089114790"
     },
     "user_tz": -420
    },
    "id": "UAdkc5B95o_z",
    "outputId": "1cbfb7a6-b0a6-4cf6-968d-bd57ed9f0800"
   },
   "outputs": [
    {
     "ename": "NameError",
     "evalue": "ignored",
     "output_type": "error",
     "traceback": [
      "\u001b[0;31m---------------------------------------------------------------------------\u001b[0m",
      "\u001b[0;31mNameError\u001b[0m                                 Traceback (most recent call last)",
      "\u001b[0;32m<ipython-input-47-610d1e67bdaa>\u001b[0m in \u001b[0;36m<module>\u001b[0;34m\u001b[0m\n\u001b[0;32m----> 1\u001b[0;31m \u001b[0mid_w2v1\u001b[0m\u001b[0;34m.\u001b[0m\u001b[0mwv\u001b[0m\u001b[0;34m.\u001b[0m\u001b[0msave_word2vec_format\u001b[0m\u001b[0;34m(\u001b[0m\u001b[0;34m'idwiki_w2v_100d.bin'\u001b[0m\u001b[0;34m,\u001b[0m \u001b[0mbinary\u001b[0m\u001b[0;34m=\u001b[0m\u001b[0;32mTrue\u001b[0m\u001b[0;34m)\u001b[0m\u001b[0;34m\u001b[0m\u001b[0;34m\u001b[0m\u001b[0m\n\u001b[0m",
      "\u001b[0;31mNameError\u001b[0m: name 'id_w2v1' is not defined"
     ]
    }
   ],
   "source": [
    "id_w2v1.wv.save_word2vec_format('idwiki_w2v_100d.bin', binary=True)"
   ]
  },
  {
   "cell_type": "code",
   "execution_count": null,
   "metadata": {
    "colab": {
     "base_uri": "https://localhost:8080/",
     "height": 311
    },
    "executionInfo": {
     "elapsed": 901,
     "status": "error",
     "timestamp": 1675310311045,
     "user": {
      "displayName": "Gama Putra Adi Susilo",
      "userId": "11761602289089114790"
     },
     "user_tz": -420
    },
    "id": "sRt_pDbN5xjj",
    "outputId": "3ceb55d8-2e33-4b65-a393-3400860bd52c"
   },
   "outputs": [
    {
     "ename": "FileNotFoundError",
     "evalue": "ignored",
     "output_type": "error",
     "traceback": [
      "\u001b[0;31m---------------------------------------------------------------------------\u001b[0m",
      "\u001b[0;31mFileNotFoundError\u001b[0m                         Traceback (most recent call last)",
      "\u001b[0;32m<ipython-input-48-c15bf1e0a1a2>\u001b[0m in \u001b[0;36m<module>\u001b[0;34m\u001b[0m\n\u001b[0;32m----> 1\u001b[0;31m \u001b[0mid_w2v2\u001b[0m \u001b[0;34m=\u001b[0m \u001b[0mWord2Vec\u001b[0m\u001b[0;34m.\u001b[0m\u001b[0mload\u001b[0m\u001b[0;34m(\u001b[0m\u001b[0;34m\"idwiki_word2vec_200_new_lower.model\"\u001b[0m\u001b[0;34m)\u001b[0m\u001b[0;34m\u001b[0m\u001b[0;34m\u001b[0m\u001b[0m\n\u001b[0m",
      "\u001b[0;32m/usr/local/lib/python3.8/dist-packages/gensim/models/word2vec.py\u001b[0m in \u001b[0;36mload\u001b[0;34m(cls, *args, **kwargs)\u001b[0m\n\u001b[1;32m   1310\u001b[0m         \"\"\"\n\u001b[1;32m   1311\u001b[0m         \u001b[0;32mtry\u001b[0m\u001b[0;34m:\u001b[0m\u001b[0;34m\u001b[0m\u001b[0;34m\u001b[0m\u001b[0m\n\u001b[0;32m-> 1312\u001b[0;31m             \u001b[0mmodel\u001b[0m \u001b[0;34m=\u001b[0m \u001b[0msuper\u001b[0m\u001b[0;34m(\u001b[0m\u001b[0mWord2Vec\u001b[0m\u001b[0;34m,\u001b[0m \u001b[0mcls\u001b[0m\u001b[0;34m)\u001b[0m\u001b[0;34m.\u001b[0m\u001b[0mload\u001b[0m\u001b[0;34m(\u001b[0m\u001b[0;34m*\u001b[0m\u001b[0margs\u001b[0m\u001b[0;34m,\u001b[0m \u001b[0;34m**\u001b[0m\u001b[0mkwargs\u001b[0m\u001b[0;34m)\u001b[0m\u001b[0;34m\u001b[0m\u001b[0;34m\u001b[0m\u001b[0m\n\u001b[0m\u001b[1;32m   1313\u001b[0m \u001b[0;34m\u001b[0m\u001b[0m\n\u001b[1;32m   1314\u001b[0m             \u001b[0;31m# for backward compatibility for `max_final_vocab` feature\u001b[0m\u001b[0;34m\u001b[0m\u001b[0;34m\u001b[0m\u001b[0;34m\u001b[0m\u001b[0m\n",
      "\u001b[0;32m/usr/local/lib/python3.8/dist-packages/gensim/models/base_any2vec.py\u001b[0m in \u001b[0;36mload\u001b[0;34m(cls, *args, **kwargs)\u001b[0m\n\u001b[1;32m   1242\u001b[0m \u001b[0;34m\u001b[0m\u001b[0m\n\u001b[1;32m   1243\u001b[0m         \"\"\"\n\u001b[0;32m-> 1244\u001b[0;31m         \u001b[0mmodel\u001b[0m \u001b[0;34m=\u001b[0m \u001b[0msuper\u001b[0m\u001b[0;34m(\u001b[0m\u001b[0mBaseWordEmbeddingsModel\u001b[0m\u001b[0;34m,\u001b[0m \u001b[0mcls\u001b[0m\u001b[0;34m)\u001b[0m\u001b[0;34m.\u001b[0m\u001b[0mload\u001b[0m\u001b[0;34m(\u001b[0m\u001b[0;34m*\u001b[0m\u001b[0margs\u001b[0m\u001b[0;34m,\u001b[0m \u001b[0;34m**\u001b[0m\u001b[0mkwargs\u001b[0m\u001b[0;34m)\u001b[0m\u001b[0;34m\u001b[0m\u001b[0;34m\u001b[0m\u001b[0m\n\u001b[0m\u001b[1;32m   1245\u001b[0m         \u001b[0;32mif\u001b[0m \u001b[0;32mnot\u001b[0m \u001b[0mhasattr\u001b[0m\u001b[0;34m(\u001b[0m\u001b[0mmodel\u001b[0m\u001b[0;34m,\u001b[0m \u001b[0;34m'ns_exponent'\u001b[0m\u001b[0;34m)\u001b[0m\u001b[0;34m:\u001b[0m\u001b[0;34m\u001b[0m\u001b[0;34m\u001b[0m\u001b[0m\n\u001b[1;32m   1246\u001b[0m             \u001b[0mmodel\u001b[0m\u001b[0;34m.\u001b[0m\u001b[0mns_exponent\u001b[0m \u001b[0;34m=\u001b[0m \u001b[0;36m0.75\u001b[0m\u001b[0;34m\u001b[0m\u001b[0;34m\u001b[0m\u001b[0m\n",
      "\u001b[0;32m/usr/local/lib/python3.8/dist-packages/gensim/models/base_any2vec.py\u001b[0m in \u001b[0;36mload\u001b[0;34m(cls, fname_or_handle, **kwargs)\u001b[0m\n\u001b[1;32m    601\u001b[0m \u001b[0;34m\u001b[0m\u001b[0m\n\u001b[1;32m    602\u001b[0m         \"\"\"\n\u001b[0;32m--> 603\u001b[0;31m         \u001b[0;32mreturn\u001b[0m \u001b[0msuper\u001b[0m\u001b[0;34m(\u001b[0m\u001b[0mBaseAny2VecModel\u001b[0m\u001b[0;34m,\u001b[0m \u001b[0mcls\u001b[0m\u001b[0;34m)\u001b[0m\u001b[0;34m.\u001b[0m\u001b[0mload\u001b[0m\u001b[0;34m(\u001b[0m\u001b[0mfname_or_handle\u001b[0m\u001b[0;34m,\u001b[0m \u001b[0;34m**\u001b[0m\u001b[0mkwargs\u001b[0m\u001b[0;34m)\u001b[0m\u001b[0;34m\u001b[0m\u001b[0;34m\u001b[0m\u001b[0m\n\u001b[0m\u001b[1;32m    604\u001b[0m \u001b[0;34m\u001b[0m\u001b[0m\n\u001b[1;32m    605\u001b[0m     \u001b[0;32mdef\u001b[0m \u001b[0msave\u001b[0m\u001b[0;34m(\u001b[0m\u001b[0mself\u001b[0m\u001b[0;34m,\u001b[0m \u001b[0mfname_or_handle\u001b[0m\u001b[0;34m,\u001b[0m \u001b[0;34m**\u001b[0m\u001b[0mkwargs\u001b[0m\u001b[0;34m)\u001b[0m\u001b[0;34m:\u001b[0m\u001b[0;34m\u001b[0m\u001b[0;34m\u001b[0m\u001b[0m\n",
      "\u001b[0;32m/usr/local/lib/python3.8/dist-packages/gensim/utils.py\u001b[0m in \u001b[0;36mload\u001b[0;34m(cls, fname, mmap)\u001b[0m\n\u001b[1;32m    420\u001b[0m         \u001b[0mcompress\u001b[0m\u001b[0;34m,\u001b[0m \u001b[0msubname\u001b[0m \u001b[0;34m=\u001b[0m \u001b[0mSaveLoad\u001b[0m\u001b[0;34m.\u001b[0m\u001b[0m_adapt_by_suffix\u001b[0m\u001b[0;34m(\u001b[0m\u001b[0mfname\u001b[0m\u001b[0;34m)\u001b[0m\u001b[0;34m\u001b[0m\u001b[0;34m\u001b[0m\u001b[0m\n\u001b[1;32m    421\u001b[0m \u001b[0;34m\u001b[0m\u001b[0m\n\u001b[0;32m--> 422\u001b[0;31m         \u001b[0mobj\u001b[0m \u001b[0;34m=\u001b[0m \u001b[0munpickle\u001b[0m\u001b[0;34m(\u001b[0m\u001b[0mfname\u001b[0m\u001b[0;34m)\u001b[0m\u001b[0;34m\u001b[0m\u001b[0;34m\u001b[0m\u001b[0m\n\u001b[0m\u001b[1;32m    423\u001b[0m         \u001b[0mobj\u001b[0m\u001b[0;34m.\u001b[0m\u001b[0m_load_specials\u001b[0m\u001b[0;34m(\u001b[0m\u001b[0mfname\u001b[0m\u001b[0;34m,\u001b[0m \u001b[0mmmap\u001b[0m\u001b[0;34m,\u001b[0m \u001b[0mcompress\u001b[0m\u001b[0;34m,\u001b[0m \u001b[0msubname\u001b[0m\u001b[0;34m)\u001b[0m\u001b[0;34m\u001b[0m\u001b[0;34m\u001b[0m\u001b[0m\n\u001b[1;32m    424\u001b[0m         \u001b[0mlogger\u001b[0m\u001b[0;34m.\u001b[0m\u001b[0minfo\u001b[0m\u001b[0;34m(\u001b[0m\u001b[0;34m\"loaded %s\"\u001b[0m\u001b[0;34m,\u001b[0m \u001b[0mfname\u001b[0m\u001b[0;34m)\u001b[0m\u001b[0;34m\u001b[0m\u001b[0;34m\u001b[0m\u001b[0m\n",
      "\u001b[0;32m/usr/local/lib/python3.8/dist-packages/gensim/utils.py\u001b[0m in \u001b[0;36munpickle\u001b[0;34m(fname)\u001b[0m\n\u001b[1;32m   1356\u001b[0m \u001b[0;34m\u001b[0m\u001b[0m\n\u001b[1;32m   1357\u001b[0m     \"\"\"\n\u001b[0;32m-> 1358\u001b[0;31m     \u001b[0;32mwith\u001b[0m \u001b[0msmart_open\u001b[0m\u001b[0;34m(\u001b[0m\u001b[0mfname\u001b[0m\u001b[0;34m,\u001b[0m \u001b[0;34m'rb'\u001b[0m\u001b[0;34m)\u001b[0m \u001b[0;32mas\u001b[0m \u001b[0mf\u001b[0m\u001b[0;34m:\u001b[0m\u001b[0;34m\u001b[0m\u001b[0;34m\u001b[0m\u001b[0m\n\u001b[0m\u001b[1;32m   1359\u001b[0m         \u001b[0;31m# Because of loading from S3 load can't be used (missing readline in smart_open)\u001b[0m\u001b[0;34m\u001b[0m\u001b[0;34m\u001b[0m\u001b[0;34m\u001b[0m\u001b[0m\n\u001b[1;32m   1360\u001b[0m         \u001b[0;32mif\u001b[0m \u001b[0msys\u001b[0m\u001b[0;34m.\u001b[0m\u001b[0mversion_info\u001b[0m \u001b[0;34m>\u001b[0m \u001b[0;34m(\u001b[0m\u001b[0;36m3\u001b[0m\u001b[0;34m,\u001b[0m \u001b[0;36m0\u001b[0m\u001b[0;34m)\u001b[0m\u001b[0;34m:\u001b[0m\u001b[0;34m\u001b[0m\u001b[0;34m\u001b[0m\u001b[0m\n",
      "\u001b[0;32m/usr/local/lib/python3.8/dist-packages/smart_open/smart_open_lib.py\u001b[0m in \u001b[0;36msmart_open\u001b[0;34m(***failed resolving arguments***)\u001b[0m\n\u001b[1;32m    501\u001b[0m         \u001b[0mcompression\u001b[0m \u001b[0;34m=\u001b[0m \u001b[0mso_compression\u001b[0m\u001b[0;34m.\u001b[0m\u001b[0mINFER_FROM_EXTENSION\u001b[0m\u001b[0;34m\u001b[0m\u001b[0;34m\u001b[0m\u001b[0m\n\u001b[1;32m    502\u001b[0m     \u001b[0;32mdel\u001b[0m \u001b[0mkwargs\u001b[0m\u001b[0;34m,\u001b[0m \u001b[0murl\u001b[0m\u001b[0;34m,\u001b[0m \u001b[0mmessage\u001b[0m\u001b[0;34m,\u001b[0m \u001b[0mignore_extension\u001b[0m\u001b[0;34m\u001b[0m\u001b[0;34m\u001b[0m\u001b[0m\n\u001b[0;32m--> 503\u001b[0;31m     \u001b[0;32mreturn\u001b[0m \u001b[0mopen\u001b[0m\u001b[0;34m(\u001b[0m\u001b[0;34m**\u001b[0m\u001b[0mlocals\u001b[0m\u001b[0;34m(\u001b[0m\u001b[0;34m)\u001b[0m\u001b[0;34m)\u001b[0m\u001b[0;34m\u001b[0m\u001b[0;34m\u001b[0m\u001b[0m\n\u001b[0m\u001b[1;32m    504\u001b[0m \u001b[0;34m\u001b[0m\u001b[0m\n\u001b[1;32m    505\u001b[0m \u001b[0;34m\u001b[0m\u001b[0m\n",
      "\u001b[0;32m/usr/local/lib/python3.8/dist-packages/smart_open/smart_open_lib.py\u001b[0m in \u001b[0;36mopen\u001b[0;34m(uri, mode, buffering, encoding, errors, newline, closefd, opener, compression, transport_params)\u001b[0m\n\u001b[1;32m    175\u001b[0m         \u001b[0mtransport_params\u001b[0m \u001b[0;34m=\u001b[0m \u001b[0;34m{\u001b[0m\u001b[0;34m}\u001b[0m\u001b[0;34m\u001b[0m\u001b[0;34m\u001b[0m\u001b[0m\n\u001b[1;32m    176\u001b[0m \u001b[0;34m\u001b[0m\u001b[0m\n\u001b[0;32m--> 177\u001b[0;31m     fobj = _shortcut_open(\n\u001b[0m\u001b[1;32m    178\u001b[0m         \u001b[0muri\u001b[0m\u001b[0;34m,\u001b[0m\u001b[0;34m\u001b[0m\u001b[0;34m\u001b[0m\u001b[0m\n\u001b[1;32m    179\u001b[0m         \u001b[0mmode\u001b[0m\u001b[0;34m,\u001b[0m\u001b[0;34m\u001b[0m\u001b[0;34m\u001b[0m\u001b[0m\n",
      "\u001b[0;32m/usr/local/lib/python3.8/dist-packages/smart_open/smart_open_lib.py\u001b[0m in \u001b[0;36m_shortcut_open\u001b[0;34m(uri, mode, compression, buffering, encoding, errors, newline)\u001b[0m\n\u001b[1;32m    361\u001b[0m         \u001b[0mopen_kwargs\u001b[0m\u001b[0;34m[\u001b[0m\u001b[0;34m'errors'\u001b[0m\u001b[0;34m]\u001b[0m \u001b[0;34m=\u001b[0m \u001b[0merrors\u001b[0m\u001b[0;34m\u001b[0m\u001b[0;34m\u001b[0m\u001b[0m\n\u001b[1;32m    362\u001b[0m \u001b[0;34m\u001b[0m\u001b[0m\n\u001b[0;32m--> 363\u001b[0;31m     \u001b[0;32mreturn\u001b[0m \u001b[0m_builtin_open\u001b[0m\u001b[0;34m(\u001b[0m\u001b[0mlocal_path\u001b[0m\u001b[0;34m,\u001b[0m \u001b[0mmode\u001b[0m\u001b[0;34m,\u001b[0m \u001b[0mbuffering\u001b[0m\u001b[0;34m=\u001b[0m\u001b[0mbuffering\u001b[0m\u001b[0;34m,\u001b[0m \u001b[0;34m**\u001b[0m\u001b[0mopen_kwargs\u001b[0m\u001b[0;34m)\u001b[0m\u001b[0;34m\u001b[0m\u001b[0;34m\u001b[0m\u001b[0m\n\u001b[0m\u001b[1;32m    364\u001b[0m \u001b[0;34m\u001b[0m\u001b[0m\n\u001b[1;32m    365\u001b[0m \u001b[0;34m\u001b[0m\u001b[0m\n",
      "\u001b[0;31mFileNotFoundError\u001b[0m: [Errno 2] No such file or directory: 'idwiki_word2vec_200_new_lower.model'"
     ]
    }
   ],
   "source": [
    "id_w2v2 = Word2Vec.load(\"idwiki_word2vec_200_new_lower.model\")"
   ]
  },
  {
   "cell_type": "code",
   "execution_count": null,
   "metadata": {
    "colab": {
     "base_uri": "https://localhost:8080/",
     "height": 166
    },
    "executionInfo": {
     "elapsed": 1529,
     "status": "error",
     "timestamp": 1675310314690,
     "user": {
      "displayName": "Gama Putra Adi Susilo",
      "userId": "11761602289089114790"
     },
     "user_tz": -420
    },
    "id": "ktyZ7kVO5xYr",
    "outputId": "eb43ca9c-9ff7-4d82-de5d-bb896b022d4a"
   },
   "outputs": [
    {
     "ename": "NameError",
     "evalue": "ignored",
     "output_type": "error",
     "traceback": [
      "\u001b[0;31m---------------------------------------------------------------------------\u001b[0m",
      "\u001b[0;31mNameError\u001b[0m                                 Traceback (most recent call last)",
      "\u001b[0;32m<ipython-input-49-71bbe07cadad>\u001b[0m in \u001b[0;36m<module>\u001b[0;34m\u001b[0m\n\u001b[0;32m----> 1\u001b[0;31m \u001b[0mid_w2v2\u001b[0m\u001b[0;34m.\u001b[0m\u001b[0mwv\u001b[0m\u001b[0;34m.\u001b[0m\u001b[0msave_word2vec_format\u001b[0m\u001b[0;34m(\u001b[0m\u001b[0;34m'idwiki_w2v_200d.bin'\u001b[0m\u001b[0;34m,\u001b[0m \u001b[0mbinary\u001b[0m\u001b[0;34m=\u001b[0m\u001b[0;32mTrue\u001b[0m\u001b[0;34m)\u001b[0m\u001b[0;34m\u001b[0m\u001b[0;34m\u001b[0m\u001b[0m\n\u001b[0m",
      "\u001b[0;31mNameError\u001b[0m: name 'id_w2v2' is not defined"
     ]
    }
   ],
   "source": [
    "id_w2v2.wv.save_word2vec_format('idwiki_w2v_200d.bin', binary=True)"
   ]
  },
  {
   "cell_type": "code",
   "execution_count": null,
   "metadata": {
    "id": "es1mI-fq5xRc"
   },
   "outputs": [],
   "source": [
    "id_w2v3 = Word2Vec.load(\"idwiki_word2vec_300_new_lower.model\")"
   ]
  },
  {
   "cell_type": "code",
   "execution_count": null,
   "metadata": {
    "id": "0lmcxCGh5xKM"
   },
   "outputs": [],
   "source": [
    "id_w2v3.wv.save_word2vec_format('idwiki_w2v_300d.bin', binary=True)"
   ]
  },
  {
   "cell_type": "code",
   "execution_count": null,
   "metadata": {
    "colab": {
     "base_uri": "https://localhost:8080/",
     "height": 433
    },
    "executionInfo": {
     "elapsed": 18850,
     "status": "error",
     "timestamp": 1675310129423,
     "user": {
      "displayName": "Gama Putra Adi Susilo",
      "userId": "11761602289089114790"
     },
     "user_tz": -420
    },
    "id": "FuvdPfZhTslP",
    "outputId": "74a446ef-dae5-40c0-a61f-5b468b89c57d"
   },
   "outputs": [
    {
     "ename": "UnpicklingError",
     "evalue": "ignored",
     "output_type": "error",
     "traceback": [
      "\u001b[0;31m---------------------------------------------------------------------------\u001b[0m",
      "\u001b[0;31mAttributeError\u001b[0m                            Traceback (most recent call last)",
      "\u001b[0;32m/usr/local/lib/python3.8/dist-packages/gensim/models/word2vec.py\u001b[0m in \u001b[0;36mload\u001b[0;34m(cls, *args, **kwargs)\u001b[0m\n\u001b[1;32m   1311\u001b[0m         \u001b[0;32mtry\u001b[0m\u001b[0;34m:\u001b[0m\u001b[0;34m\u001b[0m\u001b[0;34m\u001b[0m\u001b[0m\n\u001b[0;32m-> 1312\u001b[0;31m             \u001b[0mmodel\u001b[0m \u001b[0;34m=\u001b[0m \u001b[0msuper\u001b[0m\u001b[0;34m(\u001b[0m\u001b[0mWord2Vec\u001b[0m\u001b[0;34m,\u001b[0m \u001b[0mcls\u001b[0m\u001b[0;34m)\u001b[0m\u001b[0;34m.\u001b[0m\u001b[0mload\u001b[0m\u001b[0;34m(\u001b[0m\u001b[0;34m*\u001b[0m\u001b[0margs\u001b[0m\u001b[0;34m,\u001b[0m \u001b[0;34m**\u001b[0m\u001b[0mkwargs\u001b[0m\u001b[0;34m)\u001b[0m\u001b[0;34m\u001b[0m\u001b[0;34m\u001b[0m\u001b[0m\n\u001b[0m\u001b[1;32m   1313\u001b[0m \u001b[0;34m\u001b[0m\u001b[0m\n",
      "\u001b[0;32m/usr/local/lib/python3.8/dist-packages/gensim/models/base_any2vec.py\u001b[0m in \u001b[0;36mload\u001b[0;34m(cls, *args, **kwargs)\u001b[0m\n\u001b[1;32m   1243\u001b[0m         \"\"\"\n\u001b[0;32m-> 1244\u001b[0;31m         \u001b[0mmodel\u001b[0m \u001b[0;34m=\u001b[0m \u001b[0msuper\u001b[0m\u001b[0;34m(\u001b[0m\u001b[0mBaseWordEmbeddingsModel\u001b[0m\u001b[0;34m,\u001b[0m \u001b[0mcls\u001b[0m\u001b[0;34m)\u001b[0m\u001b[0;34m.\u001b[0m\u001b[0mload\u001b[0m\u001b[0;34m(\u001b[0m\u001b[0;34m*\u001b[0m\u001b[0margs\u001b[0m\u001b[0;34m,\u001b[0m \u001b[0;34m**\u001b[0m\u001b[0mkwargs\u001b[0m\u001b[0;34m)\u001b[0m\u001b[0;34m\u001b[0m\u001b[0;34m\u001b[0m\u001b[0m\n\u001b[0m\u001b[1;32m   1245\u001b[0m         \u001b[0;32mif\u001b[0m \u001b[0;32mnot\u001b[0m \u001b[0mhasattr\u001b[0m\u001b[0;34m(\u001b[0m\u001b[0mmodel\u001b[0m\u001b[0;34m,\u001b[0m \u001b[0;34m'ns_exponent'\u001b[0m\u001b[0;34m)\u001b[0m\u001b[0;34m:\u001b[0m\u001b[0;34m\u001b[0m\u001b[0;34m\u001b[0m\u001b[0m\n",
      "\u001b[0;32m/usr/local/lib/python3.8/dist-packages/gensim/models/base_any2vec.py\u001b[0m in \u001b[0;36mload\u001b[0;34m(cls, fname_or_handle, **kwargs)\u001b[0m\n\u001b[1;32m    602\u001b[0m         \"\"\"\n\u001b[0;32m--> 603\u001b[0;31m         \u001b[0;32mreturn\u001b[0m \u001b[0msuper\u001b[0m\u001b[0;34m(\u001b[0m\u001b[0mBaseAny2VecModel\u001b[0m\u001b[0;34m,\u001b[0m \u001b[0mcls\u001b[0m\u001b[0;34m)\u001b[0m\u001b[0;34m.\u001b[0m\u001b[0mload\u001b[0m\u001b[0;34m(\u001b[0m\u001b[0mfname_or_handle\u001b[0m\u001b[0;34m,\u001b[0m \u001b[0;34m**\u001b[0m\u001b[0mkwargs\u001b[0m\u001b[0;34m)\u001b[0m\u001b[0;34m\u001b[0m\u001b[0;34m\u001b[0m\u001b[0m\n\u001b[0m\u001b[1;32m    604\u001b[0m \u001b[0;34m\u001b[0m\u001b[0m\n",
      "\u001b[0;32m/usr/local/lib/python3.8/dist-packages/gensim/utils.py\u001b[0m in \u001b[0;36mload\u001b[0;34m(cls, fname, mmap)\u001b[0m\n\u001b[1;32m    422\u001b[0m         \u001b[0mobj\u001b[0m \u001b[0;34m=\u001b[0m \u001b[0munpickle\u001b[0m\u001b[0;34m(\u001b[0m\u001b[0mfname\u001b[0m\u001b[0;34m)\u001b[0m\u001b[0;34m\u001b[0m\u001b[0;34m\u001b[0m\u001b[0m\n\u001b[0;32m--> 423\u001b[0;31m         \u001b[0mobj\u001b[0m\u001b[0;34m.\u001b[0m\u001b[0m_load_specials\u001b[0m\u001b[0;34m(\u001b[0m\u001b[0mfname\u001b[0m\u001b[0;34m,\u001b[0m \u001b[0mmmap\u001b[0m\u001b[0;34m,\u001b[0m \u001b[0mcompress\u001b[0m\u001b[0;34m,\u001b[0m \u001b[0msubname\u001b[0m\u001b[0;34m)\u001b[0m\u001b[0;34m\u001b[0m\u001b[0;34m\u001b[0m\u001b[0m\n\u001b[0m\u001b[1;32m    424\u001b[0m         \u001b[0mlogger\u001b[0m\u001b[0;34m.\u001b[0m\u001b[0minfo\u001b[0m\u001b[0;34m(\u001b[0m\u001b[0;34m\"loaded %s\"\u001b[0m\u001b[0;34m,\u001b[0m \u001b[0mfname\u001b[0m\u001b[0;34m)\u001b[0m\u001b[0;34m\u001b[0m\u001b[0;34m\u001b[0m\u001b[0m\n",
      "\u001b[0;32m/usr/local/lib/python3.8/dist-packages/gensim/utils.py\u001b[0m in \u001b[0;36m_load_specials\u001b[0;34m(self, fname, mmap, compress, subname)\u001b[0m\n\u001b[1;32m    465\u001b[0m \u001b[0;34m\u001b[0m\u001b[0m\n\u001b[0;32m--> 466\u001b[0;31m             \u001b[0msetattr\u001b[0m\u001b[0;34m(\u001b[0m\u001b[0mself\u001b[0m\u001b[0;34m,\u001b[0m \u001b[0mattrib\u001b[0m\u001b[0;34m,\u001b[0m \u001b[0mval\u001b[0m\u001b[0;34m)\u001b[0m\u001b[0;34m\u001b[0m\u001b[0;34m\u001b[0m\u001b[0m\n\u001b[0m\u001b[1;32m    467\u001b[0m \u001b[0;34m\u001b[0m\u001b[0m\n",
      "\u001b[0;32m/usr/local/lib/python3.8/dist-packages/gensim/utils.py\u001b[0m in \u001b[0;36mnew_func1\u001b[0;34m(*args, **kwargs)\u001b[0m\n\u001b[1;32m   1421\u001b[0m                 )\n\u001b[0;32m-> 1422\u001b[0;31m                 \u001b[0;32mreturn\u001b[0m \u001b[0mfunc\u001b[0m\u001b[0;34m(\u001b[0m\u001b[0;34m*\u001b[0m\u001b[0margs\u001b[0m\u001b[0;34m,\u001b[0m \u001b[0;34m**\u001b[0m\u001b[0mkwargs\u001b[0m\u001b[0;34m)\u001b[0m\u001b[0;34m\u001b[0m\u001b[0;34m\u001b[0m\u001b[0m\n\u001b[0m\u001b[1;32m   1423\u001b[0m \u001b[0;34m\u001b[0m\u001b[0m\n",
      "\u001b[0;32m/usr/local/lib/python3.8/dist-packages/gensim/models/base_any2vec.py\u001b[0m in \u001b[0;36msyn1\u001b[0;34m(self, value)\u001b[0m\n\u001b[1;32m    789\u001b[0m     \u001b[0;32mdef\u001b[0m \u001b[0msyn1\u001b[0m\u001b[0;34m(\u001b[0m\u001b[0mself\u001b[0m\u001b[0;34m,\u001b[0m \u001b[0mvalue\u001b[0m\u001b[0;34m)\u001b[0m\u001b[0;34m:\u001b[0m\u001b[0;34m\u001b[0m\u001b[0;34m\u001b[0m\u001b[0m\n\u001b[0;32m--> 790\u001b[0;31m         \u001b[0mself\u001b[0m\u001b[0;34m.\u001b[0m\u001b[0mtrainables\u001b[0m\u001b[0;34m.\u001b[0m\u001b[0msyn1\u001b[0m \u001b[0;34m=\u001b[0m \u001b[0mvalue\u001b[0m\u001b[0;34m\u001b[0m\u001b[0;34m\u001b[0m\u001b[0m\n\u001b[0m\u001b[1;32m    791\u001b[0m \u001b[0;34m\u001b[0m\u001b[0m\n",
      "\u001b[0;31mAttributeError\u001b[0m: 'Word2Vec' object has no attribute 'trainables'",
      "\nDuring handling of the above exception, another exception occurred:\n",
      "\u001b[0;31mUnpicklingError\u001b[0m                           Traceback (most recent call last)",
      "\u001b[0;32m<ipython-input-43-70ebdad48ecd>\u001b[0m in \u001b[0;36m<module>\u001b[0;34m\u001b[0m\n\u001b[1;32m      1\u001b[0m \u001b[0;31m#load model korpus word2vec wikipedia\u001b[0m\u001b[0;34m\u001b[0m\u001b[0;34m\u001b[0m\u001b[0;34m\u001b[0m\u001b[0m\n\u001b[0;32m----> 2\u001b[0;31m \u001b[0mid_w2v\u001b[0m \u001b[0;34m=\u001b[0m \u001b[0mWord2Vec\u001b[0m\u001b[0;34m.\u001b[0m\u001b[0mload\u001b[0m\u001b[0;34m(\u001b[0m\u001b[0;34m\"idwiki_word2vec_100_new_lower.model\"\u001b[0m\u001b[0;34m)\u001b[0m\u001b[0;34m\u001b[0m\u001b[0;34m\u001b[0m\u001b[0m\n\u001b[0m",
      "\u001b[0;32m/usr/local/lib/python3.8/dist-packages/gensim/models/word2vec.py\u001b[0m in \u001b[0;36mload\u001b[0;34m(cls, *args, **kwargs)\u001b[0m\n\u001b[1;32m   1321\u001b[0m             \u001b[0mlogger\u001b[0m\u001b[0;34m.\u001b[0m\u001b[0minfo\u001b[0m\u001b[0;34m(\u001b[0m\u001b[0;34m'Model saved using code from earlier Gensim Version. Re-loading old model in a compatible way.'\u001b[0m\u001b[0;34m)\u001b[0m\u001b[0;34m\u001b[0m\u001b[0;34m\u001b[0m\u001b[0m\n\u001b[1;32m   1322\u001b[0m             \u001b[0;32mfrom\u001b[0m \u001b[0mgensim\u001b[0m\u001b[0;34m.\u001b[0m\u001b[0mmodels\u001b[0m\u001b[0;34m.\u001b[0m\u001b[0mdeprecated\u001b[0m\u001b[0;34m.\u001b[0m\u001b[0mword2vec\u001b[0m \u001b[0;32mimport\u001b[0m \u001b[0mload_old_word2vec\u001b[0m\u001b[0;34m\u001b[0m\u001b[0;34m\u001b[0m\u001b[0m\n\u001b[0;32m-> 1323\u001b[0;31m             \u001b[0;32mreturn\u001b[0m \u001b[0mload_old_word2vec\u001b[0m\u001b[0;34m(\u001b[0m\u001b[0;34m*\u001b[0m\u001b[0margs\u001b[0m\u001b[0;34m,\u001b[0m \u001b[0;34m**\u001b[0m\u001b[0mkwargs\u001b[0m\u001b[0;34m)\u001b[0m\u001b[0;34m\u001b[0m\u001b[0;34m\u001b[0m\u001b[0m\n\u001b[0m\u001b[1;32m   1324\u001b[0m \u001b[0;34m\u001b[0m\u001b[0m\n\u001b[1;32m   1325\u001b[0m \u001b[0;34m\u001b[0m\u001b[0m\n",
      "\u001b[0;32m/usr/local/lib/python3.8/dist-packages/gensim/models/deprecated/word2vec.py\u001b[0m in \u001b[0;36mload_old_word2vec\u001b[0;34m(*args, **kwargs)\u001b[0m\n\u001b[1;32m    151\u001b[0m \u001b[0;34m\u001b[0m\u001b[0m\n\u001b[1;32m    152\u001b[0m \u001b[0;32mdef\u001b[0m \u001b[0mload_old_word2vec\u001b[0m\u001b[0;34m(\u001b[0m\u001b[0;34m*\u001b[0m\u001b[0margs\u001b[0m\u001b[0;34m,\u001b[0m \u001b[0;34m**\u001b[0m\u001b[0mkwargs\u001b[0m\u001b[0;34m)\u001b[0m\u001b[0;34m:\u001b[0m\u001b[0;34m\u001b[0m\u001b[0;34m\u001b[0m\u001b[0m\n\u001b[0;32m--> 153\u001b[0;31m     \u001b[0mold_model\u001b[0m \u001b[0;34m=\u001b[0m \u001b[0mWord2Vec\u001b[0m\u001b[0;34m.\u001b[0m\u001b[0mload\u001b[0m\u001b[0;34m(\u001b[0m\u001b[0;34m*\u001b[0m\u001b[0margs\u001b[0m\u001b[0;34m,\u001b[0m \u001b[0;34m**\u001b[0m\u001b[0mkwargs\u001b[0m\u001b[0;34m)\u001b[0m\u001b[0;34m\u001b[0m\u001b[0;34m\u001b[0m\u001b[0m\n\u001b[0m\u001b[1;32m    154\u001b[0m     \u001b[0mvector_size\u001b[0m \u001b[0;34m=\u001b[0m \u001b[0mgetattr\u001b[0m\u001b[0;34m(\u001b[0m\u001b[0mold_model\u001b[0m\u001b[0;34m,\u001b[0m \u001b[0;34m'vector_size'\u001b[0m\u001b[0;34m,\u001b[0m \u001b[0mold_model\u001b[0m\u001b[0;34m.\u001b[0m\u001b[0mlayer1_size\u001b[0m\u001b[0;34m)\u001b[0m\u001b[0;34m\u001b[0m\u001b[0;34m\u001b[0m\u001b[0m\n\u001b[1;32m    155\u001b[0m     params = {\n",
      "\u001b[0;32m/usr/local/lib/python3.8/dist-packages/gensim/models/deprecated/word2vec.py\u001b[0m in \u001b[0;36mload\u001b[0;34m(cls, *args, **kwargs)\u001b[0m\n\u001b[1;32m   1616\u001b[0m     \u001b[0;34m@\u001b[0m\u001b[0mclassmethod\u001b[0m\u001b[0;34m\u001b[0m\u001b[0;34m\u001b[0m\u001b[0m\n\u001b[1;32m   1617\u001b[0m     \u001b[0;32mdef\u001b[0m \u001b[0mload\u001b[0m\u001b[0;34m(\u001b[0m\u001b[0mcls\u001b[0m\u001b[0;34m,\u001b[0m \u001b[0;34m*\u001b[0m\u001b[0margs\u001b[0m\u001b[0;34m,\u001b[0m \u001b[0;34m**\u001b[0m\u001b[0mkwargs\u001b[0m\u001b[0;34m)\u001b[0m\u001b[0;34m:\u001b[0m\u001b[0;34m\u001b[0m\u001b[0;34m\u001b[0m\u001b[0m\n\u001b[0;32m-> 1618\u001b[0;31m         \u001b[0mmodel\u001b[0m \u001b[0;34m=\u001b[0m \u001b[0msuper\u001b[0m\u001b[0;34m(\u001b[0m\u001b[0mWord2Vec\u001b[0m\u001b[0;34m,\u001b[0m \u001b[0mcls\u001b[0m\u001b[0;34m)\u001b[0m\u001b[0;34m.\u001b[0m\u001b[0mload\u001b[0m\u001b[0;34m(\u001b[0m\u001b[0;34m*\u001b[0m\u001b[0margs\u001b[0m\u001b[0;34m,\u001b[0m \u001b[0;34m**\u001b[0m\u001b[0mkwargs\u001b[0m\u001b[0;34m)\u001b[0m\u001b[0;34m\u001b[0m\u001b[0;34m\u001b[0m\u001b[0m\n\u001b[0m\u001b[1;32m   1619\u001b[0m         \u001b[0;31m# update older models\u001b[0m\u001b[0;34m\u001b[0m\u001b[0;34m\u001b[0m\u001b[0;34m\u001b[0m\u001b[0m\n\u001b[1;32m   1620\u001b[0m         \u001b[0;32mif\u001b[0m \u001b[0mhasattr\u001b[0m\u001b[0;34m(\u001b[0m\u001b[0mmodel\u001b[0m\u001b[0;34m,\u001b[0m \u001b[0;34m'table'\u001b[0m\u001b[0;34m)\u001b[0m\u001b[0;34m:\u001b[0m\u001b[0;34m\u001b[0m\u001b[0;34m\u001b[0m\u001b[0m\n",
      "\u001b[0;32m/usr/local/lib/python3.8/dist-packages/gensim/models/deprecated/old_saveload.py\u001b[0m in \u001b[0;36mload\u001b[0;34m(cls, fname, mmap)\u001b[0m\n\u001b[1;32m     85\u001b[0m         \u001b[0mcompress\u001b[0m\u001b[0;34m,\u001b[0m \u001b[0msubname\u001b[0m \u001b[0;34m=\u001b[0m \u001b[0mSaveLoad\u001b[0m\u001b[0;34m.\u001b[0m\u001b[0m_adapt_by_suffix\u001b[0m\u001b[0;34m(\u001b[0m\u001b[0mfname\u001b[0m\u001b[0;34m)\u001b[0m\u001b[0;34m\u001b[0m\u001b[0;34m\u001b[0m\u001b[0m\n\u001b[1;32m     86\u001b[0m \u001b[0;34m\u001b[0m\u001b[0m\n\u001b[0;32m---> 87\u001b[0;31m         \u001b[0mobj\u001b[0m \u001b[0;34m=\u001b[0m \u001b[0munpickle\u001b[0m\u001b[0;34m(\u001b[0m\u001b[0mfname\u001b[0m\u001b[0;34m)\u001b[0m\u001b[0;34m\u001b[0m\u001b[0;34m\u001b[0m\u001b[0m\n\u001b[0m\u001b[1;32m     88\u001b[0m         \u001b[0mobj\u001b[0m\u001b[0;34m.\u001b[0m\u001b[0m_load_specials\u001b[0m\u001b[0;34m(\u001b[0m\u001b[0mfname\u001b[0m\u001b[0;34m,\u001b[0m \u001b[0mmmap\u001b[0m\u001b[0;34m,\u001b[0m \u001b[0mcompress\u001b[0m\u001b[0;34m,\u001b[0m \u001b[0msubname\u001b[0m\u001b[0;34m)\u001b[0m\u001b[0;34m\u001b[0m\u001b[0;34m\u001b[0m\u001b[0m\n\u001b[1;32m     89\u001b[0m         \u001b[0mlogger\u001b[0m\u001b[0;34m.\u001b[0m\u001b[0minfo\u001b[0m\u001b[0;34m(\u001b[0m\u001b[0;34m\"loaded %s\"\u001b[0m\u001b[0;34m,\u001b[0m \u001b[0mfname\u001b[0m\u001b[0;34m)\u001b[0m\u001b[0;34m\u001b[0m\u001b[0;34m\u001b[0m\u001b[0m\n",
      "\u001b[0;32m/usr/local/lib/python3.8/dist-packages/gensim/models/deprecated/old_saveload.py\u001b[0m in \u001b[0;36munpickle\u001b[0;34m(fname)\u001b[0m\n\u001b[1;32m    378\u001b[0m             b'gensim.models.wrappers.fasttext', b'gensim.models.deprecated.fasttext_wrapper')\n\u001b[1;32m    379\u001b[0m         \u001b[0;32mif\u001b[0m \u001b[0msys\u001b[0m\u001b[0;34m.\u001b[0m\u001b[0mversion_info\u001b[0m \u001b[0;34m>\u001b[0m \u001b[0;34m(\u001b[0m\u001b[0;36m3\u001b[0m\u001b[0;34m,\u001b[0m \u001b[0;36m0\u001b[0m\u001b[0;34m)\u001b[0m\u001b[0;34m:\u001b[0m\u001b[0;34m\u001b[0m\u001b[0;34m\u001b[0m\u001b[0m\n\u001b[0;32m--> 380\u001b[0;31m             \u001b[0;32mreturn\u001b[0m \u001b[0m_pickle\u001b[0m\u001b[0;34m.\u001b[0m\u001b[0mloads\u001b[0m\u001b[0;34m(\u001b[0m\u001b[0mfile_bytes\u001b[0m\u001b[0;34m,\u001b[0m \u001b[0mencoding\u001b[0m\u001b[0;34m=\u001b[0m\u001b[0;34m'latin1'\u001b[0m\u001b[0;34m)\u001b[0m\u001b[0;34m\u001b[0m\u001b[0;34m\u001b[0m\u001b[0m\n\u001b[0m\u001b[1;32m    381\u001b[0m         \u001b[0;32melse\u001b[0m\u001b[0;34m:\u001b[0m\u001b[0;34m\u001b[0m\u001b[0;34m\u001b[0m\u001b[0m\n\u001b[1;32m    382\u001b[0m             \u001b[0;32mreturn\u001b[0m \u001b[0m_pickle\u001b[0m\u001b[0;34m.\u001b[0m\u001b[0mloads\u001b[0m\u001b[0;34m(\u001b[0m\u001b[0mfile_bytes\u001b[0m\u001b[0;34m)\u001b[0m\u001b[0;34m\u001b[0m\u001b[0;34m\u001b[0m\u001b[0m\n",
      "\u001b[0;31mUnpicklingError\u001b[0m: could not find MARK"
     ]
    }
   ],
   "source": [
    "#load model korpus word2vec wikipedia\n",
    "id_w2v = Word2Vec.load(\"idwiki_word2vec_100_new_lower.model\")"
   ]
  },
  {
   "cell_type": "code",
   "execution_count": null,
   "metadata": {
    "id": "BKnSl8moRdDF"
   },
   "outputs": [],
   "source": [
    "#length unique kata\n",
    "vocab_size = len(tokenizer.word_index) + 1"
   ]
  },
  {
   "cell_type": "code",
   "execution_count": null,
   "metadata": {
    "colab": {
     "base_uri": "https://localhost:8080/"
    },
    "executionInfo": {
     "elapsed": 992,
     "status": "ok",
     "timestamp": 1675310275165,
     "user": {
      "displayName": "Gama Putra Adi Susilo",
      "userId": "11761602289089114790"
     },
     "user_tz": -420
    },
    "id": "ocQMDR_MRgsS",
    "outputId": "d0ab9763-f628-40cb-c6e2-a99929b91289"
   },
   "outputs": [
    {
     "data": {
      "text/plain": [
       "(37088, 100)"
      ]
     },
     "execution_count": 45,
     "metadata": {},
     "output_type": "execute_result"
    }
   ],
   "source": [
    "#membuat matriks vektor\n",
    "embed_dim = 100\n",
    "w2v_weight_matrix = np.zeros((vocab_size ,embed_dim))\n",
    "w2v_weight_matrix.shape"
   ]
  },
  {
   "cell_type": "code",
   "execution_count": null,
   "metadata": {
    "colab": {
     "base_uri": "https://localhost:8080/",
     "height": 235
    },
    "executionInfo": {
     "elapsed": 1175,
     "status": "error",
     "timestamp": 1675310287632,
     "user": {
      "displayName": "Gama Putra Adi Susilo",
      "userId": "11761602289089114790"
     },
     "user_tz": -420
    },
    "id": "MXhRgOTlRjKk",
    "outputId": "50acb4fe-c289-4cca-8312-010996fd8d8f"
   },
   "outputs": [
    {
     "ename": "NameError",
     "evalue": "ignored",
     "output_type": "error",
     "traceback": [
      "\u001b[0;31m---------------------------------------------------------------------------\u001b[0m",
      "\u001b[0;31mNameError\u001b[0m                                 Traceback (most recent call last)",
      "\u001b[0;32m<ipython-input-46-18df1faed651>\u001b[0m in \u001b[0;36m<module>\u001b[0;34m\u001b[0m\n\u001b[1;32m      1\u001b[0m \u001b[0;32mfor\u001b[0m \u001b[0mword\u001b[0m\u001b[0;34m,\u001b[0m \u001b[0mindex\u001b[0m \u001b[0;32min\u001b[0m \u001b[0mtokenizer\u001b[0m\u001b[0;34m.\u001b[0m\u001b[0mword_index\u001b[0m\u001b[0;34m.\u001b[0m\u001b[0mitems\u001b[0m\u001b[0;34m(\u001b[0m\u001b[0;34m)\u001b[0m\u001b[0;34m:\u001b[0m\u001b[0;34m\u001b[0m\u001b[0;34m\u001b[0m\u001b[0m\n\u001b[1;32m      2\u001b[0m     \u001b[0;32mif\u001b[0m \u001b[0mindex\u001b[0m \u001b[0;34m<\u001b[0m \u001b[0mvocab_size\u001b[0m\u001b[0;34m:\u001b[0m \u001b[0;31m# since index starts with zero\u001b[0m\u001b[0;34m\u001b[0m\u001b[0;34m\u001b[0m\u001b[0m\n\u001b[0;32m----> 3\u001b[0;31m         \u001b[0;32mif\u001b[0m \u001b[0mword\u001b[0m \u001b[0;32min\u001b[0m \u001b[0mid_w2v\u001b[0m\u001b[0;34m.\u001b[0m\u001b[0mwv\u001b[0m\u001b[0;34m.\u001b[0m\u001b[0mkey_to_index\u001b[0m\u001b[0;34m:\u001b[0m\u001b[0;34m\u001b[0m\u001b[0;34m\u001b[0m\u001b[0m\n\u001b[0m\u001b[1;32m      4\u001b[0m             \u001b[0mw2v_weight_matrix\u001b[0m\u001b[0;34m[\u001b[0m\u001b[0mindex\u001b[0m\u001b[0;34m]\u001b[0m \u001b[0;34m=\u001b[0m \u001b[0mid_w2v\u001b[0m\u001b[0;34m.\u001b[0m\u001b[0mwv\u001b[0m\u001b[0;34m[\u001b[0m\u001b[0mword\u001b[0m\u001b[0;34m]\u001b[0m\u001b[0;34m\u001b[0m\u001b[0;34m\u001b[0m\u001b[0m\n\u001b[1;32m      5\u001b[0m         \u001b[0;32melse\u001b[0m\u001b[0;34m:\u001b[0m\u001b[0;34m\u001b[0m\u001b[0;34m\u001b[0m\u001b[0m\n",
      "\u001b[0;31mNameError\u001b[0m: name 'id_w2v' is not defined"
     ]
    }
   ],
   "source": [
    "for word, index in tokenizer.word_index.items():\n",
    "    if index < vocab_size: # since index starts with zero \n",
    "        if word in id_w2v.wv.key_to_index:\n",
    "            w2v_weight_matrix[index] = id_w2v.wv[word]\n",
    "        else:\n",
    "            w2v_weight_matrix[index] = np.zeros(100)"
   ]
  },
  {
   "cell_type": "markdown",
   "metadata": {
    "id": "OQLvf2pY3Bwn"
   },
   "source": [
    "LSTM"
   ]
  },
  {
   "cell_type": "code",
   "execution_count": null,
   "metadata": {
    "colab": {
     "base_uri": "https://localhost:8080/",
     "height": 971
    },
    "executionInfo": {
     "elapsed": 203534,
     "status": "error",
     "timestamp": 1675310556445,
     "user": {
      "displayName": "Gama Putra Adi Susilo",
      "userId": "11761602289089114790"
     },
     "user_tz": -420
    },
    "id": "WcjYZ5NXTxrn",
    "outputId": "98251521-d4d5-4cc6-d3bb-b5716f388b50"
   },
   "outputs": [
    {
     "name": "stdout",
     "output_type": "stream",
     "text": [
      "------------------------------------------------------------------------\n",
      "Training for fold 1 ...\n",
      "Epoch 1/25\n",
      "46/46 [==============================] - 22s 410ms/step - loss: 0.0000e+00 - accuracy: 1.0000 - val_loss: 0.0000e+00 - val_accuracy: 1.0000\n",
      "Epoch 2/25\n",
      "46/46 [==============================] - 17s 379ms/step - loss: 0.0000e+00 - accuracy: 1.0000 - val_loss: 0.0000e+00 - val_accuracy: 1.0000\n",
      "Score for fold 1: loss of 0.0; accuracy of 100.0%\n",
      "------------------------------------------------------------------------\n",
      "Training for fold 2 ...\n",
      "Epoch 1/25\n",
      "46/46 [==============================] - 23s 395ms/step - loss: 0.0000e+00 - accuracy: 1.0000 - val_loss: 0.0000e+00 - val_accuracy: 1.0000\n",
      "Epoch 2/25\n",
      "46/46 [==============================] - 21s 458ms/step - loss: 0.0000e+00 - accuracy: 1.0000 - val_loss: 0.0000e+00 - val_accuracy: 1.0000\n",
      "Score for fold 2: loss of 0.0; accuracy of 100.0%\n",
      "------------------------------------------------------------------------\n",
      "Training for fold 3 ...\n",
      "Epoch 1/25\n",
      "46/46 [==============================] - 21s 398ms/step - loss: 0.0000e+00 - accuracy: 1.0000 - val_loss: 0.0000e+00 - val_accuracy: 1.0000\n",
      "Epoch 2/25\n",
      "46/46 [==============================] - 18s 390ms/step - loss: 0.0000e+00 - accuracy: 1.0000 - val_loss: 0.0000e+00 - val_accuracy: 1.0000\n",
      "Score for fold 3: loss of 0.0; accuracy of 100.0%\n",
      "------------------------------------------------------------------------\n",
      "Training for fold 4 ...\n",
      "Epoch 1/25\n",
      "46/46 [==============================] - 21s 390ms/step - loss: 0.0000e+00 - accuracy: 1.0000 - val_loss: 0.0000e+00 - val_accuracy: 1.0000\n",
      "Epoch 2/25\n",
      "46/46 [==============================] - 19s 421ms/step - loss: 0.0000e+00 - accuracy: 1.0000 - val_loss: 0.0000e+00 - val_accuracy: 1.0000\n",
      "Score for fold 4: loss of 0.0; accuracy of 100.0%\n",
      "------------------------------------------------------------------------\n",
      "Training for fold 5 ...\n",
      "Epoch 1/25\n",
      "46/46 [==============================] - 21s 404ms/step - loss: 0.0000e+00 - accuracy: 1.0000 - val_loss: 0.0000e+00 - val_accuracy: 1.0000\n",
      "Epoch 2/25\n",
      "10/46 [=====>........................] - ETA: 13s - loss: 0.0000e+00 - accuracy: 1.0000"
     ]
    },
    {
     "ename": "KeyboardInterrupt",
     "evalue": "ignored",
     "output_type": "error",
     "traceback": [
      "\u001b[0;31m---------------------------------------------------------------------------\u001b[0m",
      "\u001b[0;31mKeyboardInterrupt\u001b[0m                         Traceback (most recent call last)",
      "\u001b[0;32m<ipython-input-50-d73da19c61a0>\u001b[0m in \u001b[0;36m<module>\u001b[0;34m\u001b[0m\n\u001b[1;32m     84\u001b[0m     \u001b[0;31m# Fit data to model\u001b[0m\u001b[0;34m\u001b[0m\u001b[0;34m\u001b[0m\u001b[0;34m\u001b[0m\u001b[0m\n\u001b[1;32m     85\u001b[0m     \u001b[0mES\u001b[0m \u001b[0;34m=\u001b[0m \u001b[0;34m[\u001b[0m\u001b[0mEarlyStopping\u001b[0m\u001b[0;34m(\u001b[0m\u001b[0mmonitor\u001b[0m\u001b[0;34m=\u001b[0m\u001b[0;34m'val_loss'\u001b[0m\u001b[0;34m)\u001b[0m\u001b[0;34m]\u001b[0m\u001b[0;34m\u001b[0m\u001b[0;34m\u001b[0m\u001b[0m\n\u001b[0;32m---> 86\u001b[0;31m     hist = model.fit(x[train], y[train],\n\u001b[0m\u001b[1;32m     87\u001b[0m                         \u001b[0mvalidation_data\u001b[0m \u001b[0;34m=\u001b[0m \u001b[0;34m(\u001b[0m\u001b[0mx\u001b[0m\u001b[0;34m[\u001b[0m\u001b[0mtest\u001b[0m\u001b[0;34m]\u001b[0m\u001b[0;34m,\u001b[0m \u001b[0my\u001b[0m\u001b[0;34m[\u001b[0m\u001b[0mtest\u001b[0m\u001b[0;34m]\u001b[0m\u001b[0;34m)\u001b[0m\u001b[0;34m,\u001b[0m\u001b[0;34m\u001b[0m\u001b[0;34m\u001b[0m\u001b[0m\n\u001b[1;32m     88\u001b[0m                         \u001b[0mbatch_size\u001b[0m\u001b[0;34m=\u001b[0m\u001b[0mbatch_size\u001b[0m\u001b[0;34m,\u001b[0m\u001b[0;34m\u001b[0m\u001b[0;34m\u001b[0m\u001b[0m\n",
      "\u001b[0;32m/usr/local/lib/python3.8/dist-packages/keras/utils/traceback_utils.py\u001b[0m in \u001b[0;36merror_handler\u001b[0;34m(*args, **kwargs)\u001b[0m\n\u001b[1;32m     62\u001b[0m     \u001b[0mfiltered_tb\u001b[0m \u001b[0;34m=\u001b[0m \u001b[0;32mNone\u001b[0m\u001b[0;34m\u001b[0m\u001b[0;34m\u001b[0m\u001b[0m\n\u001b[1;32m     63\u001b[0m     \u001b[0;32mtry\u001b[0m\u001b[0;34m:\u001b[0m\u001b[0;34m\u001b[0m\u001b[0;34m\u001b[0m\u001b[0m\n\u001b[0;32m---> 64\u001b[0;31m       \u001b[0;32mreturn\u001b[0m \u001b[0mfn\u001b[0m\u001b[0;34m(\u001b[0m\u001b[0;34m*\u001b[0m\u001b[0margs\u001b[0m\u001b[0;34m,\u001b[0m \u001b[0;34m**\u001b[0m\u001b[0mkwargs\u001b[0m\u001b[0;34m)\u001b[0m\u001b[0;34m\u001b[0m\u001b[0;34m\u001b[0m\u001b[0m\n\u001b[0m\u001b[1;32m     65\u001b[0m     \u001b[0;32mexcept\u001b[0m \u001b[0mException\u001b[0m \u001b[0;32mas\u001b[0m \u001b[0me\u001b[0m\u001b[0;34m:\u001b[0m  \u001b[0;31m# pylint: disable=broad-except\u001b[0m\u001b[0;34m\u001b[0m\u001b[0;34m\u001b[0m\u001b[0m\n\u001b[1;32m     66\u001b[0m       \u001b[0mfiltered_tb\u001b[0m \u001b[0;34m=\u001b[0m \u001b[0m_process_traceback_frames\u001b[0m\u001b[0;34m(\u001b[0m\u001b[0me\u001b[0m\u001b[0;34m.\u001b[0m\u001b[0m__traceback__\u001b[0m\u001b[0;34m)\u001b[0m\u001b[0;34m\u001b[0m\u001b[0;34m\u001b[0m\u001b[0m\n",
      "\u001b[0;32m/usr/local/lib/python3.8/dist-packages/keras/engine/training.py\u001b[0m in \u001b[0;36mfit\u001b[0;34m(self, x, y, batch_size, epochs, verbose, callbacks, validation_split, validation_data, shuffle, class_weight, sample_weight, initial_epoch, steps_per_epoch, validation_steps, validation_batch_size, validation_freq, max_queue_size, workers, use_multiprocessing)\u001b[0m\n\u001b[1;32m   1407\u001b[0m                 _r=1):\n\u001b[1;32m   1408\u001b[0m               \u001b[0mcallbacks\u001b[0m\u001b[0;34m.\u001b[0m\u001b[0mon_train_batch_begin\u001b[0m\u001b[0;34m(\u001b[0m\u001b[0mstep\u001b[0m\u001b[0;34m)\u001b[0m\u001b[0;34m\u001b[0m\u001b[0;34m\u001b[0m\u001b[0m\n\u001b[0;32m-> 1409\u001b[0;31m               \u001b[0mtmp_logs\u001b[0m \u001b[0;34m=\u001b[0m \u001b[0mself\u001b[0m\u001b[0;34m.\u001b[0m\u001b[0mtrain_function\u001b[0m\u001b[0;34m(\u001b[0m\u001b[0miterator\u001b[0m\u001b[0;34m)\u001b[0m\u001b[0;34m\u001b[0m\u001b[0;34m\u001b[0m\u001b[0m\n\u001b[0m\u001b[1;32m   1410\u001b[0m               \u001b[0;32mif\u001b[0m \u001b[0mdata_handler\u001b[0m\u001b[0;34m.\u001b[0m\u001b[0mshould_sync\u001b[0m\u001b[0;34m:\u001b[0m\u001b[0;34m\u001b[0m\u001b[0;34m\u001b[0m\u001b[0m\n\u001b[1;32m   1411\u001b[0m                 \u001b[0mcontext\u001b[0m\u001b[0;34m.\u001b[0m\u001b[0masync_wait\u001b[0m\u001b[0;34m(\u001b[0m\u001b[0;34m)\u001b[0m\u001b[0;34m\u001b[0m\u001b[0;34m\u001b[0m\u001b[0m\n",
      "\u001b[0;32m/usr/local/lib/python3.8/dist-packages/tensorflow/python/util/traceback_utils.py\u001b[0m in \u001b[0;36merror_handler\u001b[0;34m(*args, **kwargs)\u001b[0m\n\u001b[1;32m    148\u001b[0m     \u001b[0mfiltered_tb\u001b[0m \u001b[0;34m=\u001b[0m \u001b[0;32mNone\u001b[0m\u001b[0;34m\u001b[0m\u001b[0;34m\u001b[0m\u001b[0m\n\u001b[1;32m    149\u001b[0m     \u001b[0;32mtry\u001b[0m\u001b[0;34m:\u001b[0m\u001b[0;34m\u001b[0m\u001b[0;34m\u001b[0m\u001b[0m\n\u001b[0;32m--> 150\u001b[0;31m       \u001b[0;32mreturn\u001b[0m \u001b[0mfn\u001b[0m\u001b[0;34m(\u001b[0m\u001b[0;34m*\u001b[0m\u001b[0margs\u001b[0m\u001b[0;34m,\u001b[0m \u001b[0;34m**\u001b[0m\u001b[0mkwargs\u001b[0m\u001b[0;34m)\u001b[0m\u001b[0;34m\u001b[0m\u001b[0;34m\u001b[0m\u001b[0m\n\u001b[0m\u001b[1;32m    151\u001b[0m     \u001b[0;32mexcept\u001b[0m \u001b[0mException\u001b[0m \u001b[0;32mas\u001b[0m \u001b[0me\u001b[0m\u001b[0;34m:\u001b[0m\u001b[0;34m\u001b[0m\u001b[0;34m\u001b[0m\u001b[0m\n\u001b[1;32m    152\u001b[0m       \u001b[0mfiltered_tb\u001b[0m \u001b[0;34m=\u001b[0m \u001b[0m_process_traceback_frames\u001b[0m\u001b[0;34m(\u001b[0m\u001b[0me\u001b[0m\u001b[0;34m.\u001b[0m\u001b[0m__traceback__\u001b[0m\u001b[0;34m)\u001b[0m\u001b[0;34m\u001b[0m\u001b[0;34m\u001b[0m\u001b[0m\n",
      "\u001b[0;32m/usr/local/lib/python3.8/dist-packages/tensorflow/python/eager/def_function.py\u001b[0m in \u001b[0;36m__call__\u001b[0;34m(self, *args, **kwds)\u001b[0m\n\u001b[1;32m    913\u001b[0m \u001b[0;34m\u001b[0m\u001b[0m\n\u001b[1;32m    914\u001b[0m       \u001b[0;32mwith\u001b[0m \u001b[0mOptionalXlaContext\u001b[0m\u001b[0;34m(\u001b[0m\u001b[0mself\u001b[0m\u001b[0;34m.\u001b[0m\u001b[0m_jit_compile\u001b[0m\u001b[0;34m)\u001b[0m\u001b[0;34m:\u001b[0m\u001b[0;34m\u001b[0m\u001b[0;34m\u001b[0m\u001b[0m\n\u001b[0;32m--> 915\u001b[0;31m         \u001b[0mresult\u001b[0m \u001b[0;34m=\u001b[0m \u001b[0mself\u001b[0m\u001b[0;34m.\u001b[0m\u001b[0m_call\u001b[0m\u001b[0;34m(\u001b[0m\u001b[0;34m*\u001b[0m\u001b[0margs\u001b[0m\u001b[0;34m,\u001b[0m \u001b[0;34m**\u001b[0m\u001b[0mkwds\u001b[0m\u001b[0;34m)\u001b[0m\u001b[0;34m\u001b[0m\u001b[0;34m\u001b[0m\u001b[0m\n\u001b[0m\u001b[1;32m    916\u001b[0m \u001b[0;34m\u001b[0m\u001b[0m\n\u001b[1;32m    917\u001b[0m       \u001b[0mnew_tracing_count\u001b[0m \u001b[0;34m=\u001b[0m \u001b[0mself\u001b[0m\u001b[0;34m.\u001b[0m\u001b[0mexperimental_get_tracing_count\u001b[0m\u001b[0;34m(\u001b[0m\u001b[0;34m)\u001b[0m\u001b[0;34m\u001b[0m\u001b[0;34m\u001b[0m\u001b[0m\n",
      "\u001b[0;32m/usr/local/lib/python3.8/dist-packages/tensorflow/python/eager/def_function.py\u001b[0m in \u001b[0;36m_call\u001b[0;34m(self, *args, **kwds)\u001b[0m\n\u001b[1;32m    945\u001b[0m       \u001b[0;31m# In this case we have created variables on the first call, so we run the\u001b[0m\u001b[0;34m\u001b[0m\u001b[0;34m\u001b[0m\u001b[0;34m\u001b[0m\u001b[0m\n\u001b[1;32m    946\u001b[0m       \u001b[0;31m# defunned version which is guaranteed to never create variables.\u001b[0m\u001b[0;34m\u001b[0m\u001b[0;34m\u001b[0m\u001b[0;34m\u001b[0m\u001b[0m\n\u001b[0;32m--> 947\u001b[0;31m       \u001b[0;32mreturn\u001b[0m \u001b[0mself\u001b[0m\u001b[0;34m.\u001b[0m\u001b[0m_stateless_fn\u001b[0m\u001b[0;34m(\u001b[0m\u001b[0;34m*\u001b[0m\u001b[0margs\u001b[0m\u001b[0;34m,\u001b[0m \u001b[0;34m**\u001b[0m\u001b[0mkwds\u001b[0m\u001b[0;34m)\u001b[0m  \u001b[0;31m# pylint: disable=not-callable\u001b[0m\u001b[0;34m\u001b[0m\u001b[0;34m\u001b[0m\u001b[0m\n\u001b[0m\u001b[1;32m    948\u001b[0m     \u001b[0;32melif\u001b[0m \u001b[0mself\u001b[0m\u001b[0;34m.\u001b[0m\u001b[0m_stateful_fn\u001b[0m \u001b[0;32mis\u001b[0m \u001b[0;32mnot\u001b[0m \u001b[0;32mNone\u001b[0m\u001b[0;34m:\u001b[0m\u001b[0;34m\u001b[0m\u001b[0;34m\u001b[0m\u001b[0m\n\u001b[1;32m    949\u001b[0m       \u001b[0;31m# Release the lock early so that multiple threads can perform the call\u001b[0m\u001b[0;34m\u001b[0m\u001b[0;34m\u001b[0m\u001b[0;34m\u001b[0m\u001b[0m\n",
      "\u001b[0;32m/usr/local/lib/python3.8/dist-packages/tensorflow/python/eager/function.py\u001b[0m in \u001b[0;36m__call__\u001b[0;34m(self, *args, **kwargs)\u001b[0m\n\u001b[1;32m   2451\u001b[0m       (graph_function,\n\u001b[1;32m   2452\u001b[0m        filtered_flat_args) = self._maybe_define_function(args, kwargs)\n\u001b[0;32m-> 2453\u001b[0;31m     return graph_function._call_flat(\n\u001b[0m\u001b[1;32m   2454\u001b[0m         filtered_flat_args, captured_inputs=graph_function.captured_inputs)  # pylint: disable=protected-access\n\u001b[1;32m   2455\u001b[0m \u001b[0;34m\u001b[0m\u001b[0m\n",
      "\u001b[0;32m/usr/local/lib/python3.8/dist-packages/tensorflow/python/eager/function.py\u001b[0m in \u001b[0;36m_call_flat\u001b[0;34m(self, args, captured_inputs, cancellation_manager)\u001b[0m\n\u001b[1;32m   1858\u001b[0m         and executing_eagerly):\n\u001b[1;32m   1859\u001b[0m       \u001b[0;31m# No tape is watching; skip to running the function.\u001b[0m\u001b[0;34m\u001b[0m\u001b[0;34m\u001b[0m\u001b[0;34m\u001b[0m\u001b[0m\n\u001b[0;32m-> 1860\u001b[0;31m       return self._build_call_outputs(self._inference_function.call(\n\u001b[0m\u001b[1;32m   1861\u001b[0m           ctx, args, cancellation_manager=cancellation_manager))\n\u001b[1;32m   1862\u001b[0m     forward_backward = self._select_forward_and_backward_functions(\n",
      "\u001b[0;32m/usr/local/lib/python3.8/dist-packages/tensorflow/python/eager/function.py\u001b[0m in \u001b[0;36mcall\u001b[0;34m(self, ctx, args, cancellation_manager)\u001b[0m\n\u001b[1;32m    495\u001b[0m       \u001b[0;32mwith\u001b[0m \u001b[0m_InterpolateFunctionError\u001b[0m\u001b[0;34m(\u001b[0m\u001b[0mself\u001b[0m\u001b[0;34m)\u001b[0m\u001b[0;34m:\u001b[0m\u001b[0;34m\u001b[0m\u001b[0;34m\u001b[0m\u001b[0m\n\u001b[1;32m    496\u001b[0m         \u001b[0;32mif\u001b[0m \u001b[0mcancellation_manager\u001b[0m \u001b[0;32mis\u001b[0m \u001b[0;32mNone\u001b[0m\u001b[0;34m:\u001b[0m\u001b[0;34m\u001b[0m\u001b[0;34m\u001b[0m\u001b[0m\n\u001b[0;32m--> 497\u001b[0;31m           outputs = execute.execute(\n\u001b[0m\u001b[1;32m    498\u001b[0m               \u001b[0mstr\u001b[0m\u001b[0;34m(\u001b[0m\u001b[0mself\u001b[0m\u001b[0;34m.\u001b[0m\u001b[0msignature\u001b[0m\u001b[0;34m.\u001b[0m\u001b[0mname\u001b[0m\u001b[0;34m)\u001b[0m\u001b[0;34m,\u001b[0m\u001b[0;34m\u001b[0m\u001b[0;34m\u001b[0m\u001b[0m\n\u001b[1;32m    499\u001b[0m               \u001b[0mnum_outputs\u001b[0m\u001b[0;34m=\u001b[0m\u001b[0mself\u001b[0m\u001b[0;34m.\u001b[0m\u001b[0m_num_outputs\u001b[0m\u001b[0;34m,\u001b[0m\u001b[0;34m\u001b[0m\u001b[0;34m\u001b[0m\u001b[0m\n",
      "\u001b[0;32m/usr/local/lib/python3.8/dist-packages/tensorflow/python/eager/execute.py\u001b[0m in \u001b[0;36mquick_execute\u001b[0;34m(op_name, num_outputs, inputs, attrs, ctx, name)\u001b[0m\n\u001b[1;32m     52\u001b[0m   \u001b[0;32mtry\u001b[0m\u001b[0;34m:\u001b[0m\u001b[0;34m\u001b[0m\u001b[0;34m\u001b[0m\u001b[0m\n\u001b[1;32m     53\u001b[0m     \u001b[0mctx\u001b[0m\u001b[0;34m.\u001b[0m\u001b[0mensure_initialized\u001b[0m\u001b[0;34m(\u001b[0m\u001b[0;34m)\u001b[0m\u001b[0;34m\u001b[0m\u001b[0;34m\u001b[0m\u001b[0m\n\u001b[0;32m---> 54\u001b[0;31m     tensors = pywrap_tfe.TFE_Py_Execute(ctx._handle, device_name, op_name,\n\u001b[0m\u001b[1;32m     55\u001b[0m                                         inputs, attrs, num_outputs)\n\u001b[1;32m     56\u001b[0m   \u001b[0;32mexcept\u001b[0m \u001b[0mcore\u001b[0m\u001b[0;34m.\u001b[0m\u001b[0m_NotOkStatusException\u001b[0m \u001b[0;32mas\u001b[0m \u001b[0me\u001b[0m\u001b[0;34m:\u001b[0m\u001b[0;34m\u001b[0m\u001b[0;34m\u001b[0m\u001b[0m\n",
      "\u001b[0;31mKeyboardInterrupt\u001b[0m: "
     ]
    }
   ],
   "source": [
    "# inisiasi variabel input sequensial neural network\n",
    "num_folds = 10\n",
    "no_epochs = 25\n",
    "batch_size = 64\n",
    "\n",
    "# # inisiasi variabel penampung akurasi dan loss untuk evaluasi\n",
    "# plot_acc_per_fold = pd.DataFrame()\n",
    "# plot_loss_per_fold = pd.DataFrame()\n",
    "# plot_val_acc_per_fold = pd.DataFrame()\n",
    "# plot_val_loss_per_fold = pd.DataFrame()\n",
    "results_history = []\n",
    "acc_per_fold = []\n",
    "loss_per_fold = []\n",
    "\n",
    "# # Lists for metrics result\n",
    "all_accuracy = []\n",
    "all_precision = []\n",
    "all_recall = []\n",
    "all_f1 = []\n",
    "\n",
    "# # Lists for plotting Precision-Recall Curve\n",
    "all_arr_precision = []\n",
    "all_arr_recall = []\n",
    "all_thresholds = []\n",
    "all_ave_precision = []\n",
    "\n",
    "# # Lists for Confusion Matrices\n",
    "all_cf_matrices = []\n",
    "\n",
    "\n",
    "# inisiasi kfold\n",
    "kfold = KFold(n_splits=num_folds, shuffle=True)\n",
    "fold_no = 1\n",
    "\n",
    "# apply kfold\n",
    "for train, test in kfold.split(x, y):\n",
    "    \n",
    "    #ori\n",
    "    # model = Sequential()\n",
    "    # model.add(Embedding(input_dim = vocab_size, output_dim = embed_dim, input_length=max_len, embeddings_initializer=Constant(w2v_weight_matrix), trainable = True))\n",
    "    # model.add(Dropout(0.5))\n",
    "    # model.add(LSTM(128, return_sequences=True))\n",
    "    # model.add(GlobalAveragePooling1D())\n",
    "    # model.add(Dense(256, activation='tanh'))\n",
    "    # model.add(Dropout(0.5))\n",
    "    # model.add(Dense(1, activation='relu'))\n",
    "    model=Sequential()\n",
    "    model.add(Embedding(input_dim=vocab_size, output_dim=embed_dim, input_length=max_len, embeddings_initializer = Constant(w2v_weight_matrix), trainable = True))\n",
    "    model.add(Dropout(0.5))\n",
    "    model.add(LSTM(32, return_sequences=True))\n",
    "    model.add(GlobalAveragePooling1D())\n",
    "    model.add(Dense(64, activation='tanh'))\n",
    "    model.add(Dropout(0.5))\n",
    "    model.add(Dense(1, activation='relu'))\n",
    "    \n",
    "    #cnn\n",
    "    # model = Sequential()\n",
    "    # model.add(Embedding(input_dim = vocab_size, output_dim = embed_dim, input_length=max_len, embeddings_initializer=Constant(w2v_weight_matrix), trainable = True))\n",
    "    # model.add(Dropout(0.5))\n",
    "    # model.add(Conv1D(32,3, padding='same', activation='relu'))\n",
    "    # model.add(MaxPooling1D())\n",
    "    # model.add(Flatten())\n",
    "    # model.add(Dense(256, activation='relu'))\n",
    "    # model.add(Dropout(0.5))\n",
    "    # model.add(Dense(1, activation='sigmoid'))\n",
    "\n",
    "    model.compile(loss='binary_crossentropy',\n",
    "                  optimizer=Adam(lr=1e-3),\n",
    "                  metrics=['accuracy'])\n",
    "    \n",
    "    # Hasil evaluasi\n",
    "    print('------------------------------------------------------------------------')\n",
    "    print(f'Training for fold {fold_no} ...')\n",
    "    \n",
    "    # checkpoint_path = \"/content/gdrive/MyDrive/TA/cp_100d.ckpt\"\n",
    "    # checkpoint_dir = os.path.dirname(checkpoint_path)\n",
    "\n",
    "    # Create a callback that saves the model's weights\n",
    "    # cp_callback = ModelCheckpoint(filepath=checkpoint_path, save_weights_only=True)\n",
    "\n",
    "    # latest = tf.train.latest_checkpoint(checkpoint_dir)\n",
    "    # model.load_weights(latest)\n",
    "\n",
    "    # Fit data to model\n",
    "    ES = [EarlyStopping(monitor='val_loss')]\n",
    "    hist = model.fit(x[train], y[train],\n",
    "                        validation_data = (x[test], y[test]),\n",
    "                        batch_size=batch_size,\n",
    "                        epochs=no_epochs,\n",
    "                        callbacks=[ES]\n",
    "                        # verbose=1\n",
    "                        )\n",
    "    # results_history.append(hist)\n",
    "    results_history.append(hist.history)\n",
    " \n",
    "    # # menyimpan history tiap fold\n",
    "    # plot_acc_per_fold[str(fold_no)] = hist.history['accuracy']\n",
    "    # plot_val_acc_per_fold[str(fold_no)] = hist.history['val_accuracy']\n",
    "    # plot_loss_per_fold[str(fold_no)] = hist.history['loss']\n",
    "    # plot_val_loss_per_fold[str(fold_no)] = hist.history['val_loss']\n",
    "    \n",
    "    # pembuatan metriks evaluasi\n",
    "    scores = model.evaluate(x[test], y[test], verbose=0)\n",
    "    print(f'Score for fold {fold_no}: {model.metrics_names[0]} of {scores[0]}; {model.metrics_names[1]} of {scores[1]*100}%')\n",
    "    acc_per_fold.append(scores[1] * 100)\n",
    "    loss_per_fold.append(scores[0])\n",
    "\n",
    "    # METRICS CALCULATION STARTS HERE\n",
    "    # predict probabilities for test set\n",
    "    y_pred = model.predict(x[test], verbose=0)\n",
    "    prediction = []\n",
    "    for i in range(len(y_pred)):\n",
    "        if y_pred[i].item()>0.5:\n",
    "            prediction.append(1)\n",
    "        else:\n",
    "            prediction.append(0)\n",
    "    y_probs = y_pred[:, 0]\n",
    "    \n",
    "    ## Metrics calculation\n",
    "    # accuracy: (tp + tn) / (p + n)\n",
    "    accuracy = accuracy_score(y[test], prediction)\n",
    "    all_accuracy.append(accuracy)\n",
    "    # precision tp / (tp + fp)\n",
    "    precision = precision_score(y[test], prediction)\n",
    "    all_precision.append(precision)\n",
    "    # recall: tp / (tp + fn)\n",
    "    recall = recall_score(y[test], prediction)\n",
    "    all_recall.append(recall)\n",
    "    # f1: 2 tp / (2 tp + fp + fn)\n",
    "    f1 = f1_score(y[test], prediction)\n",
    "    all_f1.append(f1)\n",
    "\n",
    "    ## Precision-Curve calculation\n",
    "    arr_precision, arr_recall, thresholds = precision_recall_curve(y[test], y_probs)\n",
    "    thresholds = np.concatenate([thresholds,[thresholds[thresholds.size-1]]])\n",
    "    all_arr_precision.append(arr_precision)\n",
    "    all_arr_recall.append(arr_recall)\n",
    "    all_thresholds.append(thresholds)\n",
    "\n",
    "    ave_precision = average_precision_score(y[test], y_probs)\n",
    "    all_ave_precision.append(ave_precision)\n",
    "\n",
    "    ## Confusion Matrix calculation\n",
    "    cf_matrix = confusion_matrix(y[test], prediction)\n",
    "    all_cf_matrices.append(cf_matrix)\n",
    "\n",
    "    # Increase fold number\n",
    "    fold_no = fold_no + 1\n",
    "\n",
    "# == menampilkan akurasi tiap fold dan rata-rata seluruhnya ==\n",
    "print('------------------------------------------------------------------------')\n",
    "print('Score per fold')\n",
    "for i in range(0, len(acc_per_fold)):\n",
    "    print('------------------------------------------------------------------------')\n",
    "    print(f'> Fold {i+1} - Loss: {loss_per_fold[i]} - Accuracy: {acc_per_fold[i]}%')\n",
    "print('------------------------------------------------------------------------')\n",
    "print('Average scores for all folds:')\n",
    "print(f'> Accuracy: {np.mean(acc_per_fold)} (+- {np.std(acc_per_fold)})')\n",
    "print(f'> Loss: {np.mean(loss_per_fold)}')\n",
    "print('------------------------------------------------------------------------')\n",
    "\n",
    "# # Save history object as a file\n",
    "with open('/content/drive/MyDrive/project_skripsi/DATA/LSTMTrainHistoryDict_10fold', 'wb') as file_pi:\n",
    "    pickle.dump(results_history, file_pi)\n",
    "    # pickle.dump(hist.history, file_pi)\n",
    "# hist = pickle.load(open('/content/gdrive/MyDrive/TA/LSTMTrainHistoryDict_10fold', \"rb\"))\n",
    "\n",
    "# # Create Dataframe to save all Metrics Result\n",
    "df_allmetrics_10fold = pd.DataFrame(acc_per_fold)\n",
    "df_allmetrics_10fold.columns = ['acc_per_fold']\n",
    "df_allmetrics_10fold['loss_per_fold'] = loss_per_fold\n",
    "\n",
    "df_allmetrics_10fold['all_accuracy'] = all_accuracy\n",
    "df_allmetrics_10fold['all_precision'] = all_precision\n",
    "df_allmetrics_10fold['all_recall'] = all_recall\n",
    "df_allmetrics_10fold['all_f1'] = all_f1\n",
    "\n",
    "df_allmetrics_10fold['all_arr_precision'] = all_arr_precision\n",
    "df_allmetrics_10fold['all_arr_recall'] = all_arr_recall\n",
    "df_allmetrics_10fold['all_thresholds'] = all_thresholds\n",
    "df_allmetrics_10fold['all_ave_precision'] = all_ave_precision\n",
    "\n",
    "df_allmetrics_10fold['all_cf_matrices'] = all_cf_matrices\n",
    "\n",
    "df_allmetrics_10fold.to_pickle(\"/content/drive/MyDrive/project_skripsi/DATA/lstm_all_metrics_10fold.pkl\")\n",
    "# df_allmetrics_10fold"
   ]
  },
  {
   "cell_type": "code",
   "execution_count": null,
   "metadata": {
    "id": "74OTBziT3jpY"
   },
   "outputs": [],
   "source": []
  }
 ],
 "metadata": {
  "colab": {
   "authorship_tag": "ABX9TyNiWhtlTpJgG9T6QWYJ1epO",
   "provenance": []
  },
  "kernelspec": {
   "display_name": "Python 3 (ipykernel)",
   "language": "python",
   "name": "python3"
  },
  "language_info": {
   "codemirror_mode": {
    "name": "ipython",
    "version": 3
   },
   "file_extension": ".py",
   "mimetype": "text/x-python",
   "name": "python",
   "nbconvert_exporter": "python",
   "pygments_lexer": "ipython3",
   "version": "3.9.13"
  }
 },
 "nbformat": 4,
 "nbformat_minor": 1
}
