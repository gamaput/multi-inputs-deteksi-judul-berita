{
 "cells": [
  {
   "cell_type": "code",
   "execution_count": 1,
   "metadata": {},
   "outputs": [],
   "source": [
    "# ! pip install Sastrawi"
   ]
  },
  {
   "cell_type": "markdown",
   "metadata": {
    "id": "Zuu7oJ4u9M5w"
   },
   "source": [
    "## Import Libraries"
   ]
  },
  {
   "cell_type": "code",
   "execution_count": 2,
   "metadata": {
    "executionInfo": {
     "elapsed": 6465,
     "status": "ok",
     "timestamp": 1675496219935,
     "user": {
      "displayName": "Gama Putra Adi Susilo",
      "userId": "11761602289089114790"
     },
     "user_tz": -420
    },
    "id": "ZBS1bYoBqJZj"
   },
   "outputs": [],
   "source": [
    "# Import Libraries\n",
    "\n",
    "import numpy as np\n",
    "import pandas as pd\n",
    "import tensorflow as tf\n",
    "from tensorflow import keras\n",
    "from keras import models, layers\n",
    "import matplotlib.pyplot as plt\n",
    "from tensorflow.keras.callbacks import EarlyStopping"
   ]
  },
  {
   "cell_type": "markdown",
   "metadata": {
    "id": "I3co-M4p9jpH"
   },
   "source": [
    "## Load Dataset"
   ]
  },
  {
   "cell_type": "code",
   "execution_count": 3,
   "metadata": {
    "colab": {
     "base_uri": "https://localhost:8080/",
     "height": 337
    },
    "executionInfo": {
     "elapsed": 45,
     "status": "ok",
     "timestamp": 1675496223078,
     "user": {
      "displayName": "Gama Putra Adi Susilo",
      "userId": "11761602289089114790"
     },
     "user_tz": -420
    },
    "id": "hRXk87E0m8va",
    "outputId": "ba036cfe-6bd7-4d61-b3b7-7f74ea3ae124"
   },
   "outputs": [
    {
     "data": {
      "text/html": [
       "<div>\n",
       "<style scoped>\n",
       "    .dataframe tbody tr th:only-of-type {\n",
       "        vertical-align: middle;\n",
       "    }\n",
       "\n",
       "    .dataframe tbody tr th {\n",
       "        vertical-align: top;\n",
       "    }\n",
       "\n",
       "    .dataframe thead th {\n",
       "        text-align: right;\n",
       "    }\n",
       "</style>\n",
       "<table border=\"1\" class=\"dataframe\">\n",
       "  <thead>\n",
       "    <tr style=\"text-align: right;\">\n",
       "      <th></th>\n",
       "      <th>content</th>\n",
       "      <th>date</th>\n",
       "      <th>title</th>\n",
       "      <th>label</th>\n",
       "    </tr>\n",
       "  </thead>\n",
       "  <tbody>\n",
       "    <tr>\n",
       "      <th>0</th>\n",
       "      <td>Berita SurabayaSURYA.co.id | SURABAYA - Pengem...</td>\n",
       "      <td>Jumat, 10 Juni 2022 01:08</td>\n",
       "      <td>PT Intiland Development Kembangkan Kawasan Ind...</td>\n",
       "      <td>noclickbait</td>\n",
       "    </tr>\n",
       "    <tr>\n",
       "      <th>1</th>\n",
       "      <td>Berita SurabayaSURYA.co.id | SURABAYA - Brand ...</td>\n",
       "      <td>Jumat, 10 Juni 2022 01:16</td>\n",
       "      <td>ANKER Menangkan Penghargaan Nobel Prize di Aja...</td>\n",
       "      <td>noclickbait</td>\n",
       "    </tr>\n",
       "    <tr>\n",
       "      <th>2</th>\n",
       "      <td>Berita SurabayaSURYA.co.id | SURABAYA - PT Har...</td>\n",
       "      <td>Jumat, 10 Juni 2022 01:27</td>\n",
       "      <td>Perluas Bisnis, Hartadinata Abadi Store Buka G...</td>\n",
       "      <td>noclickbait</td>\n",
       "    </tr>\n",
       "    <tr>\n",
       "      <th>3</th>\n",
       "      <td>Berita SurabayaSURYA.co.id | SURABAYA – Peneri...</td>\n",
       "      <td>Jumat, 10 Juni 2022 01:34</td>\n",
       "      <td>PPDB SMP Dibuka Hari Ini, Dindik Surabaya Mint...</td>\n",
       "      <td>clickbait</td>\n",
       "    </tr>\n",
       "    <tr>\n",
       "      <th>4</th>\n",
       "      <td>SURYA.co.id I Masih ingat Ronaldo Nazario, san...</td>\n",
       "      <td>Jumat, 10 Juni 2022 01:51</td>\n",
       "      <td>Liga Spanyol, Ronaldo Legenda Real Madrid, Jad...</td>\n",
       "      <td>clickbait</td>\n",
       "    </tr>\n",
       "  </tbody>\n",
       "</table>\n",
       "</div>"
      ],
      "text/plain": [
       "                                             content  \\\n",
       "0  Berita SurabayaSURYA.co.id | SURABAYA - Pengem...   \n",
       "1  Berita SurabayaSURYA.co.id | SURABAYA - Brand ...   \n",
       "2  Berita SurabayaSURYA.co.id | SURABAYA - PT Har...   \n",
       "3  Berita SurabayaSURYA.co.id | SURABAYA – Peneri...   \n",
       "4  SURYA.co.id I Masih ingat Ronaldo Nazario, san...   \n",
       "\n",
       "                        date  \\\n",
       "0  Jumat, 10 Juni 2022 01:08   \n",
       "1  Jumat, 10 Juni 2022 01:16   \n",
       "2  Jumat, 10 Juni 2022 01:27   \n",
       "3  Jumat, 10 Juni 2022 01:34   \n",
       "4  Jumat, 10 Juni 2022 01:51   \n",
       "\n",
       "                                               title        label  \n",
       "0  PT Intiland Development Kembangkan Kawasan Ind...  noclickbait  \n",
       "1  ANKER Menangkan Penghargaan Nobel Prize di Aja...  noclickbait  \n",
       "2  Perluas Bisnis, Hartadinata Abadi Store Buka G...  noclickbait  \n",
       "3  PPDB SMP Dibuka Hari Ini, Dindik Surabaya Mint...    clickbait  \n",
       "4  Liga Spanyol, Ronaldo Legenda Real Madrid, Jad...    clickbait  "
      ]
     },
     "execution_count": 3,
     "metadata": {},
     "output_type": "execute_result"
    }
   ],
   "source": [
    "# Read Dataset\n",
    "data = pd.read_csv('dataset.csv')\n",
    "\n",
    "data.head()"
   ]
  },
  {
   "cell_type": "code",
   "execution_count": 4,
   "metadata": {
    "colab": {
     "base_uri": "https://localhost:8080/",
     "height": 236
    },
    "executionInfo": {
     "elapsed": 47,
     "status": "ok",
     "timestamp": 1675496223081,
     "user": {
      "displayName": "Gama Putra Adi Susilo",
      "userId": "11761602289089114790"
     },
     "user_tz": -420
    },
    "id": "LPk68TA3s38k",
    "outputId": "a5ab6398-f1f2-4468-9eac-49454bd84a85",
    "scrolled": true
   },
   "outputs": [
    {
     "data": {
      "text/html": [
       "<div>\n",
       "<style scoped>\n",
       "    .dataframe tbody tr th:only-of-type {\n",
       "        vertical-align: middle;\n",
       "    }\n",
       "\n",
       "    .dataframe tbody tr th {\n",
       "        vertical-align: top;\n",
       "    }\n",
       "\n",
       "    .dataframe thead th {\n",
       "        text-align: right;\n",
       "    }\n",
       "</style>\n",
       "<table border=\"1\" class=\"dataframe\">\n",
       "  <thead>\n",
       "    <tr style=\"text-align: right;\">\n",
       "      <th></th>\n",
       "      <th>content</th>\n",
       "      <th>date</th>\n",
       "      <th>title</th>\n",
       "      <th>label</th>\n",
       "    </tr>\n",
       "  </thead>\n",
       "  <tbody>\n",
       "    <tr>\n",
       "      <th>count</th>\n",
       "      <td>1600</td>\n",
       "      <td>1600</td>\n",
       "      <td>1600</td>\n",
       "      <td>1600</td>\n",
       "    </tr>\n",
       "    <tr>\n",
       "      <th>unique</th>\n",
       "      <td>1596</td>\n",
       "      <td>1532</td>\n",
       "      <td>1595</td>\n",
       "      <td>2</td>\n",
       "    </tr>\n",
       "    <tr>\n",
       "      <th>top</th>\n",
       "      <td>SURYA.CO.ID, LAMONGAN - Kawasan Pantura (Panta...</td>\n",
       "      <td>Kamis, 20 Oktober 2022 09:15</td>\n",
       "      <td>Dideklarasikan Emak-Emak Lamongan di Pinggir K...</td>\n",
       "      <td>noclickbait</td>\n",
       "    </tr>\n",
       "    <tr>\n",
       "      <th>freq</th>\n",
       "      <td>2</td>\n",
       "      <td>3</td>\n",
       "      <td>2</td>\n",
       "      <td>800</td>\n",
       "    </tr>\n",
       "  </tbody>\n",
       "</table>\n",
       "</div>"
      ],
      "text/plain": [
       "                                                  content  \\\n",
       "count                                                1600   \n",
       "unique                                               1596   \n",
       "top     SURYA.CO.ID, LAMONGAN - Kawasan Pantura (Panta...   \n",
       "freq                                                    2   \n",
       "\n",
       "                                date  \\\n",
       "count                           1600   \n",
       "unique                          1532   \n",
       "top     Kamis, 20 Oktober 2022 09:15   \n",
       "freq                               3   \n",
       "\n",
       "                                                    title        label  \n",
       "count                                                1600         1600  \n",
       "unique                                               1595            2  \n",
       "top     Dideklarasikan Emak-Emak Lamongan di Pinggir K...  noclickbait  \n",
       "freq                                                    2          800  "
      ]
     },
     "execution_count": 4,
     "metadata": {},
     "output_type": "execute_result"
    }
   ],
   "source": [
    "data.describe(include='all')"
   ]
  },
  {
   "cell_type": "code",
   "execution_count": 5,
   "metadata": {
    "colab": {
     "base_uri": "https://localhost:8080/",
     "height": 337
    },
    "executionInfo": {
     "elapsed": 48,
     "status": "ok",
     "timestamp": 1675496223084,
     "user": {
      "displayName": "Gama Putra Adi Susilo",
      "userId": "11761602289089114790"
     },
     "user_tz": -420
    },
    "id": "Y5GSGqZwA6P_",
    "outputId": "b860b073-5a95-4cdc-8f4a-ab0aec08f38b"
   },
   "outputs": [
    {
     "data": {
      "text/html": [
       "<div>\n",
       "<style scoped>\n",
       "    .dataframe tbody tr th:only-of-type {\n",
       "        vertical-align: middle;\n",
       "    }\n",
       "\n",
       "    .dataframe tbody tr th {\n",
       "        vertical-align: top;\n",
       "    }\n",
       "\n",
       "    .dataframe thead th {\n",
       "        text-align: right;\n",
       "    }\n",
       "</style>\n",
       "<table border=\"1\" class=\"dataframe\">\n",
       "  <thead>\n",
       "    <tr style=\"text-align: right;\">\n",
       "      <th></th>\n",
       "      <th>content</th>\n",
       "      <th>date</th>\n",
       "      <th>title</th>\n",
       "      <th>label</th>\n",
       "      <th>binary_label</th>\n",
       "    </tr>\n",
       "  </thead>\n",
       "  <tbody>\n",
       "    <tr>\n",
       "      <th>0</th>\n",
       "      <td>Berita SurabayaSURYA.co.id | SURABAYA - Pengem...</td>\n",
       "      <td>Jumat, 10 Juni 2022 01:08</td>\n",
       "      <td>PT Intiland Development Kembangkan Kawasan Ind...</td>\n",
       "      <td>noclickbait</td>\n",
       "      <td>0</td>\n",
       "    </tr>\n",
       "    <tr>\n",
       "      <th>1</th>\n",
       "      <td>Berita SurabayaSURYA.co.id | SURABAYA - Brand ...</td>\n",
       "      <td>Jumat, 10 Juni 2022 01:16</td>\n",
       "      <td>ANKER Menangkan Penghargaan Nobel Prize di Aja...</td>\n",
       "      <td>noclickbait</td>\n",
       "      <td>0</td>\n",
       "    </tr>\n",
       "    <tr>\n",
       "      <th>2</th>\n",
       "      <td>Berita SurabayaSURYA.co.id | SURABAYA - PT Har...</td>\n",
       "      <td>Jumat, 10 Juni 2022 01:27</td>\n",
       "      <td>Perluas Bisnis, Hartadinata Abadi Store Buka G...</td>\n",
       "      <td>noclickbait</td>\n",
       "      <td>0</td>\n",
       "    </tr>\n",
       "    <tr>\n",
       "      <th>3</th>\n",
       "      <td>Berita SurabayaSURYA.co.id | SURABAYA – Peneri...</td>\n",
       "      <td>Jumat, 10 Juni 2022 01:34</td>\n",
       "      <td>PPDB SMP Dibuka Hari Ini, Dindik Surabaya Mint...</td>\n",
       "      <td>clickbait</td>\n",
       "      <td>1</td>\n",
       "    </tr>\n",
       "    <tr>\n",
       "      <th>4</th>\n",
       "      <td>SURYA.co.id I Masih ingat Ronaldo Nazario, san...</td>\n",
       "      <td>Jumat, 10 Juni 2022 01:51</td>\n",
       "      <td>Liga Spanyol, Ronaldo Legenda Real Madrid, Jad...</td>\n",
       "      <td>clickbait</td>\n",
       "      <td>1</td>\n",
       "    </tr>\n",
       "  </tbody>\n",
       "</table>\n",
       "</div>"
      ],
      "text/plain": [
       "                                             content  \\\n",
       "0  Berita SurabayaSURYA.co.id | SURABAYA - Pengem...   \n",
       "1  Berita SurabayaSURYA.co.id | SURABAYA - Brand ...   \n",
       "2  Berita SurabayaSURYA.co.id | SURABAYA - PT Har...   \n",
       "3  Berita SurabayaSURYA.co.id | SURABAYA – Peneri...   \n",
       "4  SURYA.co.id I Masih ingat Ronaldo Nazario, san...   \n",
       "\n",
       "                        date  \\\n",
       "0  Jumat, 10 Juni 2022 01:08   \n",
       "1  Jumat, 10 Juni 2022 01:16   \n",
       "2  Jumat, 10 Juni 2022 01:27   \n",
       "3  Jumat, 10 Juni 2022 01:34   \n",
       "4  Jumat, 10 Juni 2022 01:51   \n",
       "\n",
       "                                               title        label  \\\n",
       "0  PT Intiland Development Kembangkan Kawasan Ind...  noclickbait   \n",
       "1  ANKER Menangkan Penghargaan Nobel Prize di Aja...  noclickbait   \n",
       "2  Perluas Bisnis, Hartadinata Abadi Store Buka G...  noclickbait   \n",
       "3  PPDB SMP Dibuka Hari Ini, Dindik Surabaya Mint...    clickbait   \n",
       "4  Liga Spanyol, Ronaldo Legenda Real Madrid, Jad...    clickbait   \n",
       "\n",
       "   binary_label  \n",
       "0             0  \n",
       "1             0  \n",
       "2             0  \n",
       "3             1  \n",
       "4             1  "
      ]
     },
     "execution_count": 5,
     "metadata": {},
     "output_type": "execute_result"
    }
   ],
   "source": [
    "# Target column is made of string values True/Fake, let's change it to numbers 0/1 (clickbait=1) \n",
    "data['binary_label'] = pd.get_dummies(data.label)['clickbait']\n",
    "data.head()"
   ]
  },
  {
   "cell_type": "code",
   "execution_count": 6,
   "metadata": {
    "colab": {
     "base_uri": "https://localhost:8080/"
    },
    "executionInfo": {
     "elapsed": 48,
     "status": "ok",
     "timestamp": 1675496223085,
     "user": {
      "displayName": "Gama Putra Adi Susilo",
      "userId": "11761602289089114790"
     },
     "user_tz": -420
    },
    "id": "W_h2dF4oBiel",
    "outputId": "2706f48f-67cb-456b-9a60-7b3f3b2b2c37"
   },
   "outputs": [
    {
     "data": {
      "text/plain": [
       "0    800\n",
       "1    800\n",
       "Name: binary_label, dtype: int64"
      ]
     },
     "execution_count": 6,
     "metadata": {},
     "output_type": "execute_result"
    }
   ],
   "source": [
    "data['binary_label'].value_counts()"
   ]
  },
  {
   "cell_type": "code",
   "execution_count": 7,
   "metadata": {
    "colab": {
     "base_uri": "https://localhost:8080/",
     "height": 352
    },
    "executionInfo": {
     "elapsed": 47,
     "status": "ok",
     "timestamp": 1675496223088,
     "user": {
      "displayName": "Gama Putra Adi Susilo",
      "userId": "11761602289089114790"
     },
     "user_tz": -420
    },
    "id": "WYoVJANoXXZg",
    "outputId": "35b5b391-8eb5-43a9-8d13-635b6f92ec3a",
    "scrolled": true
   },
   "outputs": [
    {
     "data": {
      "text/plain": [
       "([<matplotlib.patches.Wedge at 0x1c1cfd78760>,\n",
       "  <matplotlib.patches.Wedge at 0x1c1cfd95130>],\n",
       " [Text(-1.2000000000000002, 1.469576158976824e-16, 'clickbait'),\n",
       "  Text(1.2000000000000002, -2.939152317953648e-16, 'noclickbait')],\n",
       " [Text(-0.7, 8.572527594031472e-17, '50.0%'),\n",
       "  Text(0.7, -1.7145055188062944e-16, '50.0%')])"
      ]
     },
     "execution_count": 7,
     "metadata": {},
     "output_type": "execute_result"
    },
    {
     "data": {
      "image/png": "[encoded data removed]",
      "text/plain": [
       "<Figure size 640x480 with 1 Axes>"
      ]
     },
     "metadata": {},
     "output_type": "display_data"
    }
   ],
   "source": [
    "# Checking if our data\n",
    "label_size = [data['binary_label'].sum(),len(data['binary_label'])-data['binary_label'].sum()]\n",
    "plt.pie(label_size,explode=[0.1,0.1],colors=['firebrick','navy'],startangle=90,shadow=True,labels=['clickbait','noclickbait'],autopct='%1.1f%%')"
   ]
  },
  {
   "cell_type": "code",
   "execution_count": 8,
   "metadata": {},
   "outputs": [
    {
     "data": {
      "text/html": [
       "<div>\n",
       "<style scoped>\n",
       "    .dataframe tbody tr th:only-of-type {\n",
       "        vertical-align: middle;\n",
       "    }\n",
       "\n",
       "    .dataframe tbody tr th {\n",
       "        vertical-align: top;\n",
       "    }\n",
       "\n",
       "    .dataframe thead th {\n",
       "        text-align: right;\n",
       "    }\n",
       "</style>\n",
       "<table border=\"1\" class=\"dataframe\">\n",
       "  <thead>\n",
       "    <tr style=\"text-align: right;\">\n",
       "      <th></th>\n",
       "      <th>content</th>\n",
       "      <th>date</th>\n",
       "      <th>title</th>\n",
       "      <th>binary_label</th>\n",
       "    </tr>\n",
       "    <tr>\n",
       "      <th>label</th>\n",
       "      <th></th>\n",
       "      <th></th>\n",
       "      <th></th>\n",
       "      <th></th>\n",
       "    </tr>\n",
       "  </thead>\n",
       "  <tbody>\n",
       "    <tr>\n",
       "      <th>clickbait</th>\n",
       "      <td>800</td>\n",
       "      <td>800</td>\n",
       "      <td>800</td>\n",
       "      <td>800</td>\n",
       "    </tr>\n",
       "    <tr>\n",
       "      <th>noclickbait</th>\n",
       "      <td>800</td>\n",
       "      <td>800</td>\n",
       "      <td>800</td>\n",
       "      <td>800</td>\n",
       "    </tr>\n",
       "  </tbody>\n",
       "</table>\n",
       "</div>"
      ],
      "text/plain": [
       "             content  date  title  binary_label\n",
       "label                                          \n",
       "clickbait        800   800    800           800\n",
       "noclickbait      800   800    800           800"
      ]
     },
     "execution_count": 8,
     "metadata": {},
     "output_type": "execute_result"
    }
   ],
   "source": [
    "data.groupby('label').count()"
   ]
  },
  {
   "cell_type": "markdown",
   "metadata": {
    "id": "dIJ_pshzCdT0"
   },
   "source": [
    "## Train-test-split"
   ]
  },
  {
   "cell_type": "code",
   "execution_count": 9,
   "metadata": {
    "colab": {
     "base_uri": "https://localhost:8080/"
    },
    "executionInfo": {
     "elapsed": 44,
     "status": "ok",
     "timestamp": 1675496223090,
     "user": {
      "displayName": "Gama Putra Adi Susilo",
      "userId": "11761602289089114790"
     },
     "user_tz": -420
    },
    "id": "Sea77N3UZKsX",
    "outputId": "d1c6f27a-468f-4953-9be5-67226c029a88",
    "scrolled": true
   },
   "outputs": [
    {
     "name": "stdout",
     "output_type": "stream",
     "text": [
      "<class 'pandas.core.frame.DataFrame'>\n",
      "RangeIndex: 1600 entries, 0 to 1599\n",
      "Data columns (total 5 columns):\n",
      " #   Column        Non-Null Count  Dtype \n",
      "---  ------        --------------  ----- \n",
      " 0   content       1600 non-null   object\n",
      " 1   date          1600 non-null   object\n",
      " 2   title         1600 non-null   object\n",
      " 3   label         1600 non-null   object\n",
      " 4   binary_label  1600 non-null   uint8 \n",
      "dtypes: object(4), uint8(1)\n",
      "memory usage: 51.7+ KB\n"
     ]
    }
   ],
   "source": [
    "# Data info\n",
    "\n",
    "data.info()"
   ]
  },
  {
   "cell_type": "code",
   "execution_count": 10,
   "metadata": {
    "scrolled": false
   },
   "outputs": [
    {
     "name": "stdout",
     "output_type": "stream",
     "text": [
      "Anggota KKB Papua Ceroboh, Perannya Sebagai Pemasok Amunisi Terbongkar Gara-gara Bacok Warga Sipil \n",
      "\n",
      "SURYA.co.id - Gara-gara kecerobohannya sendiri, seorang anggota KKB Papua berhasil ditangkap aparat TNI -Polri.Tak hanya itu, perannya sebagai pemasok amunisi untuk KKB Papua juga ikut terbongkar.Penyebab awalnya adalah ia nekat membacok warga sipil di Intan Jaya pada April 2021 lalu.Polisi langsung menangkapnya dan akhirnya terbongkar perannya sebagai anggota KKB Papua yang bertugas memasok amunisi.Melansir dari laman tribratanews.polri.go.id, berdasarkan Informasi adanya keberadaan Tersangka Pembacokan Warga Intan Jaya pada April 2021 di Pertigaan Pasar Yokatapang, Tim Aparat Gabungan Ops Damai Cartenz 2020 melakukan pegecekan dan penyelidikan. Dari hasil pengecekan, tersangka terlihat di Kali Wabu, Rabu (08/06/2022).Selanjutnya, tim bergerak dan berhasil mengamankan tersangka yang diketahui berinisial FS.Dari hasil pemeriksaan sementara, tersangka FS ini juga merupakan anggota KKB Papua Aktif.Hal ini dibenarkan oleh Kabid Humas Polda Papua Kombes Pol A. Mustofa Kamal, SH saat dikonfirmasi. Pihaknya menyebutkan penangkanapan FS berawal dari penyeledikan kasus pembacokan Asep Saputra pada April 2021 lalu.“Setelah mendapat informasi, kita berhasil mengamankan tersangka dan selanjutnya kita lakukan pengembangan,” ujarnya.Dari Hasil pengembangan, Lanjut Kasatgas bahwa Tersangka FS ini diketahui merupakan jaringan pengadaan amunisi untuk KKB Papua.Hal ini terbukti saat mengamankan tersangka petugas menemukan 10 butir amunisi Cal 5,56 MM.“Selain terkait kasus pembacokan, tersangka FS juga jaringan Pengadaan Amunisi untuk KKB Papua.Selanjutnya kita akan lakukan pengembangan dan kita informasikan kembali,”pungkas Kabid Humas Polda Papua.Terungkap sosok Praka AKG \n",
      "\n"
     ]
    }
   ],
   "source": [
    "#contoh data yang sudah di combine\n",
    "for i in data.loc[8][['title', 'content']]:\n",
    "    print(i,'\\n')"
   ]
  },
  {
   "cell_type": "markdown",
   "metadata": {},
   "source": [
    "Preprocessing"
   ]
  },
  {
   "cell_type": "code",
   "execution_count": 11,
   "metadata": {},
   "outputs": [],
   "source": [
    "import re\n",
    "\n",
    "import nltk\n",
    "\n",
    "from nltk import punkt\n",
    "from nltk import word_tokenize, FreqDist\n",
    "from nltk.corpus import stopwords\n",
    "from nltk.stem import WordNetLemmatizer\n",
    "from Sastrawi.Stemmer.StemmerFactory import StemmerFactory\n",
    "from Sastrawi.StopWordRemover.StopWordRemoverFactory import StopWordRemoverFactory\n",
    "\n",
    "from sklearn import model_selection, preprocessing, linear_model, naive_bayes, metrics\n",
    "from sklearn.feature_extraction.text import TfidfVectorizer, CountVectorizer,HashingVectorizer\n",
    "\n",
    "import pickle\n",
    "\n",
    "import warnings\n",
    "warnings.filterwarnings('ignore')"
   ]
  },
  {
   "cell_type": "code",
   "execution_count": 12,
   "metadata": {},
   "outputs": [],
   "source": [
    "#membersihkan data\n",
    "def cleaning(text):\n",
    "    #remove url\n",
    "    text = re.sub(r\"http\\S+\", \"\", str(text))\n",
    "    #remove hex characters\n",
    "    text = re.sub(r'(\\\\x(.){2})', '', text)\n",
    "    #menghapus spasi awal teks\n",
    "    text = text.lstrip()\n",
    "    #remove newlines\n",
    "    text = re.sub(r'\\s+|\\\\n', ' ', text)\n",
    "    #remove hashtags\n",
    "    text = re.sub(r'\\B#\\w*[a-zA-Z]+\\w*','', text)\n",
    "    #remove single char\n",
    "    text = re.sub(r'\\b[a-zA-Z]\\b','', text)\n",
    "    #remove number\n",
    "    text = re.sub(r'\\d+','', text)\n",
    "    #remove punctuation / tanda baca\n",
    "    text = re.sub(r'[^\\w\\s]+', ' ', text)\n",
    "    #remove spasi dari awal teks\n",
    "    text = re.sub(r\"/^\\\\s+/m\", '', text)\n",
    "    #remove character yang memilliki kurang dari 4 huruf\n",
    "    text = re.sub(r'\\b\\w{1,3}\\b', '', text)\n",
    "    #remove spasi berlebih\n",
    "    text = re.sub(r'\\s+', ' ', text)\n",
    "    #remove non-ascii character\n",
    "    text = re.sub('[^\\x00-\\x7F]+', '', text)\n",
    "    return text\n",
    "\n",
    "data['Judul_clean'] = data['title'].apply(cleaning)\n",
    "data['Content_clean'] = data['content'].apply(cleaning)"
   ]
  },
  {
   "cell_type": "code",
   "execution_count": 13,
   "metadata": {},
   "outputs": [
    {
     "name": "stdout",
     "output_type": "stream",
     "text": [
      "Anggota Papua Ceroboh Perannya Sebagai Pemasok Amunisi Terbongkar Gara gara Bacok Warga Sipil \n",
      "\n",
      "SURYA Gara gara kecerobohannya sendiri seorang anggota Papua berhasil ditangkap aparat Polri hanya perannya sebagai pemasok amunisi untuk Papua juga ikut terbongkar Penyebab awalnya adalah nekat membacok warga sipil Intan Jaya pada April lalu Polisi langsung menangkapnya akhirnya terbongkar perannya sebagai anggota Papua yang bertugas memasok amunisi Melansir dari laman tribratanews polri berdasarkan Informasi adanya keberadaan Tersangka Pembacokan Warga Intan Jaya pada April Pertigaan Pasar Yokatapang Aparat Gabungan Damai Cartenz melakukan pegecekan penyelidikan Dari hasil pengecekan tersangka terlihat Kali Wabu Rabu Selanjutnya bergerak berhasil mengamankan tersangka yang diketahui berinisial Dari hasil pemeriksaan sementara tersangka juga merupakan anggota Papua Aktif dibenarkan oleh Kabid Humas Polda Papua Kombes Mustofa Kamal saat dikonfirmasi Pihaknya menyebutkan penangkanapan berawal dari penyeledikan kasus pembacokan Asep Saputra pada April lalu Setelah mendapat informasi kita berhasil mengamankan tersangka selanjutnya kita lakukan pengembangan ujarnya Dari Hasil pengembangan Lanjut Kasatgas bahwa Tersangka diketahui merupakan jaringan pengadaan amunisi untuk Papua terbukti saat mengamankan tersangka petugas menemukan butir amunisi Selain terkait kasus pembacokan tersangka juga jaringan Pengadaan Amunisi untuk Papua Selanjutnya kita akan lakukan pengembangan kita informasikan kembali pungkas Kabid Humas Polda Papua Terungkap sosok Praka  \n",
      "\n"
     ]
    }
   ],
   "source": [
    "#contoh data yang sudah dibersihkan\n",
    "for i in data.loc[8][['Judul_clean','Content_clean']]:\n",
    "    print(i,'\\n')"
   ]
  },
  {
   "cell_type": "code",
   "execution_count": 14,
   "metadata": {},
   "outputs": [],
   "source": [
    "# Case folding"
   ]
  },
  {
   "cell_type": "code",
   "execution_count": 15,
   "metadata": {},
   "outputs": [],
   "source": [
    "#mengubah huruf kapital menjadi huruf kecil\n",
    "data['Judul_case'] = data['Judul_clean'].str.lower()\n",
    "data['Content_case'] = data['Content_clean'].str.lower()"
   ]
  },
  {
   "cell_type": "code",
   "execution_count": 16,
   "metadata": {
    "scrolled": false
   },
   "outputs": [
    {
     "name": "stdout",
     "output_type": "stream",
     "text": [
      "anggota papua ceroboh perannya sebagai pemasok amunisi terbongkar gara gara bacok warga sipil \n",
      "\n",
      "surya gara gara kecerobohannya sendiri seorang anggota papua berhasil ditangkap aparat polri hanya perannya sebagai pemasok amunisi untuk papua juga ikut terbongkar penyebab awalnya adalah nekat membacok warga sipil intan jaya pada april lalu polisi langsung menangkapnya akhirnya terbongkar perannya sebagai anggota papua yang bertugas memasok amunisi melansir dari laman tribratanews polri berdasarkan informasi adanya keberadaan tersangka pembacokan warga intan jaya pada april pertigaan pasar yokatapang aparat gabungan damai cartenz melakukan pegecekan penyelidikan dari hasil pengecekan tersangka terlihat kali wabu rabu selanjutnya bergerak berhasil mengamankan tersangka yang diketahui berinisial dari hasil pemeriksaan sementara tersangka juga merupakan anggota papua aktif dibenarkan oleh kabid humas polda papua kombes mustofa kamal saat dikonfirmasi pihaknya menyebutkan penangkanapan berawal dari penyeledikan kasus pembacokan asep saputra pada april lalu setelah mendapat informasi kita berhasil mengamankan tersangka selanjutnya kita lakukan pengembangan ujarnya dari hasil pengembangan lanjut kasatgas bahwa tersangka diketahui merupakan jaringan pengadaan amunisi untuk papua terbukti saat mengamankan tersangka petugas menemukan butir amunisi selain terkait kasus pembacokan tersangka juga jaringan pengadaan amunisi untuk papua selanjutnya kita akan lakukan pengembangan kita informasikan kembali pungkas kabid humas polda papua terungkap sosok praka  \n",
      "\n"
     ]
    }
   ],
   "source": [
    "#contoh data yang sudah di casefolding\n",
    "for i in data.loc[8][['Judul_case','Content_case']]:\n",
    "    print(i,'\\n')"
   ]
  },
  {
   "cell_type": "code",
   "execution_count": 17,
   "metadata": {
    "scrolled": true
   },
   "outputs": [],
   "source": [
    "def token(text):\n",
    "    nstr = text.split(' ')\n",
    "    dat= []\n",
    "    a = -1\n",
    "    for hu in nstr:\n",
    "        a = a + 1\n",
    "        if hu == '':\n",
    "            dat.append(a)\n",
    "        p = 0\n",
    "        b = 0\n",
    "        for q in dat:\n",
    "            b = q - p\n",
    "            del nstr[b]\n",
    "            p = p + 1\n",
    "    return nstr"
   ]
  },
  {
   "cell_type": "code",
   "execution_count": 18,
   "metadata": {
    "scrolled": true
   },
   "outputs": [],
   "source": [
    "#memisahkan kalimat menjadi potongan kata\n",
    "data['Judul_tok'] = data['Judul_case'].apply(token)\n",
    "data['Content_tok'] = data['Content_case'].apply(token)"
   ]
  },
  {
   "cell_type": "code",
   "execution_count": 19,
   "metadata": {
    "scrolled": true
   },
   "outputs": [
    {
     "name": "stdout",
     "output_type": "stream",
     "text": [
      "['anggota', 'papua', 'ceroboh', 'perannya', 'sebagai', 'pemasok', 'amunisi', 'terbongkar', 'gara', 'gara', 'bacok', 'warga', 'sipil'] \n",
      "\n",
      "['surya', 'gara', 'gara', 'kecerobohannya', 'sendiri', 'seorang', 'anggota', 'papua', 'berhasil', 'ditangkap', 'aparat', 'polri', 'hanya', 'perannya', 'sebagai', 'pemasok', 'amunisi', 'untuk', 'papua', 'juga', 'ikut', 'terbongkar', 'penyebab', 'awalnya', 'adalah', 'nekat', 'membacok', 'warga', 'sipil', 'intan', 'jaya', 'pada', 'april', 'lalu', 'polisi', 'langsung', 'menangkapnya', 'akhirnya', 'terbongkar', 'perannya', 'sebagai', 'anggota', 'papua', 'yang', 'bertugas', 'memasok', 'amunisi', 'melansir', 'dari', 'laman', 'tribratanews', 'polri', 'berdasarkan', 'informasi', 'adanya', 'keberadaan', 'tersangka', 'pembacokan', 'warga', 'intan', 'jaya', 'pada', 'april', 'pertigaan', 'pasar', 'yokatapang', 'aparat', 'gabungan', 'damai', 'cartenz', 'melakukan', 'pegecekan', 'penyelidikan', 'dari', 'hasil', 'pengecekan', 'tersangka', 'terlihat', 'kali', 'wabu', 'rabu', 'selanjutnya', 'bergerak', 'berhasil', 'mengamankan', 'tersangka', 'yang', 'diketahui', 'berinisial', 'dari', 'hasil', 'pemeriksaan', 'sementara', 'tersangka', 'juga', 'merupakan', 'anggota', 'papua', 'aktif', 'dibenarkan', 'oleh', 'kabid', 'humas', 'polda', 'papua', 'kombes', 'mustofa', 'kamal', 'saat', 'dikonfirmasi', 'pihaknya', 'menyebutkan', 'penangkanapan', 'berawal', 'dari', 'penyeledikan', 'kasus', 'pembacokan', 'asep', 'saputra', 'pada', 'april', 'lalu', 'setelah', 'mendapat', 'informasi', 'kita', 'berhasil', 'mengamankan', 'tersangka', 'selanjutnya', 'kita', 'lakukan', 'pengembangan', 'ujarnya', 'dari', 'hasil', 'pengembangan', 'lanjut', 'kasatgas', 'bahwa', 'tersangka', 'diketahui', 'merupakan', 'jaringan', 'pengadaan', 'amunisi', 'untuk', 'papua', 'terbukti', 'saat', 'mengamankan', 'tersangka', 'petugas', 'menemukan', 'butir', 'amunisi', 'selain', 'terkait', 'kasus', 'pembacokan', 'tersangka', 'juga', 'jaringan', 'pengadaan', 'amunisi', 'untuk', 'papua', 'selanjutnya', 'kita', 'akan', 'lakukan', 'pengembangan', 'kita', 'informasikan', 'kembali', 'pungkas', 'kabid', 'humas', 'polda', 'papua', 'terungkap', 'sosok', 'praka'] \n",
      "\n"
     ]
    }
   ],
   "source": [
    "for i in data.loc[8][['Judul_tok','Content_tok']]:\n",
    "    print(i,'\\n')"
   ]
  },
  {
   "cell_type": "code",
   "execution_count": 20,
   "metadata": {},
   "outputs": [
    {
     "name": "stderr",
     "output_type": "stream",
     "text": [
      "[nltk_data] Error loading stopwords: <urlopen error [Errno 11001]\n",
      "[nltk_data]     getaddrinfo failed>\n"
     ]
    }
   ],
   "source": [
    "#menghapus kata yang kurang penting, namun sering muncul (stopword) seperti kata penghubung\n",
    "#mengambil stopword dari library python sastrawi\n",
    "import nltk\n",
    "nltk.download('stopwords')\n",
    "\n",
    "listStopword = set(stopwords.words('indonesian'))\n",
    "listStopword.update(set(stopwords.words('english')))\n",
    "\n",
    "def stopwords_removal(words):\n",
    "    return [word for word in words if word not in listStopword]\n",
    "\n",
    "data['Judul_Stopwords'] = data['Judul_tok'].apply(stopwords_removal)\n",
    "data['Content_Stopwords'] = data['Content_tok'].apply(stopwords_removal)"
   ]
  },
  {
   "cell_type": "code",
   "execution_count": 21,
   "metadata": {},
   "outputs": [
    {
     "name": "stdout",
     "output_type": "stream",
     "text": [
      "['anggota', 'papua', 'ceroboh', 'perannya', 'pemasok', 'amunisi', 'terbongkar', 'gara', 'gara', 'bacok', 'warga', 'sipil'] \n",
      "\n",
      "['surya', 'gara', 'gara', 'kecerobohannya', 'anggota', 'papua', 'berhasil', 'ditangkap', 'aparat', 'polri', 'perannya', 'pemasok', 'amunisi', 'papua', 'terbongkar', 'penyebab', 'nekat', 'membacok', 'warga', 'sipil', 'intan', 'jaya', 'april', 'polisi', 'langsung', 'menangkapnya', 'terbongkar', 'perannya', 'anggota', 'papua', 'bertugas', 'memasok', 'amunisi', 'melansir', 'laman', 'tribratanews', 'polri', 'berdasarkan', 'informasi', 'keberadaan', 'tersangka', 'pembacokan', 'warga', 'intan', 'jaya', 'april', 'pertigaan', 'pasar', 'yokatapang', 'aparat', 'gabungan', 'damai', 'cartenz', 'pegecekan', 'penyelidikan', 'hasil', 'pengecekan', 'tersangka', 'kali', 'wabu', 'rabu', 'bergerak', 'berhasil', 'mengamankan', 'tersangka', 'berinisial', 'hasil', 'pemeriksaan', 'tersangka', 'anggota', 'papua', 'aktif', 'dibenarkan', 'kabid', 'humas', 'polda', 'papua', 'kombes', 'mustofa', 'kamal', 'dikonfirmasi', 'penangkanapan', 'penyeledikan', 'pembacokan', 'asep', 'saputra', 'april', 'informasi', 'berhasil', 'mengamankan', 'tersangka', 'lakukan', 'pengembangan', 'hasil', 'pengembangan', 'kasatgas', 'tersangka', 'jaringan', 'pengadaan', 'amunisi', 'papua', 'terbukti', 'mengamankan', 'tersangka', 'petugas', 'menemukan', 'butir', 'amunisi', 'terkait', 'pembacokan', 'tersangka', 'jaringan', 'pengadaan', 'amunisi', 'papua', 'lakukan', 'pengembangan', 'informasikan', 'pungkas', 'kabid', 'humas', 'polda', 'papua', 'terungkap', 'sosok', 'praka'] \n",
      "\n"
     ]
    }
   ],
   "source": [
    "for i in data.loc[8][['Judul_Stopwords','Content_Stopwords']]:\n",
    "    print(i,'\\n')"
   ]
  },
  {
   "cell_type": "code",
   "execution_count": 22,
   "metadata": {},
   "outputs": [],
   "source": [
    "#mengembalikan token menjadi string tunggal kembali untuk stemming\n",
    "def untokenize(text):\n",
    "    \n",
    "    text = ' '.join(text)\n",
    "    step1 = text.replace(\"`` \", '\"').replace(\" ''\", '\"').replace('. . .',  '...')\n",
    "    step2 = step1.replace(\" ( \", \" (\").replace(\" ) \", \") \")\n",
    "    step3 = re.sub(r' ([.,:;?!%]+)([ \\'\"`])', r\"\\1\\2\", step2)\n",
    "    step4 = re.sub(r' ([.,:;?!%]+)$', r\"\\1\", step3)\n",
    "    step5 = step4.replace(\" '\", \"'\").replace(\" n't\", \"n't\").replace(\n",
    "         \"can not\", \"cannot\")\n",
    "    step6 = step5.replace(\" ` \", \" '\")\n",
    "    return step6.strip()\n",
    "\n",
    "data['Untokenized_judul'] = data['Judul_Stopwords'].apply(untokenize)\n",
    "data['Untokenized_content'] = data['Content_Stopwords'].apply(untokenize)"
   ]
  },
  {
   "cell_type": "code",
   "execution_count": 23,
   "metadata": {},
   "outputs": [
    {
     "name": "stdout",
     "output_type": "stream",
     "text": [
      "anggota papua ceroboh perannya pemasok amunisi terbongkar gara gara bacok warga sipil \n",
      "\n",
      "surya gara gara kecerobohannya anggota papua berhasil ditangkap aparat polri perannya pemasok amunisi papua terbongkar penyebab nekat membacok warga sipil intan jaya april polisi langsung menangkapnya terbongkar perannya anggota papua bertugas memasok amunisi melansir laman tribratanews polri berdasarkan informasi keberadaan tersangka pembacokan warga intan jaya april pertigaan pasar yokatapang aparat gabungan damai cartenz pegecekan penyelidikan hasil pengecekan tersangka kali wabu rabu bergerak berhasil mengamankan tersangka berinisial hasil pemeriksaan tersangka anggota papua aktif dibenarkan kabid humas polda papua kombes mustofa kamal dikonfirmasi penangkanapan penyeledikan pembacokan asep saputra april informasi berhasil mengamankan tersangka lakukan pengembangan hasil pengembangan kasatgas tersangka jaringan pengadaan amunisi papua terbukti mengamankan tersangka petugas menemukan butir amunisi terkait pembacokan tersangka jaringan pengadaan amunisi papua lakukan pengembangan informasikan pungkas kabid humas polda papua terungkap sosok praka \n",
      "\n"
     ]
    }
   ],
   "source": [
    "for i in data.loc[8][['Untokenized_judul','Untokenized_content']]:\n",
    "    print(i,'\\n')"
   ]
  },
  {
   "cell_type": "code",
   "execution_count": 24,
   "metadata": {
    "scrolled": true
   },
   "outputs": [
    {
     "data": {
      "text/html": [
       "<div>\n",
       "<style scoped>\n",
       "    .dataframe tbody tr th:only-of-type {\n",
       "        vertical-align: middle;\n",
       "    }\n",
       "\n",
       "    .dataframe tbody tr th {\n",
       "        vertical-align: top;\n",
       "    }\n",
       "\n",
       "    .dataframe thead th {\n",
       "        text-align: right;\n",
       "    }\n",
       "</style>\n",
       "<table border=\"1\" class=\"dataframe\">\n",
       "  <thead>\n",
       "    <tr style=\"text-align: right;\">\n",
       "      <th></th>\n",
       "      <th>content</th>\n",
       "      <th>date</th>\n",
       "      <th>title</th>\n",
       "      <th>label</th>\n",
       "      <th>binary_label</th>\n",
       "      <th>Judul_clean</th>\n",
       "      <th>Content_clean</th>\n",
       "      <th>Judul_case</th>\n",
       "      <th>Content_case</th>\n",
       "      <th>Judul_tok</th>\n",
       "      <th>Content_tok</th>\n",
       "      <th>Judul_Stopwords</th>\n",
       "      <th>Content_Stopwords</th>\n",
       "      <th>Untokenized_judul</th>\n",
       "      <th>Untokenized_content</th>\n",
       "    </tr>\n",
       "  </thead>\n",
       "  <tbody>\n",
       "    <tr>\n",
       "      <th>1220</th>\n",
       "      <td>SURYA.CO.ID, GRESIK - Merayakan Hari Ulang Tah...</td>\n",
       "      <td>Rabu, 10 Agustus 2022 10:58</td>\n",
       "      <td>Jelang Peringatan Kemerdekaan RI, Warga Gresik...</td>\n",
       "      <td>clickbait</td>\n",
       "      <td>1</td>\n",
       "      <td>Jelang Peringatan Kemerdekaan Warga Gresik Bik...</td>\n",
       "      <td>SURYA GRESIK Merayakan Hari Ulang Tahun Kemerd...</td>\n",
       "      <td>jelang peringatan kemerdekaan warga gresik bik...</td>\n",
       "      <td>surya gresik merayakan hari ulang tahun kemerd...</td>\n",
       "      <td>[jelang, peringatan, kemerdekaan, warga, gresi...</td>\n",
       "      <td>[surya, gresik, merayakan, hari, ulang, tahun,...</td>\n",
       "      <td>[jelang, peringatan, kemerdekaan, warga, gresi...</td>\n",
       "      <td>[surya, gresik, merayakan, ulang, kemerdekaan,...</td>\n",
       "      <td>jelang peringatan kemerdekaan warga gresik bik...</td>\n",
       "      <td>surya gresik merayakan ulang kemerdekaan repub...</td>\n",
       "    </tr>\n",
       "    <tr>\n",
       "      <th>721</th>\n",
       "      <td>Berita BlitarSURYA.co.id I BLITAR - Angka peng...</td>\n",
       "      <td>Kamis, 10 November 2022 19:01</td>\n",
       "      <td>Pemkot Blitar Targetkan Angka Pengangguran Ber...</td>\n",
       "      <td>noclickbait</td>\n",
       "      <td>0</td>\n",
       "      <td>Pemkot Blitar Targetkan Angka Pengangguran Ber...</td>\n",
       "      <td>Berita BlitarSURYA BLITAR Angka pengangguran K...</td>\n",
       "      <td>pemkot blitar targetkan angka pengangguran ber...</td>\n",
       "      <td>berita blitarsurya blitar angka pengangguran k...</td>\n",
       "      <td>[pemkot, blitar, targetkan, angka, penganggura...</td>\n",
       "      <td>[berita, blitarsurya, blitar, angka, penganggu...</td>\n",
       "      <td>[pemkot, blitar, targetkan, angka, penganggura...</td>\n",
       "      <td>[berita, blitarsurya, blitar, angka, penganggu...</td>\n",
       "      <td>pemkot blitar targetkan angka pengangguran ber...</td>\n",
       "      <td>berita blitarsurya blitar angka pengangguran k...</td>\n",
       "    </tr>\n",
       "    <tr>\n",
       "      <th>1533</th>\n",
       "      <td>SURYA.co.id | LAMONGAN - Berikut sosok Samudra...</td>\n",
       "      <td>Senin, 10 Januari 2022 18:39</td>\n",
       "      <td>SOSOK Samudra Zahrotul Bilad, Mahasiswi Lamong...</td>\n",
       "      <td>clickbait</td>\n",
       "      <td>1</td>\n",
       "      <td>SOSOK Samudra Zahrotul Bilad Mahasiswi Lamonga...</td>\n",
       "      <td>SURYA LAMONGAN Berikut sosok Samudra Zahrotul ...</td>\n",
       "      <td>sosok samudra zahrotul bilad mahasiswi lamonga...</td>\n",
       "      <td>surya lamongan berikut sosok samudra zahrotul ...</td>\n",
       "      <td>[sosok, samudra, zahrotul, bilad, mahasiswi, l...</td>\n",
       "      <td>[surya, lamongan, berikut, sosok, samudra, zah...</td>\n",
       "      <td>[sosok, samudra, zahrotul, bilad, mahasiswi, l...</td>\n",
       "      <td>[surya, lamongan, sosok, samudra, zahrotul, bi...</td>\n",
       "      <td>sosok samudra zahrotul bilad mahasiswi lamonga...</td>\n",
       "      <td>surya lamongan sosok samudra zahrotul bilad ma...</td>\n",
       "    </tr>\n",
       "    <tr>\n",
       "      <th>895</th>\n",
       "      <td>SURYA.co.id |SIDOARJO - Deltras Sidoarjo berha...</td>\n",
       "      <td>Kamis, 20 Januari 2022 20:31</td>\n",
       "      <td>Pelatih Deltras Kecewa, Dua Pemainnya Cidera d...</td>\n",
       "      <td>noclickbait</td>\n",
       "      <td>0</td>\n",
       "      <td>Pelatih Deltras Kecewa Pemainnya Cidera Laga Coba</td>\n",
       "      <td>SURYA SIDOARJO Deltras Sidoarjo berhasil memet...</td>\n",
       "      <td>pelatih deltras kecewa pemainnya cidera laga coba</td>\n",
       "      <td>surya sidoarjo deltras sidoarjo berhasil memet...</td>\n",
       "      <td>[pelatih, deltras, kecewa, pemainnya, cidera, ...</td>\n",
       "      <td>[surya, sidoarjo, deltras, sidoarjo, berhasil,...</td>\n",
       "      <td>[pelatih, deltras, kecewa, pemainnya, cidera, ...</td>\n",
       "      <td>[surya, sidoarjo, deltras, sidoarjo, berhasil,...</td>\n",
       "      <td>pelatih deltras kecewa pemainnya cidera laga coba</td>\n",
       "      <td>surya sidoarjo deltras sidoarjo berhasil memet...</td>\n",
       "    </tr>\n",
       "    <tr>\n",
       "      <th>818</th>\n",
       "      <td>SURYA.CO.ID, LAMONGAN - Angka kunjungan wisata...</td>\n",
       "      <td>Kamis, 20 Januari 2022 12:23</td>\n",
       "      <td>Kunjungan Wisata saat Libur Nataru 2021 di Kab...</td>\n",
       "      <td>noclickbait</td>\n",
       "      <td>0</td>\n",
       "      <td>Kunjungan Wisata saat Libur Nataru Kabupaten L...</td>\n",
       "      <td>SURYA LAMONGAN Angka kunjungan wisata Kabupate...</td>\n",
       "      <td>kunjungan wisata saat libur nataru kabupaten l...</td>\n",
       "      <td>surya lamongan angka kunjungan wisata kabupate...</td>\n",
       "      <td>[kunjungan, wisata, saat, libur, nataru, kabup...</td>\n",
       "      <td>[surya, lamongan, angka, kunjungan, wisata, ka...</td>\n",
       "      <td>[kunjungan, wisata, libur, nataru, kabupaten, ...</td>\n",
       "      <td>[surya, lamongan, angka, kunjungan, wisata, ka...</td>\n",
       "      <td>kunjungan wisata libur nataru kabupaten lamong...</td>\n",
       "      <td>surya lamongan angka kunjungan wisata kabupate...</td>\n",
       "    </tr>\n",
       "    <tr>\n",
       "      <th>251</th>\n",
       "      <td>SURYA.CO.ID - Berikut bacaan dzikir setelah me...</td>\n",
       "      <td>Jumat, 20 Mei 2022 17:52</td>\n",
       "      <td>BACAAN Dzikir Setelah Sholat 5 Waktu Menurut R...</td>\n",
       "      <td>noclickbait</td>\n",
       "      <td>0</td>\n",
       "      <td>BACAAN Dzikir Setelah Sholat Waktu Menurut Ras...</td>\n",
       "      <td>SURYA Berikut bacaan dzikir setelah menjalanka...</td>\n",
       "      <td>bacaan dzikir setelah sholat waktu menurut ras...</td>\n",
       "      <td>surya berikut bacaan dzikir setelah menjalanka...</td>\n",
       "      <td>[bacaan, dzikir, setelah, sholat, waktu, menur...</td>\n",
       "      <td>[surya, berikut, bacaan, dzikir, setelah, menj...</td>\n",
       "      <td>[bacaan, dzikir, sholat, rasulullah, lengkap, ...</td>\n",
       "      <td>[surya, bacaan, dzikir, menjalankan, sholat, u...</td>\n",
       "      <td>bacaan dzikir sholat rasulullah lengkap terjem...</td>\n",
       "      <td>surya bacaan dzikir menjalankan sholat umat mu...</td>\n",
       "    </tr>\n",
       "    <tr>\n",
       "      <th>694</th>\n",
       "      <td>SURYA.CO.ID, SURABAYA - Tim Jatanras Satreskri...</td>\n",
       "      <td>Kamis, 10 November 2022 13:41</td>\n",
       "      <td>Polisi Identifikasi Sosok Pria Berkemeja Kunin...</td>\n",
       "      <td>noclickbait</td>\n",
       "      <td>0</td>\n",
       "      <td>Polisi Identifikasi Sosok Pria Berkemeja Kunin...</td>\n",
       "      <td>SURYA SURABAYA Jatanras Satreskrim Polrestabes...</td>\n",
       "      <td>polisi identifikasi sosok pria berkemeja kunin...</td>\n",
       "      <td>surya surabaya jatanras satreskrim polrestabes...</td>\n",
       "      <td>[polisi, identifikasi, sosok, pria, berkemeja,...</td>\n",
       "      <td>[surya, surabaya, jatanras, satreskrim, polres...</td>\n",
       "      <td>[polisi, identifikasi, sosok, pria, berkemeja,...</td>\n",
       "      <td>[surya, surabaya, jatanras, satreskrim, polres...</td>\n",
       "      <td>polisi identifikasi sosok pria berkemeja kunin...</td>\n",
       "      <td>surya surabaya jatanras satreskrim polrestabes...</td>\n",
       "    </tr>\n",
       "    <tr>\n",
       "      <th>174</th>\n",
       "      <td>SURYA.co.id - Berikut kabar terbaru Enzo Allie...</td>\n",
       "      <td>Jumat, 20 Mei 2022 09:57</td>\n",
       "      <td>KABAR TERBARU Enzo Allie Taruna Akmil yang Sem...</td>\n",
       "      <td>clickbait</td>\n",
       "      <td>1</td>\n",
       "      <td>KABAR TERBARU Enzo Allie Taruna Akmil yang Sem...</td>\n",
       "      <td>SURYA Berikut kabar terbaru Enzo Allie taruna ...</td>\n",
       "      <td>kabar terbaru enzo allie taruna akmil yang sem...</td>\n",
       "      <td>surya berikut kabar terbaru enzo allie taruna ...</td>\n",
       "      <td>[kabar, terbaru, enzo, allie, taruna, akmil, y...</td>\n",
       "      <td>[surya, berikut, kabar, terbaru, enzo, allie, ...</td>\n",
       "      <td>[kabar, terbaru, enzo, allie, taruna, akmil, v...</td>\n",
       "      <td>[surya, kabar, terbaru, enzo, allie, taruna, a...</td>\n",
       "      <td>kabar terbaru enzo allie taruna akmil viral li...</td>\n",
       "      <td>surya kabar terbaru enzo allie taruna akademi ...</td>\n",
       "    </tr>\n",
       "    <tr>\n",
       "      <th>931</th>\n",
       "      <td>SURYA.CO.ID, KOTA KEDIRI - Pemkot Kediri memas...</td>\n",
       "      <td>Kamis, 20 Januari 2022 23:18</td>\n",
       "      <td>Pemkot Kediri Jamin Tidak Ada Vaksin Kadaluwar...</td>\n",
       "      <td>noclickbait</td>\n",
       "      <td>0</td>\n",
       "      <td>Pemkot Kediri Jamin Tidak Vaksin Kadaluwarsa Y...</td>\n",
       "      <td>SURYA KOTA KEDIRI Pemkot Kediri memastikan vak...</td>\n",
       "      <td>pemkot kediri jamin tidak vaksin kadaluwarsa y...</td>\n",
       "      <td>surya kota kediri pemkot kediri memastikan vak...</td>\n",
       "      <td>[pemkot, kediri, jamin, tidak, vaksin, kadaluw...</td>\n",
       "      <td>[surya, kota, kediri, pemkot, kediri, memastik...</td>\n",
       "      <td>[pemkot, kediri, jamin, vaksin, kadaluwarsa, d...</td>\n",
       "      <td>[surya, kota, kediri, pemkot, kediri, vaksin, ...</td>\n",
       "      <td>pemkot kediri jamin vaksin kadaluwarsa disunti...</td>\n",
       "      <td>surya kota kediri pemkot kediri vaksin warga k...</td>\n",
       "    </tr>\n",
       "    <tr>\n",
       "      <th>894</th>\n",
       "      <td>SURYA.co.id | SURABAYA – Wali Kota Surabaya Er...</td>\n",
       "      <td>Kamis, 20 Januari 2022 20:20</td>\n",
       "      <td>Evaluasi PTM 100 Persen SD-SMP di Surabaya: Ta...</td>\n",
       "      <td>noclickbait</td>\n",
       "      <td>0</td>\n",
       "      <td>Evaluasi Persen Surabaya Kasus Covid Swab Acak...</td>\n",
       "      <td>SURYA SURABAYA Wali Kota Surabaya Cahyadi mema...</td>\n",
       "      <td>evaluasi persen surabaya kasus covid swab acak...</td>\n",
       "      <td>surya surabaya wali kota surabaya cahyadi mema...</td>\n",
       "      <td>[evaluasi, persen, surabaya, kasus, covid, swa...</td>\n",
       "      <td>[surya, surabaya, wali, kota, surabaya, cahyad...</td>\n",
       "      <td>[evaluasi, persen, surabaya, covid, swab, acak]</td>\n",
       "      <td>[surya, surabaya, wali, kota, surabaya, cahyad...</td>\n",
       "      <td>evaluasi persen surabaya covid swab acak</td>\n",
       "      <td>surya surabaya wali kota surabaya cahyadi temu...</td>\n",
       "    </tr>\n",
       "  </tbody>\n",
       "</table>\n",
       "</div>"
      ],
      "text/plain": [
       "                                                content  \\\n",
       "1220  SURYA.CO.ID, GRESIK - Merayakan Hari Ulang Tah...   \n",
       "721   Berita BlitarSURYA.co.id I BLITAR - Angka peng...   \n",
       "1533  SURYA.co.id | LAMONGAN - Berikut sosok Samudra...   \n",
       "895   SURYA.co.id |SIDOARJO - Deltras Sidoarjo berha...   \n",
       "818   SURYA.CO.ID, LAMONGAN - Angka kunjungan wisata...   \n",
       "251   SURYA.CO.ID - Berikut bacaan dzikir setelah me...   \n",
       "694   SURYA.CO.ID, SURABAYA - Tim Jatanras Satreskri...   \n",
       "174   SURYA.co.id - Berikut kabar terbaru Enzo Allie...   \n",
       "931   SURYA.CO.ID, KOTA KEDIRI - Pemkot Kediri memas...   \n",
       "894   SURYA.co.id | SURABAYA – Wali Kota Surabaya Er...   \n",
       "\n",
       "                               date  \\\n",
       "1220    Rabu, 10 Agustus 2022 10:58   \n",
       "721   Kamis, 10 November 2022 19:01   \n",
       "1533   Senin, 10 Januari 2022 18:39   \n",
       "895    Kamis, 20 Januari 2022 20:31   \n",
       "818    Kamis, 20 Januari 2022 12:23   \n",
       "251        Jumat, 20 Mei 2022 17:52   \n",
       "694   Kamis, 10 November 2022 13:41   \n",
       "174        Jumat, 20 Mei 2022 09:57   \n",
       "931    Kamis, 20 Januari 2022 23:18   \n",
       "894    Kamis, 20 Januari 2022 20:20   \n",
       "\n",
       "                                                  title        label  \\\n",
       "1220  Jelang Peringatan Kemerdekaan RI, Warga Gresik...    clickbait   \n",
       "721   Pemkot Blitar Targetkan Angka Pengangguran Ber...  noclickbait   \n",
       "1533  SOSOK Samudra Zahrotul Bilad, Mahasiswi Lamong...    clickbait   \n",
       "895   Pelatih Deltras Kecewa, Dua Pemainnya Cidera d...  noclickbait   \n",
       "818   Kunjungan Wisata saat Libur Nataru 2021 di Kab...  noclickbait   \n",
       "251   BACAAN Dzikir Setelah Sholat 5 Waktu Menurut R...  noclickbait   \n",
       "694   Polisi Identifikasi Sosok Pria Berkemeja Kunin...  noclickbait   \n",
       "174   KABAR TERBARU Enzo Allie Taruna Akmil yang Sem...    clickbait   \n",
       "931   Pemkot Kediri Jamin Tidak Ada Vaksin Kadaluwar...  noclickbait   \n",
       "894   Evaluasi PTM 100 Persen SD-SMP di Surabaya: Ta...  noclickbait   \n",
       "\n",
       "      binary_label                                        Judul_clean  \\\n",
       "1220             1  Jelang Peringatan Kemerdekaan Warga Gresik Bik...   \n",
       "721              0  Pemkot Blitar Targetkan Angka Pengangguran Ber...   \n",
       "1533             1  SOSOK Samudra Zahrotul Bilad Mahasiswi Lamonga...   \n",
       "895              0  Pelatih Deltras Kecewa Pemainnya Cidera Laga Coba   \n",
       "818              0  Kunjungan Wisata saat Libur Nataru Kabupaten L...   \n",
       "251              0  BACAAN Dzikir Setelah Sholat Waktu Menurut Ras...   \n",
       "694              0  Polisi Identifikasi Sosok Pria Berkemeja Kunin...   \n",
       "174              1  KABAR TERBARU Enzo Allie Taruna Akmil yang Sem...   \n",
       "931              0  Pemkot Kediri Jamin Tidak Vaksin Kadaluwarsa Y...   \n",
       "894              0  Evaluasi Persen Surabaya Kasus Covid Swab Acak...   \n",
       "\n",
       "                                          Content_clean  \\\n",
       "1220  SURYA GRESIK Merayakan Hari Ulang Tahun Kemerd...   \n",
       "721   Berita BlitarSURYA BLITAR Angka pengangguran K...   \n",
       "1533  SURYA LAMONGAN Berikut sosok Samudra Zahrotul ...   \n",
       "895   SURYA SIDOARJO Deltras Sidoarjo berhasil memet...   \n",
       "818   SURYA LAMONGAN Angka kunjungan wisata Kabupate...   \n",
       "251   SURYA Berikut bacaan dzikir setelah menjalanka...   \n",
       "694   SURYA SURABAYA Jatanras Satreskrim Polrestabes...   \n",
       "174   SURYA Berikut kabar terbaru Enzo Allie taruna ...   \n",
       "931   SURYA KOTA KEDIRI Pemkot Kediri memastikan vak...   \n",
       "894   SURYA SURABAYA Wali Kota Surabaya Cahyadi mema...   \n",
       "\n",
       "                                             Judul_case  \\\n",
       "1220  jelang peringatan kemerdekaan warga gresik bik...   \n",
       "721   pemkot blitar targetkan angka pengangguran ber...   \n",
       "1533  sosok samudra zahrotul bilad mahasiswi lamonga...   \n",
       "895   pelatih deltras kecewa pemainnya cidera laga coba   \n",
       "818   kunjungan wisata saat libur nataru kabupaten l...   \n",
       "251   bacaan dzikir setelah sholat waktu menurut ras...   \n",
       "694   polisi identifikasi sosok pria berkemeja kunin...   \n",
       "174   kabar terbaru enzo allie taruna akmil yang sem...   \n",
       "931   pemkot kediri jamin tidak vaksin kadaluwarsa y...   \n",
       "894   evaluasi persen surabaya kasus covid swab acak...   \n",
       "\n",
       "                                           Content_case  \\\n",
       "1220  surya gresik merayakan hari ulang tahun kemerd...   \n",
       "721   berita blitarsurya blitar angka pengangguran k...   \n",
       "1533  surya lamongan berikut sosok samudra zahrotul ...   \n",
       "895   surya sidoarjo deltras sidoarjo berhasil memet...   \n",
       "818   surya lamongan angka kunjungan wisata kabupate...   \n",
       "251   surya berikut bacaan dzikir setelah menjalanka...   \n",
       "694   surya surabaya jatanras satreskrim polrestabes...   \n",
       "174   surya berikut kabar terbaru enzo allie taruna ...   \n",
       "931   surya kota kediri pemkot kediri memastikan vak...   \n",
       "894   surya surabaya wali kota surabaya cahyadi mema...   \n",
       "\n",
       "                                              Judul_tok  \\\n",
       "1220  [jelang, peringatan, kemerdekaan, warga, gresi...   \n",
       "721   [pemkot, blitar, targetkan, angka, penganggura...   \n",
       "1533  [sosok, samudra, zahrotul, bilad, mahasiswi, l...   \n",
       "895   [pelatih, deltras, kecewa, pemainnya, cidera, ...   \n",
       "818   [kunjungan, wisata, saat, libur, nataru, kabup...   \n",
       "251   [bacaan, dzikir, setelah, sholat, waktu, menur...   \n",
       "694   [polisi, identifikasi, sosok, pria, berkemeja,...   \n",
       "174   [kabar, terbaru, enzo, allie, taruna, akmil, y...   \n",
       "931   [pemkot, kediri, jamin, tidak, vaksin, kadaluw...   \n",
       "894   [evaluasi, persen, surabaya, kasus, covid, swa...   \n",
       "\n",
       "                                            Content_tok  \\\n",
       "1220  [surya, gresik, merayakan, hari, ulang, tahun,...   \n",
       "721   [berita, blitarsurya, blitar, angka, penganggu...   \n",
       "1533  [surya, lamongan, berikut, sosok, samudra, zah...   \n",
       "895   [surya, sidoarjo, deltras, sidoarjo, berhasil,...   \n",
       "818   [surya, lamongan, angka, kunjungan, wisata, ka...   \n",
       "251   [surya, berikut, bacaan, dzikir, setelah, menj...   \n",
       "694   [surya, surabaya, jatanras, satreskrim, polres...   \n",
       "174   [surya, berikut, kabar, terbaru, enzo, allie, ...   \n",
       "931   [surya, kota, kediri, pemkot, kediri, memastik...   \n",
       "894   [surya, surabaya, wali, kota, surabaya, cahyad...   \n",
       "\n",
       "                                        Judul_Stopwords  \\\n",
       "1220  [jelang, peringatan, kemerdekaan, warga, gresi...   \n",
       "721   [pemkot, blitar, targetkan, angka, penganggura...   \n",
       "1533  [sosok, samudra, zahrotul, bilad, mahasiswi, l...   \n",
       "895   [pelatih, deltras, kecewa, pemainnya, cidera, ...   \n",
       "818   [kunjungan, wisata, libur, nataru, kabupaten, ...   \n",
       "251   [bacaan, dzikir, sholat, rasulullah, lengkap, ...   \n",
       "694   [polisi, identifikasi, sosok, pria, berkemeja,...   \n",
       "174   [kabar, terbaru, enzo, allie, taruna, akmil, v...   \n",
       "931   [pemkot, kediri, jamin, vaksin, kadaluwarsa, d...   \n",
       "894     [evaluasi, persen, surabaya, covid, swab, acak]   \n",
       "\n",
       "                                      Content_Stopwords  \\\n",
       "1220  [surya, gresik, merayakan, ulang, kemerdekaan,...   \n",
       "721   [berita, blitarsurya, blitar, angka, penganggu...   \n",
       "1533  [surya, lamongan, sosok, samudra, zahrotul, bi...   \n",
       "895   [surya, sidoarjo, deltras, sidoarjo, berhasil,...   \n",
       "818   [surya, lamongan, angka, kunjungan, wisata, ka...   \n",
       "251   [surya, bacaan, dzikir, menjalankan, sholat, u...   \n",
       "694   [surya, surabaya, jatanras, satreskrim, polres...   \n",
       "174   [surya, kabar, terbaru, enzo, allie, taruna, a...   \n",
       "931   [surya, kota, kediri, pemkot, kediri, vaksin, ...   \n",
       "894   [surya, surabaya, wali, kota, surabaya, cahyad...   \n",
       "\n",
       "                                      Untokenized_judul  \\\n",
       "1220  jelang peringatan kemerdekaan warga gresik bik...   \n",
       "721   pemkot blitar targetkan angka pengangguran ber...   \n",
       "1533  sosok samudra zahrotul bilad mahasiswi lamonga...   \n",
       "895   pelatih deltras kecewa pemainnya cidera laga coba   \n",
       "818   kunjungan wisata libur nataru kabupaten lamong...   \n",
       "251   bacaan dzikir sholat rasulullah lengkap terjem...   \n",
       "694   polisi identifikasi sosok pria berkemeja kunin...   \n",
       "174   kabar terbaru enzo allie taruna akmil viral li...   \n",
       "931   pemkot kediri jamin vaksin kadaluwarsa disunti...   \n",
       "894            evaluasi persen surabaya covid swab acak   \n",
       "\n",
       "                                    Untokenized_content  \n",
       "1220  surya gresik merayakan ulang kemerdekaan repub...  \n",
       "721   berita blitarsurya blitar angka pengangguran k...  \n",
       "1533  surya lamongan sosok samudra zahrotul bilad ma...  \n",
       "895   surya sidoarjo deltras sidoarjo berhasil memet...  \n",
       "818   surya lamongan angka kunjungan wisata kabupate...  \n",
       "251   surya bacaan dzikir menjalankan sholat umat mu...  \n",
       "694   surya surabaya jatanras satreskrim polrestabes...  \n",
       "174   surya kabar terbaru enzo allie taruna akademi ...  \n",
       "931   surya kota kediri pemkot kediri vaksin warga k...  \n",
       "894   surya surabaya wali kota surabaya cahyadi temu...  "
      ]
     },
     "execution_count": 24,
     "metadata": {},
     "output_type": "execute_result"
    }
   ],
   "source": [
    "data.sample(10)"
   ]
  },
  {
   "cell_type": "code",
   "execution_count": 25,
   "metadata": {
    "colab": {
     "base_uri": "https://localhost:8080/"
    },
    "executionInfo": {
     "elapsed": 747,
     "status": "ok",
     "timestamp": 1675496223798,
     "user": {
      "displayName": "Gama Putra Adi Susilo",
      "userId": "11761602289089114790"
     },
     "user_tz": -420
    },
    "id": "zKX6ovcCVQHH",
    "outputId": "04ccef85-1b14-4313-b05d-77299c411751"
   },
   "outputs": [],
   "source": [
    "# Process Dataset\n",
    "from sklearn.preprocessing import LabelBinarizer\n",
    "\n",
    "X = data[['Untokenized_judul', 'Untokenized_content']].values\n",
    "y = data['binary_label'].values\n",
    "\n",
    "# Fit transform train validation\n",
    "lb = LabelBinarizer()\n",
    "y = lb.fit_transform(y).ravel()\n",
    "lb.classes_\n",
    "\n",
    "# Train-validation-Test set split 80:20 ratio\n",
    "from sklearn.model_selection import train_test_split\n",
    "\n",
    "X_train, X_test, y_train, y_test = train_test_split(\n",
    "    X, y, test_size=0.2, random_state=0\n",
    ")\n",
    "# print(X_train, '\\n')\n",
    "# print(y_train)"
   ]
  },
  {
   "cell_type": "code",
   "execution_count": 26,
   "metadata": {},
   "outputs": [
    {
     "name": "stdout",
     "output_type": "stream",
     "text": [
      "(1280, 2)\n",
      "(320, 2)\n"
     ]
    }
   ],
   "source": [
    "print(X_train.shape)\n",
    "print(X_test.shape)"
   ]
  },
  {
   "cell_type": "code",
   "execution_count": 27,
   "metadata": {
    "colab": {
     "base_uri": "https://localhost:8080/"
    },
    "executionInfo": {
     "elapsed": 558,
     "status": "ok",
     "timestamp": 1675496224349,
     "user": {
      "displayName": "Gama Putra Adi Susilo",
      "userId": "11761602289089114790"
     },
     "user_tz": -420
    },
    "id": "eQTcikOGsLnT",
    "outputId": "3dd777db-6614-48c0-f51d-9ad0624c3867",
    "scrolled": false
   },
   "outputs": [
    {
     "name": "stdout",
     "output_type": "stream",
     "text": [
      "['pulihkan ekonomi sektor pertanian pemkab nganjuk fasilitasi pameran produk unggulan tani'\n",
      " 'surya nganjuk dinas pertanian disperta kabupaten nganjuk menggulirkan pameran bazar khusus produk unggulan tani kegiatan salah kegiatan upaya membangkitkan sektor perekonomian hasil pertanian pandemi covid bupati nganjuk marhaen djumadi perekonomian salah sektor membangun kesejahteraan masyarakat sektor pertanian luas eksis mendukung pertumbuhan ekonomi indonesia kabupaten nganjuk bazar produk tani diharapkan mendekatkan produk tani konsumen meningkatkan perekonomian sektor pertanian marhaen kamis marhaen terobosan bazar produk tani diharapkan kelompok tani gapoktan produktif karya berinovasi terobosan membangkitkan perekonomian wilayah nganjuk kelompok tani produk hukum perlindungan hukum hasil produk mudah dijual masyarakat nganjuk marhaen samping marhaen pemkab nganjuk dewasa gencar mengkampanyekan produk lokal dicintai dikonsumsi masyarakat nganjuk gerakan beli produk asli nganjuk diharapkan mempercepat perekonomian kabupaten nganjuk pasca pandemi covid mereda pemulihan perekonomian warga nganjuk marhaen diwujudkan pemkab nganjuk membuka peluang kesempatan pelaku usaha menengah petani terlibat aktif kegiatan berbasis masyarakat menampilkan produk dihasilkan dikenal masyarakat harapan masyarakat nganjuk membela membeli produk nganjuk tanda masyarakat mencintai produk lokal']\n",
      "0\n"
     ]
    }
   ],
   "source": [
    "print(X_train[0])\n",
    "print(y_train[0])"
   ]
  },
  {
   "cell_type": "code",
   "execution_count": 28,
   "metadata": {},
   "outputs": [],
   "source": [
    "# Text Columns\n",
    "\n",
    "text_judul = data['Untokenized_judul'].values.tolist()\n",
    "text_isi = data['Untokenized_content'].values.tolist()\n",
    "\n",
    "# merge title and content\n",
    "text_combined = text_judul + text_isi\n",
    "# menggabungan teks judul dan isi berita\n",
    "# data['Combined'] = data['title'] + ' ' + data['content']"
   ]
  },
  {
   "cell_type": "markdown",
   "metadata": {
    "id": "dO7m4dWTEdzh"
   },
   "source": [
    "## Model Training"
   ]
  },
  {
   "cell_type": "code",
   "execution_count": 29,
   "metadata": {
    "executionInfo": {
     "elapsed": 1586,
     "status": "ok",
     "timestamp": 1675496226416,
     "user": {
      "displayName": "Gama Putra Adi Susilo",
      "userId": "11761602289089114790"
     },
     "user_tz": -420
    },
    "id": "2DnmpL0tUn5F"
   },
   "outputs": [],
   "source": [
    "# Text Vectorization\n",
    "\n",
    "max_features = 2000\n",
    "max_len = 100\n",
    "\n",
    "vectorize_layer = layers.TextVectorization(\n",
    "                        max_tokens=max_features,\n",
    "                        output_mode='int',\n",
    "                        output_sequence_length=max_len,\n",
    "                        name='Text_Vectorization'\n",
    "                    )\n",
    "\n",
    "vectorize_layer.adapt(text_combined)"
   ]
  },
  {
   "cell_type": "code",
   "execution_count": 30,
   "metadata": {
    "executionInfo": {
     "elapsed": 37,
     "status": "ok",
     "timestamp": 1675496226420,
     "user": {
      "displayName": "Gama Putra Adi Susilo",
      "userId": "11761602289089114790"
     },
     "user_tz": -420
    },
    "id": "P1fBGkwIogou"
   },
   "outputs": [],
   "source": [
    "# Model\n",
    "\n",
    "model = models.Sequential([\n",
    "    layers.Input(shape=(2,), dtype=tf.dtypes.string, name='Input'),\n",
    "    layers.Reshape((2,1), name='Reshape'),\n",
    "    vectorize_layer,\n",
    "    layers.Embedding(input_dim=max_features, output_dim=64, name='Embedding'),\n",
    "    layers.Flatten(name='Flatten'),\n",
    "    layers.Dense(64, activation='relu', name='Dense'),\n",
    "    layers.Dense(1, activation='sigmoid', name='Output')\n",
    "])"
   ]
  },
  {
   "cell_type": "code",
   "execution_count": 31,
   "metadata": {
    "colab": {
     "base_uri": "https://localhost:8080/"
    },
    "executionInfo": {
     "elapsed": 37,
     "status": "ok",
     "timestamp": 1675496226421,
     "user": {
      "displayName": "Gama Putra Adi Susilo",
      "userId": "11761602289089114790"
     },
     "user_tz": -420
    },
    "id": "YHd_9l8UowVl",
    "outputId": "895d1ab3-8dbf-44ce-b164-383d75718042"
   },
   "outputs": [
    {
     "name": "stdout",
     "output_type": "stream",
     "text": [
      "Model: \"sequential\"\n",
      "_________________________________________________________________\n",
      " Layer (type)                Output Shape              Param #   \n",
      "=================================================================\n",
      " Reshape (Reshape)           (None, 2, 1)              0         \n",
      "                                                                 \n",
      " Text_Vectorization (TextVec  (None, 2, 100)           0         \n",
      " torization)                                                     \n",
      "                                                                 \n",
      " Embedding (Embedding)       (None, 2, 100, 64)        128000    \n",
      "                                                                 \n",
      " Flatten (Flatten)           (None, 12800)             0         \n",
      "                                                                 \n",
      " Dense (Dense)               (None, 64)                819264    \n",
      "                                                                 \n",
      " Output (Dense)              (None, 1)                 65        \n",
      "                                                                 \n",
      "=================================================================\n",
      "Total params: 947,329\n",
      "Trainable params: 947,329\n",
      "Non-trainable params: 0\n",
      "_________________________________________________________________\n"
     ]
    }
   ],
   "source": [
    "model.summary()"
   ]
  },
  {
   "cell_type": "code",
   "execution_count": 32,
   "metadata": {
    "colab": {
     "base_uri": "https://localhost:8080/",
     "height": 754
    },
    "executionInfo": {
     "elapsed": 18,
     "status": "ok",
     "timestamp": 1675496226421,
     "user": {
      "displayName": "Gama Putra Adi Susilo",
      "userId": "11761602289089114790"
     },
     "user_tz": -420
    },
    "id": "yH3DFnyVpH6x",
    "outputId": "87787f5a-8942-401b-f353-4de143dbd2b2"
   },
   "outputs": [
    {
     "name": "stdout",
     "output_type": "stream",
     "text": [
      "You must install pydot (`pip install pydot`) and install graphviz (see instructions at https://graphviz.gitlab.io/download/) for plot_model to work.\n"
     ]
    }
   ],
   "source": [
    "# Layers Models\n",
    "\n",
    "image_model = keras.utils.plot_model(model, show_shapes=True)\n",
    "image_model"
   ]
  },
  {
   "cell_type": "code",
   "execution_count": 33,
   "metadata": {
    "executionInfo": {
     "elapsed": 17,
     "status": "ok",
     "timestamp": 1675496226422,
     "user": {
      "displayName": "Gama Putra Adi Susilo",
      "userId": "11761602289089114790"
     },
     "user_tz": -420
    },
    "id": "6tVCNnUapJty"
   },
   "outputs": [],
   "source": [
    "# Compile\n",
    "\n",
    "METRICS = [\n",
    "      tf.keras.metrics.BinaryAccuracy(name='accuracy'),\n",
    "      tf.keras.metrics.Precision(name='precision'),\n",
    "      tf.keras.metrics.Recall(name='recall')\n",
    "]\n",
    "\n",
    "model.compile(\n",
    "    optimizer='adam',\n",
    "    loss='binary_crossentropy',\n",
    "    metrics=METRICS,\n",
    ")"
   ]
  },
  {
   "cell_type": "code",
   "execution_count": 34,
   "metadata": {
    "colab": {
     "base_uri": "https://localhost:8080/"
    },
    "executionInfo": {
     "elapsed": 13311,
     "status": "ok",
     "timestamp": 1675496239717,
     "user": {
      "displayName": "Gama Putra Adi Susilo",
      "userId": "11761602289089114790"
     },
     "user_tz": -420
    },
    "id": "6gTWHyqepaFC",
    "outputId": "8f77ab1c-71fb-45f3-ea83-97a42c6aef95"
   },
   "outputs": [
    {
     "name": "stdout",
     "output_type": "stream",
     "text": [
      "Epoch 1/20\n",
      "32/32 [==============================] - 5s 138ms/step - loss: 0.6915 - accuracy: 0.5508 - precision: 0.5532 - recall: 0.5640 - val_loss: 0.6365 - val_accuracy: 0.7383 - val_precision: 0.8289 - val_recall: 0.5385\n",
      "Epoch 2/20\n",
      "32/32 [==============================] - 4s 134ms/step - loss: 0.4517 - accuracy: 0.9053 - precision: 0.9052 - recall: 0.9070 - val_loss: 0.4800 - val_accuracy: 0.7773 - val_precision: 0.7727 - val_recall: 0.7265\n",
      "Epoch 3/20\n",
      "32/32 [==============================] - 4s 140ms/step - loss: 0.2022 - accuracy: 0.9414 - precision: 0.9506 - recall: 0.9322 - val_loss: 0.4724 - val_accuracy: 0.7578 - val_precision: 0.7619 - val_recall: 0.6838\n",
      "Epoch 4/20\n",
      "32/32 [==============================] - 4s 133ms/step - loss: 0.0638 - accuracy: 0.9932 - precision: 0.9923 - recall: 0.9942 - val_loss: 0.5023 - val_accuracy: 0.7500 - val_precision: 0.7524 - val_recall: 0.6752\n",
      "Epoch 5/20\n",
      "32/32 [==============================] - 4s 135ms/step - loss: 0.0199 - accuracy: 1.0000 - precision: 1.0000 - recall: 1.0000 - val_loss: 0.5468 - val_accuracy: 0.7539 - val_precision: 0.7647 - val_recall: 0.6667\n"
     ]
    }
   ],
   "source": [
    "# Train\n",
    "\n",
    "tf.config.run_functions_eagerly(True)\n",
    "early_stop = EarlyStopping(monitor = 'val_loss',\n",
    "                           patience = 2)\n",
    "hist = model.fit(\n",
    "    X_train,\n",
    "    y_train,\n",
    "    epochs=20,\n",
    "    callbacks = [early_stop],\n",
    "    validation_split=0.2\n",
    ")"
   ]
  },
  {
   "cell_type": "markdown",
   "metadata": {
    "id": "PDkHQc65Gygk"
   },
   "source": [
    "## Model Performance"
   ]
  },
  {
   "cell_type": "code",
   "execution_count": 35,
   "metadata": {
    "colab": {
     "base_uri": "https://localhost:8080/"
    },
    "executionInfo": {
     "elapsed": 15,
     "status": "ok",
     "timestamp": 1675496239718,
     "user": {
      "displayName": "Gama Putra Adi Susilo",
      "userId": "11761602289089114790"
     },
     "user_tz": -420
    },
    "id": "GQ4qYF_DphP9",
    "outputId": "b0cabc27-a22c-4ffe-dc75-b7e756ef2702",
    "scrolled": false
   },
   "outputs": [
    {
     "name": "stdout",
     "output_type": "stream",
     "text": [
      "10/10 [==============================] - 1s 49ms/step - loss: 0.3924 - accuracy: 0.8562 - precision: 0.8712 - recall: 0.8503\n"
     ]
    },
    {
     "data": {
      "text/plain": [
       "[0.3924436867237091, 0.856249988079071, 0.8711656332015991, 0.8502994179725647]"
      ]
     },
     "execution_count": 35,
     "metadata": {},
     "output_type": "execute_result"
    }
   ],
   "source": [
    "model.evaluate(X_test, y_test)"
   ]
  },
  {
   "cell_type": "code",
   "execution_count": 36,
   "metadata": {
    "scrolled": true
   },
   "outputs": [
    {
     "name": "stdout",
     "output_type": "stream",
     "text": [
      "1/1 [==============================] - 0s 78ms/step\n",
      "1/1 [==============================] - 0s 71ms/step\n",
      "1/1 [==============================] - 0s 98ms/step\n",
      "1/1 [==============================] - 0s 61ms/step\n",
      "[[0.00979122]] [[0.00061552]] [[0.23039992]] [[0.9909523]]\n"
     ]
    }
   ],
   "source": [
    "input_judul1 = [[\"atlet jatim sunoto terminator tempur international championship blood berita\"],\n",
    "                [\"pulihkan ekonomi sektor pertanian pemkab nganjuk fasilitasi pameran produk unggulan tani\"],\n",
    "                [\"gudang penimbunan solar tuban digerebek polisi kembangkan jaringan pelaku\"],\n",
    "                [\"FERDY SAMBO Menangis Emosi Saat Perintahkan Tembak Brigadir Bripka Menolak Faktanya\"]\n",
    "                ]\n",
    "input_isi1 = [[\"surabayasurya surabaya sunoto atlet jawa timur berlaga pertarungan kelas dunia championship blood pertarungan seni bela campuran martial kelas dunia hadir layar kaca jumat februari sunoto menghadapi juara myanmar tial thang tiket kelas bantam championship sunoto juara indonesia jawa timur diakui kemampuannya komunitas indonesia sunoto menjalani debut profesionalnya tampil championship julukan terminator mempertajam kemampuannya meraih kemenangan kariernya championship menjalani pemusatan latihan bali atlet tanah deddy sudarijanto hadirnya laga championship blood layar kaca indonesia upaya mengembangkan tontonan menarik menghibur mendorong potensi olahraga bela indonesia kemampuan atlet atlet kelas dunia inspirasi motivasi atlet olahraga bela indonesia kompetisi dunia championship blood kali indonesia memiliki wakilnya bertarung level deddy kamis kompetisi seni bela campuran martial championship dikenal nama fighting championship championship ajang pengembangan atlet beladiri berbasis singapura diluncurkan juli sunoto bertekad mengerahkan kemampuannya menghadapi tial thang ajang championship blood singapore indoor stadium atlet lawannya myanmar berlatih sanford amerika serikat bernaungnya petarung dunia aung sang brandon vera vitor belfort michael chandler beralih tial thang juara gulat myanmar berhasil mengoleksi ratusan kemenangan berkiprah negaranya sunoto gentar takut makan nasi makan nasi kecuali makan kemenyan sunoto\"],\n",
    "                [\"surya nganjuk dinas pertanian disperta kabupaten nganjuk menggulirkan pameran bazar khusus produk unggulan tani kegiatan salah kegiatan upaya membangkitkan sektor perekonomian hasil pertanian pandemi covid bupati nganjuk marhaen djumadi perekonomian salah sektor membangun kesejahteraan masyarakat sektor pertanian luas eksis mendukung pertumbuhan ekonomi indonesia kabupaten nganjuk bazar produk tani diharapkan mendekatkan produk tani konsumen meningkatkan perekonomian sektor pertanian marhaen kamis marhaen terobosan bazar produk tani diharapkan kelompok tani gapoktan produktif karya berinovasi terobosan membangkitkan perekonomian wilayah nganjuk kelompok tani produk hukum perlindungan hukum hasil produk mudah dijual masyarakat nganjuk marhaen samping marhaen pemkab nganjuk dewasa gencar mengkampanyekan produk lokal dicintai dikonsumsi masyarakat nganjuk gerakan beli produk asli nganjuk diharapkan mempercepat perekonomian kabupaten nganjuk pasca pandemi covid mereda pemulihan perekonomian warga nganjuk marhaen diwujudkan pemkab nganjuk membuka peluang kesempatan pelaku usaha menengah petani terlibat aktif kegiatan berbasis masyarakat menampilkan produk dihasilkan dikenal masyarakat harapan masyarakat nganjuk membela membeli produk nganjuk tanda masyarakat mencintai produk lokal\"],\n",
    "                [\"surya tuban satreskrim polres tuban menggerebek gudang penimbunan solar desa minohorejo kecamatan widang kabupaten tuban penggerebekan polisi mengamankan kendaraan drum berisi solar bersubsidi liter kepala satuan reserse kriminal polres tuban gananta dikonfirmasi pembongkaran gudang solar membenarkan terkait penggerebekan solar kamis kemarin dikonfirmasi selasa perwira penemuan gudang penimbun jenis solar subsidi dasar laporan masyarakat diselidiki penyidik pengembangan mengungkap jaringannya disinggung sosok pelaku gananta proses penyelidikan kembangkan barang bukti amankan mobil nopol drum berisi solar drum drum pungkasnya berdasarkan data dihimpun modus pelaku penimbunan solar membawa surat desa keterangan kebutuhan pertanian stasiun pengisian bahan bakar spbu ambil solar spbu gesing kecamatan semanding spbu plumpang pelaku mengambil solar kali menyuruh orang membawa jeriken kapasitas liter solar dibeli ditampung gudang alasan dijual petani diduga dijual proyek pabrik membutuhkan\"],\n",
    "                [\"SURYA Terungkap sederet fakta tentang Bripka mengaku menolak perintah Ferdy Sambo untuk menembak Brigadir Menurut Bripka Ferdy Sambo menangis emosi saat melontarkan perintah tersebut Bripka juga menyebut Ferdy Sambo sempat dalam kondisi terguncang hingga menangis dibeberkan oleh Pengacara Bripka Ricky Rizal Erman Umar berdasarkan kesaksian kliennya Baca juga Alasan Brigadir Khianati Ferdy Sambo Peran Istri Terima Dijerat Pembunuhan BerencanaBerikut rangkuman fakta selengkapnya melansir dari Tribunnews dalam artikel Bripka Tolak Permintaan Ferdy Sambo untuk Tembak Brigadir Kini Balik Arah dari Skenario Ferdy Samo nangis emosiPengacara Bripka Ricky Rizal Erman Umar mengungkap kesaksian kliennya saat dipanggil Ferdy Sambo ketika berada rumah pribadi Irjen Ferdy Sambo Jalan Saguling Jakarta Saat Ferdy Sambo bertanya kepada kepada Bripka mengenai yang terjadi Magelang Saguling dipanggil Dipanggil Ferdy Sambo tanya kejadian kejadian Magelang Kamu tahu enggak Enggak tahu dilecehkan pelecehan terhadap sambil nangis emosi Saya enggak tahu kata Erman Lobi Bareskrim Polri Jakarta Kamis Menurut Erman ruangan juga Putri Istri Ferdy Sambo juga mengatakan bahwa Yosua melakukan pelecehan terhadap dirinya kuat mentalKemudian saat Ferdy Sambo menanyakan langsung kepada Bripka Ricky kesanggupannya menembak Brigadir \"]\n",
    "                ]\n",
    "\n",
    "#0\n",
    "#1\n",
    "#0\n",
    "#1\n",
    "pred1 = model.predict([input_judul1[0] + input_isi1[0]]\n",
    "             )\n",
    "pred2 = model.predict([input_judul1[1] + input_isi1[1]]\n",
    "             )\n",
    "pred3 = model.predict([input_judul1[2] + input_isi1[2]]\n",
    "             )\n",
    "pred4 = model.predict([input_judul1[3] + input_isi1[3]]\n",
    "             )\n",
    "print(pred1,pred2,pred3,pred4)"
   ]
  },
  {
   "cell_type": "code",
   "execution_count": 37,
   "metadata": {},
   "outputs": [
    {
     "name": "stdout",
     "output_type": "stream",
     "text": [
      "5/5 - 0s - loss: 0.1188 - accuracy: 0.9508 - precision: 0.9612 - recall: 0.9384 - 445ms/epoch - 89ms/step\n",
      "2/2 - 0s - loss: 0.3924 - accuracy: 0.8562 - precision: 0.8712 - recall: 0.8503 - 173ms/epoch - 86ms/step\n",
      "Train accuracy: 95.08\n",
      "Valid accuracy: 85.62\n"
     ]
    }
   ],
   "source": [
    "train_dense_results = model.evaluate(X_train, np.asarray(y_train), verbose=2, batch_size=256)\n",
    "valid_dense_results = model.evaluate(X_test, np.asarray(y_test), verbose=2, batch_size=256)\n",
    "print(f'Train accuracy: {train_dense_results[1]*100:0.2f}')\n",
    "print(f'Valid accuracy: {valid_dense_results[1]*100:0.2f}')"
   ]
  },
  {
   "cell_type": "code",
   "execution_count": 38,
   "metadata": {
    "colab": {
     "base_uri": "https://localhost:8080/"
    },
    "executionInfo": {
     "elapsed": 28,
     "status": "ok",
     "timestamp": 1675496240388,
     "user": {
      "displayName": "Gama Putra Adi Susilo",
      "userId": "11761602289089114790"
     },
     "user_tz": -420
    },
    "id": "fQcKzPnuESaK",
    "outputId": "82fd267e-826a-47b3-c3ee-eb586d166708"
   },
   "outputs": [
    {
     "name": "stdout",
     "output_type": "stream",
     "text": [
      "10/10 [==============================] - 0s 24ms/step\n",
      "              precision    recall  f1-score   support\n",
      "\n",
      "           0       0.84      0.86      0.85       153\n",
      "           1       0.87      0.85      0.86       167\n",
      "\n",
      "    accuracy                           0.86       320\n",
      "   macro avg       0.86      0.86      0.86       320\n",
      "weighted avg       0.86      0.86      0.86       320\n",
      "\n"
     ]
    },
    {
     "data": {
      "image/png": "[encoded data removed]",
      "text/plain": [
       "<Figure size 640x480 with 2 Axes>"
      ]
     },
     "metadata": {},
     "output_type": "display_data"
    }
   ],
   "source": [
    "y_predicted = model.predict(X_test)\n",
    "y_predicted = y_predicted.flatten()\n",
    "\n",
    "import numpy as np\n",
    "\n",
    "y_predicted = np.where(y_predicted > 0.5, 1, 0)\n",
    "y_predicted\n",
    "\n",
    "from sklearn.metrics import confusion_matrix, classification_report, accuracy_score, precision_score, recall_score, f1_score\n",
    "\n",
    "cm = confusion_matrix(y_test, y_predicted)\n",
    "cm \n",
    "\n",
    "from matplotlib import pyplot as plt\n",
    "import seaborn as sn\n",
    "sn.heatmap(cm, annot=True, fmt='d')\n",
    "plt.xlabel('Predicted')\n",
    "plt.ylabel('Truth')\n",
    "\n",
    "print(classification_report(y_test, y_predicted))"
   ]
  },
  {
   "cell_type": "code",
   "execution_count": 39,
   "metadata": {
    "colab": {
     "base_uri": "https://localhost:8080/",
     "height": 573
    },
    "executionInfo": {
     "elapsed": 988,
     "status": "ok",
     "timestamp": 1675496243013,
     "user": {
      "displayName": "Gama Putra Adi Susilo",
      "userId": "11761602289089114790"
     },
     "user_tz": -420
    },
    "id": "-HY6d467Xf9M",
    "outputId": "167d62ee-46f8-4857-b5fb-ed06911940b0"
   },
   "outputs": [
    {
     "data": {
      "image/png": "[encoded data removed]",
      "text/plain": [
       "<Figure size 640x480 with 1 Axes>"
      ]
     },
     "metadata": {},
     "output_type": "display_data"
    },
    {
     "data": {
      "image/png": "[encoded data removed]",
      "text/plain": [
       "<Figure size 640x480 with 1 Axes>"
      ]
     },
     "metadata": {},
     "output_type": "display_data"
    }
   ],
   "source": [
    "train_loss=hist.history['loss']\n",
    "val_loss=hist.history['val_loss']\n",
    "train_acc=hist.history['accuracy']\n",
    "val_acc=hist.history['val_accuracy']\n",
    "\n",
    "plt.plot(train_acc)\n",
    "plt.plot(val_acc)\n",
    "plt.title('Perbandingan accuracy dari hasil training')\n",
    "plt.ylabel('acc')\n",
    "plt.xlabel('epoch')\n",
    "plt.legend(['train', 'test'], loc='upper left')\n",
    "plt.show()\n",
    "\n",
    "plt.plot(train_loss)\n",
    "plt.plot(val_loss)\n",
    "plt.title('Perbandingan loss dari hasil training')\n",
    "plt.ylabel('loss')\n",
    "plt.xlabel('epoch')\n",
    "plt.legend(['train', 'test'], loc='upper left')\n",
    "plt.show()"
   ]
  },
  {
   "cell_type": "code",
   "execution_count": null,
   "metadata": {},
   "outputs": [],
   "source": []
  },
  {
   "cell_type": "code",
   "execution_count": null,
   "metadata": {},
   "outputs": [],
   "source": []
  }
 ],
 "metadata": {
  "accelerator": "GPU",
  "colab": {
   "provenance": [
    {
     "file_id": "1fz7RIAb38kwm4ZWqwSpnRWHsUoU3gkAB",
     "timestamp": 1675394958319
    }
   ]
  },
  "gpuClass": "standard",
  "kernelspec": {
   "display_name": "Python 3 (ipykernel)",
   "language": "python",
   "name": "python3"
  },
  "language_info": {
   "codemirror_mode": {
    "name": "ipython",
    "version": 3
   },
   "file_extension": ".py",
   "mimetype": "text/x-python",
   "name": "python",
   "nbconvert_exporter": "python",
   "pygments_lexer": "ipython3",
   "version": "3.9.13"
  }
 },
 "nbformat": 4,
 "nbformat_minor": 1
}
